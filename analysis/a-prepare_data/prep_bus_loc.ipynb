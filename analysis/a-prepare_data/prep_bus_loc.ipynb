{
 "cells": [
  {
   "cell_type": "code",
   "execution_count": 1,
   "metadata": {},
   "outputs": [],
   "source": [
    "import os\n",
    "import pandas as pd\n",
    "import geopandas as gpd\n",
    "import matplotlib.pyplot as plt\n",
    "import seaborn as sns\n",
    "from shapely.geometry import Point"
   ]
  },
  {
   "cell_type": "code",
   "execution_count": 2,
   "metadata": {},
   "outputs": [
    {
     "data": {
      "text/plain": [
       "['origin_destination_bus_201912.csv',\n",
       " 'bus_stops_wszone.dbf',\n",
       " 'bus_stops_wszone.shp',\n",
       " 'transport_node_bus_201912.csv.xz',\n",
       " 'OD_bus',\n",
       " 'origin_destination_train_201912.csv.xz',\n",
       " 'train_station_wszone.prj',\n",
       " 'origin_destination_train_201912-b.csv',\n",
       " 'origin_destination_train_202001.csv.xz',\n",
       " 'train_station_wszone.dbf',\n",
       " 'data_share.7zip',\n",
       " 'subzone_centroid.csv',\n",
       " 'origin_destination_bus_201911.csv.xz',\n",
       " 'busstop_from_api.csv',\n",
       " 'train_station_wszone.cpg',\n",
       " 'OD_PT',\n",
       " 'train_station_wszone.shx',\n",
       " 'bus_stops.dbf',\n",
       " 'bus_stops.prj',\n",
       " 'BusStop',\n",
       " 'data_share',\n",
       " 'origin_destination_train_201911.csv.xz',\n",
       " 'OD_201912_weekend.csv',\n",
       " 'planning-area-2014',\n",
       " 'subzone_centroid_pos.json',\n",
       " '.ipynb_checkpoints',\n",
       " 'origin_destination_bus_202001.csv.xz',\n",
       " 'origin_destination_bus_201912.csv.xz',\n",
       " 'bus_stops.csv',\n",
       " 'region-2014',\n",
       " 'train_station_wszone.shp',\n",
       " 'origin_destination_train_201912.csv',\n",
       " 'transport_node_bus_201911.csv.xz',\n",
       " 'transport_node_train_202001.csv.xz',\n",
       " 'OD_train',\n",
       " 'bus_stops_wszone.shx',\n",
       " 'bus_stops_wszone.prj',\n",
       " 'bus_stops.cpg',\n",
       " 'subzone-2014',\n",
       " 'transport_node_train_201912.csv.xz',\n",
       " 'transport_node_train_201911.csv.xz',\n",
       " 'TrainStation',\n",
       " 'bus_stops.shx',\n",
       " 'OD_201912_weekday.csv',\n",
       " 'bus_stops_wszone.cpg',\n",
       " 'bus_stops.shp',\n",
       " 'transport_node_bus_202001.csv.xz']"
      ]
     },
     "execution_count": 2,
     "metadata": {},
     "output_type": "execute_result"
    }
   ],
   "source": [
    "data_dir = \"../data\"\n",
    "os.listdir(data_dir)"
   ]
  },
  {
   "cell_type": "code",
   "execution_count": 3,
   "metadata": {},
   "outputs": [
    {
     "name": "stdout",
     "output_type": "stream",
     "text": [
      "['BusStop.shp.xml', 'BusStop.cpg', 'BusStop.dbf', 'BusStop.shx', 'BusStop.lyr', 'BusStop.sbn', 'BusStop.shp', 'BusStop.prj', 'BusStop.sbx']\n"
     ]
    },
    {
     "data": {
      "text/html": [
       "<div>\n",
       "<style scoped>\n",
       "    .dataframe tbody tr th:only-of-type {\n",
       "        vertical-align: middle;\n",
       "    }\n",
       "\n",
       "    .dataframe tbody tr th {\n",
       "        vertical-align: top;\n",
       "    }\n",
       "\n",
       "    .dataframe thead th {\n",
       "        text-align: right;\n",
       "    }\n",
       "</style>\n",
       "<table border=\"1\" class=\"dataframe\">\n",
       "  <thead>\n",
       "    <tr style=\"text-align: right;\">\n",
       "      <th></th>\n",
       "      <th>BUS_STOP_N</th>\n",
       "      <th>BUS_ROOF_N</th>\n",
       "      <th>LOC_DESC</th>\n",
       "      <th>geometry</th>\n",
       "    </tr>\n",
       "  </thead>\n",
       "  <tbody>\n",
       "    <tr>\n",
       "      <th>0</th>\n",
       "      <td>78221</td>\n",
       "      <td>B06</td>\n",
       "      <td>None</td>\n",
       "      <td>POINT (42227.955 39563.156)</td>\n",
       "    </tr>\n",
       "    <tr>\n",
       "      <th>1</th>\n",
       "      <td>63359</td>\n",
       "      <td>B01</td>\n",
       "      <td>HOUGANG SWIM CPLX</td>\n",
       "      <td>POINT (34065.748 39047.458)</td>\n",
       "    </tr>\n",
       "    <tr>\n",
       "      <th>2</th>\n",
       "      <td>64141</td>\n",
       "      <td>B13</td>\n",
       "      <td>AFT JLN TELAWI</td>\n",
       "      <td>POINT (36335.296 38525.741)</td>\n",
       "    </tr>\n",
       "    <tr>\n",
       "      <th>3</th>\n",
       "      <td>83139</td>\n",
       "      <td>B07</td>\n",
       "      <td>AFT JOO CHIAT PL</td>\n",
       "      <td>POINT (36530.265 32981.180)</td>\n",
       "    </tr>\n",
       "    <tr>\n",
       "      <th>4</th>\n",
       "      <td>31159</td>\n",
       "      <td>B33</td>\n",
       "      <td>None</td>\n",
       "      <td>POINT (12736.242 39473.107)</td>\n",
       "    </tr>\n",
       "  </tbody>\n",
       "</table>\n",
       "</div>"
      ],
      "text/plain": [
       "  BUS_STOP_N BUS_ROOF_N           LOC_DESC                     geometry\n",
       "0      78221        B06               None  POINT (42227.955 39563.156)\n",
       "1      63359        B01  HOUGANG SWIM CPLX  POINT (34065.748 39047.458)\n",
       "2      64141        B13     AFT JLN TELAWI  POINT (36335.296 38525.741)\n",
       "3      83139        B07   AFT JOO CHIAT PL  POINT (36530.265 32981.180)\n",
       "4      31159        B33               None  POINT (12736.242 39473.107)"
      ]
     },
     "execution_count": 3,
     "metadata": {},
     "output_type": "execute_result"
    }
   ],
   "source": [
    "print(os.listdir(os.path.join(data_dir, \"BusStop\")))\n",
    "gdf = gpd.read_file(os.path.join(data_dir, \"BusStop\", \"BusStop.shp\"))\n",
    "gdf.head()"
   ]
  },
  {
   "cell_type": "code",
   "execution_count": 4,
   "metadata": {},
   "outputs": [
    {
     "data": {
      "text/plain": [
       "(4882,\n",
       " {'proj': 'tmerc',\n",
       "  'lat_0': 1.366666666666667,\n",
       "  'lon_0': 103.8333333333333,\n",
       "  'k': 1,\n",
       "  'x_0': 28001.642,\n",
       "  'y_0': 38744.572,\n",
       "  'datum': 'WGS84',\n",
       "  'units': 'm',\n",
       "  'no_defs': True})"
      ]
     },
     "execution_count": 4,
     "metadata": {},
     "output_type": "execute_result"
    }
   ],
   "source": [
    "len(gdf), gdf.crs"
   ]
  },
  {
   "cell_type": "code",
   "execution_count": 5,
   "metadata": {},
   "outputs": [
    {
     "data": {
      "text/plain": [
       "<matplotlib.axes._subplots.AxesSubplot at 0x7f7779255a90>"
      ]
     },
     "execution_count": 5,
     "metadata": {},
     "output_type": "execute_result"
    },
    {
     "data": {
      "image/png": "[encoded data removed]",
      "text/plain": [
       "<Figure size 432x288 with 1 Axes>"
      ]
     },
     "metadata": {
      "needs_background": "light"
     },
     "output_type": "display_data"
    }
   ],
   "source": [
    "gdf.plot()"
   ]
  },
  {
   "cell_type": "code",
   "execution_count": 6,
   "metadata": {},
   "outputs": [],
   "source": [
    "target_crs = gdf.crs"
   ]
  },
  {
   "cell_type": "code",
   "execution_count": 7,
   "metadata": {},
   "outputs": [
    {
     "data": {
      "text/plain": [
       "'epsg:4326'"
      ]
     },
     "execution_count": 7,
     "metadata": {},
     "output_type": "execute_result"
    }
   ],
   "source": [
    "gdf2 = gdf.to_crs(\"epsg:4326\")\n",
    "gdf2.crs"
   ]
  },
  {
   "cell_type": "code",
   "execution_count": 8,
   "metadata": {},
   "outputs": [
    {
     "data": {
      "text/plain": [
       "<matplotlib.axes._subplots.AxesSubplot at 0x7f77755d2780>"
      ]
     },
     "execution_count": 8,
     "metadata": {},
     "output_type": "execute_result"
    },
    {
     "data": {
      "image/png": "[encoded data removed]",
      "text/plain": [
       "<Figure size 432x288 with 1 Axes>"
      ]
     },
     "metadata": {
      "needs_background": "light"
     },
     "output_type": "display_data"
    }
   ],
   "source": [
    "gdf2.plot()"
   ]
  },
  {
   "cell_type": "code",
   "execution_count": 9,
   "metadata": {},
   "outputs": [],
   "source": [
    "stops = {}\n",
    "for i, g in zip(gdf2[\"BUS_STOP_N\"].tolist(), gdf2[\"geometry\"].tolist()):\n",
    "    stops[i] = g"
   ]
  },
  {
   "cell_type": "code",
   "execution_count": 10,
   "metadata": {},
   "outputs": [
    {
     "data": {
      "image/svg+xml": [
       "<svg xmlns=\"http://www.w3.org/2000/svg\" xmlns:xlink=\"http://www.w3.org/1999/xlink\" width=\"100.0\" height=\"100.0\" viewBox=\"102.85255464498074 0.29691638509326346 2.0 2.0\" preserveAspectRatio=\"xMinYMin meet\"><g transform=\"matrix(1,0,0,-1,0,2.593832770186527)\"><circle cx=\"103.85255464498074\" cy=\"1.2969163850932635\" r=\"0.06\" stroke=\"#555555\" stroke-width=\"0.02\" fill=\"#66cc99\" opacity=\"0.6\" /></g></svg>"
      ],
      "text/plain": [
       "<shapely.geometry.point.Point at 0x7f7775667908>"
      ]
     },
     "execution_count": 10,
     "metadata": {},
     "output_type": "execute_result"
    }
   ],
   "source": [
    "stops['01012']"
   ]
  },
  {
   "cell_type": "code",
   "execution_count": 12,
   "metadata": {},
   "outputs": [
    {
     "data": {
      "text/plain": [
       "['origin_destination_bus_201911.csv.xz',\n",
       " 'origin_destination_bus_202001.csv.xz',\n",
       " 'origin_destination_bus_201912.csv.xz']"
      ]
     },
     "execution_count": 12,
     "metadata": {},
     "output_type": "execute_result"
    }
   ],
   "source": [
    "\n",
    "fs = [ f for f in os.listdir(data_dir) if \".csv.xz\" in f ]\n",
    "fs = [ f for f in fs if \"origin_destination_bus\" in f ] \n",
    "fs"
   ]
  },
  {
   "cell_type": "code",
   "execution_count": 13,
   "metadata": {},
   "outputs": [
    {
     "data": {
      "text/plain": [
       "5040"
      ]
     },
     "execution_count": 13,
     "metadata": {},
     "output_type": "execute_result"
    }
   ],
   "source": [
    "all_bus = set()\n",
    "\n",
    "for f in fs:\n",
    "    df = pd.read_csv(os.path.join(data_dir, f))\n",
    "    oo = set(df[\"ORIGIN_PT_CODE\"].tolist())\n",
    "    dd = set(df[\"DESTINATION_PT_CODE\"].tolist())\n",
    "    bstops = oo | dd\n",
    "    all_bus = all_bus | bstops\n",
    "len(all_bus)"
   ]
  },
  {
   "cell_type": "code",
   "execution_count": 11,
   "metadata": {},
   "outputs": [
    {
     "data": {
      "text/html": [
       "<div>\n",
       "<style scoped>\n",
       "    .dataframe tbody tr th:only-of-type {\n",
       "        vertical-align: middle;\n",
       "    }\n",
       "\n",
       "    .dataframe tbody tr th {\n",
       "        vertical-align: top;\n",
       "    }\n",
       "\n",
       "    .dataframe thead th {\n",
       "        text-align: right;\n",
       "    }\n",
       "</style>\n",
       "<table border=\"1\" class=\"dataframe\">\n",
       "  <thead>\n",
       "    <tr style=\"text-align: right;\">\n",
       "      <th></th>\n",
       "      <th>YEAR_MONTH</th>\n",
       "      <th>DAY_TYPE</th>\n",
       "      <th>TIME_PER_HOUR</th>\n",
       "      <th>PT_TYPE</th>\n",
       "      <th>ORIGIN_PT_CODE</th>\n",
       "      <th>DESTINATION_PT_CODE</th>\n",
       "      <th>TOTAL_TRIPS</th>\n",
       "    </tr>\n",
       "  </thead>\n",
       "  <tbody>\n",
       "    <tr>\n",
       "      <th>0</th>\n",
       "      <td>2019-12</td>\n",
       "      <td>WEEKENDS/HOLIDAY</td>\n",
       "      <td>12</td>\n",
       "      <td>BUS</td>\n",
       "      <td>93201</td>\n",
       "      <td>92111</td>\n",
       "      <td>38</td>\n",
       "    </tr>\n",
       "    <tr>\n",
       "      <th>1</th>\n",
       "      <td>2019-12</td>\n",
       "      <td>WEEKDAY</td>\n",
       "      <td>13</td>\n",
       "      <td>BUS</td>\n",
       "      <td>1239</td>\n",
       "      <td>3059</td>\n",
       "      <td>238</td>\n",
       "    </tr>\n",
       "    <tr>\n",
       "      <th>2</th>\n",
       "      <td>2019-12</td>\n",
       "      <td>WEEKDAY</td>\n",
       "      <td>13</td>\n",
       "      <td>BUS</td>\n",
       "      <td>55139</td>\n",
       "      <td>53241</td>\n",
       "      <td>95</td>\n",
       "    </tr>\n",
       "    <tr>\n",
       "      <th>3</th>\n",
       "      <td>2019-12</td>\n",
       "      <td>WEEKENDS/HOLIDAY</td>\n",
       "      <td>13</td>\n",
       "      <td>BUS</td>\n",
       "      <td>55139</td>\n",
       "      <td>53241</td>\n",
       "      <td>76</td>\n",
       "    </tr>\n",
       "    <tr>\n",
       "      <th>4</th>\n",
       "      <td>2019-12</td>\n",
       "      <td>WEEKENDS/HOLIDAY</td>\n",
       "      <td>13</td>\n",
       "      <td>BUS</td>\n",
       "      <td>40181</td>\n",
       "      <td>53379</td>\n",
       "      <td>38</td>\n",
       "    </tr>\n",
       "    <tr>\n",
       "      <th>5</th>\n",
       "      <td>2019-12</td>\n",
       "      <td>WEEKDAY</td>\n",
       "      <td>13</td>\n",
       "      <td>BUS</td>\n",
       "      <td>40181</td>\n",
       "      <td>53379</td>\n",
       "      <td>171</td>\n",
       "    </tr>\n",
       "    <tr>\n",
       "      <th>6</th>\n",
       "      <td>2019-12</td>\n",
       "      <td>WEEKDAY</td>\n",
       "      <td>16</td>\n",
       "      <td>BUS</td>\n",
       "      <td>21559</td>\n",
       "      <td>21231</td>\n",
       "      <td>19</td>\n",
       "    </tr>\n",
       "    <tr>\n",
       "      <th>7</th>\n",
       "      <td>2019-12</td>\n",
       "      <td>WEEKDAY</td>\n",
       "      <td>21</td>\n",
       "      <td>BUS</td>\n",
       "      <td>65069</td>\n",
       "      <td>64461</td>\n",
       "      <td>399</td>\n",
       "    </tr>\n",
       "    <tr>\n",
       "      <th>8</th>\n",
       "      <td>2019-12</td>\n",
       "      <td>WEEKENDS/HOLIDAY</td>\n",
       "      <td>21</td>\n",
       "      <td>BUS</td>\n",
       "      <td>65069</td>\n",
       "      <td>64461</td>\n",
       "      <td>57</td>\n",
       "    </tr>\n",
       "    <tr>\n",
       "      <th>9</th>\n",
       "      <td>2019-12</td>\n",
       "      <td>WEEKDAY</td>\n",
       "      <td>10</td>\n",
       "      <td>BUS</td>\n",
       "      <td>51051</td>\n",
       "      <td>66331</td>\n",
       "      <td>19</td>\n",
       "    </tr>\n",
       "  </tbody>\n",
       "</table>\n",
       "</div>"
      ],
      "text/plain": [
       "  YEAR_MONTH          DAY_TYPE  TIME_PER_HOUR PT_TYPE  ORIGIN_PT_CODE  \\\n",
       "0    2019-12  WEEKENDS/HOLIDAY             12     BUS           93201   \n",
       "1    2019-12           WEEKDAY             13     BUS            1239   \n",
       "2    2019-12           WEEKDAY             13     BUS           55139   \n",
       "3    2019-12  WEEKENDS/HOLIDAY             13     BUS           55139   \n",
       "4    2019-12  WEEKENDS/HOLIDAY             13     BUS           40181   \n",
       "5    2019-12           WEEKDAY             13     BUS           40181   \n",
       "6    2019-12           WEEKDAY             16     BUS           21559   \n",
       "7    2019-12           WEEKDAY             21     BUS           65069   \n",
       "8    2019-12  WEEKENDS/HOLIDAY             21     BUS           65069   \n",
       "9    2019-12           WEEKDAY             10     BUS           51051   \n",
       "\n",
       "   DESTINATION_PT_CODE  TOTAL_TRIPS  \n",
       "0                92111           38  \n",
       "1                 3059          238  \n",
       "2                53241           95  \n",
       "3                53241           76  \n",
       "4                53379           38  \n",
       "5                53379          171  \n",
       "6                21231           19  \n",
       "7                64461          399  \n",
       "8                64461           57  \n",
       "9                66331           19  "
      ]
     },
     "execution_count": 11,
     "metadata": {},
     "output_type": "execute_result"
    }
   ],
   "source": [
    "df = pd.read_csv(os.path.join(data_dir, \"origin_destination_bus_201912.csv\"))\n",
    "df.head(10)"
   ]
  },
  {
   "cell_type": "code",
   "execution_count": null,
   "metadata": {},
   "outputs": [],
   "source": []
  },
  {
   "cell_type": "code",
   "execution_count": null,
   "metadata": {},
   "outputs": [],
   "source": []
  },
  {
   "cell_type": "code",
   "execution_count": null,
   "metadata": {},
   "outputs": [],
   "source": []
  },
  {
   "cell_type": "code",
   "execution_count": 14,
   "metadata": {},
   "outputs": [
    {
     "data": {
      "text/plain": [
       "309"
      ]
     },
     "execution_count": 14,
     "metadata": {},
     "output_type": "execute_result"
    }
   ],
   "source": [
    "missing = []\n",
    "for i in list(all_bus):#list(set(df[\"ORIGIN_PT_CODE\"].tolist())):\n",
    "    #print(type(i))\n",
    "    if not(str(i).zfill(5) in stops):\n",
    "        missing.append(str(i))\n",
    "    #break\n",
    "len(missing)"
   ]
  },
  {
   "cell_type": "code",
   "execution_count": 38,
   "metadata": {
    "collapsed": true,
    "jupyter": {
     "outputs_hidden": true
    }
   },
   "outputs": [
    {
     "data": {
      "text/plain": [
       "['65539',\n",
       " '65541',\n",
       " '65549',\n",
       " '65551',\n",
       " '65559',\n",
       " '65561',\n",
       " '65569',\n",
       " '65571',\n",
       " '65579',\n",
       " '41031',\n",
       " '65611',\n",
       " '65619',\n",
       " '65621',\n",
       " '65629',\n",
       " '65631',\n",
       " '65639',\n",
       " '24701',\n",
       " '24709',\n",
       " '24711',\n",
       " '24719',\n",
       " '41161',\n",
       " '41169',\n",
       " '58261',\n",
       " '58269',\n",
       " '25539',\n",
       " '25541',\n",
       " '25551',\n",
       " '25561',\n",
       " '25569',\n",
       " '25571',\n",
       " '25579',\n",
       " '66559',\n",
       " '25599',\n",
       " '25601',\n",
       " '66561',\n",
       " '66569',\n",
       " '25609',\n",
       " '66571',\n",
       " '25611',\n",
       " '66579',\n",
       " '66581',\n",
       " '25621',\n",
       " '66589',\n",
       " '25631',\n",
       " '25641',\n",
       " '25651',\n",
       " '25661',\n",
       " '25669',\n",
       " '25671',\n",
       " '25681',\n",
       " '25691',\n",
       " '25689',\n",
       " '25701',\n",
       " '25709',\n",
       " '25711',\n",
       " '42099',\n",
       " '25719',\n",
       " '25729',\n",
       " '25741',\n",
       " '25751',\n",
       " '25761',\n",
       " '25771',\n",
       " '58541',\n",
       " '58549',\n",
       " '25781',\n",
       " '25791',\n",
       " '25801',\n",
       " '25811',\n",
       " '25819',\n",
       " '25821',\n",
       " '75019',\n",
       " '75021',\n",
       " '75171',\n",
       " '26019',\n",
       " '75179',\n",
       " '26029',\n",
       " '26039',\n",
       " '26041',\n",
       " '26051',\n",
       " '26061',\n",
       " '26071',\n",
       " '26081',\n",
       " '26091',\n",
       " '26101',\n",
       " '58991',\n",
       " '75381',\n",
       " '75391',\n",
       " '75401',\n",
       " '75409',\n",
       " '75411',\n",
       " '75419',\n",
       " '75461',\n",
       " '75469',\n",
       " '75471',\n",
       " '75479',\n",
       " '75481',\n",
       " '75489',\n",
       " '75491',\n",
       " '75499',\n",
       " '67311',\n",
       " '67319',\n",
       " '18201',\n",
       " '59299',\n",
       " '65531',\n",
       " '42991',\n",
       " '67591',\n",
       " '67599',\n",
       " '59479',\n",
       " '67691',\n",
       " '59509',\n",
       " '67741',\n",
       " '67759',\n",
       " '67761',\n",
       " '67769',\n",
       " '84161',\n",
       " '59589',\n",
       " '84169',\n",
       " '59621',\n",
       " '76031',\n",
       " '10499',\n",
       " '76039',\n",
       " '76041',\n",
       " '76049',\n",
       " '59721',\n",
       " '43339',\n",
       " '59729',\n",
       " '59731',\n",
       " '59739',\n",
       " '59741',\n",
       " '43359',\n",
       " '59749',\n",
       " '59751',\n",
       " '43369',\n",
       " '59759',\n",
       " '59761',\n",
       " '59779',\n",
       " '59781',\n",
       " '59789',\n",
       " '43453',\n",
       " '27071',\n",
       " '84429',\n",
       " '27149',\n",
       " '84551',\n",
       " '84561',\n",
       " '84571',\n",
       " '84581',\n",
       " '68201',\n",
       " '68239',\n",
       " '76431',\n",
       " '76451',\n",
       " '76471',\n",
       " '76511',\n",
       " '76519',\n",
       " '76521',\n",
       " '76529',\n",
       " '52051',\n",
       " '52049',\n",
       " '52059',\n",
       " '43891',\n",
       " '43899',\n",
       " '52119',\n",
       " '43961',\n",
       " '43969',\n",
       " '43991',\n",
       " '44031',\n",
       " '52361',\n",
       " '44181',\n",
       " '44189',\n",
       " '3241',\n",
       " '59289',\n",
       " '28009',\n",
       " '28061',\n",
       " '44581',\n",
       " '44589',\n",
       " '44591',\n",
       " '44599',\n",
       " '77371',\n",
       " '77379',\n",
       " '44729',\n",
       " '44831',\n",
       " '44839',\n",
       " '44909',\n",
       " '44921',\n",
       " '44919',\n",
       " '44929',\n",
       " '44999',\n",
       " '53421',\n",
       " '67641',\n",
       " '78189',\n",
       " '78199',\n",
       " '67649',\n",
       " '45461',\n",
       " '45469',\n",
       " '70061',\n",
       " '45489',\n",
       " '45491',\n",
       " '70069',\n",
       " '45581',\n",
       " '44881',\n",
       " '45589',\n",
       " '45591',\n",
       " '45599',\n",
       " '21051',\n",
       " '62021',\n",
       " '21059',\n",
       " '67699',\n",
       " '67701',\n",
       " '44911',\n",
       " '62141',\n",
       " '70401',\n",
       " '70409',\n",
       " '95209',\n",
       " '5431',\n",
       " '46461',\n",
       " '46471',\n",
       " '30101',\n",
       " '30109',\n",
       " '30111',\n",
       " '30119',\n",
       " '30121',\n",
       " '30129',\n",
       " '25531',\n",
       " '43452',\n",
       " '25549',\n",
       " '25559',\n",
       " '71291',\n",
       " '71299',\n",
       " '71331',\n",
       " '71339',\n",
       " '25589',\n",
       " '25591',\n",
       " '55101',\n",
       " '14219',\n",
       " '96201',\n",
       " '96209',\n",
       " '96389',\n",
       " '96401',\n",
       " '96411',\n",
       " '96419',\n",
       " '14501',\n",
       " '14509',\n",
       " '96441',\n",
       " '14521',\n",
       " '14529',\n",
       " '96449',\n",
       " '14539',\n",
       " '47491',\n",
       " '47499',\n",
       " '47509',\n",
       " '47529',\n",
       " '31151',\n",
       " '72131',\n",
       " '72139',\n",
       " '72141',\n",
       " '72149',\n",
       " '72151',\n",
       " '72159',\n",
       " '72161',\n",
       " '72169',\n",
       " '64089',\n",
       " '47711',\n",
       " '64099',\n",
       " '47751',\n",
       " '47759',\n",
       " '56011',\n",
       " '97009',\n",
       " '64251',\n",
       " '48131',\n",
       " '68209',\n",
       " '7351',\n",
       " '40301',\n",
       " '40309',\n",
       " '40311',\n",
       " '40321',\n",
       " '40329',\n",
       " '40339',\n",
       " '40341',\n",
       " '40349',\n",
       " '40351',\n",
       " '40359',\n",
       " '40361',\n",
       " '40369',\n",
       " '40371',\n",
       " '40379',\n",
       " '76441',\n",
       " '65371',\n",
       " '65379',\n",
       " '65391',\n",
       " '65399',\n",
       " '65441',\n",
       " '65449',\n",
       " '65451',\n",
       " '65459',\n",
       " '65461',\n",
       " '65469',\n",
       " '65481',\n",
       " '49099',\n",
       " '65489',\n",
       " '65491',\n",
       " '65499',\n",
       " '65521',\n",
       " '98291',\n",
       " '65529',\n",
       " '98299']"
      ]
     },
     "execution_count": 38,
     "metadata": {},
     "output_type": "execute_result"
    }
   ],
   "source": [
    "missing"
   ]
  },
  {
   "cell_type": "code",
   "execution_count": 39,
   "metadata": {},
   "outputs": [
    {
     "data": {
      "text/plain": [
       "5009"
      ]
     },
     "execution_count": 39,
     "metadata": {},
     "output_type": "execute_result"
    }
   ],
   "source": [
    "len(list(set(df[\"ORIGIN_PT_CODE\"].tolist())))"
   ]
  },
  {
   "cell_type": "code",
   "execution_count": 15,
   "metadata": {},
   "outputs": [
    {
     "data": {
      "text/plain": [
       "5038"
      ]
     },
     "execution_count": 15,
     "metadata": {},
     "output_type": "execute_result"
    }
   ],
   "source": [
    "busstops = pd.read_csv(os.path.join(data_dir, \"busstop_from_api.csv\"), index_col=0)\n",
    "len(busstops)"
   ]
  },
  {
   "cell_type": "code",
   "execution_count": 16,
   "metadata": {},
   "outputs": [
    {
     "data": {
      "text/html": [
       "<div>\n",
       "<style scoped>\n",
       "    .dataframe tbody tr th:only-of-type {\n",
       "        vertical-align: middle;\n",
       "    }\n",
       "\n",
       "    .dataframe tbody tr th {\n",
       "        vertical-align: top;\n",
       "    }\n",
       "\n",
       "    .dataframe thead th {\n",
       "        text-align: right;\n",
       "    }\n",
       "</style>\n",
       "<table border=\"1\" class=\"dataframe\">\n",
       "  <thead>\n",
       "    <tr style=\"text-align: right;\">\n",
       "      <th></th>\n",
       "      <th>BusStopCode</th>\n",
       "      <th>Description</th>\n",
       "      <th>Latitude</th>\n",
       "      <th>Longitude</th>\n",
       "      <th>RoadName</th>\n",
       "    </tr>\n",
       "  </thead>\n",
       "  <tbody>\n",
       "    <tr>\n",
       "      <th>0</th>\n",
       "      <td>1012</td>\n",
       "      <td>Hotel Grand Pacific</td>\n",
       "      <td>1.296848</td>\n",
       "      <td>103.852536</td>\n",
       "      <td>Victoria St</td>\n",
       "    </tr>\n",
       "    <tr>\n",
       "      <th>1</th>\n",
       "      <td>1013</td>\n",
       "      <td>St. Joseph's Ch</td>\n",
       "      <td>1.297710</td>\n",
       "      <td>103.853225</td>\n",
       "      <td>Victoria St</td>\n",
       "    </tr>\n",
       "    <tr>\n",
       "      <th>2</th>\n",
       "      <td>1019</td>\n",
       "      <td>Bras Basah Cplx</td>\n",
       "      <td>1.296990</td>\n",
       "      <td>103.853022</td>\n",
       "      <td>Victoria St</td>\n",
       "    </tr>\n",
       "    <tr>\n",
       "      <th>3</th>\n",
       "      <td>1029</td>\n",
       "      <td>Opp Natl Lib</td>\n",
       "      <td>1.296673</td>\n",
       "      <td>103.854414</td>\n",
       "      <td>Nth Bridge Rd</td>\n",
       "    </tr>\n",
       "    <tr>\n",
       "      <th>4</th>\n",
       "      <td>1039</td>\n",
       "      <td>Bugis Cube</td>\n",
       "      <td>1.298208</td>\n",
       "      <td>103.855491</td>\n",
       "      <td>Nth Bridge Rd</td>\n",
       "    </tr>\n",
       "  </tbody>\n",
       "</table>\n",
       "</div>"
      ],
      "text/plain": [
       "   BusStopCode          Description  Latitude   Longitude       RoadName\n",
       "0         1012  Hotel Grand Pacific  1.296848  103.852536    Victoria St\n",
       "1         1013      St. Joseph's Ch  1.297710  103.853225    Victoria St\n",
       "2         1019      Bras Basah Cplx  1.296990  103.853022    Victoria St\n",
       "3         1029         Opp Natl Lib  1.296673  103.854414  Nth Bridge Rd\n",
       "4         1039           Bugis Cube  1.298208  103.855491  Nth Bridge Rd"
      ]
     },
     "execution_count": 16,
     "metadata": {},
     "output_type": "execute_result"
    }
   ],
   "source": [
    "busstops.head()"
   ]
  },
  {
   "cell_type": "code",
   "execution_count": 17,
   "metadata": {},
   "outputs": [
    {
     "data": {
      "image/png": "[encoded data removed]",
      "text/plain": [
       "<Figure size 720x720 with 1 Axes>"
      ]
     },
     "metadata": {
      "needs_background": "light"
     },
     "output_type": "display_data"
    }
   ],
   "source": [
    "fig, ax = plt.subplots(figsize=(10,10))\n",
    "ax.scatter(busstops[\"Longitude\"], busstops[\"Latitude\"])\n",
    "ax.set_aspect(\"equal\")\n",
    "plt.tight_layout()"
   ]
  },
  {
   "cell_type": "code",
   "execution_count": 18,
   "metadata": {},
   "outputs": [
    {
     "name": "stdout",
     "output_type": "stream",
     "text": [
      "{64259, 48009, 31121, 45331, 31129, 31131, 45341, 31009, 31139, 31141, 45479, 22571, 31149, 65219, 45381, 84299, 59599, 45391, 22609, 59609, 59361, 45409, 78179, 47201, 31201, 45419, 31211, 45429, 45431, 59771, 67581}\n"
     ]
    }
   ],
   "source": [
    "busstops_id = set(busstops[\"BusStopCode\"].tolist())\n",
    "pt_codes = set(df[\"ORIGIN_PT_CODE\"].tolist())\n",
    "pt_codes2 = set(df[\"DESTINATION_PT_CODE\"].tolist())\n",
    "print(busstops_id.difference(pt_codes))"
   ]
  },
  {
   "cell_type": "code",
   "execution_count": 21,
   "metadata": {},
   "outputs": [
    {
     "data": {
      "text/plain": [
       "{3219, 55271, 55279}"
      ]
     },
     "execution_count": 21,
     "metadata": {},
     "output_type": "execute_result"
    }
   ],
   "source": [
    "all_bus.difference(busstops_id)"
   ]
  },
  {
   "cell_type": "code",
   "execution_count": 19,
   "metadata": {},
   "outputs": [
    {
     "name": "stdout",
     "output_type": "stream",
     "text": [
      "{55279, 55271}\n"
     ]
    }
   ],
   "source": [
    "print(pt_codes.difference(busstops_id))"
   ]
  },
  {
   "cell_type": "code",
   "execution_count": 20,
   "metadata": {},
   "outputs": [
    {
     "name": "stdout",
     "output_type": "stream",
     "text": [
      "{55279, 55271}\n"
     ]
    }
   ],
   "source": [
    "print(pt_codes2.difference(busstops_id))"
   ]
  },
  {
   "cell_type": "code",
   "execution_count": 24,
   "metadata": {},
   "outputs": [
    {
     "name": "stdout",
     "output_type": "stream",
     "text": [
      "3219\n",
      "Empty GeoDataFrame\n",
      "Columns: [BUS_STOP_N, BUS_ROOF_N, LOC_DESC, geometry]\n",
      "Index: []\n",
      "55279\n",
      "    BUS_STOP_N BUS_ROOF_N        LOC_DESC                     geometry\n",
      "948      55279        B08  LENTOR FLYOVER  POINT (28107.038 41788.958)\n",
      "55271\n",
      "     BUS_STOP_N BUS_ROOF_N            LOC_DESC                     geometry\n",
      "4597      55271        B07  AFT LENTOR FLYOVER  POINT (27911.607 41875.780)\n"
     ]
    }
   ],
   "source": [
    "for i in all_bus.difference(busstops_id):\n",
    "    print(i)\n",
    "    #print(str(i) in stops)\n",
    "    #print(stops[str(i)])\n",
    "    print(gdf[gdf[\"BUS_STOP_N\"]==str(i)])"
   ]
  },
  {
   "cell_type": "code",
   "execution_count": 67,
   "metadata": {},
   "outputs": [
    {
     "data": {
      "text/plain": [
       "5029"
      ]
     },
     "execution_count": 67,
     "metadata": {},
     "output_type": "execute_result"
    }
   ],
   "source": [
    "all_busstops = pt_codes|pt_codes2\n",
    "len(all_busstops)"
   ]
  },
  {
   "cell_type": "code",
   "execution_count": 25,
   "metadata": {},
   "outputs": [
    {
     "name": "stdout",
     "output_type": "stream",
     "text": [
      "missing 3219\n"
     ]
    },
    {
     "data": {
      "text/plain": [
       "5040"
      ]
     },
     "execution_count": 25,
     "metadata": {},
     "output_type": "execute_result"
    }
   ],
   "source": [
    "target_busstops = []\n",
    "key0 = [\"PTcode\", \"desc\", \"lat\", \"lon\"]\n",
    "key1 = [\"BusStopCode\", \"Description\", \"Latitude\", \"Longitude\"]\n",
    "key2 = [\"BUS_STOP_N\", \"LOC_DESC\", \"geometry\", \"geometry\"]\n",
    "second_source = gdf2['BUS_STOP_N'].tolist()\n",
    "for i in all_bus:\n",
    "    if i in busstops_id:\n",
    "        this_stop = busstops[busstops['BusStopCode']==i]\n",
    "        this_stop = this_stop.iloc[0]\n",
    "        this_stop2 = { k0: this_stop[k1] for k0,k1 in zip(key0, key1) }\n",
    "        #print(this_stop2)\n",
    "        #break\n",
    "    elif str(i) in second_source:\n",
    "        this_stop = gdf2[gdf2['BUS_STOP_N']==str(i)]\n",
    "        this_stop = this_stop.iloc[0]\n",
    "        this_geom = this_stop[\"geometry\"]\n",
    "        this_id = this_stop[\"BUS_STOP_N\"]\n",
    "        this_desc = this_stop[\"LOC_DESC\"]\n",
    "        this_lon = this_geom.x\n",
    "        this_lat = this_geom.y\n",
    "        this_stop2 = { k0: v for k0,v in zip(key0, [this_id, this_desc, this_lat, this_lon]) }\n",
    "        #break\n",
    "    else:\n",
    "        print(\"missing {}\".format(i))\n",
    "    target_busstops.append(this_stop2)\n",
    "len(target_busstops)"
   ]
  },
  {
   "cell_type": "code",
   "execution_count": 26,
   "metadata": {},
   "outputs": [
    {
     "data": {
      "text/html": [
       "<div>\n",
       "<style scoped>\n",
       "    .dataframe tbody tr th:only-of-type {\n",
       "        vertical-align: middle;\n",
       "    }\n",
       "\n",
       "    .dataframe tbody tr th {\n",
       "        vertical-align: top;\n",
       "    }\n",
       "\n",
       "    .dataframe thead th {\n",
       "        text-align: right;\n",
       "    }\n",
       "</style>\n",
       "<table border=\"1\" class=\"dataframe\">\n",
       "  <thead>\n",
       "    <tr style=\"text-align: right;\">\n",
       "      <th></th>\n",
       "      <th>PTcode</th>\n",
       "      <th>desc</th>\n",
       "      <th>lat</th>\n",
       "      <th>lon</th>\n",
       "    </tr>\n",
       "  </thead>\n",
       "  <tbody>\n",
       "    <tr>\n",
       "      <th>0</th>\n",
       "      <td>65539</td>\n",
       "      <td>Blk 224A</td>\n",
       "      <td>1.402291</td>\n",
       "      <td>103.893700</td>\n",
       "    </tr>\n",
       "    <tr>\n",
       "      <th>1</th>\n",
       "      <td>98309</td>\n",
       "      <td>Carissa Pk</td>\n",
       "      <td>1.359960</td>\n",
       "      <td>103.964737</td>\n",
       "    </tr>\n",
       "    <tr>\n",
       "      <th>2</th>\n",
       "      <td>65541</td>\n",
       "      <td>Before Sumang Lane</td>\n",
       "      <td>1.403562</td>\n",
       "      <td>103.891200</td>\n",
       "    </tr>\n",
       "    <tr>\n",
       "      <th>3</th>\n",
       "      <td>49159</td>\n",
       "      <td>Econ Group</td>\n",
       "      <td>1.437072</td>\n",
       "      <td>103.745813</td>\n",
       "    </tr>\n",
       "    <tr>\n",
       "      <th>4</th>\n",
       "      <td>98311</td>\n",
       "      <td>Bef Mariam Wk</td>\n",
       "      <td>1.359306</td>\n",
       "      <td>103.968491</td>\n",
       "    </tr>\n",
       "  </tbody>\n",
       "</table>\n",
       "</div>"
      ],
      "text/plain": [
       "  PTcode                desc       lat         lon\n",
       "0  65539            Blk 224A  1.402291  103.893700\n",
       "1  98309          Carissa Pk  1.359960  103.964737\n",
       "2  65541  Before Sumang Lane  1.403562  103.891200\n",
       "3  49159          Econ Group  1.437072  103.745813\n",
       "4  98311       Bef Mariam Wk  1.359306  103.968491"
      ]
     },
     "execution_count": 26,
     "metadata": {},
     "output_type": "execute_result"
    }
   ],
   "source": [
    "df_bus_prep = pd.DataFrame.from_dict(target_busstops)\n",
    "df_bus_prep.head()"
   ]
  },
  {
   "cell_type": "code",
   "execution_count": 27,
   "metadata": {},
   "outputs": [],
   "source": [
    "df_bus_prep.to_csv(os.path.join(data_dir, \"bus_stops.csv\"), index_label=\"ind\")"
   ]
  },
  {
   "cell_type": "code",
   "execution_count": 28,
   "metadata": {},
   "outputs": [],
   "source": [
    "pts = []\n",
    "for i in range(len(df_bus_prep)):\n",
    "    this_row = df_bus_prep.iloc[i]\n",
    "    this_lon = this_row[\"lon\"]\n",
    "    this_lat = this_row[\"lat\"]\n",
    "    pt = Point(this_lon, this_lat)\n",
    "    pts.append(pt)\n",
    "gdf_bus_prep = gpd.GeoDataFrame(df_bus_prep, geometry=pts, crs=\"epsg:4326\")"
   ]
  },
  {
   "cell_type": "code",
   "execution_count": 29,
   "metadata": {},
   "outputs": [
    {
     "data": {
      "text/plain": [
       "<matplotlib.axes._subplots.AxesSubplot at 0x7f7771f44630>"
      ]
     },
     "execution_count": 29,
     "metadata": {},
     "output_type": "execute_result"
    },
    {
     "data": {
      "image/png": "[encoded data removed]",
      "text/plain": [
       "<Figure size 432x288 with 1 Axes>"
      ]
     },
     "metadata": {
      "needs_background": "light"
     },
     "output_type": "display_data"
    }
   ],
   "source": [
    "gdf_bus_prep.plot()"
   ]
  },
  {
   "cell_type": "code",
   "execution_count": 30,
   "metadata": {},
   "outputs": [
    {
     "data": {
      "text/plain": [
       "<matplotlib.axes._subplots.AxesSubplot at 0x7f776f64de48>"
      ]
     },
     "execution_count": 30,
     "metadata": {},
     "output_type": "execute_result"
    },
    {
     "data": {
      "image/png": "[encoded data removed]",
      "text/plain": [
       "<Figure size 432x288 with 1 Axes>"
      ]
     },
     "metadata": {
      "needs_background": "light"
     },
     "output_type": "display_data"
    }
   ],
   "source": [
    "gdf_bus_prep2 = gdf_bus_prep.to_crs(target_crs)\n",
    "gdf_bus_prep2.plot()"
   ]
  },
  {
   "cell_type": "code",
   "execution_count": 31,
   "metadata": {},
   "outputs": [],
   "source": [
    "gdf_bus_prep2['PTcode'] = gdf_bus_prep2['PTcode'].apply(str)"
   ]
  },
  {
   "cell_type": "code",
   "execution_count": 32,
   "metadata": {},
   "outputs": [
    {
     "data": {
      "text/html": [
       "<div>\n",
       "<style scoped>\n",
       "    .dataframe tbody tr th:only-of-type {\n",
       "        vertical-align: middle;\n",
       "    }\n",
       "\n",
       "    .dataframe tbody tr th {\n",
       "        vertical-align: top;\n",
       "    }\n",
       "\n",
       "    .dataframe thead th {\n",
       "        text-align: right;\n",
       "    }\n",
       "</style>\n",
       "<table border=\"1\" class=\"dataframe\">\n",
       "  <thead>\n",
       "    <tr style=\"text-align: right;\">\n",
       "      <th></th>\n",
       "      <th>PTcode</th>\n",
       "      <th>desc</th>\n",
       "      <th>lat</th>\n",
       "      <th>lon</th>\n",
       "      <th>geometry</th>\n",
       "    </tr>\n",
       "  </thead>\n",
       "  <tbody>\n",
       "    <tr>\n",
       "      <th>0</th>\n",
       "      <td>65539</td>\n",
       "      <td>Blk 224A</td>\n",
       "      <td>1.402291</td>\n",
       "      <td>103.893700</td>\n",
       "      <td>POINT (34719.631 42683.817)</td>\n",
       "    </tr>\n",
       "    <tr>\n",
       "      <th>1</th>\n",
       "      <td>98309</td>\n",
       "      <td>Carissa Pk</td>\n",
       "      <td>1.359960</td>\n",
       "      <td>103.964737</td>\n",
       "      <td>POINT (42625.345 38003.381)</td>\n",
       "    </tr>\n",
       "    <tr>\n",
       "      <th>2</th>\n",
       "      <td>65541</td>\n",
       "      <td>Before Sumang Lane</td>\n",
       "      <td>1.403562</td>\n",
       "      <td>103.891200</td>\n",
       "      <td>POINT (34441.411 42824.350)</td>\n",
       "    </tr>\n",
       "    <tr>\n",
       "      <th>3</th>\n",
       "      <td>49159</td>\n",
       "      <td>Econ Group</td>\n",
       "      <td>1.437072</td>\n",
       "      <td>103.745813</td>\n",
       "      <td>POINT (18261.920 46529.810)</td>\n",
       "    </tr>\n",
       "    <tr>\n",
       "      <th>4</th>\n",
       "      <td>98311</td>\n",
       "      <td>Bef Mariam Wk</td>\n",
       "      <td>1.359306</td>\n",
       "      <td>103.968491</td>\n",
       "      <td>POINT (43043.145 37931.100)</td>\n",
       "    </tr>\n",
       "  </tbody>\n",
       "</table>\n",
       "</div>"
      ],
      "text/plain": [
       "  PTcode                desc       lat         lon  \\\n",
       "0  65539            Blk 224A  1.402291  103.893700   \n",
       "1  98309          Carissa Pk  1.359960  103.964737   \n",
       "2  65541  Before Sumang Lane  1.403562  103.891200   \n",
       "3  49159          Econ Group  1.437072  103.745813   \n",
       "4  98311       Bef Mariam Wk  1.359306  103.968491   \n",
       "\n",
       "                      geometry  \n",
       "0  POINT (34719.631 42683.817)  \n",
       "1  POINT (42625.345 38003.381)  \n",
       "2  POINT (34441.411 42824.350)  \n",
       "3  POINT (18261.920 46529.810)  \n",
       "4  POINT (43043.145 37931.100)  "
      ]
     },
     "execution_count": 32,
     "metadata": {},
     "output_type": "execute_result"
    }
   ],
   "source": [
    "gdf_bus_prep2.head()"
   ]
  },
  {
   "cell_type": "code",
   "execution_count": 33,
   "metadata": {},
   "outputs": [],
   "source": [
    "gdf_bus_prep2.to_file(os.path.join(data_dir, \"bus_stops.shp\"))"
   ]
  },
  {
   "cell_type": "code",
   "execution_count": null,
   "metadata": {},
   "outputs": [],
   "source": []
  },
  {
   "cell_type": "code",
   "execution_count": 34,
   "metadata": {},
   "outputs": [
    {
     "data": {
      "text/plain": [
       "<matplotlib.axes._subplots.AxesSubplot at 0x7f77719ec470>"
      ]
     },
     "execution_count": 34,
     "metadata": {},
     "output_type": "execute_result"
    },
    {
     "data": {
      "image/png": "[encoded data removed]",
      "text/plain": [
       "<Figure size 432x288 with 1 Axes>"
      ]
     },
     "metadata": {
      "needs_background": "light"
     },
     "output_type": "display_data"
    }
   ],
   "source": [
    "gdf_subzone = gpd.read_file(os.path.join(data_dir, \"subzone-2014\", \"MP14_SUBZONE_WEB_PL.shp\"))\n",
    "gdf_subzone.plot()"
   ]
  },
  {
   "cell_type": "code",
   "execution_count": 35,
   "metadata": {},
   "outputs": [
    {
     "name": "stderr",
     "output_type": "stream",
     "text": [
      "/home/benny/.pyenv/versions/miniconda3-4.3.30/lib/python3.6/site-packages/geopandas/tools/sjoin.py:61: UserWarning: CRS of frames being joined does not match!({'proj': 'tmerc', 'lat_0': 1.366666666666667, 'lon_0': 103.8333333333333, 'k': 1, 'x_0': 28001.642, 'y_0': 38744.572, 'datum': 'WGS84', 'units': 'm', 'no_defs': True, 'wktext': True} != {'proj': 'tmerc', 'lat_0': 1.366666666666667, 'lon_0': 103.8333333333333, 'k': 1, 'x_0': 28001.642, 'y_0': 38744.572, 'datum': 'WGS84', 'units': 'm', 'no_defs': True})\n",
      "  \"(%s != %s)\" % (left_df.crs, right_df.crs)\n"
     ]
    },
    {
     "data": {
      "text/html": [
       "<div>\n",
       "<style scoped>\n",
       "    .dataframe tbody tr th:only-of-type {\n",
       "        vertical-align: middle;\n",
       "    }\n",
       "\n",
       "    .dataframe tbody tr th {\n",
       "        vertical-align: top;\n",
       "    }\n",
       "\n",
       "    .dataframe thead th {\n",
       "        text-align: right;\n",
       "    }\n",
       "</style>\n",
       "<table border=\"1\" class=\"dataframe\">\n",
       "  <thead>\n",
       "    <tr style=\"text-align: right;\">\n",
       "      <th></th>\n",
       "      <th>PTcode</th>\n",
       "      <th>desc</th>\n",
       "      <th>lat</th>\n",
       "      <th>lon</th>\n",
       "      <th>geometry</th>\n",
       "      <th>index_szone</th>\n",
       "      <th>OBJECTID</th>\n",
       "      <th>SUBZONE_NO</th>\n",
       "      <th>SUBZONE_N</th>\n",
       "      <th>SUBZONE_C</th>\n",
       "      <th>...</th>\n",
       "      <th>PLN_AREA_N</th>\n",
       "      <th>PLN_AREA_C</th>\n",
       "      <th>REGION_N</th>\n",
       "      <th>REGION_C</th>\n",
       "      <th>INC_CRC</th>\n",
       "      <th>FMEL_UPD_D</th>\n",
       "      <th>X_ADDR</th>\n",
       "      <th>Y_ADDR</th>\n",
       "      <th>SHAPE_Leng</th>\n",
       "      <th>SHAPE_Area</th>\n",
       "    </tr>\n",
       "  </thead>\n",
       "  <tbody>\n",
       "    <tr>\n",
       "      <th>0</th>\n",
       "      <td>65539</td>\n",
       "      <td>Blk 224A</td>\n",
       "      <td>1.402291</td>\n",
       "      <td>103.893700</td>\n",
       "      <td>POINT (34719.631 42683.817)</td>\n",
       "      <td>265.0</td>\n",
       "      <td>266.0</td>\n",
       "      <td>3.0</td>\n",
       "      <td>MATILDA</td>\n",
       "      <td>PGSZ03</td>\n",
       "      <td>...</td>\n",
       "      <td>PUNGGOL</td>\n",
       "      <td>PG</td>\n",
       "      <td>NORTH-EAST REGION</td>\n",
       "      <td>NER</td>\n",
       "      <td>14D0DB33976B7B81</td>\n",
       "      <td>2014-12-05</td>\n",
       "      <td>35089.9853</td>\n",
       "      <td>42728.2745</td>\n",
       "      <td>5361.915964</td>\n",
       "      <td>1.418284e+06</td>\n",
       "    </tr>\n",
       "    <tr>\n",
       "      <th>1</th>\n",
       "      <td>98309</td>\n",
       "      <td>Carissa Pk</td>\n",
       "      <td>1.359960</td>\n",
       "      <td>103.964737</td>\n",
       "      <td>POINT (42625.345 38003.381)</td>\n",
       "      <td>231.0</td>\n",
       "      <td>232.0</td>\n",
       "      <td>8.0</td>\n",
       "      <td>FLORA DRIVE</td>\n",
       "      <td>PRSZ08</td>\n",
       "      <td>...</td>\n",
       "      <td>PASIR RIS</td>\n",
       "      <td>PR</td>\n",
       "      <td>EAST REGION</td>\n",
       "      <td>ER</td>\n",
       "      <td>FA9C76B49B6D0C95</td>\n",
       "      <td>2014-12-05</td>\n",
       "      <td>42801.7349</td>\n",
       "      <td>37930.5489</td>\n",
       "      <td>3956.615777</td>\n",
       "      <td>9.449984e+05</td>\n",
       "    </tr>\n",
       "    <tr>\n",
       "      <th>2</th>\n",
       "      <td>65541</td>\n",
       "      <td>Before Sumang Lane</td>\n",
       "      <td>1.403562</td>\n",
       "      <td>103.891200</td>\n",
       "      <td>POINT (34441.411 42824.350)</td>\n",
       "      <td>265.0</td>\n",
       "      <td>266.0</td>\n",
       "      <td>3.0</td>\n",
       "      <td>MATILDA</td>\n",
       "      <td>PGSZ03</td>\n",
       "      <td>...</td>\n",
       "      <td>PUNGGOL</td>\n",
       "      <td>PG</td>\n",
       "      <td>NORTH-EAST REGION</td>\n",
       "      <td>NER</td>\n",
       "      <td>14D0DB33976B7B81</td>\n",
       "      <td>2014-12-05</td>\n",
       "      <td>35089.9853</td>\n",
       "      <td>42728.2745</td>\n",
       "      <td>5361.915964</td>\n",
       "      <td>1.418284e+06</td>\n",
       "    </tr>\n",
       "    <tr>\n",
       "      <th>3</th>\n",
       "      <td>49159</td>\n",
       "      <td>Econ Group</td>\n",
       "      <td>1.437072</td>\n",
       "      <td>103.745813</td>\n",
       "      <td>POINT (18261.920 46529.810)</td>\n",
       "      <td>288.0</td>\n",
       "      <td>289.0</td>\n",
       "      <td>5.0</td>\n",
       "      <td>RESERVOIR VIEW</td>\n",
       "      <td>SKSZ05</td>\n",
       "      <td>...</td>\n",
       "      <td>SUNGEI KADUT</td>\n",
       "      <td>SK</td>\n",
       "      <td>NORTH REGION</td>\n",
       "      <td>NR</td>\n",
       "      <td>40050ADDFBCC870F</td>\n",
       "      <td>2014-12-05</td>\n",
       "      <td>18367.1710</td>\n",
       "      <td>45940.4868</td>\n",
       "      <td>10399.424485</td>\n",
       "      <td>3.284130e+06</td>\n",
       "    </tr>\n",
       "    <tr>\n",
       "      <th>4</th>\n",
       "      <td>98311</td>\n",
       "      <td>Bef Mariam Wk</td>\n",
       "      <td>1.359306</td>\n",
       "      <td>103.968491</td>\n",
       "      <td>POINT (43043.145 37931.100)</td>\n",
       "      <td>231.0</td>\n",
       "      <td>232.0</td>\n",
       "      <td>8.0</td>\n",
       "      <td>FLORA DRIVE</td>\n",
       "      <td>PRSZ08</td>\n",
       "      <td>...</td>\n",
       "      <td>PASIR RIS</td>\n",
       "      <td>PR</td>\n",
       "      <td>EAST REGION</td>\n",
       "      <td>ER</td>\n",
       "      <td>FA9C76B49B6D0C95</td>\n",
       "      <td>2014-12-05</td>\n",
       "      <td>42801.7349</td>\n",
       "      <td>37930.5489</td>\n",
       "      <td>3956.615777</td>\n",
       "      <td>9.449984e+05</td>\n",
       "    </tr>\n",
       "  </tbody>\n",
       "</table>\n",
       "<p>5 rows × 21 columns</p>\n",
       "</div>"
      ],
      "text/plain": [
       "  PTcode                desc       lat         lon  \\\n",
       "0  65539            Blk 224A  1.402291  103.893700   \n",
       "1  98309          Carissa Pk  1.359960  103.964737   \n",
       "2  65541  Before Sumang Lane  1.403562  103.891200   \n",
       "3  49159          Econ Group  1.437072  103.745813   \n",
       "4  98311       Bef Mariam Wk  1.359306  103.968491   \n",
       "\n",
       "                      geometry  index_szone  OBJECTID  SUBZONE_NO  \\\n",
       "0  POINT (34719.631 42683.817)        265.0     266.0         3.0   \n",
       "1  POINT (42625.345 38003.381)        231.0     232.0         8.0   \n",
       "2  POINT (34441.411 42824.350)        265.0     266.0         3.0   \n",
       "3  POINT (18261.920 46529.810)        288.0     289.0         5.0   \n",
       "4  POINT (43043.145 37931.100)        231.0     232.0         8.0   \n",
       "\n",
       "        SUBZONE_N SUBZONE_C  ...    PLN_AREA_N PLN_AREA_C           REGION_N  \\\n",
       "0         MATILDA    PGSZ03  ...       PUNGGOL         PG  NORTH-EAST REGION   \n",
       "1     FLORA DRIVE    PRSZ08  ...     PASIR RIS         PR        EAST REGION   \n",
       "2         MATILDA    PGSZ03  ...       PUNGGOL         PG  NORTH-EAST REGION   \n",
       "3  RESERVOIR VIEW    SKSZ05  ...  SUNGEI KADUT         SK       NORTH REGION   \n",
       "4     FLORA DRIVE    PRSZ08  ...     PASIR RIS         PR        EAST REGION   \n",
       "\n",
       "  REGION_C           INC_CRC  FMEL_UPD_D      X_ADDR      Y_ADDR  \\\n",
       "0      NER  14D0DB33976B7B81  2014-12-05  35089.9853  42728.2745   \n",
       "1       ER  FA9C76B49B6D0C95  2014-12-05  42801.7349  37930.5489   \n",
       "2      NER  14D0DB33976B7B81  2014-12-05  35089.9853  42728.2745   \n",
       "3       NR  40050ADDFBCC870F  2014-12-05  18367.1710  45940.4868   \n",
       "4       ER  FA9C76B49B6D0C95  2014-12-05  42801.7349  37930.5489   \n",
       "\n",
       "     SHAPE_Leng    SHAPE_Area  \n",
       "0   5361.915964  1.418284e+06  \n",
       "1   3956.615777  9.449984e+05  \n",
       "2   5361.915964  1.418284e+06  \n",
       "3  10399.424485  3.284130e+06  \n",
       "4   3956.615777  9.449984e+05  \n",
       "\n",
       "[5 rows x 21 columns]"
      ]
     },
     "execution_count": 35,
     "metadata": {},
     "output_type": "execute_result"
    }
   ],
   "source": [
    "gdf_bus_prep3 = gpd.sjoin(gdf_bus_prep2, gdf_subzone, how=\"left\", lsuffix='pt', rsuffix='szone')\n",
    "gdf_bus_prep3.head()"
   ]
  },
  {
   "cell_type": "code",
   "execution_count": 36,
   "metadata": {},
   "outputs": [
    {
     "data": {
      "text/plain": [
       "<matplotlib.axes._subplots.AxesSubplot at 0x7f77710c7c88>"
      ]
     },
     "execution_count": 36,
     "metadata": {},
     "output_type": "execute_result"
    },
    {
     "data": {
      "image/png": "[encoded data removed]",
      "text/plain": [
       "<Figure size 432x288 with 1 Axes>"
      ]
     },
     "metadata": {
      "needs_background": "light"
     },
     "output_type": "display_data"
    }
   ],
   "source": [
    "gdf_bus_prep3.plot(column='SUBZONE_NO')"
   ]
  },
  {
   "cell_type": "code",
   "execution_count": 37,
   "metadata": {},
   "outputs": [],
   "source": [
    "gdf_bus_prep3.to_file(os.path.join(data_dir, \"bus_stops_wszone.shp\"))"
   ]
  },
  {
   "cell_type": "code",
   "execution_count": 38,
   "metadata": {},
   "outputs": [
    {
     "data": {
      "text/html": [
       "<div>\n",
       "<style scoped>\n",
       "    .dataframe tbody tr th:only-of-type {\n",
       "        vertical-align: middle;\n",
       "    }\n",
       "\n",
       "    .dataframe tbody tr th {\n",
       "        vertical-align: top;\n",
       "    }\n",
       "\n",
       "    .dataframe thead th {\n",
       "        text-align: right;\n",
       "    }\n",
       "</style>\n",
       "<table border=\"1\" class=\"dataframe\">\n",
       "  <thead>\n",
       "    <tr style=\"text-align: right;\">\n",
       "      <th></th>\n",
       "      <th>PTcode</th>\n",
       "      <th>desc</th>\n",
       "      <th>lat</th>\n",
       "      <th>lon</th>\n",
       "      <th>geometry</th>\n",
       "      <th>index_szone</th>\n",
       "      <th>OBJECTID</th>\n",
       "      <th>SUBZONE_NO</th>\n",
       "      <th>SUBZONE_N</th>\n",
       "      <th>SUBZONE_C</th>\n",
       "      <th>...</th>\n",
       "      <th>PLN_AREA_N</th>\n",
       "      <th>PLN_AREA_C</th>\n",
       "      <th>REGION_N</th>\n",
       "      <th>REGION_C</th>\n",
       "      <th>INC_CRC</th>\n",
       "      <th>FMEL_UPD_D</th>\n",
       "      <th>X_ADDR</th>\n",
       "      <th>Y_ADDR</th>\n",
       "      <th>SHAPE_Leng</th>\n",
       "      <th>SHAPE_Area</th>\n",
       "    </tr>\n",
       "  </thead>\n",
       "  <tbody>\n",
       "    <tr>\n",
       "      <th>4046</th>\n",
       "      <td>46211</td>\n",
       "      <td>Johor Bahru Checkpt</td>\n",
       "      <td>1.464917</td>\n",
       "      <td>103.765477</td>\n",
       "      <td>POINT (20450.374 49608.748)</td>\n",
       "      <td>NaN</td>\n",
       "      <td>NaN</td>\n",
       "      <td>NaN</td>\n",
       "      <td>NaN</td>\n",
       "      <td>NaN</td>\n",
       "      <td>...</td>\n",
       "      <td>NaN</td>\n",
       "      <td>NaN</td>\n",
       "      <td>NaN</td>\n",
       "      <td>NaN</td>\n",
       "      <td>NaN</td>\n",
       "      <td>NaN</td>\n",
       "      <td>NaN</td>\n",
       "      <td>NaN</td>\n",
       "      <td>NaN</td>\n",
       "      <td>NaN</td>\n",
       "    </tr>\n",
       "    <tr>\n",
       "      <th>4047</th>\n",
       "      <td>46219</td>\n",
       "      <td>Johor Bahru Checkpt</td>\n",
       "      <td>1.465427</td>\n",
       "      <td>103.768267</td>\n",
       "      <td>POINT (20760.795 49665.076)</td>\n",
       "      <td>NaN</td>\n",
       "      <td>NaN</td>\n",
       "      <td>NaN</td>\n",
       "      <td>NaN</td>\n",
       "      <td>NaN</td>\n",
       "      <td>...</td>\n",
       "      <td>NaN</td>\n",
       "      <td>NaN</td>\n",
       "      <td>NaN</td>\n",
       "      <td>NaN</td>\n",
       "      <td>NaN</td>\n",
       "      <td>NaN</td>\n",
       "      <td>NaN</td>\n",
       "      <td>NaN</td>\n",
       "      <td>NaN</td>\n",
       "      <td>NaN</td>\n",
       "    </tr>\n",
       "    <tr>\n",
       "      <th>4050</th>\n",
       "      <td>46239</td>\n",
       "      <td>Larkin Ter</td>\n",
       "      <td>1.493904</td>\n",
       "      <td>103.744033</td>\n",
       "      <td>POINT (18064.118 52814.015)</td>\n",
       "      <td>NaN</td>\n",
       "      <td>NaN</td>\n",
       "      <td>NaN</td>\n",
       "      <td>NaN</td>\n",
       "      <td>NaN</td>\n",
       "      <td>...</td>\n",
       "      <td>NaN</td>\n",
       "      <td>NaN</td>\n",
       "      <td>NaN</td>\n",
       "      <td>NaN</td>\n",
       "      <td>NaN</td>\n",
       "      <td>NaN</td>\n",
       "      <td>NaN</td>\n",
       "      <td>NaN</td>\n",
       "      <td>NaN</td>\n",
       "      <td>NaN</td>\n",
       "    </tr>\n",
       "    <tr>\n",
       "      <th>4590</th>\n",
       "      <td>47711</td>\n",
       "      <td>JB Sentral Bus Ter</td>\n",
       "      <td>1.463458</td>\n",
       "      <td>103.764423</td>\n",
       "      <td>POINT (20333.108 49447.425)</td>\n",
       "      <td>NaN</td>\n",
       "      <td>NaN</td>\n",
       "      <td>NaN</td>\n",
       "      <td>NaN</td>\n",
       "      <td>NaN</td>\n",
       "      <td>...</td>\n",
       "      <td>NaN</td>\n",
       "      <td>NaN</td>\n",
       "      <td>NaN</td>\n",
       "      <td>NaN</td>\n",
       "      <td>NaN</td>\n",
       "      <td>NaN</td>\n",
       "      <td>NaN</td>\n",
       "      <td>NaN</td>\n",
       "      <td>NaN</td>\n",
       "      <td>NaN</td>\n",
       "    </tr>\n",
       "  </tbody>\n",
       "</table>\n",
       "<p>4 rows × 21 columns</p>\n",
       "</div>"
      ],
      "text/plain": [
       "     PTcode                 desc       lat         lon  \\\n",
       "4046  46211  Johor Bahru Checkpt  1.464917  103.765477   \n",
       "4047  46219  Johor Bahru Checkpt  1.465427  103.768267   \n",
       "4050  46239           Larkin Ter  1.493904  103.744033   \n",
       "4590  47711   JB Sentral Bus Ter  1.463458  103.764423   \n",
       "\n",
       "                         geometry  index_szone  OBJECTID  SUBZONE_NO  \\\n",
       "4046  POINT (20450.374 49608.748)          NaN       NaN         NaN   \n",
       "4047  POINT (20760.795 49665.076)          NaN       NaN         NaN   \n",
       "4050  POINT (18064.118 52814.015)          NaN       NaN         NaN   \n",
       "4590  POINT (20333.108 49447.425)          NaN       NaN         NaN   \n",
       "\n",
       "     SUBZONE_N SUBZONE_C  ... PLN_AREA_N PLN_AREA_C REGION_N REGION_C INC_CRC  \\\n",
       "4046       NaN       NaN  ...        NaN        NaN      NaN      NaN     NaN   \n",
       "4047       NaN       NaN  ...        NaN        NaN      NaN      NaN     NaN   \n",
       "4050       NaN       NaN  ...        NaN        NaN      NaN      NaN     NaN   \n",
       "4590       NaN       NaN  ...        NaN        NaN      NaN      NaN     NaN   \n",
       "\n",
       "     FMEL_UPD_D X_ADDR  Y_ADDR  SHAPE_Leng  SHAPE_Area  \n",
       "4046        NaN    NaN     NaN         NaN         NaN  \n",
       "4047        NaN    NaN     NaN         NaN         NaN  \n",
       "4050        NaN    NaN     NaN         NaN         NaN  \n",
       "4590        NaN    NaN     NaN         NaN         NaN  \n",
       "\n",
       "[4 rows x 21 columns]"
      ]
     },
     "execution_count": 38,
     "metadata": {},
     "output_type": "execute_result"
    }
   ],
   "source": [
    "gdf_bus_prep3[pd.isnull(gdf_bus_prep3[\"SUBZONE_N\"])]"
   ]
  },
  {
   "cell_type": "code",
   "execution_count": null,
   "metadata": {},
   "outputs": [],
   "source": []
  },
  {
   "cell_type": "code",
   "execution_count": null,
   "metadata": {},
   "outputs": [],
   "source": []
  },
  {
   "cell_type": "code",
   "execution_count": null,
   "metadata": {},
   "outputs": [],
   "source": []
  },
  {
   "cell_type": "code",
   "execution_count": null,
   "metadata": {},
   "outputs": [],
   "source": []
  },
  {
   "cell_type": "code",
   "execution_count": null,
   "metadata": {},
   "outputs": [],
   "source": []
  },
  {
   "cell_type": "code",
   "execution_count": null,
   "metadata": {},
   "outputs": [],
   "source": []
  },
  {
   "cell_type": "code",
   "execution_count": 16,
   "metadata": {},
   "outputs": [
    {
     "data": {
      "text/plain": [
       "[0,\n",
       " 1,\n",
       " 2,\n",
       " 3,\n",
       " 4,\n",
       " 5,\n",
       " 6,\n",
       " 7,\n",
       " 8,\n",
       " 9,\n",
       " 10,\n",
       " 11,\n",
       " 12,\n",
       " 13,\n",
       " 14,\n",
       " 15,\n",
       " 16,\n",
       " 17,\n",
       " 18,\n",
       " 19,\n",
       " 20,\n",
       " 21,\n",
       " 22,\n",
       " 23]"
      ]
     },
     "execution_count": 16,
     "metadata": {},
     "output_type": "execute_result"
    }
   ],
   "source": [
    "sorted(list(set(df[\"TIME_PER_HOUR\"].tolist())))"
   ]
  },
  {
   "cell_type": "code",
   "execution_count": 17,
   "metadata": {},
   "outputs": [
    {
     "data": {
      "text/plain": [
       "3782803"
      ]
     },
     "execution_count": 17,
     "metadata": {},
     "output_type": "execute_result"
    }
   ],
   "source": [
    "df_wday = df[df[\"DAY_TYPE\"]==\"WEEKDAY\"]\n",
    "len(df_wday)"
   ]
  },
  {
   "cell_type": "code",
   "execution_count": 18,
   "metadata": {},
   "outputs": [
    {
     "data": {
      "image/png": "[encoded data removed]",
      "text/plain": [
       "<Figure size 432x288 with 1 Axes>"
      ]
     },
     "metadata": {
      "needs_background": "light"
     },
     "output_type": "display_data"
    }
   ],
   "source": [
    "vals = df_wday[df_wday[\"TIME_PER_HOUR\"]==9]\n",
    "sns.distplot(vals[\"TOTAL_TRIPS\"], kde=False)\n",
    "ax = plt.gca()\n",
    "ax.set_yscale(\"log\")"
   ]
  },
  {
   "cell_type": "code",
   "execution_count": null,
   "metadata": {},
   "outputs": [],
   "source": []
  }
 ],
 "metadata": {
  "kernelspec": {
   "display_name": "Python 3",
   "language": "python",
   "name": "python3"
  },
  "language_info": {
   "codemirror_mode": {
    "name": "ipython",
    "version": 3
   },
   "file_extension": ".py",
   "mimetype": "text/x-python",
   "name": "python",
   "nbconvert_exporter": "python",
   "pygments_lexer": "ipython3",
   "version": "3.6.8"
  }
 },
 "nbformat": 4,
 "nbformat_minor": 4
}
