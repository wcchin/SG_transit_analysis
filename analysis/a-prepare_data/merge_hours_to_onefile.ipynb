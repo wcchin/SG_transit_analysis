{
 "cells": [
  {
   "cell_type": "code",
   "execution_count": 1,
   "metadata": {},
   "outputs": [],
   "source": [
    "import os\n",
    "import pandas as pd\n",
    "import numpy as np\n",
    "import matplotlib.pyplot as plt"
   ]
  },
  {
   "cell_type": "code",
   "execution_count": 2,
   "metadata": {},
   "outputs": [],
   "source": [
    "data_dir = \"../../data\"\n",
    "od_dir = os.path.join(data_dir, \"OD_PT\")\n",
    "#os.listdir(od_dir)"
   ]
  },
  {
   "cell_type": "code",
   "execution_count": 3,
   "metadata": {},
   "outputs": [
    {
     "name": "stdout",
     "output_type": "stream",
     "text": [
      "5\n",
      "../../data/OD_PT/OD_202001_weekday_05.csv.xz\n",
      "6\n",
      "../../data/OD_PT/OD_202001_weekday_06.csv.xz\n",
      "7\n",
      "../../data/OD_PT/OD_202001_weekday_07.csv.xz\n",
      "8\n",
      "../../data/OD_PT/OD_202001_weekday_08.csv.xz\n",
      "9\n",
      "../../data/OD_PT/OD_202001_weekday_09.csv.xz\n",
      "10\n",
      "../../data/OD_PT/OD_202001_weekday_10.csv.xz\n",
      "11\n",
      "../../data/OD_PT/OD_202001_weekday_11.csv.xz\n",
      "12\n",
      "../../data/OD_PT/OD_202001_weekday_12.csv.xz\n",
      "13\n",
      "../../data/OD_PT/OD_202001_weekday_13.csv.xz\n",
      "14\n",
      "../../data/OD_PT/OD_202001_weekday_14.csv.xz\n",
      "15\n",
      "../../data/OD_PT/OD_202001_weekday_15.csv.xz\n",
      "16\n",
      "../../data/OD_PT/OD_202001_weekday_16.csv.xz\n",
      "17\n",
      "../../data/OD_PT/OD_202001_weekday_17.csv.xz\n",
      "18\n",
      "../../data/OD_PT/OD_202001_weekday_18.csv.xz\n",
      "19\n",
      "../../data/OD_PT/OD_202001_weekday_19.csv.xz\n",
      "20\n",
      "../../data/OD_PT/OD_202001_weekday_20.csv.xz\n",
      "21\n",
      "../../data/OD_PT/OD_202001_weekday_21.csv.xz\n",
      "22\n",
      "../../data/OD_PT/OD_202001_weekday_22.csv.xz\n",
      "23\n",
      "../../data/OD_PT/OD_202001_weekday_23.csv.xz\n",
      "          origin     destination       hour_05       hour_06        hour_07  \\\n",
      "0  TAMPINES EAST   TAMPINES EAST  12519.556067  75738.604443  123553.949988   \n",
      "1   SENOKO NORTH  YISHUN CENTRAL    178.499481    730.042822     351.984932   \n",
      "2       FERNVALE       TRAFALGAR    134.376014   1302.645090     983.752758   \n",
      "3      CHINATOWN            PORT     24.044897    252.477033     122.196425   \n",
      "4       LAKESIDE    TAMAN JURONG     66.050509    983.867077    1825.630329   \n",
      "\n",
      "        hour_08       hour_09       hour_10       hour_11       hour_12  ...  \\\n",
      "0  93834.783691  67193.277245  60358.226810  57832.704764  66506.274322  ...   \n",
      "1    319.895138    237.665039    207.580857    291.816567    485.358140  ...   \n",
      "2   1252.504786    710.989506    513.436710    414.158908    521.459158  ...   \n",
      "3    115.143110    121.148722     70.078570     97.064540    142.134692  ...   \n",
      "4   1280.511436    495.080338    460.968095    427.900750    598.293600  ...   \n",
      "\n",
      "        hour_14       hour_15       hour_16       hour_17        hour_18  \\\n",
      "0  75041.175728  70835.422853  75485.681552  89699.771504  110812.951482   \n",
      "1    525.470383    879.460927   1106.095099   2347.569019    2791.812109   \n",
      "2    454.271151    521.459158    592.658390    928.598424     954.671382   \n",
      "3    144.106631    129.115049    139.089794    221.098213     279.042091   \n",
      "4    778.798693   1343.255046    829.860427   1028.112974    1115.188738   \n",
      "\n",
      "        hour_19       hour_20       hour_21       hour_22       hour_23  \n",
      "0  92849.925530  64204.182951  55239.253484  41024.198974  21235.752111  \n",
      "1   1185.316779    833.331847    416.164521    242.679070     97.272189  \n",
      "2    604.692062    419.172939    367.027023    339.951259    158.443360  \n",
      "3    184.084182    132.084182    135.061734     98.070152     40.067346  \n",
      "4    756.172939    610.043859    486.625754    353.443360    181.227292  \n",
      "\n",
      "[5 rows x 21 columns]\n"
     ]
    }
   ],
   "source": [
    "\n",
    "months = [\"202001\"] #\"201911\", \"201912\"\n",
    "for m in months:\n",
    "    df_merge = None\n",
    "    for hr in range(5,24):\n",
    "        print(hr)\n",
    "        f = \"OD_{}_weekday_{}.csv.xz\".format(m, str(hr).zfill(2))\n",
    "        fp = os.path.join(od_dir, f)\n",
    "        print(fp)\n",
    "        df_flow = pd.read_csv(fp, index_col=0)\n",
    "        df_flow = df_flow[[\"origin\", \"destination\", \"total_flow\"]]\n",
    "        df_flow = df_flow.rename(columns={\"total_flow\": \"hour_{}\".format(str(hr).zfill(2))})\n",
    "        #print(df_flow.head())\n",
    "\n",
    "        if df_merge is None:\n",
    "            df_merge = df_flow\n",
    "        else:\n",
    "            df_merge = pd.merge(df_merge, df_flow, left_on=[\"origin\", \"destination\"], right_on=[\"origin\", \"destination\"], \n",
    "                               how=\"outer\", suffixes=('_o', '_n'), validate=\"one_to_one\")\n",
    "        #break\n",
    "    colval = { col:0 for col in df_merge.columns if col not in [\"origin\", \"destination\"]}\n",
    "    df_merge = df_merge.fillna(value=colval)\n",
    "    print(df_merge.head())\n",
    "    df_merge.to_csv(os.path.join(data_dir, \"OD_{}_weekday.csv.xz\".format(m)), index_label=\"ind\", compression=\"xz\")"
   ]
  },
  {
   "cell_type": "code",
   "execution_count": 4,
   "metadata": {},
   "outputs": [
    {
     "name": "stdout",
     "output_type": "stream",
     "text": [
      "5\n",
      "6\n",
      "7\n",
      "8\n",
      "9\n",
      "10\n",
      "11\n",
      "12\n",
      "13\n",
      "14\n",
      "15\n",
      "16\n",
      "17\n",
      "18\n",
      "19\n",
      "20\n",
      "21\n",
      "22\n",
      "23\n",
      "                 origin    destination      hour_05      hour_06  \\\n",
      "0         TAMPINES EAST  TAMPINES EAST  2531.908293  8363.479005   \n",
      "1              BRADDELL     TOWNSVILLE    18.051257    28.079733   \n",
      "2  DEFU INDUSTRIAL PARK   GEYLANG EAST    13.037019    50.142380   \n",
      "3             TRAFALGAR      TRAFALGAR   192.647025   677.323273   \n",
      "4          GEYLANG EAST   PEARL'S HILL     7.019933    18.051257   \n",
      "\n",
      "        hour_07       hour_08       hour_09       hour_10       hour_11  \\\n",
      "0  14667.376701  21834.373083  27129.155497  30616.316247  32638.843941   \n",
      "1     23.065495     45.128142     63.179399     61.173704     68.193637   \n",
      "2    145.412903    211.600845    221.629321    211.600845    269.766006   \n",
      "3    946.788425   1522.723805   1989.148227   2201.651635   2257.109108   \n",
      "4     15.042714     28.079733     53.150923     41.116752     51.145228   \n",
      "\n",
      "        hour_12  ...       hour_14       hour_15       hour_16       hour_17  \\\n",
      "0  33679.649324  ...  32379.956468  30783.699297  31269.561631  34155.344630   \n",
      "1     58.165161  ...     48.136685     50.142380     65.185094     39.111057   \n",
      "2    165.469855  ...    173.492636    141.401512    113.321780    130.370189   \n",
      "3   2540.012417  ...   2097.556053   2030.465549   1989.850221   2128.142905   \n",
      "4     60.170856  ...     64.182247     41.116752     32.091123     30.085428   \n",
      "\n",
      "        hour_18       hour_19       hour_20       hour_21       hour_22  \\\n",
      "0  32443.871530  29482.864061  25711.236304  23572.227365  18178.453002   \n",
      "1     56.159466     36.102514     35.099666     36.102514     31.088276   \n",
      "2    120.341713     75.213570     29.082581     26.074038     10.028476   \n",
      "3   2091.839822   2168.256810   1680.371449   1487.423570   1212.743610   \n",
      "4     38.108209     50.142380     45.128142     22.062647     28.079733   \n",
      "\n",
      "        hour_23  \n",
      "0  10301.724786  \n",
      "1     20.056952  \n",
      "2      4.011390  \n",
      "3    590.677240  \n",
      "4     23.065495  \n",
      "\n",
      "[5 rows x 21 columns]\n"
     ]
    }
   ],
   "source": [
    "\n",
    "months = [\"202001\"] #\"201911\", \"201912\"\n",
    "for m in months:\n",
    "    df_merge = None\n",
    "    for hr in range(5,24):\n",
    "        print(hr)\n",
    "        f = \"OD_{}_weekend_{}.csv.xz\".format(m, str(hr).zfill(2))\n",
    "        fp = os.path.join(od_dir, f)\n",
    "        df_flow = pd.read_csv(fp, index_col=0)\n",
    "        df_flow = df_flow[[\"origin\", \"destination\", \"total_flow\"]]\n",
    "        df_flow = df_flow.rename(columns={\"total_flow\": \"hour_{}\".format(str(hr).zfill(2))})\n",
    "        #print(df_flow.head())\n",
    "\n",
    "        if df_merge is None:\n",
    "            df_merge = df_flow\n",
    "        else:\n",
    "            df_merge = pd.merge(df_merge, df_flow, left_on=[\"origin\", \"destination\"], right_on=[\"origin\", \"destination\"], \n",
    "                               how=\"outer\", suffixes=('_o', '_n'))#, validate=\"one_to_one\")\n",
    "        #break\n",
    "    colval = { col:0 for col in df_merge.columns if col not in [\"origin\", \"destination\"]}\n",
    "    df_merge = df_merge.fillna(value=colval)\n",
    "    print(df_merge.head())\n",
    "    df_merge.to_csv(os.path.join(data_dir, \"OD_{}_weekend.csv.xz\".format(m)), index_label=\"ind\", compression=\"xz\")"
   ]
  },
  {
   "cell_type": "code",
   "execution_count": 15,
   "metadata": {},
   "outputs": [
    {
     "name": "stderr",
     "output_type": "stream",
     "text": [
      "/home/benny/.pyenv/versions/miniconda3-4.3.30/lib/python3.6/site-packages/ipykernel_launcher.py:1: FutureWarning: Method .as_matrix will be removed in a future version. Use .values instead.\n",
      "  \"\"\"Entry point for launching an IPython kernel.\n"
     ]
    }
   ],
   "source": [
    "cormat = df_merge.corr(method ='pearson').as_matrix()"
   ]
  },
  {
   "cell_type": "code",
   "execution_count": 17,
   "metadata": {},
   "outputs": [
    {
     "data": {
      "text/plain": [
       "<matplotlib.image.AxesImage at 0x7fcb285c2ba8>"
      ]
     },
     "execution_count": 17,
     "metadata": {},
     "output_type": "execute_result"
    },
    {
     "data": {
      "image/png": "[encoded data removed]",
      "text/plain": [
       "<Figure size 288x288 with 1 Axes>"
      ]
     },
     "metadata": {
      "needs_background": "light"
     },
     "output_type": "display_data"
    }
   ],
   "source": [
    "plt.matshow(cormat)"
   ]
  },
  {
   "cell_type": "code",
   "execution_count": 25,
   "metadata": {},
   "outputs": [
    {
     "data": {
      "text/plain": [
       "<matplotlib.image.AxesImage at 0x7fcb283b5c88>"
      ]
     },
     "execution_count": 25,
     "metadata": {},
     "output_type": "execute_result"
    },
    {
     "data": {
      "image/png": "[encoded data removed]",
      "text/plain": [
       "<Figure size 288x288 with 1 Axes>"
      ]
     },
     "metadata": {
      "needs_background": "light"
     },
     "output_type": "display_data"
    }
   ],
   "source": [
    "plt.matshow(np.where(cormat>=0.92, 1, 0))"
   ]
  },
  {
   "cell_type": "code",
   "execution_count": null,
   "metadata": {},
   "outputs": [],
   "source": []
  }
 ],
 "metadata": {
  "kernelspec": {
   "display_name": "Python 3",
   "language": "python",
   "name": "python3"
  },
  "language_info": {
   "codemirror_mode": {
    "name": "ipython",
    "version": 3
   },
   "file_extension": ".py",
   "mimetype": "text/x-python",
   "name": "python",
   "nbconvert_exporter": "python",
   "pygments_lexer": "ipython3",
   "version": "3.6.8"
  }
 },
 "nbformat": 4,
 "nbformat_minor": 4
}
