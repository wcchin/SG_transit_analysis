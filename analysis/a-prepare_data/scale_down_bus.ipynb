{
 "cells": [
  {
   "cell_type": "code",
   "execution_count": 1,
   "metadata": {},
   "outputs": [],
   "source": [
    "import os\n",
    "import pandas as pd\n",
    "import numpy as np\n",
    "import matplotlib.pyplot as plt\n",
    "import seaborn as sns"
   ]
  },
  {
   "cell_type": "code",
   "execution_count": 2,
   "metadata": {},
   "outputs": [
    {
     "data": {
      "text/plain": [
       "['bus_stops_wszone.dbf',\n",
       " 'bus_stops_wszone.shp',\n",
       " 'singstat',\n",
       " 'origin_destination_bus_202001_scaleddown.csv.xz',\n",
       " 'net_202001_weekendb.net',\n",
       " 'OD_bus',\n",
       " 'net_202001_weekdayb.net',\n",
       " 'train_station_wszone.prj',\n",
       " 'origin_destination_train_202001.csv.xz',\n",
       " 'train_station_wszone.dbf',\n",
       " 'OD_202001_weekend.csv.xz',\n",
       " 'subzone_centroid.csv',\n",
       " 'transport_node_bus_202001.csv',\n",
       " 'train_station_wszone.cpg',\n",
       " 'OD_PT',\n",
       " 'train_station_wszone.shx',\n",
       " 'planning-area-2014',\n",
       " 'subzone_centroid_pos.json',\n",
       " '.ipynb_checkpoints',\n",
       " 'origin_destination_bus_202001.csv.xz',\n",
       " 'region-2014',\n",
       " 'train_station_wszone.shp',\n",
       " 'OD_train',\n",
       " 'bus_stops_wszone.shx',\n",
       " 'OD_202001_weekday.csv.xz',\n",
       " 'bus_stops_wszone.prj',\n",
       " 'subzone-2014',\n",
       " 'bus_stops_wszone.cpg']"
      ]
     },
     "execution_count": 2,
     "metadata": {},
     "output_type": "execute_result"
    }
   ],
   "source": [
    "data_dir = \"../../data\"\n",
    "os.listdir(data_dir)"
   ]
  },
  {
   "cell_type": "code",
   "execution_count": 3,
   "metadata": {},
   "outputs": [
    {
     "data": {
      "text/html": [
       "<div>\n",
       "<style scoped>\n",
       "    .dataframe tbody tr th:only-of-type {\n",
       "        vertical-align: middle;\n",
       "    }\n",
       "\n",
       "    .dataframe tbody tr th {\n",
       "        vertical-align: top;\n",
       "    }\n",
       "\n",
       "    .dataframe thead th {\n",
       "        text-align: right;\n",
       "    }\n",
       "</style>\n",
       "<table border=\"1\" class=\"dataframe\">\n",
       "  <thead>\n",
       "    <tr style=\"text-align: right;\">\n",
       "      <th></th>\n",
       "      <th>YEAR_MONTH</th>\n",
       "      <th>DAY_TYPE</th>\n",
       "      <th>TIME_PER_HOUR</th>\n",
       "      <th>PT_TYPE</th>\n",
       "      <th>ORIGIN_PT_CODE</th>\n",
       "      <th>DESTINATION_PT_CODE</th>\n",
       "      <th>TOTAL_TRIPS</th>\n",
       "    </tr>\n",
       "  </thead>\n",
       "  <tbody>\n",
       "    <tr>\n",
       "      <th>0</th>\n",
       "      <td>2020-01</td>\n",
       "      <td>WEEKENDS/HOLIDAY</td>\n",
       "      <td>16</td>\n",
       "      <td>BUS</td>\n",
       "      <td>4168</td>\n",
       "      <td>10051</td>\n",
       "      <td>80</td>\n",
       "    </tr>\n",
       "    <tr>\n",
       "      <th>1</th>\n",
       "      <td>2020-01</td>\n",
       "      <td>WEEKDAY</td>\n",
       "      <td>16</td>\n",
       "      <td>BUS</td>\n",
       "      <td>4168</td>\n",
       "      <td>10051</td>\n",
       "      <td>60</td>\n",
       "    </tr>\n",
       "    <tr>\n",
       "      <th>2</th>\n",
       "      <td>2020-01</td>\n",
       "      <td>WEEKENDS/HOLIDAY</td>\n",
       "      <td>14</td>\n",
       "      <td>BUS</td>\n",
       "      <td>80119</td>\n",
       "      <td>90079</td>\n",
       "      <td>80</td>\n",
       "    </tr>\n",
       "    <tr>\n",
       "      <th>3</th>\n",
       "      <td>2020-01</td>\n",
       "      <td>WEEKDAY</td>\n",
       "      <td>14</td>\n",
       "      <td>BUS</td>\n",
       "      <td>80119</td>\n",
       "      <td>90079</td>\n",
       "      <td>240</td>\n",
       "    </tr>\n",
       "    <tr>\n",
       "      <th>4</th>\n",
       "      <td>2020-01</td>\n",
       "      <td>WEEKDAY</td>\n",
       "      <td>17</td>\n",
       "      <td>BUS</td>\n",
       "      <td>20281</td>\n",
       "      <td>20141</td>\n",
       "      <td>260</td>\n",
       "    </tr>\n",
       "  </tbody>\n",
       "</table>\n",
       "</div>"
      ],
      "text/plain": [
       "  YEAR_MONTH          DAY_TYPE  TIME_PER_HOUR PT_TYPE  ORIGIN_PT_CODE  \\\n",
       "0    2020-01  WEEKENDS/HOLIDAY             16     BUS            4168   \n",
       "1    2020-01           WEEKDAY             16     BUS            4168   \n",
       "2    2020-01  WEEKENDS/HOLIDAY             14     BUS           80119   \n",
       "3    2020-01           WEEKDAY             14     BUS           80119   \n",
       "4    2020-01           WEEKDAY             17     BUS           20281   \n",
       "\n",
       "   DESTINATION_PT_CODE  TOTAL_TRIPS  \n",
       "0                10051           80  \n",
       "1                10051           60  \n",
       "2                90079           80  \n",
       "3                90079          240  \n",
       "4                20141          260  "
      ]
     },
     "execution_count": 3,
     "metadata": {},
     "output_type": "execute_result"
    }
   ],
   "source": [
    "fp = os.path.join(data_dir, \"origin_destination_bus_202001.csv.xz\")\n",
    "df = pd.read_csv(fp)\n",
    "df.head()"
   ]
  },
  {
   "cell_type": "code",
   "execution_count": 4,
   "metadata": {},
   "outputs": [
    {
     "data": {
      "text/html": [
       "<div>\n",
       "<style scoped>\n",
       "    .dataframe tbody tr th:only-of-type {\n",
       "        vertical-align: middle;\n",
       "    }\n",
       "\n",
       "    .dataframe tbody tr th {\n",
       "        vertical-align: top;\n",
       "    }\n",
       "\n",
       "    .dataframe thead th {\n",
       "        text-align: right;\n",
       "    }\n",
       "</style>\n",
       "<table border=\"1\" class=\"dataframe\">\n",
       "  <thead>\n",
       "    <tr style=\"text-align: right;\">\n",
       "      <th></th>\n",
       "      <th>YEAR_MONTH</th>\n",
       "      <th>DAY_TYPE</th>\n",
       "      <th>TIME_PER_HOUR</th>\n",
       "      <th>PT_TYPE</th>\n",
       "      <th>PT_CODE</th>\n",
       "      <th>TOTAL_TAP_IN_VOLUME</th>\n",
       "      <th>TOTAL_TAP_OUT_VOLUME</th>\n",
       "    </tr>\n",
       "  </thead>\n",
       "  <tbody>\n",
       "    <tr>\n",
       "      <th>0</th>\n",
       "      <td>2020-01</td>\n",
       "      <td>WEEKENDS/HOLIDAY</td>\n",
       "      <td>6</td>\n",
       "      <td>BUS</td>\n",
       "      <td>67551</td>\n",
       "      <td>224</td>\n",
       "      <td>22</td>\n",
       "    </tr>\n",
       "    <tr>\n",
       "      <th>1</th>\n",
       "      <td>2020-01</td>\n",
       "      <td>WEEKDAY</td>\n",
       "      <td>6</td>\n",
       "      <td>BUS</td>\n",
       "      <td>67551</td>\n",
       "      <td>3922</td>\n",
       "      <td>122</td>\n",
       "    </tr>\n",
       "    <tr>\n",
       "      <th>2</th>\n",
       "      <td>2020-01</td>\n",
       "      <td>WEEKDAY</td>\n",
       "      <td>7</td>\n",
       "      <td>BUS</td>\n",
       "      <td>66541</td>\n",
       "      <td>648</td>\n",
       "      <td>364</td>\n",
       "    </tr>\n",
       "    <tr>\n",
       "      <th>3</th>\n",
       "      <td>2020-01</td>\n",
       "      <td>WEEKENDS/HOLIDAY</td>\n",
       "      <td>7</td>\n",
       "      <td>BUS</td>\n",
       "      <td>66541</td>\n",
       "      <td>127</td>\n",
       "      <td>109</td>\n",
       "    </tr>\n",
       "    <tr>\n",
       "      <th>4</th>\n",
       "      <td>2020-01</td>\n",
       "      <td>WEEKENDS/HOLIDAY</td>\n",
       "      <td>17</td>\n",
       "      <td>BUS</td>\n",
       "      <td>54209</td>\n",
       "      <td>736</td>\n",
       "      <td>325</td>\n",
       "    </tr>\n",
       "  </tbody>\n",
       "</table>\n",
       "</div>"
      ],
      "text/plain": [
       "  YEAR_MONTH          DAY_TYPE  TIME_PER_HOUR PT_TYPE  PT_CODE  \\\n",
       "0    2020-01  WEEKENDS/HOLIDAY              6     BUS    67551   \n",
       "1    2020-01           WEEKDAY              6     BUS    67551   \n",
       "2    2020-01           WEEKDAY              7     BUS    66541   \n",
       "3    2020-01  WEEKENDS/HOLIDAY              7     BUS    66541   \n",
       "4    2020-01  WEEKENDS/HOLIDAY             17     BUS    54209   \n",
       "\n",
       "   TOTAL_TAP_IN_VOLUME  TOTAL_TAP_OUT_VOLUME  \n",
       "0                  224                    22  \n",
       "1                 3922                   122  \n",
       "2                  648                   364  \n",
       "3                  127                   109  \n",
       "4                  736                   325  "
      ]
     },
     "execution_count": 4,
     "metadata": {},
     "output_type": "execute_result"
    }
   ],
   "source": [
    "fp2 = os.path.join(data_dir, \"transport_node_bus_202001.csv\")\n",
    "df2 = pd.read_csv(fp2)\n",
    "df2.head()"
   ]
  },
  {
   "cell_type": "code",
   "execution_count": 5,
   "metadata": {},
   "outputs": [
    {
     "data": {
      "text/html": [
       "<div>\n",
       "<style scoped>\n",
       "    .dataframe tbody tr th:only-of-type {\n",
       "        vertical-align: middle;\n",
       "    }\n",
       "\n",
       "    .dataframe tbody tr th {\n",
       "        vertical-align: top;\n",
       "    }\n",
       "\n",
       "    .dataframe thead th {\n",
       "        text-align: right;\n",
       "    }\n",
       "</style>\n",
       "<table border=\"1\" class=\"dataframe\">\n",
       "  <thead>\n",
       "    <tr style=\"text-align: right;\">\n",
       "      <th></th>\n",
       "      <th>TOTAL_TAP_IN_VOLUME</th>\n",
       "      <th>TOTAL_TAP_OUT_VOLUME</th>\n",
       "    </tr>\n",
       "    <tr>\n",
       "      <th>DAY_TYPE</th>\n",
       "      <th></th>\n",
       "      <th></th>\n",
       "    </tr>\n",
       "  </thead>\n",
       "  <tbody>\n",
       "    <tr>\n",
       "      <th>WEEKDAY</th>\n",
       "      <td>86118202</td>\n",
       "      <td>86131051</td>\n",
       "    </tr>\n",
       "    <tr>\n",
       "      <th>WEEKENDS/HOLIDAY</th>\n",
       "      <td>30038402</td>\n",
       "      <td>30043784</td>\n",
       "    </tr>\n",
       "  </tbody>\n",
       "</table>\n",
       "</div>"
      ],
      "text/plain": [
       "                  TOTAL_TAP_IN_VOLUME  TOTAL_TAP_OUT_VOLUME\n",
       "DAY_TYPE                                                   \n",
       "WEEKDAY                      86118202              86131051\n",
       "WEEKENDS/HOLIDAY             30038402              30043784"
      ]
     },
     "execution_count": 5,
     "metadata": {},
     "output_type": "execute_result"
    }
   ],
   "source": [
    "df2_sum = df2.groupby([\"DAY_TYPE\"])[\"TOTAL_TAP_IN_VOLUME\", \"TOTAL_TAP_OUT_VOLUME\"].sum()\n",
    "df2_sum"
   ]
  },
  {
   "cell_type": "code",
   "execution_count": 6,
   "metadata": {},
   "outputs": [
    {
     "data": {
      "text/plain": [
       "TOTAL_TAP_IN_VOLUME     3.744270e+06\n",
       "TOTAL_TAP_OUT_VOLUME    3.744828e+06\n",
       "Name: WEEKDAY, dtype: float64"
      ]
     },
     "execution_count": 6,
     "metadata": {},
     "output_type": "execute_result"
    }
   ],
   "source": [
    "df2_sum.loc[\"WEEKDAY\"]/23"
   ]
  },
  {
   "cell_type": "code",
   "execution_count": 7,
   "metadata": {},
   "outputs": [
    {
     "data": {
      "text/plain": [
       "TOTAL_TAP_IN_VOLUME     3754800.25\n",
       "TOTAL_TAP_OUT_VOLUME    3755473.00\n",
       "Name: WEEKENDS/HOLIDAY, dtype: float64"
      ]
     },
     "execution_count": 7,
     "metadata": {},
     "output_type": "execute_result"
    }
   ],
   "source": [
    "df2_sum.loc[\"WEEKENDS/HOLIDAY\"]/8"
   ]
  },
  {
   "cell_type": "code",
   "execution_count": 8,
   "metadata": {},
   "outputs": [
    {
     "data": {
      "text/plain": [
       "DAY_TYPE\n",
       "WEEKDAY             1717672614\n",
       "WEEKENDS/HOLIDAY     599115814\n",
       "Name: TOTAL_TRIPS, dtype: int64"
      ]
     },
     "execution_count": 8,
     "metadata": {},
     "output_type": "execute_result"
    }
   ],
   "source": [
    "df_sum = df.groupby([\"DAY_TYPE\"])[\"TOTAL_TRIPS\"].sum()\n",
    "df_sum"
   ]
  },
  {
   "cell_type": "code",
   "execution_count": 9,
   "metadata": {},
   "outputs": [
    {
     "data": {
      "text/plain": [
       "74681418.0"
      ]
     },
     "execution_count": 9,
     "metadata": {},
     "output_type": "execute_result"
    }
   ],
   "source": [
    "df_sum.loc[\"WEEKDAY\"]/23"
   ]
  },
  {
   "cell_type": "code",
   "execution_count": 10,
   "metadata": {},
   "outputs": [
    {
     "data": {
      "text/plain": [
       "74889476.75"
      ]
     },
     "execution_count": 10,
     "metadata": {},
     "output_type": "execute_result"
    }
   ],
   "source": [
    "df_sum.loc[\"WEEKENDS/HOLIDAY\"]/8"
   ]
  },
  {
   "cell_type": "code",
   "execution_count": 11,
   "metadata": {},
   "outputs": [
    {
     "data": {
      "text/plain": [
       "0.05014030368653243"
      ]
     },
     "execution_count": 11,
     "metadata": {},
     "output_type": "execute_result"
    }
   ],
   "source": [
    "target_val_weekday = df2_sum.loc[\"WEEKDAY\"]/23\n",
    "target_val_weekday_ave = (target_val_weekday[\"TOTAL_TAP_IN_VOLUME\"] + target_val_weekday[\"TOTAL_TAP_OUT_VOLUME\"])/2.\n",
    "large_val_weekday = df_sum.loc[\"WEEKDAY\"]/23\n",
    "\n",
    "scaling_weekday = target_val_weekday_ave / large_val_weekday\n",
    "scaling_weekday"
   ]
  },
  {
   "cell_type": "code",
   "execution_count": 12,
   "metadata": {},
   "outputs": [
    {
     "data": {
      "text/plain": [
       "0.050142380317806136"
      ]
     },
     "execution_count": 12,
     "metadata": {},
     "output_type": "execute_result"
    }
   ],
   "source": [
    "target_val_weekend = df2_sum.loc[\"WEEKENDS/HOLIDAY\"]/8\n",
    "target_val_weekend_ave = (target_val_weekend[\"TOTAL_TAP_IN_VOLUME\"] + target_val_weekend[\"TOTAL_TAP_OUT_VOLUME\"])/2.\n",
    "large_val_weekend = df_sum.loc[\"WEEKENDS/HOLIDAY\"]/8\n",
    "\n",
    "scaling_weekend = target_val_weekend_ave / large_val_weekend\n",
    "scaling_weekend"
   ]
  },
  {
   "cell_type": "code",
   "execution_count": 13,
   "metadata": {},
   "outputs": [
    {
     "data": {
      "text/html": [
       "<div>\n",
       "<style scoped>\n",
       "    .dataframe tbody tr th:only-of-type {\n",
       "        vertical-align: middle;\n",
       "    }\n",
       "\n",
       "    .dataframe tbody tr th {\n",
       "        vertical-align: top;\n",
       "    }\n",
       "\n",
       "    .dataframe thead th {\n",
       "        text-align: right;\n",
       "    }\n",
       "</style>\n",
       "<table border=\"1\" class=\"dataframe\">\n",
       "  <thead>\n",
       "    <tr style=\"text-align: right;\">\n",
       "      <th></th>\n",
       "      <th>YEAR_MONTH</th>\n",
       "      <th>DAY_TYPE</th>\n",
       "      <th>TIME_PER_HOUR</th>\n",
       "      <th>PT_TYPE</th>\n",
       "      <th>ORIGIN_PT_CODE</th>\n",
       "      <th>DESTINATION_PT_CODE</th>\n",
       "      <th>TOTAL_TRIPS</th>\n",
       "    </tr>\n",
       "  </thead>\n",
       "  <tbody>\n",
       "    <tr>\n",
       "      <th>0</th>\n",
       "      <td>2020-01</td>\n",
       "      <td>WEEKENDS/HOLIDAY</td>\n",
       "      <td>16</td>\n",
       "      <td>BUS</td>\n",
       "      <td>4168</td>\n",
       "      <td>10051</td>\n",
       "      <td>80</td>\n",
       "    </tr>\n",
       "    <tr>\n",
       "      <th>1</th>\n",
       "      <td>2020-01</td>\n",
       "      <td>WEEKDAY</td>\n",
       "      <td>16</td>\n",
       "      <td>BUS</td>\n",
       "      <td>4168</td>\n",
       "      <td>10051</td>\n",
       "      <td>60</td>\n",
       "    </tr>\n",
       "    <tr>\n",
       "      <th>2</th>\n",
       "      <td>2020-01</td>\n",
       "      <td>WEEKENDS/HOLIDAY</td>\n",
       "      <td>14</td>\n",
       "      <td>BUS</td>\n",
       "      <td>80119</td>\n",
       "      <td>90079</td>\n",
       "      <td>80</td>\n",
       "    </tr>\n",
       "    <tr>\n",
       "      <th>3</th>\n",
       "      <td>2020-01</td>\n",
       "      <td>WEEKDAY</td>\n",
       "      <td>14</td>\n",
       "      <td>BUS</td>\n",
       "      <td>80119</td>\n",
       "      <td>90079</td>\n",
       "      <td>240</td>\n",
       "    </tr>\n",
       "    <tr>\n",
       "      <th>4</th>\n",
       "      <td>2020-01</td>\n",
       "      <td>WEEKDAY</td>\n",
       "      <td>17</td>\n",
       "      <td>BUS</td>\n",
       "      <td>20281</td>\n",
       "      <td>20141</td>\n",
       "      <td>260</td>\n",
       "    </tr>\n",
       "  </tbody>\n",
       "</table>\n",
       "</div>"
      ],
      "text/plain": [
       "  YEAR_MONTH          DAY_TYPE  TIME_PER_HOUR PT_TYPE  ORIGIN_PT_CODE  \\\n",
       "0    2020-01  WEEKENDS/HOLIDAY             16     BUS            4168   \n",
       "1    2020-01           WEEKDAY             16     BUS            4168   \n",
       "2    2020-01  WEEKENDS/HOLIDAY             14     BUS           80119   \n",
       "3    2020-01           WEEKDAY             14     BUS           80119   \n",
       "4    2020-01           WEEKDAY             17     BUS           20281   \n",
       "\n",
       "   DESTINATION_PT_CODE  TOTAL_TRIPS  \n",
       "0                10051           80  \n",
       "1                10051           60  \n",
       "2                90079           80  \n",
       "3                90079          240  \n",
       "4                20141          260  "
      ]
     },
     "execution_count": 13,
     "metadata": {},
     "output_type": "execute_result"
    }
   ],
   "source": [
    "df.head()"
   ]
  },
  {
   "cell_type": "code",
   "execution_count": 14,
   "metadata": {},
   "outputs": [],
   "source": [
    "df_weekday = df[df[\"DAY_TYPE\"]==\"WEEKDAY\"]\n",
    "df_weekend = df[df[\"DAY_TYPE\"]==\"WEEKENDS/HOLIDAY\"]"
   ]
  },
  {
   "cell_type": "code",
   "execution_count": 15,
   "metadata": {},
   "outputs": [
    {
     "name": "stderr",
     "output_type": "stream",
     "text": [
      "/home/benny/.pyenv/versions/miniconda3-4.3.30/lib/python3.6/site-packages/ipykernel_launcher.py:1: SettingWithCopyWarning: \n",
      "A value is trying to be set on a copy of a slice from a DataFrame.\n",
      "Try using .loc[row_indexer,col_indexer] = value instead\n",
      "\n",
      "See the caveats in the documentation: http://pandas.pydata.org/pandas-docs/stable/indexing.html#indexing-view-versus-copy\n",
      "  \"\"\"Entry point for launching an IPython kernel.\n"
     ]
    },
    {
     "data": {
      "text/html": [
       "<div>\n",
       "<style scoped>\n",
       "    .dataframe tbody tr th:only-of-type {\n",
       "        vertical-align: middle;\n",
       "    }\n",
       "\n",
       "    .dataframe tbody tr th {\n",
       "        vertical-align: top;\n",
       "    }\n",
       "\n",
       "    .dataframe thead th {\n",
       "        text-align: right;\n",
       "    }\n",
       "</style>\n",
       "<table border=\"1\" class=\"dataframe\">\n",
       "  <thead>\n",
       "    <tr style=\"text-align: right;\">\n",
       "      <th></th>\n",
       "      <th>YEAR_MONTH</th>\n",
       "      <th>DAY_TYPE</th>\n",
       "      <th>TIME_PER_HOUR</th>\n",
       "      <th>PT_TYPE</th>\n",
       "      <th>ORIGIN_PT_CODE</th>\n",
       "      <th>DESTINATION_PT_CODE</th>\n",
       "      <th>TOTAL_TRIPS</th>\n",
       "      <th>TOTAL_TRIPS_scl</th>\n",
       "    </tr>\n",
       "  </thead>\n",
       "  <tbody>\n",
       "    <tr>\n",
       "      <th>1</th>\n",
       "      <td>2020-01</td>\n",
       "      <td>WEEKDAY</td>\n",
       "      <td>16</td>\n",
       "      <td>BUS</td>\n",
       "      <td>4168</td>\n",
       "      <td>10051</td>\n",
       "      <td>60</td>\n",
       "      <td>3.008418</td>\n",
       "    </tr>\n",
       "    <tr>\n",
       "      <th>3</th>\n",
       "      <td>2020-01</td>\n",
       "      <td>WEEKDAY</td>\n",
       "      <td>14</td>\n",
       "      <td>BUS</td>\n",
       "      <td>80119</td>\n",
       "      <td>90079</td>\n",
       "      <td>240</td>\n",
       "      <td>12.033673</td>\n",
       "    </tr>\n",
       "    <tr>\n",
       "      <th>4</th>\n",
       "      <td>2020-01</td>\n",
       "      <td>WEEKDAY</td>\n",
       "      <td>17</td>\n",
       "      <td>BUS</td>\n",
       "      <td>20281</td>\n",
       "      <td>20141</td>\n",
       "      <td>260</td>\n",
       "      <td>13.036479</td>\n",
       "    </tr>\n",
       "    <tr>\n",
       "      <th>6</th>\n",
       "      <td>2020-01</td>\n",
       "      <td>WEEKDAY</td>\n",
       "      <td>7</td>\n",
       "      <td>BUS</td>\n",
       "      <td>19051</td>\n",
       "      <td>10017</td>\n",
       "      <td>20</td>\n",
       "      <td>1.002806</td>\n",
       "    </tr>\n",
       "    <tr>\n",
       "      <th>8</th>\n",
       "      <td>2020-01</td>\n",
       "      <td>WEEKDAY</td>\n",
       "      <td>14</td>\n",
       "      <td>BUS</td>\n",
       "      <td>81049</td>\n",
       "      <td>70161</td>\n",
       "      <td>40</td>\n",
       "      <td>2.005612</td>\n",
       "    </tr>\n",
       "  </tbody>\n",
       "</table>\n",
       "</div>"
      ],
      "text/plain": [
       "  YEAR_MONTH DAY_TYPE  TIME_PER_HOUR PT_TYPE  ORIGIN_PT_CODE  \\\n",
       "1    2020-01  WEEKDAY             16     BUS            4168   \n",
       "3    2020-01  WEEKDAY             14     BUS           80119   \n",
       "4    2020-01  WEEKDAY             17     BUS           20281   \n",
       "6    2020-01  WEEKDAY              7     BUS           19051   \n",
       "8    2020-01  WEEKDAY             14     BUS           81049   \n",
       "\n",
       "   DESTINATION_PT_CODE  TOTAL_TRIPS  TOTAL_TRIPS_scl  \n",
       "1                10051           60         3.008418  \n",
       "3                90079          240        12.033673  \n",
       "4                20141          260        13.036479  \n",
       "6                10017           20         1.002806  \n",
       "8                70161           40         2.005612  "
      ]
     },
     "execution_count": 15,
     "metadata": {},
     "output_type": "execute_result"
    }
   ],
   "source": [
    "df_weekday[\"TOTAL_TRIPS_scl\"] = df_weekday[\"TOTAL_TRIPS\"] * scaling_weekday\n",
    "df_weekday.head()"
   ]
  },
  {
   "cell_type": "code",
   "execution_count": 18,
   "metadata": {},
   "outputs": [
    {
     "name": "stderr",
     "output_type": "stream",
     "text": [
      "/home/benny/.pyenv/versions/miniconda3-4.3.30/lib/python3.6/site-packages/ipykernel_launcher.py:1: SettingWithCopyWarning: \n",
      "A value is trying to be set on a copy of a slice from a DataFrame.\n",
      "Try using .loc[row_indexer,col_indexer] = value instead\n",
      "\n",
      "See the caveats in the documentation: http://pandas.pydata.org/pandas-docs/stable/indexing.html#indexing-view-versus-copy\n",
      "  \"\"\"Entry point for launching an IPython kernel.\n"
     ]
    },
    {
     "data": {
      "text/html": [
       "<div>\n",
       "<style scoped>\n",
       "    .dataframe tbody tr th:only-of-type {\n",
       "        vertical-align: middle;\n",
       "    }\n",
       "\n",
       "    .dataframe tbody tr th {\n",
       "        vertical-align: top;\n",
       "    }\n",
       "\n",
       "    .dataframe thead th {\n",
       "        text-align: right;\n",
       "    }\n",
       "</style>\n",
       "<table border=\"1\" class=\"dataframe\">\n",
       "  <thead>\n",
       "    <tr style=\"text-align: right;\">\n",
       "      <th></th>\n",
       "      <th>YEAR_MONTH</th>\n",
       "      <th>DAY_TYPE</th>\n",
       "      <th>TIME_PER_HOUR</th>\n",
       "      <th>PT_TYPE</th>\n",
       "      <th>ORIGIN_PT_CODE</th>\n",
       "      <th>DESTINATION_PT_CODE</th>\n",
       "      <th>TOTAL_TRIPS</th>\n",
       "      <th>TOTAL_TRIPS_scl</th>\n",
       "    </tr>\n",
       "  </thead>\n",
       "  <tbody>\n",
       "    <tr>\n",
       "      <th>0</th>\n",
       "      <td>2020-01</td>\n",
       "      <td>WEEKENDS/HOLIDAY</td>\n",
       "      <td>16</td>\n",
       "      <td>BUS</td>\n",
       "      <td>4168</td>\n",
       "      <td>10051</td>\n",
       "      <td>80</td>\n",
       "      <td>4.011390</td>\n",
       "    </tr>\n",
       "    <tr>\n",
       "      <th>2</th>\n",
       "      <td>2020-01</td>\n",
       "      <td>WEEKENDS/HOLIDAY</td>\n",
       "      <td>14</td>\n",
       "      <td>BUS</td>\n",
       "      <td>80119</td>\n",
       "      <td>90079</td>\n",
       "      <td>80</td>\n",
       "      <td>4.011390</td>\n",
       "    </tr>\n",
       "    <tr>\n",
       "      <th>5</th>\n",
       "      <td>2020-01</td>\n",
       "      <td>WEEKENDS/HOLIDAY</td>\n",
       "      <td>17</td>\n",
       "      <td>BUS</td>\n",
       "      <td>20281</td>\n",
       "      <td>20141</td>\n",
       "      <td>40</td>\n",
       "      <td>2.005695</td>\n",
       "    </tr>\n",
       "    <tr>\n",
       "      <th>7</th>\n",
       "      <td>2020-01</td>\n",
       "      <td>WEEKENDS/HOLIDAY</td>\n",
       "      <td>17</td>\n",
       "      <td>BUS</td>\n",
       "      <td>11169</td>\n",
       "      <td>4219</td>\n",
       "      <td>18</td>\n",
       "      <td>0.902563</td>\n",
       "    </tr>\n",
       "    <tr>\n",
       "      <th>9</th>\n",
       "      <td>2020-01</td>\n",
       "      <td>WEEKENDS/HOLIDAY</td>\n",
       "      <td>14</td>\n",
       "      <td>BUS</td>\n",
       "      <td>81049</td>\n",
       "      <td>70161</td>\n",
       "      <td>20</td>\n",
       "      <td>1.002848</td>\n",
       "    </tr>\n",
       "  </tbody>\n",
       "</table>\n",
       "</div>"
      ],
      "text/plain": [
       "  YEAR_MONTH          DAY_TYPE  TIME_PER_HOUR PT_TYPE  ORIGIN_PT_CODE  \\\n",
       "0    2020-01  WEEKENDS/HOLIDAY             16     BUS            4168   \n",
       "2    2020-01  WEEKENDS/HOLIDAY             14     BUS           80119   \n",
       "5    2020-01  WEEKENDS/HOLIDAY             17     BUS           20281   \n",
       "7    2020-01  WEEKENDS/HOLIDAY             17     BUS           11169   \n",
       "9    2020-01  WEEKENDS/HOLIDAY             14     BUS           81049   \n",
       "\n",
       "   DESTINATION_PT_CODE  TOTAL_TRIPS  TOTAL_TRIPS_scl  \n",
       "0                10051           80         4.011390  \n",
       "2                90079           80         4.011390  \n",
       "5                20141           40         2.005695  \n",
       "7                 4219           18         0.902563  \n",
       "9                70161           20         1.002848  "
      ]
     },
     "execution_count": 18,
     "metadata": {},
     "output_type": "execute_result"
    }
   ],
   "source": [
    "df_weekend[\"TOTAL_TRIPS_scl\"] = df_weekend[\"TOTAL_TRIPS\"] * scaling_weekend\n",
    "df_weekend.head()"
   ]
  },
  {
   "cell_type": "code",
   "execution_count": 23,
   "metadata": {},
   "outputs": [
    {
     "data": {
      "text/plain": [
       "(3744548.9782608678, 3744548.9782608696)"
      ]
     },
     "execution_count": 23,
     "metadata": {},
     "output_type": "execute_result"
    }
   ],
   "source": [
    "df_weekday[\"TOTAL_TRIPS_scl\"].sum()/23, target_val_weekday_ave"
   ]
  },
  {
   "cell_type": "code",
   "execution_count": 24,
   "metadata": {},
   "outputs": [
    {
     "data": {
      "text/plain": [
       "(3755136.6250000014, 3755136.625)"
      ]
     },
     "execution_count": 24,
     "metadata": {},
     "output_type": "execute_result"
    }
   ],
   "source": [
    "df_weekend[\"TOTAL_TRIPS_scl\"].sum()/8, target_val_weekend_ave"
   ]
  },
  {
   "cell_type": "code",
   "execution_count": 44,
   "metadata": {},
   "outputs": [],
   "source": [
    "temp1 = pd.DataFrame(df_weekday.groupby([\"ORIGIN_PT_CODE\", \"DESTINATION_PT_CODE\"])[\"TOTAL_TRIPS\", \"TOTAL_TRIPS_scl\"].sum())"
   ]
  },
  {
   "cell_type": "code",
   "execution_count": 45,
   "metadata": {},
   "outputs": [],
   "source": [
    "temp1[\"TOTAL_TRIPS_scl_day\"] = temp1[\"TOTAL_TRIPS_scl\"]/23\n",
    "temp1[\"TOTAL_TRIPS_day\"] = temp1[\"TOTAL_TRIPS\"]/23"
   ]
  },
  {
   "cell_type": "code",
   "execution_count": 43,
   "metadata": {},
   "outputs": [
    {
     "name": "stdout",
     "output_type": "stream",
     "text": [
      "[0, 5, 10, 15, 20, 25, 30, 35, 40, 45, 50, 55, 60, 65, 70, 75, 80, 85, 90, 95, 100]\n"
     ]
    },
    {
     "data": {
      "text/plain": [
       "<matplotlib.axes._subplots.AxesSubplot at 0x7f9972276dd8>"
      ]
     },
     "execution_count": 43,
     "metadata": {},
     "output_type": "execute_result"
    },
    {
     "data": {
      "image/png": "[encoded data removed]",
      "text/plain": [
       "<Figure size 432x288 with 1 Axes>"
      ]
     },
     "metadata": {
      "needs_background": "light"
     },
     "output_type": "display_data"
    }
   ],
   "source": [
    "bins = bins=[ i*5 for i in range(21) ]\n",
    "print(bins)\n",
    "sns.distplot(temp1[\"TOTAL_TRIPS_scl_day\"], bins=bins, kde=False)"
   ]
  },
  {
   "cell_type": "code",
   "execution_count": 46,
   "metadata": {},
   "outputs": [
    {
     "name": "stdout",
     "output_type": "stream",
     "text": [
      "[0, 5, 10, 15, 20, 25, 30, 35, 40, 45, 50, 55, 60, 65, 70, 75, 80, 85, 90, 95, 100]\n"
     ]
    },
    {
     "data": {
      "text/plain": [
       "<matplotlib.axes._subplots.AxesSubplot at 0x7f996ec7ac88>"
      ]
     },
     "execution_count": 46,
     "metadata": {},
     "output_type": "execute_result"
    },
    {
     "data": {
      "image/png": "[encoded data removed]",
      "text/plain": [
       "<Figure size 432x288 with 1 Axes>"
      ]
     },
     "metadata": {
      "needs_background": "light"
     },
     "output_type": "display_data"
    }
   ],
   "source": [
    "bins = bins=[ i*5 for i in range(21) ]\n",
    "print(bins)\n",
    "sns.distplot(temp1[\"TOTAL_TRIPS_day\"], bins=bins, kde=False)"
   ]
  },
  {
   "cell_type": "code",
   "execution_count": null,
   "metadata": {},
   "outputs": [],
   "source": []
  },
  {
   "cell_type": "code",
   "execution_count": 19,
   "metadata": {},
   "outputs": [],
   "source": [
    "df_new = df_weekday\n",
    "df_new = df_new.append(df_weekend)"
   ]
  },
  {
   "cell_type": "code",
   "execution_count": 34,
   "metadata": {},
   "outputs": [
    {
     "data": {
      "text/html": [
       "<div>\n",
       "<style scoped>\n",
       "    .dataframe tbody tr th:only-of-type {\n",
       "        vertical-align: middle;\n",
       "    }\n",
       "\n",
       "    .dataframe tbody tr th {\n",
       "        vertical-align: top;\n",
       "    }\n",
       "\n",
       "    .dataframe thead th {\n",
       "        text-align: right;\n",
       "    }\n",
       "</style>\n",
       "<table border=\"1\" class=\"dataframe\">\n",
       "  <thead>\n",
       "    <tr style=\"text-align: right;\">\n",
       "      <th></th>\n",
       "      <th>YEAR_MONTH</th>\n",
       "      <th>DAY_TYPE</th>\n",
       "      <th>TIME_PER_HOUR</th>\n",
       "      <th>PT_TYPE</th>\n",
       "      <th>ORIGIN_PT_CODE</th>\n",
       "      <th>DESTINATION_PT_CODE</th>\n",
       "      <th>TOTAL_TRIPS</th>\n",
       "      <th>TOTAL_TRIPS_scl</th>\n",
       "    </tr>\n",
       "  </thead>\n",
       "  <tbody>\n",
       "    <tr>\n",
       "      <th>1</th>\n",
       "      <td>2020-01</td>\n",
       "      <td>WEEKDAY</td>\n",
       "      <td>16</td>\n",
       "      <td>BUS</td>\n",
       "      <td>4168</td>\n",
       "      <td>10051</td>\n",
       "      <td>60</td>\n",
       "      <td>3.008418</td>\n",
       "    </tr>\n",
       "    <tr>\n",
       "      <th>3</th>\n",
       "      <td>2020-01</td>\n",
       "      <td>WEEKDAY</td>\n",
       "      <td>14</td>\n",
       "      <td>BUS</td>\n",
       "      <td>80119</td>\n",
       "      <td>90079</td>\n",
       "      <td>240</td>\n",
       "      <td>12.033673</td>\n",
       "    </tr>\n",
       "    <tr>\n",
       "      <th>4</th>\n",
       "      <td>2020-01</td>\n",
       "      <td>WEEKDAY</td>\n",
       "      <td>17</td>\n",
       "      <td>BUS</td>\n",
       "      <td>20281</td>\n",
       "      <td>20141</td>\n",
       "      <td>260</td>\n",
       "      <td>13.036479</td>\n",
       "    </tr>\n",
       "    <tr>\n",
       "      <th>6</th>\n",
       "      <td>2020-01</td>\n",
       "      <td>WEEKDAY</td>\n",
       "      <td>7</td>\n",
       "      <td>BUS</td>\n",
       "      <td>19051</td>\n",
       "      <td>10017</td>\n",
       "      <td>20</td>\n",
       "      <td>1.002806</td>\n",
       "    </tr>\n",
       "    <tr>\n",
       "      <th>8</th>\n",
       "      <td>2020-01</td>\n",
       "      <td>WEEKDAY</td>\n",
       "      <td>14</td>\n",
       "      <td>BUS</td>\n",
       "      <td>81049</td>\n",
       "      <td>70161</td>\n",
       "      <td>40</td>\n",
       "      <td>2.005612</td>\n",
       "    </tr>\n",
       "  </tbody>\n",
       "</table>\n",
       "</div>"
      ],
      "text/plain": [
       "  YEAR_MONTH DAY_TYPE  TIME_PER_HOUR PT_TYPE  ORIGIN_PT_CODE  \\\n",
       "1    2020-01  WEEKDAY             16     BUS            4168   \n",
       "3    2020-01  WEEKDAY             14     BUS           80119   \n",
       "4    2020-01  WEEKDAY             17     BUS           20281   \n",
       "6    2020-01  WEEKDAY              7     BUS           19051   \n",
       "8    2020-01  WEEKDAY             14     BUS           81049   \n",
       "\n",
       "   DESTINATION_PT_CODE  TOTAL_TRIPS  TOTAL_TRIPS_scl  \n",
       "1                10051           60         3.008418  \n",
       "3                90079          240        12.033673  \n",
       "4                20141          260        13.036479  \n",
       "6                10017           20         1.002806  \n",
       "8                70161           40         2.005612  "
      ]
     },
     "execution_count": 34,
     "metadata": {},
     "output_type": "execute_result"
    }
   ],
   "source": [
    "df_new.head()"
   ]
  },
  {
   "cell_type": "code",
   "execution_count": 35,
   "metadata": {},
   "outputs": [
    {
     "data": {
      "text/html": [
       "<div>\n",
       "<style scoped>\n",
       "    .dataframe tbody tr th:only-of-type {\n",
       "        vertical-align: middle;\n",
       "    }\n",
       "\n",
       "    .dataframe tbody tr th {\n",
       "        vertical-align: top;\n",
       "    }\n",
       "\n",
       "    .dataframe thead th {\n",
       "        text-align: right;\n",
       "    }\n",
       "</style>\n",
       "<table border=\"1\" class=\"dataframe\">\n",
       "  <thead>\n",
       "    <tr style=\"text-align: right;\">\n",
       "      <th></th>\n",
       "      <th>YEAR_MONTH</th>\n",
       "      <th>DAY_TYPE</th>\n",
       "      <th>TIME_PER_HOUR</th>\n",
       "      <th>PT_TYPE</th>\n",
       "      <th>ORIGIN_PT_CODE</th>\n",
       "      <th>DESTINATION_PT_CODE</th>\n",
       "      <th>TOTAL_TRIPS_scl</th>\n",
       "    </tr>\n",
       "  </thead>\n",
       "  <tbody>\n",
       "    <tr>\n",
       "      <th>1</th>\n",
       "      <td>2020-01</td>\n",
       "      <td>WEEKDAY</td>\n",
       "      <td>16</td>\n",
       "      <td>BUS</td>\n",
       "      <td>4168</td>\n",
       "      <td>10051</td>\n",
       "      <td>3.008418</td>\n",
       "    </tr>\n",
       "    <tr>\n",
       "      <th>3</th>\n",
       "      <td>2020-01</td>\n",
       "      <td>WEEKDAY</td>\n",
       "      <td>14</td>\n",
       "      <td>BUS</td>\n",
       "      <td>80119</td>\n",
       "      <td>90079</td>\n",
       "      <td>12.033673</td>\n",
       "    </tr>\n",
       "    <tr>\n",
       "      <th>4</th>\n",
       "      <td>2020-01</td>\n",
       "      <td>WEEKDAY</td>\n",
       "      <td>17</td>\n",
       "      <td>BUS</td>\n",
       "      <td>20281</td>\n",
       "      <td>20141</td>\n",
       "      <td>13.036479</td>\n",
       "    </tr>\n",
       "    <tr>\n",
       "      <th>6</th>\n",
       "      <td>2020-01</td>\n",
       "      <td>WEEKDAY</td>\n",
       "      <td>7</td>\n",
       "      <td>BUS</td>\n",
       "      <td>19051</td>\n",
       "      <td>10017</td>\n",
       "      <td>1.002806</td>\n",
       "    </tr>\n",
       "    <tr>\n",
       "      <th>8</th>\n",
       "      <td>2020-01</td>\n",
       "      <td>WEEKDAY</td>\n",
       "      <td>14</td>\n",
       "      <td>BUS</td>\n",
       "      <td>81049</td>\n",
       "      <td>70161</td>\n",
       "      <td>2.005612</td>\n",
       "    </tr>\n",
       "  </tbody>\n",
       "</table>\n",
       "</div>"
      ],
      "text/plain": [
       "  YEAR_MONTH DAY_TYPE  TIME_PER_HOUR PT_TYPE  ORIGIN_PT_CODE  \\\n",
       "1    2020-01  WEEKDAY             16     BUS            4168   \n",
       "3    2020-01  WEEKDAY             14     BUS           80119   \n",
       "4    2020-01  WEEKDAY             17     BUS           20281   \n",
       "6    2020-01  WEEKDAY              7     BUS           19051   \n",
       "8    2020-01  WEEKDAY             14     BUS           81049   \n",
       "\n",
       "   DESTINATION_PT_CODE  TOTAL_TRIPS_scl  \n",
       "1                10051         3.008418  \n",
       "3                90079        12.033673  \n",
       "4                20141        13.036479  \n",
       "6                10017         1.002806  \n",
       "8                70161         2.005612  "
      ]
     },
     "execution_count": 35,
     "metadata": {},
     "output_type": "execute_result"
    }
   ],
   "source": [
    "df_new = df_new[[ col for col in df_new if not(col==\"TOTAL_TRIPS\")]]\n",
    "df_new.head()"
   ]
  },
  {
   "cell_type": "code",
   "execution_count": 36,
   "metadata": {},
   "outputs": [
    {
     "data": {
      "text/html": [
       "<div>\n",
       "<style scoped>\n",
       "    .dataframe tbody tr th:only-of-type {\n",
       "        vertical-align: middle;\n",
       "    }\n",
       "\n",
       "    .dataframe tbody tr th {\n",
       "        vertical-align: top;\n",
       "    }\n",
       "\n",
       "    .dataframe thead th {\n",
       "        text-align: right;\n",
       "    }\n",
       "</style>\n",
       "<table border=\"1\" class=\"dataframe\">\n",
       "  <thead>\n",
       "    <tr style=\"text-align: right;\">\n",
       "      <th></th>\n",
       "      <th>YEAR_MONTH</th>\n",
       "      <th>DAY_TYPE</th>\n",
       "      <th>TIME_PER_HOUR</th>\n",
       "      <th>PT_TYPE</th>\n",
       "      <th>ORIGIN_PT_CODE</th>\n",
       "      <th>DESTINATION_PT_CODE</th>\n",
       "      <th>TOTAL_TRIPS</th>\n",
       "    </tr>\n",
       "  </thead>\n",
       "  <tbody>\n",
       "    <tr>\n",
       "      <th>1</th>\n",
       "      <td>2020-01</td>\n",
       "      <td>WEEKDAY</td>\n",
       "      <td>16</td>\n",
       "      <td>BUS</td>\n",
       "      <td>4168</td>\n",
       "      <td>10051</td>\n",
       "      <td>3.008418</td>\n",
       "    </tr>\n",
       "    <tr>\n",
       "      <th>3</th>\n",
       "      <td>2020-01</td>\n",
       "      <td>WEEKDAY</td>\n",
       "      <td>14</td>\n",
       "      <td>BUS</td>\n",
       "      <td>80119</td>\n",
       "      <td>90079</td>\n",
       "      <td>12.033673</td>\n",
       "    </tr>\n",
       "    <tr>\n",
       "      <th>4</th>\n",
       "      <td>2020-01</td>\n",
       "      <td>WEEKDAY</td>\n",
       "      <td>17</td>\n",
       "      <td>BUS</td>\n",
       "      <td>20281</td>\n",
       "      <td>20141</td>\n",
       "      <td>13.036479</td>\n",
       "    </tr>\n",
       "    <tr>\n",
       "      <th>6</th>\n",
       "      <td>2020-01</td>\n",
       "      <td>WEEKDAY</td>\n",
       "      <td>7</td>\n",
       "      <td>BUS</td>\n",
       "      <td>19051</td>\n",
       "      <td>10017</td>\n",
       "      <td>1.002806</td>\n",
       "    </tr>\n",
       "    <tr>\n",
       "      <th>8</th>\n",
       "      <td>2020-01</td>\n",
       "      <td>WEEKDAY</td>\n",
       "      <td>14</td>\n",
       "      <td>BUS</td>\n",
       "      <td>81049</td>\n",
       "      <td>70161</td>\n",
       "      <td>2.005612</td>\n",
       "    </tr>\n",
       "  </tbody>\n",
       "</table>\n",
       "</div>"
      ],
      "text/plain": [
       "  YEAR_MONTH DAY_TYPE  TIME_PER_HOUR PT_TYPE  ORIGIN_PT_CODE  \\\n",
       "1    2020-01  WEEKDAY             16     BUS            4168   \n",
       "3    2020-01  WEEKDAY             14     BUS           80119   \n",
       "4    2020-01  WEEKDAY             17     BUS           20281   \n",
       "6    2020-01  WEEKDAY              7     BUS           19051   \n",
       "8    2020-01  WEEKDAY             14     BUS           81049   \n",
       "\n",
       "   DESTINATION_PT_CODE  TOTAL_TRIPS  \n",
       "1                10051     3.008418  \n",
       "3                90079    12.033673  \n",
       "4                20141    13.036479  \n",
       "6                10017     1.002806  \n",
       "8                70161     2.005612  "
      ]
     },
     "execution_count": 36,
     "metadata": {},
     "output_type": "execute_result"
    }
   ],
   "source": [
    "df_new = df_new.rename(columns={\"TOTAL_TRIPS_scl\": \"TOTAL_TRIPS\"})\n",
    "df_new.head()"
   ]
  },
  {
   "cell_type": "code",
   "execution_count": 37,
   "metadata": {},
   "outputs": [],
   "source": [
    "fp_new = os.path.join(data_dir, \"origin_destination_bus_202001_scaleddown.csv.xz\")\n",
    "df_new.to_csv(fp_new)"
   ]
  },
  {
   "cell_type": "code",
   "execution_count": 38,
   "metadata": {},
   "outputs": [
    {
     "data": {
      "text/plain": [
       "(6835012, 6835012)"
      ]
     },
     "execution_count": 38,
     "metadata": {},
     "output_type": "execute_result"
    }
   ],
   "source": [
    "len(df), len(df_new)"
   ]
  },
  {
   "cell_type": "code",
   "execution_count": null,
   "metadata": {},
   "outputs": [],
   "source": []
  }
 ],
 "metadata": {
  "kernelspec": {
   "display_name": "Python 3",
   "language": "python",
   "name": "python3"
  },
  "language_info": {
   "codemirror_mode": {
    "name": "ipython",
    "version": 3
   },
   "file_extension": ".py",
   "mimetype": "text/x-python",
   "name": "python",
   "nbconvert_exporter": "python",
   "pygments_lexer": "ipython3",
   "version": "3.6.8"
  }
 },
 "nbformat": 4,
 "nbformat_minor": 4
}
