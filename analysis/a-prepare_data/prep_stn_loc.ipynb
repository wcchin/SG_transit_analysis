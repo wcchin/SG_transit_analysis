{
 "cells": [
  {
   "cell_type": "code",
   "execution_count": 1,
   "metadata": {},
   "outputs": [],
   "source": [
    "import os\n",
    "import pandas as pd\n",
    "import geopandas as gpd\n",
    "import matplotlib.pyplot as plt\n",
    "import seaborn as sns\n",
    "from shapely.geometry import Point"
   ]
  },
  {
   "cell_type": "code",
   "execution_count": 2,
   "metadata": {},
   "outputs": [
    {
     "data": {
      "text/plain": [
       "['MRTLRTStnPtt.dbf',\n",
       " 'MRTLRTStnPtt.sbn',\n",
       " 'MRTLRTStnPtt.sbx',\n",
       " 'MRTLRTStnPtt.prj',\n",
       " 'MRTLRTStnPtt.shp',\n",
       " 'MRTLRTStnPtt.shx',\n",
       " 'MRTLRTStnPtt.cpg']"
      ]
     },
     "execution_count": 2,
     "metadata": {},
     "output_type": "execute_result"
    }
   ],
   "source": [
    "data_dir = \"../data\"\n",
    "ts_dir = os.path.join(data_dir, \"TrainStation\")\n",
    "os.listdir(ts_dir)"
   ]
  },
  {
   "cell_type": "code",
   "execution_count": 3,
   "metadata": {},
   "outputs": [],
   "source": [
    "stn = gpd.read_file(os.path.join(ts_dir, \"MRTLRTStnPtt.shp\"))"
   ]
  },
  {
   "cell_type": "code",
   "execution_count": 4,
   "metadata": {},
   "outputs": [
    {
     "data": {
      "text/html": [
       "<div>\n",
       "<style scoped>\n",
       "    .dataframe tbody tr th:only-of-type {\n",
       "        vertical-align: middle;\n",
       "    }\n",
       "\n",
       "    .dataframe tbody tr th {\n",
       "        vertical-align: top;\n",
       "    }\n",
       "\n",
       "    .dataframe thead th {\n",
       "        text-align: right;\n",
       "    }\n",
       "</style>\n",
       "<table border=\"1\" class=\"dataframe\">\n",
       "  <thead>\n",
       "    <tr style=\"text-align: right;\">\n",
       "      <th></th>\n",
       "      <th>OBJECTID</th>\n",
       "      <th>STN_NAME</th>\n",
       "      <th>STN_NO</th>\n",
       "      <th>geometry</th>\n",
       "    </tr>\n",
       "  </thead>\n",
       "  <tbody>\n",
       "    <tr>\n",
       "      <th>0</th>\n",
       "      <td>1</td>\n",
       "      <td>EUNOS MRT STATION</td>\n",
       "      <td>EW7</td>\n",
       "      <td>POINT (35782.955 33560.078)</td>\n",
       "    </tr>\n",
       "    <tr>\n",
       "      <th>1</th>\n",
       "      <td>2</td>\n",
       "      <td>CHINESE GARDEN MRT STATION</td>\n",
       "      <td>EW25</td>\n",
       "      <td>POINT (16790.747 36056.302)</td>\n",
       "    </tr>\n",
       "    <tr>\n",
       "      <th>2</th>\n",
       "      <td>3</td>\n",
       "      <td>KHATIB MRT STATION</td>\n",
       "      <td>NS14</td>\n",
       "      <td>POINT (27962.311 44352.568)</td>\n",
       "    </tr>\n",
       "    <tr>\n",
       "      <th>3</th>\n",
       "      <td>4</td>\n",
       "      <td>KRANJI MRT STATION</td>\n",
       "      <td>NS7</td>\n",
       "      <td>POINT (20081.697 45214.548)</td>\n",
       "    </tr>\n",
       "    <tr>\n",
       "      <th>4</th>\n",
       "      <td>5</td>\n",
       "      <td>REDHILL MRT STATION</td>\n",
       "      <td>EW18</td>\n",
       "      <td>POINT (26163.478 30218.820)</td>\n",
       "    </tr>\n",
       "  </tbody>\n",
       "</table>\n",
       "</div>"
      ],
      "text/plain": [
       "   OBJECTID                    STN_NAME STN_NO                     geometry\n",
       "0         1           EUNOS MRT STATION    EW7  POINT (35782.955 33560.078)\n",
       "1         2  CHINESE GARDEN MRT STATION   EW25  POINT (16790.747 36056.302)\n",
       "2         3          KHATIB MRT STATION   NS14  POINT (27962.311 44352.568)\n",
       "3         4          KRANJI MRT STATION    NS7  POINT (20081.697 45214.548)\n",
       "4         5         REDHILL MRT STATION   EW18  POINT (26163.478 30218.820)"
      ]
     },
     "execution_count": 4,
     "metadata": {},
     "output_type": "execute_result"
    }
   ],
   "source": [
    "stn.head()"
   ]
  },
  {
   "cell_type": "code",
   "execution_count": 6,
   "metadata": {},
   "outputs": [],
   "source": [
    "stn_no = stn[\"STN_NO\"].tolist()"
   ]
  },
  {
   "cell_type": "code",
   "execution_count": 12,
   "metadata": {},
   "outputs": [
    {
     "name": "stdout",
     "output_type": "stream",
     "text": [
      "['BP1', 'BP10', 'BP11', 'BP12', 'BP13', 'BP14', 'BP2', 'BP3', 'BP4', 'BP5', 'BP6', 'BP7', 'BP8', 'BP9', 'CC1', 'CC10', 'CC11', 'CC12', 'CC13', 'CC14', 'CC15', 'CC16', 'CC17', 'CC18', 'CC19', 'CC2', 'CC20', 'CC21', 'CC22', 'CC23', 'CC24', 'CC25', 'CC26', 'CC27', 'CC28', 'CC3', 'CC4', 'CC5', 'CC6', 'CC7', 'CC8', 'CC9', 'CE2', 'CG1', 'CG2', 'DT1', 'DT10', 'DT11', 'DT12', 'DT13', 'DT14', 'DT15', 'DT16 / CE1', 'DT17', 'DT18', 'DT19', 'DT2', 'DT20', 'DT21', 'DT22', 'DT23', 'DT24', 'DT25', 'DT26', 'DT27', 'DT28', 'DT29', 'DT3', 'DT30', 'DT31', 'DT32', 'DT33', 'DT34', 'DT35', 'DT5', 'DT6', 'DT7', 'DT8', 'DT9', 'EW1', 'EW10', 'EW11', 'EW12', 'EW13 / NS25', 'EW14 / NS26', 'EW15', 'EW16', 'EW17', 'EW18', 'EW19', 'EW2', 'EW20', 'EW21', 'EW22', 'EW23', 'EW24 / NS1', 'EW25', 'EW26', 'EW27', 'EW28', 'EW29', 'EW3', 'EW30', 'EW31', 'EW32', 'EW33', 'EW4', 'EW5', 'EW6', 'EW7', 'EW8', 'EW9', 'NE1 / CC29', 'NE10', 'NE11', 'NE12', 'NE13', 'NE14', 'NE15', 'NE16', 'NE17', 'NE3', 'NE4', 'NE5', 'NE6', 'NE7', 'NE8', 'NE9', 'NS10', 'NS11', 'NS13', 'NS14', 'NS15', 'NS16', 'NS16', 'NS17', 'NS18', 'NS19', 'NS2', 'NS20', 'NS21', 'NS22', 'NS23', 'NS24', 'NS27', 'NS28', 'NS3', 'NS4', 'NS5', 'NS7', 'NS8', 'NS9', 'PE1', 'PE2', 'PE3', 'PE4', 'PE5', 'PE6', 'PE7', 'PTC', 'PW1', 'PW2', 'PW3', 'PW4', 'PW5', 'PW6', 'PW7', 'SE1', 'SE2', 'SE3', 'SE4', 'SE5', 'STC', 'SW1', 'SW2', 'SW3', 'SW4', 'SW5', 'SW6', 'SW7', 'SW8', 'TE2', 'TE3']\n"
     ]
    }
   ],
   "source": [
    "print(sorted(stn_no))"
   ]
  },
  {
   "cell_type": "code",
   "execution_count": 13,
   "metadata": {},
   "outputs": [
    {
     "data": {
      "text/plain": [
       "188"
      ]
     },
     "execution_count": 13,
     "metadata": {},
     "output_type": "execute_result"
    }
   ],
   "source": [
    "stn_no2 = []\n",
    "for st in stn_no:\n",
    "    if \" / \" in st:\n",
    "        sts = st.split(\" / \")\n",
    "        for s in sts:\n",
    "            stn_no2.append(s)\n",
    "    else:\n",
    "        stn_no2.append(st)\n",
    "len(stn_no2)"
   ]
  },
  {
   "cell_type": "code",
   "execution_count": 14,
   "metadata": {},
   "outputs": [
    {
     "name": "stdout",
     "output_type": "stream",
     "text": [
      "['BP1', 'BP10', 'BP11', 'BP12', 'BP13', 'BP14', 'BP2', 'BP3', 'BP4', 'BP5', 'BP6', 'BP7', 'BP8', 'BP9', 'CC1', 'CC10', 'CC11', 'CC12', 'CC13', 'CC14', 'CC15', 'CC16', 'CC17', 'CC18', 'CC19', 'CC2', 'CC20', 'CC21', 'CC22', 'CC23', 'CC24', 'CC25', 'CC26', 'CC27', 'CC28', 'CC29', 'CC3', 'CC4', 'CC5', 'CC6', 'CC7', 'CC8', 'CC9', 'CE1', 'CE2', 'CG1', 'CG2', 'DT1', 'DT10', 'DT11', 'DT12', 'DT13', 'DT14', 'DT15', 'DT16', 'DT17', 'DT18', 'DT19', 'DT2', 'DT20', 'DT21', 'DT22', 'DT23', 'DT24', 'DT25', 'DT26', 'DT27', 'DT28', 'DT29', 'DT3', 'DT30', 'DT31', 'DT32', 'DT33', 'DT34', 'DT35', 'DT5', 'DT6', 'DT7', 'DT8', 'DT9', 'EW1', 'EW10', 'EW11', 'EW12', 'EW13', 'EW14', 'EW15', 'EW16', 'EW17', 'EW18', 'EW19', 'EW2', 'EW20', 'EW21', 'EW22', 'EW23', 'EW24', 'EW25', 'EW26', 'EW27', 'EW28', 'EW29', 'EW3', 'EW30', 'EW31', 'EW32', 'EW33', 'EW4', 'EW5', 'EW6', 'EW7', 'EW8', 'EW9', 'NE1', 'NE10', 'NE11', 'NE12', 'NE13', 'NE14', 'NE15', 'NE16', 'NE17', 'NE3', 'NE4', 'NE5', 'NE6', 'NE7', 'NE8', 'NE9', 'NS1', 'NS10', 'NS11', 'NS13', 'NS14', 'NS15', 'NS16', 'NS16', 'NS17', 'NS18', 'NS19', 'NS2', 'NS20', 'NS21', 'NS22', 'NS23', 'NS24', 'NS25', 'NS26', 'NS27', 'NS28', 'NS3', 'NS4', 'NS5', 'NS7', 'NS8', 'NS9', 'PE1', 'PE2', 'PE3', 'PE4', 'PE5', 'PE6', 'PE7', 'PTC', 'PW1', 'PW2', 'PW3', 'PW4', 'PW5', 'PW6', 'PW7', 'SE1', 'SE2', 'SE3', 'SE4', 'SE5', 'STC', 'SW1', 'SW2', 'SW3', 'SW4', 'SW5', 'SW6', 'SW7', 'SW8', 'TE2', 'TE3']\n"
     ]
    }
   ],
   "source": [
    "print(sorted(stn_no2))"
   ]
  },
  {
   "cell_type": "code",
   "execution_count": null,
   "metadata": {},
   "outputs": [],
   "source": []
  },
  {
   "cell_type": "code",
   "execution_count": null,
   "metadata": {},
   "outputs": [],
   "source": []
  },
  {
   "cell_type": "code",
   "execution_count": null,
   "metadata": {},
   "outputs": [],
   "source": [
    "#manually change DT16 and CE1 to DT16-CE1\n",
    "#manually change NE1 and CC29 to NE1-CC29\n",
    "# in geany, replace"
   ]
  },
  {
   "cell_type": "code",
   "execution_count": 38,
   "metadata": {},
   "outputs": [
    {
     "data": {
      "text/html": [
       "<div>\n",
       "<style scoped>\n",
       "    .dataframe tbody tr th:only-of-type {\n",
       "        vertical-align: middle;\n",
       "    }\n",
       "\n",
       "    .dataframe tbody tr th {\n",
       "        vertical-align: top;\n",
       "    }\n",
       "\n",
       "    .dataframe thead th {\n",
       "        text-align: right;\n",
       "    }\n",
       "</style>\n",
       "<table border=\"1\" class=\"dataframe\">\n",
       "  <thead>\n",
       "    <tr style=\"text-align: right;\">\n",
       "      <th></th>\n",
       "      <th>YEAR_MONTH</th>\n",
       "      <th>DAY_TYPE</th>\n",
       "      <th>TIME_PER_HOUR</th>\n",
       "      <th>PT_TYPE</th>\n",
       "      <th>ORIGIN_PT_CODE</th>\n",
       "      <th>DESTINATION_PT_CODE</th>\n",
       "      <th>TOTAL_TRIPS</th>\n",
       "    </tr>\n",
       "  </thead>\n",
       "  <tbody>\n",
       "    <tr>\n",
       "      <th>0</th>\n",
       "      <td>2019-12</td>\n",
       "      <td>WEEKENDS/HOLIDAY</td>\n",
       "      <td>9</td>\n",
       "      <td>TRAIN</td>\n",
       "      <td>EW32</td>\n",
       "      <td>DT24</td>\n",
       "      <td>1</td>\n",
       "    </tr>\n",
       "    <tr>\n",
       "      <th>1</th>\n",
       "      <td>2019-12</td>\n",
       "      <td>WEEKDAY</td>\n",
       "      <td>6</td>\n",
       "      <td>TRAIN</td>\n",
       "      <td>BP4</td>\n",
       "      <td>EW31</td>\n",
       "      <td>6</td>\n",
       "    </tr>\n",
       "    <tr>\n",
       "      <th>2</th>\n",
       "      <td>2019-12</td>\n",
       "      <td>WEEKENDS/HOLIDAY</td>\n",
       "      <td>7</td>\n",
       "      <td>TRAIN</td>\n",
       "      <td>DT26</td>\n",
       "      <td>CC26</td>\n",
       "      <td>1</td>\n",
       "    </tr>\n",
       "    <tr>\n",
       "      <th>3</th>\n",
       "      <td>2019-12</td>\n",
       "      <td>WEEKDAY</td>\n",
       "      <td>7</td>\n",
       "      <td>TRAIN</td>\n",
       "      <td>CC26</td>\n",
       "      <td>DT26</td>\n",
       "      <td>1</td>\n",
       "    </tr>\n",
       "    <tr>\n",
       "      <th>4</th>\n",
       "      <td>2019-12</td>\n",
       "      <td>WEEKENDS/HOLIDAY</td>\n",
       "      <td>7</td>\n",
       "      <td>TRAIN</td>\n",
       "      <td>CC26</td>\n",
       "      <td>DT26</td>\n",
       "      <td>1</td>\n",
       "    </tr>\n",
       "  </tbody>\n",
       "</table>\n",
       "</div>"
      ],
      "text/plain": [
       "  YEAR_MONTH          DAY_TYPE  TIME_PER_HOUR PT_TYPE ORIGIN_PT_CODE  \\\n",
       "0    2019-12  WEEKENDS/HOLIDAY              9   TRAIN           EW32   \n",
       "1    2019-12           WEEKDAY              6   TRAIN            BP4   \n",
       "2    2019-12  WEEKENDS/HOLIDAY              7   TRAIN           DT26   \n",
       "3    2019-12           WEEKDAY              7   TRAIN           CC26   \n",
       "4    2019-12  WEEKENDS/HOLIDAY              7   TRAIN           CC26   \n",
       "\n",
       "  DESTINATION_PT_CODE  TOTAL_TRIPS  \n",
       "0                DT24            1  \n",
       "1                EW31            6  \n",
       "2                CC26            1  \n",
       "3                DT26            1  \n",
       "4                DT26            1  "
      ]
     },
     "execution_count": 38,
     "metadata": {},
     "output_type": "execute_result"
    }
   ],
   "source": [
    "df = pd.read_csv(os.path.join(data_dir, \"origin_destination_train_201912-b.csv\"))\n",
    "df.head()"
   ]
  },
  {
   "cell_type": "code",
   "execution_count": 39,
   "metadata": {},
   "outputs": [],
   "source": [
    "origin = df[\"ORIGIN_PT_CODE\"].tolist()\n",
    "destin = df[\"DESTINATION_PT_CODE\"].tolist()\n",
    "\n",
    "for i in list(set(origin)):\n",
    "    if \"-\" in i:\n",
    "        ii = i.split(\"-\")\n",
    "        for ix in ii:\n",
    "            if not(ix in stn_no2):\n",
    "                print(i, ix)\n",
    "    else:        \n",
    "        if not(i in stn_no2):\n",
    "            print(i)\n",
    "\n",
    "for i in list(set(destin)):\n",
    "    if \"-\" in i:\n",
    "        ii = i.split(\"-\")\n",
    "        for ix in ii:\n",
    "            if not(ix in stn_no2):\n",
    "                print(i, ix)\n",
    "    else:        \n",
    "        if not(i in stn_no2):\n",
    "            print(i)"
   ]
  },
  {
   "cell_type": "markdown",
   "metadata": {},
   "source": [
    "so, all pt_code is in the stn shapefile, but it may in different order when a station has two code"
   ]
  },
  {
   "cell_type": "code",
   "execution_count": 44,
   "metadata": {},
   "outputs": [
    {
     "name": "stdout",
     "output_type": "stream",
     "text": [
      "['EW24', 'NS1']\n",
      "['EW13', 'NS25']\n",
      "['NE1', 'CC29']\n",
      "['DT16', 'CE1']\n",
      "['EW14', 'NS26']\n"
     ]
    },
    {
     "data": {
      "text/plain": [
       "183"
      ]
     },
     "execution_count": 44,
     "metadata": {},
     "output_type": "execute_result"
    }
   ],
   "source": [
    "stn_no3 = []\n",
    "for st in stn_no:\n",
    "    if \" / \" in st:\n",
    "        sts = st.split(\" / \")\n",
    "        print(sts)\n",
    "        stn_no3.append(sts[0])\n",
    "    else:\n",
    "        stn_no3.append(st)\n",
    "len(stn_no3)"
   ]
  },
  {
   "cell_type": "code",
   "execution_count": 42,
   "metadata": {},
   "outputs": [],
   "source": [
    "for i in list(set(origin)):\n",
    "    if \"-\" in i:\n",
    "        #print(i)\n",
    "        ii = i.split(\"-\")\n",
    "        #print(ii)\n",
    "        if not(ii[0] in stn_no3):\n",
    "            print(i, ii[0])\n",
    "    else:        \n",
    "        if not(i in stn_no3):\n",
    "            print(i)\n",
    "            \n",
    "for i in list(set(destin)):\n",
    "    if \"-\" in i:\n",
    "        ii = i.split(\"-\")\n",
    "        #print(ii)\n",
    "        if not(ii[0] in stn_no3):\n",
    "            print(i, ii[0])\n",
    "    else:        \n",
    "        if not(i in stn_no3):\n",
    "            print(i)"
   ]
  },
  {
   "cell_type": "markdown",
   "metadata": {},
   "source": [
    "use the first code when there is more than one, can match"
   ]
  },
  {
   "cell_type": "code",
   "execution_count": null,
   "metadata": {},
   "outputs": [],
   "source": []
  },
  {
   "cell_type": "code",
   "execution_count": null,
   "metadata": {},
   "outputs": [],
   "source": []
  },
  {
   "cell_type": "code",
   "execution_count": null,
   "metadata": {},
   "outputs": [],
   "source": []
  },
  {
   "cell_type": "code",
   "execution_count": null,
   "metadata": {},
   "outputs": [],
   "source": []
  },
  {
   "cell_type": "code",
   "execution_count": 17,
   "metadata": {},
   "outputs": [
    {
     "data": {
      "text/plain": [
       "{'proj': 'tmerc',\n",
       " 'lat_0': 1.366666666666667,\n",
       " 'lon_0': 103.8333333333333,\n",
       " 'k': 1,\n",
       " 'x_0': 28001.642,\n",
       " 'y_0': 38744.572,\n",
       " 'datum': 'WGS84',\n",
       " 'units': 'm',\n",
       " 'no_defs': True}"
      ]
     },
     "execution_count": 17,
     "metadata": {},
     "output_type": "execute_result"
    }
   ],
   "source": [
    "stn.crs"
   ]
  },
  {
   "cell_type": "code",
   "execution_count": 18,
   "metadata": {},
   "outputs": [
    {
     "data": {
      "text/plain": [
       "<matplotlib.axes._subplots.AxesSubplot at 0x7f60b2e07160>"
      ]
     },
     "execution_count": 18,
     "metadata": {},
     "output_type": "execute_result"
    },
    {
     "data": {
      "image/png": "[encoded data removed]",
      "text/plain": [
       "<Figure size 432x288 with 1 Axes>"
      ]
     },
     "metadata": {
      "needs_background": "light"
     },
     "output_type": "display_data"
    }
   ],
   "source": [
    "stn.plot()"
   ]
  },
  {
   "cell_type": "code",
   "execution_count": 43,
   "metadata": {},
   "outputs": [
    {
     "data": {
      "text/html": [
       "<div>\n",
       "<style scoped>\n",
       "    .dataframe tbody tr th:only-of-type {\n",
       "        vertical-align: middle;\n",
       "    }\n",
       "\n",
       "    .dataframe tbody tr th {\n",
       "        vertical-align: top;\n",
       "    }\n",
       "\n",
       "    .dataframe thead th {\n",
       "        text-align: right;\n",
       "    }\n",
       "</style>\n",
       "<table border=\"1\" class=\"dataframe\">\n",
       "  <thead>\n",
       "    <tr style=\"text-align: right;\">\n",
       "      <th></th>\n",
       "      <th>OBJECTID</th>\n",
       "      <th>STN_NAME</th>\n",
       "      <th>STN_NO</th>\n",
       "      <th>geometry</th>\n",
       "    </tr>\n",
       "  </thead>\n",
       "  <tbody>\n",
       "    <tr>\n",
       "      <th>0</th>\n",
       "      <td>1</td>\n",
       "      <td>EUNOS MRT STATION</td>\n",
       "      <td>EW7</td>\n",
       "      <td>POINT (35782.955 33560.078)</td>\n",
       "    </tr>\n",
       "    <tr>\n",
       "      <th>1</th>\n",
       "      <td>2</td>\n",
       "      <td>CHINESE GARDEN MRT STATION</td>\n",
       "      <td>EW25</td>\n",
       "      <td>POINT (16790.747 36056.302)</td>\n",
       "    </tr>\n",
       "    <tr>\n",
       "      <th>2</th>\n",
       "      <td>3</td>\n",
       "      <td>KHATIB MRT STATION</td>\n",
       "      <td>NS14</td>\n",
       "      <td>POINT (27962.311 44352.568)</td>\n",
       "    </tr>\n",
       "    <tr>\n",
       "      <th>3</th>\n",
       "      <td>4</td>\n",
       "      <td>KRANJI MRT STATION</td>\n",
       "      <td>NS7</td>\n",
       "      <td>POINT (20081.697 45214.548)</td>\n",
       "    </tr>\n",
       "    <tr>\n",
       "      <th>4</th>\n",
       "      <td>5</td>\n",
       "      <td>REDHILL MRT STATION</td>\n",
       "      <td>EW18</td>\n",
       "      <td>POINT (26163.478 30218.820)</td>\n",
       "    </tr>\n",
       "  </tbody>\n",
       "</table>\n",
       "</div>"
      ],
      "text/plain": [
       "   OBJECTID                    STN_NAME STN_NO                     geometry\n",
       "0         1           EUNOS MRT STATION    EW7  POINT (35782.955 33560.078)\n",
       "1         2  CHINESE GARDEN MRT STATION   EW25  POINT (16790.747 36056.302)\n",
       "2         3          KHATIB MRT STATION   NS14  POINT (27962.311 44352.568)\n",
       "3         4          KRANJI MRT STATION    NS7  POINT (20081.697 45214.548)\n",
       "4         5         REDHILL MRT STATION   EW18  POINT (26163.478 30218.820)"
      ]
     },
     "execution_count": 43,
     "metadata": {},
     "output_type": "execute_result"
    }
   ],
   "source": [
    "stn.head()"
   ]
  },
  {
   "cell_type": "code",
   "execution_count": 55,
   "metadata": {},
   "outputs": [
    {
     "data": {
      "text/plain": [
       "183"
      ]
     },
     "execution_count": 55,
     "metadata": {},
     "output_type": "execute_result"
    }
   ],
   "source": [
    "stn_code = []\n",
    "for st in stn[\"STN_NO\"].tolist():\n",
    "    if \" / \" in st:\n",
    "        sts = st.split(\" / \")\n",
    "        stn_code.append(sts[0])\n",
    "    else:\n",
    "        stn_code.append(st)\n",
    "len(stn_code)"
   ]
  },
  {
   "cell_type": "code",
   "execution_count": 56,
   "metadata": {},
   "outputs": [],
   "source": [
    "stn[\"PT_CODE1\"] = stn_code"
   ]
  },
  {
   "cell_type": "code",
   "execution_count": 57,
   "metadata": {},
   "outputs": [
    {
     "data": {
      "text/html": [
       "<div>\n",
       "<style scoped>\n",
       "    .dataframe tbody tr th:only-of-type {\n",
       "        vertical-align: middle;\n",
       "    }\n",
       "\n",
       "    .dataframe tbody tr th {\n",
       "        vertical-align: top;\n",
       "    }\n",
       "\n",
       "    .dataframe thead th {\n",
       "        text-align: right;\n",
       "    }\n",
       "</style>\n",
       "<table border=\"1\" class=\"dataframe\">\n",
       "  <thead>\n",
       "    <tr style=\"text-align: right;\">\n",
       "      <th></th>\n",
       "      <th>OBJECTID</th>\n",
       "      <th>STN_NAME</th>\n",
       "      <th>STN_NO</th>\n",
       "      <th>geometry</th>\n",
       "      <th>PT_CODE1</th>\n",
       "    </tr>\n",
       "  </thead>\n",
       "  <tbody>\n",
       "    <tr>\n",
       "      <th>0</th>\n",
       "      <td>1</td>\n",
       "      <td>EUNOS MRT STATION</td>\n",
       "      <td>EW7</td>\n",
       "      <td>POINT (35782.955 33560.078)</td>\n",
       "      <td>EW7</td>\n",
       "    </tr>\n",
       "    <tr>\n",
       "      <th>1</th>\n",
       "      <td>2</td>\n",
       "      <td>CHINESE GARDEN MRT STATION</td>\n",
       "      <td>EW25</td>\n",
       "      <td>POINT (16790.747 36056.302)</td>\n",
       "      <td>EW25</td>\n",
       "    </tr>\n",
       "    <tr>\n",
       "      <th>2</th>\n",
       "      <td>3</td>\n",
       "      <td>KHATIB MRT STATION</td>\n",
       "      <td>NS14</td>\n",
       "      <td>POINT (27962.311 44352.568)</td>\n",
       "      <td>NS14</td>\n",
       "    </tr>\n",
       "    <tr>\n",
       "      <th>3</th>\n",
       "      <td>4</td>\n",
       "      <td>KRANJI MRT STATION</td>\n",
       "      <td>NS7</td>\n",
       "      <td>POINT (20081.697 45214.548)</td>\n",
       "      <td>NS7</td>\n",
       "    </tr>\n",
       "    <tr>\n",
       "      <th>4</th>\n",
       "      <td>5</td>\n",
       "      <td>REDHILL MRT STATION</td>\n",
       "      <td>EW18</td>\n",
       "      <td>POINT (26163.478 30218.820)</td>\n",
       "      <td>EW18</td>\n",
       "    </tr>\n",
       "  </tbody>\n",
       "</table>\n",
       "</div>"
      ],
      "text/plain": [
       "   OBJECTID                    STN_NAME STN_NO                     geometry  \\\n",
       "0         1           EUNOS MRT STATION    EW7  POINT (35782.955 33560.078)   \n",
       "1         2  CHINESE GARDEN MRT STATION   EW25  POINT (16790.747 36056.302)   \n",
       "2         3          KHATIB MRT STATION   NS14  POINT (27962.311 44352.568)   \n",
       "3         4          KRANJI MRT STATION    NS7  POINT (20081.697 45214.548)   \n",
       "4         5         REDHILL MRT STATION   EW18  POINT (26163.478 30218.820)   \n",
       "\n",
       "  PT_CODE1  \n",
       "0      EW7  \n",
       "1     EW25  \n",
       "2     NS14  \n",
       "3      NS7  \n",
       "4     EW18  "
      ]
     },
     "execution_count": 57,
     "metadata": {},
     "output_type": "execute_result"
    }
   ],
   "source": [
    "stn.head()"
   ]
  },
  {
   "cell_type": "markdown",
   "metadata": {},
   "source": [
    "add one column that store only one code for one station"
   ]
  },
  {
   "cell_type": "code",
   "execution_count": 58,
   "metadata": {},
   "outputs": [
    {
     "data": {
      "text/html": [
       "<div>\n",
       "<style scoped>\n",
       "    .dataframe tbody tr th:only-of-type {\n",
       "        vertical-align: middle;\n",
       "    }\n",
       "\n",
       "    .dataframe tbody tr th {\n",
       "        vertical-align: top;\n",
       "    }\n",
       "\n",
       "    .dataframe thead th {\n",
       "        text-align: right;\n",
       "    }\n",
       "</style>\n",
       "<table border=\"1\" class=\"dataframe\">\n",
       "  <thead>\n",
       "    <tr style=\"text-align: right;\">\n",
       "      <th></th>\n",
       "      <th>OBJECTID</th>\n",
       "      <th>STN_NAME</th>\n",
       "      <th>STN_NO</th>\n",
       "      <th>geometry</th>\n",
       "      <th>PT_CODE1</th>\n",
       "    </tr>\n",
       "  </thead>\n",
       "  <tbody>\n",
       "    <tr>\n",
       "      <th>19</th>\n",
       "      <td>20</td>\n",
       "      <td>JURONG EAST MRT STATION</td>\n",
       "      <td>EW24 / NS1</td>\n",
       "      <td>POINT (17869.081 35038.947)</td>\n",
       "      <td>EW24</td>\n",
       "    </tr>\n",
       "    <tr>\n",
       "      <th>86</th>\n",
       "      <td>95</td>\n",
       "      <td>CITY HALL MRT STATION</td>\n",
       "      <td>EW13 / NS25</td>\n",
       "      <td>POINT (30144.285 30591.848)</td>\n",
       "      <td>EW13</td>\n",
       "    </tr>\n",
       "    <tr>\n",
       "      <th>92</th>\n",
       "      <td>101</td>\n",
       "      <td>HARBOURFRONT MRT STATION</td>\n",
       "      <td>NE1 / CC29</td>\n",
       "      <td>POINT (26678.344 27555.059)</td>\n",
       "      <td>NE1</td>\n",
       "    </tr>\n",
       "    <tr>\n",
       "      <th>106</th>\n",
       "      <td>115</td>\n",
       "      <td>BAYFRONT MRT STATION</td>\n",
       "      <td>DT16 / CE1</td>\n",
       "      <td>POINT (30867.009 29368.625)</td>\n",
       "      <td>DT16</td>\n",
       "    </tr>\n",
       "    <tr>\n",
       "      <th>177</th>\n",
       "      <td>186</td>\n",
       "      <td>RAFFLES PLACE MRT STATION</td>\n",
       "      <td>EW14 / NS26</td>\n",
       "      <td>POINT (30019.180 29617.613)</td>\n",
       "      <td>EW14</td>\n",
       "    </tr>\n",
       "  </tbody>\n",
       "</table>\n",
       "</div>"
      ],
      "text/plain": [
       "     OBJECTID                   STN_NAME       STN_NO  \\\n",
       "19         20    JURONG EAST MRT STATION   EW24 / NS1   \n",
       "86         95      CITY HALL MRT STATION  EW13 / NS25   \n",
       "92        101   HARBOURFRONT MRT STATION   NE1 / CC29   \n",
       "106       115       BAYFRONT MRT STATION   DT16 / CE1   \n",
       "177       186  RAFFLES PLACE MRT STATION  EW14 / NS26   \n",
       "\n",
       "                        geometry PT_CODE1  \n",
       "19   POINT (17869.081 35038.947)     EW24  \n",
       "86   POINT (30144.285 30591.848)     EW13  \n",
       "92   POINT (26678.344 27555.059)      NE1  \n",
       "106  POINT (30867.009 29368.625)     DT16  \n",
       "177  POINT (30019.180 29617.613)     EW14  "
      ]
     },
     "execution_count": 58,
     "metadata": {},
     "output_type": "execute_result"
    }
   ],
   "source": [
    "stn[stn[\"STN_NO\"]!=stn[\"PT_CODE1\"]]"
   ]
  },
  {
   "cell_type": "code",
   "execution_count": null,
   "metadata": {},
   "outputs": [],
   "source": []
  },
  {
   "cell_type": "code",
   "execution_count": null,
   "metadata": {},
   "outputs": [],
   "source": []
  },
  {
   "cell_type": "code",
   "execution_count": 48,
   "metadata": {},
   "outputs": [
    {
     "data": {
      "text/plain": [
       "<matplotlib.axes._subplots.AxesSubplot at 0x7f60af461438>"
      ]
     },
     "execution_count": 48,
     "metadata": {},
     "output_type": "execute_result"
    },
    {
     "data": {
      "image/png": "[encoded data removed]",
      "text/plain": [
       "<Figure size 432x288 with 1 Axes>"
      ]
     },
     "metadata": {
      "needs_background": "light"
     },
     "output_type": "display_data"
    }
   ],
   "source": [
    "gdf_subzone = gpd.read_file(os.path.join(data_dir, \"subzone-2014\", \"MP14_SUBZONE_WEB_PL.shp\"))\n",
    "gdf_subzone.plot()"
   ]
  },
  {
   "cell_type": "code",
   "execution_count": 59,
   "metadata": {},
   "outputs": [
    {
     "name": "stderr",
     "output_type": "stream",
     "text": [
      "/home/benny/.pyenv/versions/miniconda3-4.3.30/lib/python3.6/site-packages/geopandas/tools/sjoin.py:61: UserWarning: CRS of frames being joined does not match!({'proj': 'tmerc', 'lat_0': 1.366666666666667, 'lon_0': 103.8333333333333, 'k': 1, 'x_0': 28001.642, 'y_0': 38744.572, 'datum': 'WGS84', 'units': 'm', 'no_defs': True, 'wktext': True} != {'proj': 'tmerc', 'lat_0': 1.366666666666667, 'lon_0': 103.8333333333333, 'k': 1, 'x_0': 28001.642, 'y_0': 38744.572, 'datum': 'WGS84', 'units': 'm', 'no_defs': True})\n",
      "  \"(%s != %s)\" % (left_df.crs, right_df.crs)\n"
     ]
    },
    {
     "data": {
      "text/html": [
       "<div>\n",
       "<style scoped>\n",
       "    .dataframe tbody tr th:only-of-type {\n",
       "        vertical-align: middle;\n",
       "    }\n",
       "\n",
       "    .dataframe tbody tr th {\n",
       "        vertical-align: top;\n",
       "    }\n",
       "\n",
       "    .dataframe thead th {\n",
       "        text-align: right;\n",
       "    }\n",
       "</style>\n",
       "<table border=\"1\" class=\"dataframe\">\n",
       "  <thead>\n",
       "    <tr style=\"text-align: right;\">\n",
       "      <th></th>\n",
       "      <th>OBJECTID_pt</th>\n",
       "      <th>STN_NAME</th>\n",
       "      <th>STN_NO</th>\n",
       "      <th>geometry</th>\n",
       "      <th>PT_CODE1</th>\n",
       "      <th>index_szone</th>\n",
       "      <th>OBJECTID_szone</th>\n",
       "      <th>SUBZONE_NO</th>\n",
       "      <th>SUBZONE_N</th>\n",
       "      <th>SUBZONE_C</th>\n",
       "      <th>...</th>\n",
       "      <th>PLN_AREA_N</th>\n",
       "      <th>PLN_AREA_C</th>\n",
       "      <th>REGION_N</th>\n",
       "      <th>REGION_C</th>\n",
       "      <th>INC_CRC</th>\n",
       "      <th>FMEL_UPD_D</th>\n",
       "      <th>X_ADDR</th>\n",
       "      <th>Y_ADDR</th>\n",
       "      <th>SHAPE_Leng</th>\n",
       "      <th>SHAPE_Area</th>\n",
       "    </tr>\n",
       "  </thead>\n",
       "  <tbody>\n",
       "    <tr>\n",
       "      <th>0</th>\n",
       "      <td>1</td>\n",
       "      <td>EUNOS MRT STATION</td>\n",
       "      <td>EW7</td>\n",
       "      <td>POINT (35782.955 33560.078)</td>\n",
       "      <td>EW7</td>\n",
       "      <td>169</td>\n",
       "      <td>170</td>\n",
       "      <td>5</td>\n",
       "      <td>GEYLANG EAST</td>\n",
       "      <td>GLSZ05</td>\n",
       "      <td>...</td>\n",
       "      <td>GEYLANG</td>\n",
       "      <td>GL</td>\n",
       "      <td>CENTRAL REGION</td>\n",
       "      <td>CR</td>\n",
       "      <td>58687154BD252A0A</td>\n",
       "      <td>2014-12-05</td>\n",
       "      <td>35237.1681</td>\n",
       "      <td>33246.0587</td>\n",
       "      <td>7028.340071</td>\n",
       "      <td>2.579087e+06</td>\n",
       "    </tr>\n",
       "    <tr>\n",
       "      <th>1</th>\n",
       "      <td>2</td>\n",
       "      <td>CHINESE GARDEN MRT STATION</td>\n",
       "      <td>EW25</td>\n",
       "      <td>POINT (16790.747 36056.302)</td>\n",
       "      <td>EW25</td>\n",
       "      <td>146</td>\n",
       "      <td>147</td>\n",
       "      <td>4</td>\n",
       "      <td>LAKESIDE</td>\n",
       "      <td>JESZ04</td>\n",
       "      <td>...</td>\n",
       "      <td>JURONG EAST</td>\n",
       "      <td>JE</td>\n",
       "      <td>WEST REGION</td>\n",
       "      <td>WR</td>\n",
       "      <td>3BBFD45071B70ECF</td>\n",
       "      <td>2014-12-05</td>\n",
       "      <td>16697.0118</td>\n",
       "      <td>35114.9062</td>\n",
       "      <td>8828.633830</td>\n",
       "      <td>3.108023e+06</td>\n",
       "    </tr>\n",
       "    <tr>\n",
       "      <th>2</th>\n",
       "      <td>3</td>\n",
       "      <td>KHATIB MRT STATION</td>\n",
       "      <td>NS14</td>\n",
       "      <td>POINT (27962.311 44352.568)</td>\n",
       "      <td>NS14</td>\n",
       "      <td>316</td>\n",
       "      <td>317</td>\n",
       "      <td>8</td>\n",
       "      <td>KHATIB</td>\n",
       "      <td>YSSZ08</td>\n",
       "      <td>...</td>\n",
       "      <td>YISHUN</td>\n",
       "      <td>YS</td>\n",
       "      <td>NORTH REGION</td>\n",
       "      <td>NR</td>\n",
       "      <td>DC75517DA31123DB</td>\n",
       "      <td>2014-12-05</td>\n",
       "      <td>27480.6357</td>\n",
       "      <td>44420.6884</td>\n",
       "      <td>4956.145735</td>\n",
       "      <td>1.432913e+06</td>\n",
       "    </tr>\n",
       "    <tr>\n",
       "      <th>3</th>\n",
       "      <td>4</td>\n",
       "      <td>KRANJI MRT STATION</td>\n",
       "      <td>NS7</td>\n",
       "      <td>POINT (20081.697 45214.548)</td>\n",
       "      <td>NS7</td>\n",
       "      <td>280</td>\n",
       "      <td>281</td>\n",
       "      <td>2</td>\n",
       "      <td>TURF CLUB</td>\n",
       "      <td>SKSZ02</td>\n",
       "      <td>...</td>\n",
       "      <td>SUNGEI KADUT</td>\n",
       "      <td>SK</td>\n",
       "      <td>NORTH REGION</td>\n",
       "      <td>NR</td>\n",
       "      <td>17459E60C3EEAF30</td>\n",
       "      <td>2014-12-05</td>\n",
       "      <td>20234.6006</td>\n",
       "      <td>44507.1901</td>\n",
       "      <td>7665.676019</td>\n",
       "      <td>3.291406e+06</td>\n",
       "    </tr>\n",
       "    <tr>\n",
       "      <th>4</th>\n",
       "      <td>5</td>\n",
       "      <td>REDHILL MRT STATION</td>\n",
       "      <td>EW18</td>\n",
       "      <td>POINT (26163.478 30218.820)</td>\n",
       "      <td>EW18</td>\n",
       "      <td>4</td>\n",
       "      <td>5</td>\n",
       "      <td>3</td>\n",
       "      <td>REDHILL</td>\n",
       "      <td>BMSZ03</td>\n",
       "      <td>...</td>\n",
       "      <td>BUKIT MERAH</td>\n",
       "      <td>BM</td>\n",
       "      <td>CENTRAL REGION</td>\n",
       "      <td>CR</td>\n",
       "      <td>85D9ABEF0A40678F</td>\n",
       "      <td>2014-12-05</td>\n",
       "      <td>26201.9580</td>\n",
       "      <td>30005.7035</td>\n",
       "      <td>2825.594099</td>\n",
       "      <td>3.874294e+05</td>\n",
       "    </tr>\n",
       "  </tbody>\n",
       "</table>\n",
       "<p>5 rows × 21 columns</p>\n",
       "</div>"
      ],
      "text/plain": [
       "   OBJECTID_pt                    STN_NAME STN_NO  \\\n",
       "0            1           EUNOS MRT STATION    EW7   \n",
       "1            2  CHINESE GARDEN MRT STATION   EW25   \n",
       "2            3          KHATIB MRT STATION   NS14   \n",
       "3            4          KRANJI MRT STATION    NS7   \n",
       "4            5         REDHILL MRT STATION   EW18   \n",
       "\n",
       "                      geometry PT_CODE1  index_szone  OBJECTID_szone  \\\n",
       "0  POINT (35782.955 33560.078)      EW7          169             170   \n",
       "1  POINT (16790.747 36056.302)     EW25          146             147   \n",
       "2  POINT (27962.311 44352.568)     NS14          316             317   \n",
       "3  POINT (20081.697 45214.548)      NS7          280             281   \n",
       "4  POINT (26163.478 30218.820)     EW18            4               5   \n",
       "\n",
       "   SUBZONE_NO     SUBZONE_N SUBZONE_C  ...    PLN_AREA_N PLN_AREA_C  \\\n",
       "0           5  GEYLANG EAST    GLSZ05  ...       GEYLANG         GL   \n",
       "1           4      LAKESIDE    JESZ04  ...   JURONG EAST         JE   \n",
       "2           8        KHATIB    YSSZ08  ...        YISHUN         YS   \n",
       "3           2     TURF CLUB    SKSZ02  ...  SUNGEI KADUT         SK   \n",
       "4           3       REDHILL    BMSZ03  ...   BUKIT MERAH         BM   \n",
       "\n",
       "         REGION_N REGION_C           INC_CRC  FMEL_UPD_D      X_ADDR  \\\n",
       "0  CENTRAL REGION       CR  58687154BD252A0A  2014-12-05  35237.1681   \n",
       "1     WEST REGION       WR  3BBFD45071B70ECF  2014-12-05  16697.0118   \n",
       "2    NORTH REGION       NR  DC75517DA31123DB  2014-12-05  27480.6357   \n",
       "3    NORTH REGION       NR  17459E60C3EEAF30  2014-12-05  20234.6006   \n",
       "4  CENTRAL REGION       CR  85D9ABEF0A40678F  2014-12-05  26201.9580   \n",
       "\n",
       "       Y_ADDR   SHAPE_Leng    SHAPE_Area  \n",
       "0  33246.0587  7028.340071  2.579087e+06  \n",
       "1  35114.9062  8828.633830  3.108023e+06  \n",
       "2  44420.6884  4956.145735  1.432913e+06  \n",
       "3  44507.1901  7665.676019  3.291406e+06  \n",
       "4  30005.7035  2825.594099  3.874294e+05  \n",
       "\n",
       "[5 rows x 21 columns]"
      ]
     },
     "execution_count": 59,
     "metadata": {},
     "output_type": "execute_result"
    }
   ],
   "source": [
    "gdf_stn_prep = gpd.sjoin(stn, gdf_subzone, how=\"left\", lsuffix='pt', rsuffix='szone')\n",
    "gdf_stn_prep.head()"
   ]
  },
  {
   "cell_type": "code",
   "execution_count": 60,
   "metadata": {},
   "outputs": [
    {
     "data": {
      "text/plain": [
       "<matplotlib.axes._subplots.AxesSubplot at 0x7f60af2686a0>"
      ]
     },
     "execution_count": 60,
     "metadata": {},
     "output_type": "execute_result"
    },
    {
     "data": {
      "image/png": "[encoded data removed]",
      "text/plain": [
       "<Figure size 432x288 with 1 Axes>"
      ]
     },
     "metadata": {
      "needs_background": "light"
     },
     "output_type": "display_data"
    }
   ],
   "source": [
    "gdf_stn_prep.plot(column='SUBZONE_NO')"
   ]
  },
  {
   "cell_type": "code",
   "execution_count": 61,
   "metadata": {},
   "outputs": [],
   "source": [
    "gdf_stn_prep.to_file(os.path.join(data_dir, \"train_station_wszone.shp\"))"
   ]
  },
  {
   "cell_type": "code",
   "execution_count": 62,
   "metadata": {},
   "outputs": [
    {
     "data": {
      "text/html": [
       "<div>\n",
       "<style scoped>\n",
       "    .dataframe tbody tr th:only-of-type {\n",
       "        vertical-align: middle;\n",
       "    }\n",
       "\n",
       "    .dataframe tbody tr th {\n",
       "        vertical-align: top;\n",
       "    }\n",
       "\n",
       "    .dataframe thead th {\n",
       "        text-align: right;\n",
       "    }\n",
       "</style>\n",
       "<table border=\"1\" class=\"dataframe\">\n",
       "  <thead>\n",
       "    <tr style=\"text-align: right;\">\n",
       "      <th></th>\n",
       "      <th>OBJECTID_pt</th>\n",
       "      <th>STN_NAME</th>\n",
       "      <th>STN_NO</th>\n",
       "      <th>geometry</th>\n",
       "      <th>PT_CODE1</th>\n",
       "      <th>index_szone</th>\n",
       "      <th>OBJECTID_szone</th>\n",
       "      <th>SUBZONE_NO</th>\n",
       "      <th>SUBZONE_N</th>\n",
       "      <th>SUBZONE_C</th>\n",
       "      <th>...</th>\n",
       "      <th>PLN_AREA_N</th>\n",
       "      <th>PLN_AREA_C</th>\n",
       "      <th>REGION_N</th>\n",
       "      <th>REGION_C</th>\n",
       "      <th>INC_CRC</th>\n",
       "      <th>FMEL_UPD_D</th>\n",
       "      <th>X_ADDR</th>\n",
       "      <th>Y_ADDR</th>\n",
       "      <th>SHAPE_Leng</th>\n",
       "      <th>SHAPE_Area</th>\n",
       "    </tr>\n",
       "  </thead>\n",
       "  <tbody>\n",
       "  </tbody>\n",
       "</table>\n",
       "<p>0 rows × 21 columns</p>\n",
       "</div>"
      ],
      "text/plain": [
       "Empty GeoDataFrame\n",
       "Columns: [OBJECTID_pt, STN_NAME, STN_NO, geometry, PT_CODE1, index_szone, OBJECTID_szone, SUBZONE_NO, SUBZONE_N, SUBZONE_C, CA_IND, PLN_AREA_N, PLN_AREA_C, REGION_N, REGION_C, INC_CRC, FMEL_UPD_D, X_ADDR, Y_ADDR, SHAPE_Leng, SHAPE_Area]\n",
       "Index: []\n",
       "\n",
       "[0 rows x 21 columns]"
      ]
     },
     "execution_count": 62,
     "metadata": {},
     "output_type": "execute_result"
    }
   ],
   "source": [
    "gdf_stn_prep[pd.isnull(gdf_stn_prep[\"SUBZONE_N\"])]"
   ]
  },
  {
   "cell_type": "code",
   "execution_count": null,
   "metadata": {},
   "outputs": [],
   "source": []
  }
 ],
 "metadata": {
  "kernelspec": {
   "display_name": "Python 3",
   "language": "python",
   "name": "python3"
  },
  "language_info": {
   "codemirror_mode": {
    "name": "ipython",
    "version": 3
   },
   "file_extension": ".py",
   "mimetype": "text/x-python",
   "name": "python",
   "nbconvert_exporter": "python",
   "pygments_lexer": "ipython3",
   "version": "3.6.8"
  }
 },
 "nbformat": 4,
 "nbformat_minor": 4
}
