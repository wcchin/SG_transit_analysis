{
 "cells": [
  {
   "cell_type": "code",
   "execution_count": 48,
   "metadata": {},
   "outputs": [],
   "source": [
    "import os\n",
    "import numpy as np\n",
    "import pandas as pd\n",
    "import seaborn as sns\n",
    "import matplotlib.pyplot as plt"
   ]
  },
  {
   "cell_type": "code",
   "execution_count": 49,
   "metadata": {},
   "outputs": [],
   "source": [
    "data_dir = \"../data\""
   ]
  },
  {
   "cell_type": "code",
   "execution_count": 75,
   "metadata": {},
   "outputs": [
    {
     "data": {
      "text/html": [
       "<div>\n",
       "<style scoped>\n",
       "    .dataframe tbody tr th:only-of-type {\n",
       "        vertical-align: middle;\n",
       "    }\n",
       "\n",
       "    .dataframe tbody tr th {\n",
       "        vertical-align: top;\n",
       "    }\n",
       "\n",
       "    .dataframe thead th {\n",
       "        text-align: right;\n",
       "    }\n",
       "</style>\n",
       "<table border=\"1\" class=\"dataframe\">\n",
       "  <thead>\n",
       "    <tr style=\"text-align: right;\">\n",
       "      <th></th>\n",
       "      <th>ind</th>\n",
       "      <th>origin</th>\n",
       "      <th>destination</th>\n",
       "      <th>hour_05</th>\n",
       "      <th>hour_06</th>\n",
       "      <th>hour_07</th>\n",
       "      <th>hour_08</th>\n",
       "      <th>hour_09</th>\n",
       "      <th>hour_10</th>\n",
       "      <th>hour_11</th>\n",
       "      <th>...</th>\n",
       "      <th>hour_14</th>\n",
       "      <th>hour_15</th>\n",
       "      <th>hour_16</th>\n",
       "      <th>hour_17</th>\n",
       "      <th>hour_18</th>\n",
       "      <th>hour_19</th>\n",
       "      <th>hour_20</th>\n",
       "      <th>hour_21</th>\n",
       "      <th>hour_22</th>\n",
       "      <th>hour_23</th>\n",
       "    </tr>\n",
       "  </thead>\n",
       "  <tbody>\n",
       "    <tr>\n",
       "      <th>0</th>\n",
       "      <td>0</td>\n",
       "      <td>TAMPINES EAST</td>\n",
       "      <td>TAMPINES EAST</td>\n",
       "      <td>232925.0</td>\n",
       "      <td>1427066.0</td>\n",
       "      <td>2316704.0</td>\n",
       "      <td>1778107.0</td>\n",
       "      <td>1280905.0</td>\n",
       "      <td>1145098.0</td>\n",
       "      <td>1084878.0</td>\n",
       "      <td>...</td>\n",
       "      <td>1382846.0</td>\n",
       "      <td>1305843.0</td>\n",
       "      <td>1400255.0</td>\n",
       "      <td>1652029.0</td>\n",
       "      <td>2019632.0</td>\n",
       "      <td>1676532.0</td>\n",
       "      <td>1141877.0</td>\n",
       "      <td>984449.0</td>\n",
       "      <td>739684.0</td>\n",
       "      <td>391909.0</td>\n",
       "    </tr>\n",
       "    <tr>\n",
       "      <th>1</th>\n",
       "      <td>1</td>\n",
       "      <td>SENOKO NORTH</td>\n",
       "      <td>YISHUN CENTRAL</td>\n",
       "      <td>3560.0</td>\n",
       "      <td>14560.0</td>\n",
       "      <td>7020.0</td>\n",
       "      <td>6380.0</td>\n",
       "      <td>4740.0</td>\n",
       "      <td>4140.0</td>\n",
       "      <td>5820.0</td>\n",
       "      <td>...</td>\n",
       "      <td>10480.0</td>\n",
       "      <td>17540.0</td>\n",
       "      <td>22060.0</td>\n",
       "      <td>46820.0</td>\n",
       "      <td>55680.0</td>\n",
       "      <td>23640.0</td>\n",
       "      <td>16620.0</td>\n",
       "      <td>8300.0</td>\n",
       "      <td>4840.0</td>\n",
       "      <td>1940.0</td>\n",
       "    </tr>\n",
       "    <tr>\n",
       "      <th>2</th>\n",
       "      <td>2</td>\n",
       "      <td>FERNVALE</td>\n",
       "      <td>TRAFALGAR</td>\n",
       "      <td>2680.0</td>\n",
       "      <td>25980.0</td>\n",
       "      <td>19620.0</td>\n",
       "      <td>24980.0</td>\n",
       "      <td>14180.0</td>\n",
       "      <td>10240.0</td>\n",
       "      <td>8260.0</td>\n",
       "      <td>...</td>\n",
       "      <td>9060.0</td>\n",
       "      <td>10400.0</td>\n",
       "      <td>11820.0</td>\n",
       "      <td>18520.0</td>\n",
       "      <td>19040.0</td>\n",
       "      <td>12060.0</td>\n",
       "      <td>8360.0</td>\n",
       "      <td>7320.0</td>\n",
       "      <td>6780.0</td>\n",
       "      <td>3160.0</td>\n",
       "    </tr>\n",
       "    <tr>\n",
       "      <th>3</th>\n",
       "      <td>3</td>\n",
       "      <td>CHINATOWN</td>\n",
       "      <td>PORT</td>\n",
       "      <td>328.0</td>\n",
       "      <td>3482.0</td>\n",
       "      <td>1452.0</td>\n",
       "      <td>1084.0</td>\n",
       "      <td>1128.0</td>\n",
       "      <td>602.0</td>\n",
       "      <td>534.0</td>\n",
       "      <td>...</td>\n",
       "      <td>866.0</td>\n",
       "      <td>908.0</td>\n",
       "      <td>747.0</td>\n",
       "      <td>886.0</td>\n",
       "      <td>564.0</td>\n",
       "      <td>754.0</td>\n",
       "      <td>702.0</td>\n",
       "      <td>553.0</td>\n",
       "      <td>573.0</td>\n",
       "      <td>496.0</td>\n",
       "    </tr>\n",
       "    <tr>\n",
       "      <th>4</th>\n",
       "      <td>4</td>\n",
       "      <td>LAKESIDE</td>\n",
       "      <td>TAMAN JURONG</td>\n",
       "      <td>408.0</td>\n",
       "      <td>6854.0</td>\n",
       "      <td>12863.0</td>\n",
       "      <td>18283.0</td>\n",
       "      <td>7809.0</td>\n",
       "      <td>7015.0</td>\n",
       "      <td>6526.0</td>\n",
       "      <td>...</td>\n",
       "      <td>12956.0</td>\n",
       "      <td>23380.0</td>\n",
       "      <td>13425.0</td>\n",
       "      <td>15333.0</td>\n",
       "      <td>15933.0</td>\n",
       "      <td>8697.0</td>\n",
       "      <td>7677.0</td>\n",
       "      <td>4723.0</td>\n",
       "      <td>3355.0</td>\n",
       "      <td>1720.0</td>\n",
       "    </tr>\n",
       "  </tbody>\n",
       "</table>\n",
       "<p>5 rows × 22 columns</p>\n",
       "</div>"
      ],
      "text/plain": [
       "   ind         origin     destination   hour_05    hour_06    hour_07  \\\n",
       "0    0  TAMPINES EAST   TAMPINES EAST  232925.0  1427066.0  2316704.0   \n",
       "1    1   SENOKO NORTH  YISHUN CENTRAL    3560.0    14560.0     7020.0   \n",
       "2    2       FERNVALE       TRAFALGAR    2680.0    25980.0    19620.0   \n",
       "3    3      CHINATOWN            PORT     328.0     3482.0     1452.0   \n",
       "4    4       LAKESIDE    TAMAN JURONG     408.0     6854.0    12863.0   \n",
       "\n",
       "     hour_08    hour_09    hour_10    hour_11  ...    hour_14    hour_15  \\\n",
       "0  1778107.0  1280905.0  1145098.0  1084878.0  ...  1382846.0  1305843.0   \n",
       "1     6380.0     4740.0     4140.0     5820.0  ...    10480.0    17540.0   \n",
       "2    24980.0    14180.0    10240.0     8260.0  ...     9060.0    10400.0   \n",
       "3     1084.0     1128.0      602.0      534.0  ...      866.0      908.0   \n",
       "4    18283.0     7809.0     7015.0     6526.0  ...    12956.0    23380.0   \n",
       "\n",
       "     hour_16    hour_17    hour_18    hour_19    hour_20   hour_21   hour_22  \\\n",
       "0  1400255.0  1652029.0  2019632.0  1676532.0  1141877.0  984449.0  739684.0   \n",
       "1    22060.0    46820.0    55680.0    23640.0    16620.0    8300.0    4840.0   \n",
       "2    11820.0    18520.0    19040.0    12060.0     8360.0    7320.0    6780.0   \n",
       "3      747.0      886.0      564.0      754.0      702.0     553.0     573.0   \n",
       "4    13425.0    15333.0    15933.0     8697.0     7677.0    4723.0    3355.0   \n",
       "\n",
       "    hour_23  \n",
       "0  391909.0  \n",
       "1    1940.0  \n",
       "2    3160.0  \n",
       "3     496.0  \n",
       "4    1720.0  \n",
       "\n",
       "[5 rows x 22 columns]"
      ]
     },
     "execution_count": 75,
     "metadata": {},
     "output_type": "execute_result"
    }
   ],
   "source": [
    "df1 = pd.read_csv(os.path.join(data_dir, 'OD_202001_weekday.csv.xz'))\n",
    "df1.head()"
   ]
  },
  {
   "cell_type": "code",
   "execution_count": 64,
   "metadata": {},
   "outputs": [
    {
     "data": {
      "text/html": [
       "<div>\n",
       "<style scoped>\n",
       "    .dataframe tbody tr th:only-of-type {\n",
       "        vertical-align: middle;\n",
       "    }\n",
       "\n",
       "    .dataframe tbody tr th {\n",
       "        vertical-align: top;\n",
       "    }\n",
       "\n",
       "    .dataframe thead th {\n",
       "        text-align: right;\n",
       "    }\n",
       "</style>\n",
       "<table border=\"1\" class=\"dataframe\">\n",
       "  <thead>\n",
       "    <tr style=\"text-align: right;\">\n",
       "      <th></th>\n",
       "      <th>ind</th>\n",
       "      <th>origin</th>\n",
       "      <th>destination</th>\n",
       "      <th>hour_05</th>\n",
       "      <th>hour_06</th>\n",
       "      <th>hour_07</th>\n",
       "      <th>hour_08</th>\n",
       "      <th>hour_09</th>\n",
       "      <th>hour_10</th>\n",
       "      <th>hour_11</th>\n",
       "      <th>...</th>\n",
       "      <th>hour_15</th>\n",
       "      <th>hour_16</th>\n",
       "      <th>hour_17</th>\n",
       "      <th>hour_18</th>\n",
       "      <th>hour_19</th>\n",
       "      <th>hour_20</th>\n",
       "      <th>hour_21</th>\n",
       "      <th>hour_22</th>\n",
       "      <th>hour_23</th>\n",
       "      <th>sum_weekday</th>\n",
       "    </tr>\n",
       "  </thead>\n",
       "  <tbody>\n",
       "    <tr>\n",
       "      <th>0</th>\n",
       "      <td>0</td>\n",
       "      <td>ANAK BUKIT</td>\n",
       "      <td>NORTH COAST</td>\n",
       "      <td>475.0</td>\n",
       "      <td>1159.0</td>\n",
       "      <td>2451.0</td>\n",
       "      <td>2489.0</td>\n",
       "      <td>2280.0</td>\n",
       "      <td>2280.0</td>\n",
       "      <td>2242.0</td>\n",
       "      <td>...</td>\n",
       "      <td>2793.0</td>\n",
       "      <td>3496.0</td>\n",
       "      <td>4199.0</td>\n",
       "      <td>3230.0</td>\n",
       "      <td>3743.0</td>\n",
       "      <td>5396.0</td>\n",
       "      <td>6023.0</td>\n",
       "      <td>4370.0</td>\n",
       "      <td>2584.0</td>\n",
       "      <td>52972.0</td>\n",
       "    </tr>\n",
       "    <tr>\n",
       "      <th>1</th>\n",
       "      <td>1</td>\n",
       "      <td>CLEMENTI CENTRAL</td>\n",
       "      <td>MARITIME SQUARE</td>\n",
       "      <td>4959.0</td>\n",
       "      <td>10450.0</td>\n",
       "      <td>15162.0</td>\n",
       "      <td>13167.0</td>\n",
       "      <td>10488.0</td>\n",
       "      <td>11590.0</td>\n",
       "      <td>10450.0</td>\n",
       "      <td>...</td>\n",
       "      <td>8018.0</td>\n",
       "      <td>8949.0</td>\n",
       "      <td>10678.0</td>\n",
       "      <td>12122.0</td>\n",
       "      <td>6821.0</td>\n",
       "      <td>4959.0</td>\n",
       "      <td>2280.0</td>\n",
       "      <td>1653.0</td>\n",
       "      <td>817.0</td>\n",
       "      <td>161177.0</td>\n",
       "    </tr>\n",
       "    <tr>\n",
       "      <th>2</th>\n",
       "      <td>2</td>\n",
       "      <td>PAYA LEBAR NORTH</td>\n",
       "      <td>PASIR RIS WEST</td>\n",
       "      <td>228.0</td>\n",
       "      <td>1197.0</td>\n",
       "      <td>1558.0</td>\n",
       "      <td>1843.0</td>\n",
       "      <td>3287.0</td>\n",
       "      <td>2565.0</td>\n",
       "      <td>5225.0</td>\n",
       "      <td>...</td>\n",
       "      <td>4180.0</td>\n",
       "      <td>5282.0</td>\n",
       "      <td>8455.0</td>\n",
       "      <td>11324.0</td>\n",
       "      <td>9348.0</td>\n",
       "      <td>7771.0</td>\n",
       "      <td>9044.0</td>\n",
       "      <td>5985.0</td>\n",
       "      <td>2622.0</td>\n",
       "      <td>93746.0</td>\n",
       "    </tr>\n",
       "    <tr>\n",
       "      <th>3</th>\n",
       "      <td>3</td>\n",
       "      <td>TRAFALGAR</td>\n",
       "      <td>TOA PAYOH WEST</td>\n",
       "      <td>1900.0</td>\n",
       "      <td>2299.0</td>\n",
       "      <td>1881.0</td>\n",
       "      <td>931.0</td>\n",
       "      <td>874.0</td>\n",
       "      <td>532.0</td>\n",
       "      <td>646.0</td>\n",
       "      <td>...</td>\n",
       "      <td>437.0</td>\n",
       "      <td>570.0</td>\n",
       "      <td>361.0</td>\n",
       "      <td>304.0</td>\n",
       "      <td>532.0</td>\n",
       "      <td>418.0</td>\n",
       "      <td>304.0</td>\n",
       "      <td>190.0</td>\n",
       "      <td>19.0</td>\n",
       "      <td>13794.0</td>\n",
       "    </tr>\n",
       "    <tr>\n",
       "      <th>4</th>\n",
       "      <td>4</td>\n",
       "      <td>BALESTIER</td>\n",
       "      <td>BALESTIER</td>\n",
       "      <td>17119.0</td>\n",
       "      <td>76646.0</td>\n",
       "      <td>126616.0</td>\n",
       "      <td>205219.0</td>\n",
       "      <td>167770.0</td>\n",
       "      <td>160056.0</td>\n",
       "      <td>171380.0</td>\n",
       "      <td>...</td>\n",
       "      <td>139840.0</td>\n",
       "      <td>149264.0</td>\n",
       "      <td>187492.0</td>\n",
       "      <td>224162.0</td>\n",
       "      <td>194617.0</td>\n",
       "      <td>134064.0</td>\n",
       "      <td>126901.0</td>\n",
       "      <td>102999.0</td>\n",
       "      <td>63460.0</td>\n",
       "      <td>2756330.0</td>\n",
       "    </tr>\n",
       "  </tbody>\n",
       "</table>\n",
       "<p>5 rows × 23 columns</p>\n",
       "</div>"
      ],
      "text/plain": [
       "   ind            origin      destination  hour_05  hour_06   hour_07  \\\n",
       "0    0        ANAK BUKIT      NORTH COAST    475.0   1159.0    2451.0   \n",
       "1    1  CLEMENTI CENTRAL  MARITIME SQUARE   4959.0  10450.0   15162.0   \n",
       "2    2  PAYA LEBAR NORTH   PASIR RIS WEST    228.0   1197.0    1558.0   \n",
       "3    3         TRAFALGAR   TOA PAYOH WEST   1900.0   2299.0    1881.0   \n",
       "4    4         BALESTIER        BALESTIER  17119.0  76646.0  126616.0   \n",
       "\n",
       "    hour_08   hour_09   hour_10   hour_11  ...   hour_15   hour_16   hour_17  \\\n",
       "0    2489.0    2280.0    2280.0    2242.0  ...    2793.0    3496.0    4199.0   \n",
       "1   13167.0   10488.0   11590.0   10450.0  ...    8018.0    8949.0   10678.0   \n",
       "2    1843.0    3287.0    2565.0    5225.0  ...    4180.0    5282.0    8455.0   \n",
       "3     931.0     874.0     532.0     646.0  ...     437.0     570.0     361.0   \n",
       "4  205219.0  167770.0  160056.0  171380.0  ...  139840.0  149264.0  187492.0   \n",
       "\n",
       "    hour_18   hour_19   hour_20   hour_21   hour_22  hour_23  sum_weekday  \n",
       "0    3230.0    3743.0    5396.0    6023.0    4370.0   2584.0      52972.0  \n",
       "1   12122.0    6821.0    4959.0    2280.0    1653.0    817.0     161177.0  \n",
       "2   11324.0    9348.0    7771.0    9044.0    5985.0   2622.0      93746.0  \n",
       "3     304.0     532.0     418.0     304.0     190.0     19.0      13794.0  \n",
       "4  224162.0  194617.0  134064.0  126901.0  102999.0  63460.0    2756330.0  \n",
       "\n",
       "[5 rows x 23 columns]"
      ]
     },
     "execution_count": 64,
     "metadata": {},
     "output_type": "execute_result"
    }
   ],
   "source": [
    "hours_col = [ col for col in df1.columns.tolist() if \"hour\" in col ]\n",
    "sum_col = df1[hours_col[0]]\n",
    "for col in hours_col[1:]:\n",
    "    sum_col = sum_col + df1[col]\n",
    "df1[\"sum_weekday\"] = sum_col\n",
    "df1.head()"
   ]
  },
  {
   "cell_type": "code",
   "execution_count": 65,
   "metadata": {},
   "outputs": [
    {
     "data": {
      "text/html": [
       "<div>\n",
       "<style scoped>\n",
       "    .dataframe tbody tr th:only-of-type {\n",
       "        vertical-align: middle;\n",
       "    }\n",
       "\n",
       "    .dataframe tbody tr th {\n",
       "        vertical-align: top;\n",
       "    }\n",
       "\n",
       "    .dataframe thead th {\n",
       "        text-align: right;\n",
       "    }\n",
       "</style>\n",
       "<table border=\"1\" class=\"dataframe\">\n",
       "  <thead>\n",
       "    <tr style=\"text-align: right;\">\n",
       "      <th></th>\n",
       "      <th>ind</th>\n",
       "      <th>origin</th>\n",
       "      <th>destination</th>\n",
       "      <th>hour_05</th>\n",
       "      <th>hour_06</th>\n",
       "      <th>hour_07</th>\n",
       "      <th>hour_08</th>\n",
       "      <th>hour_09</th>\n",
       "      <th>hour_10</th>\n",
       "      <th>hour_11</th>\n",
       "      <th>...</th>\n",
       "      <th>hour_15</th>\n",
       "      <th>hour_16</th>\n",
       "      <th>hour_17</th>\n",
       "      <th>hour_18</th>\n",
       "      <th>hour_19</th>\n",
       "      <th>hour_20</th>\n",
       "      <th>hour_21</th>\n",
       "      <th>hour_22</th>\n",
       "      <th>hour_23</th>\n",
       "      <th>sum_weekend</th>\n",
       "    </tr>\n",
       "  </thead>\n",
       "  <tbody>\n",
       "    <tr>\n",
       "      <th>0</th>\n",
       "      <td>0</td>\n",
       "      <td>CLEMENTI CENTRAL</td>\n",
       "      <td>MARITIME SQUARE</td>\n",
       "      <td>969.0</td>\n",
       "      <td>3382.0</td>\n",
       "      <td>4009.0</td>\n",
       "      <td>5263.0</td>\n",
       "      <td>6042.0</td>\n",
       "      <td>7543.0</td>\n",
       "      <td>9519.0</td>\n",
       "      <td>...</td>\n",
       "      <td>7961.0</td>\n",
       "      <td>7486.0</td>\n",
       "      <td>6992.0</td>\n",
       "      <td>6859.0</td>\n",
       "      <td>4237.0</td>\n",
       "      <td>2470.0</td>\n",
       "      <td>874.0</td>\n",
       "      <td>817.0</td>\n",
       "      <td>570.0</td>\n",
       "      <td>98876.0</td>\n",
       "    </tr>\n",
       "    <tr>\n",
       "      <th>1</th>\n",
       "      <td>1</td>\n",
       "      <td>BALESTIER</td>\n",
       "      <td>BALESTIER</td>\n",
       "      <td>5890.0</td>\n",
       "      <td>32908.0</td>\n",
       "      <td>44973.0</td>\n",
       "      <td>66557.0</td>\n",
       "      <td>88179.0</td>\n",
       "      <td>86906.0</td>\n",
       "      <td>85614.0</td>\n",
       "      <td>...</td>\n",
       "      <td>64866.0</td>\n",
       "      <td>72067.0</td>\n",
       "      <td>76798.0</td>\n",
       "      <td>73302.0</td>\n",
       "      <td>66215.0</td>\n",
       "      <td>57171.0</td>\n",
       "      <td>56240.0</td>\n",
       "      <td>43871.0</td>\n",
       "      <td>30761.0</td>\n",
       "      <td>1180945.0</td>\n",
       "    </tr>\n",
       "    <tr>\n",
       "      <th>2</th>\n",
       "      <td>2</td>\n",
       "      <td>BUKIT MERAH</td>\n",
       "      <td>MALCOLM</td>\n",
       "      <td>19.0</td>\n",
       "      <td>38.0</td>\n",
       "      <td>19.0</td>\n",
       "      <td>19.0</td>\n",
       "      <td>19.0</td>\n",
       "      <td>0.0</td>\n",
       "      <td>19.0</td>\n",
       "      <td>...</td>\n",
       "      <td>0.0</td>\n",
       "      <td>19.0</td>\n",
       "      <td>19.0</td>\n",
       "      <td>38.0</td>\n",
       "      <td>114.0</td>\n",
       "      <td>38.0</td>\n",
       "      <td>0.0</td>\n",
       "      <td>38.0</td>\n",
       "      <td>19.0</td>\n",
       "      <td>551.0</td>\n",
       "    </tr>\n",
       "    <tr>\n",
       "      <th>3</th>\n",
       "      <td>3</td>\n",
       "      <td>BUKIT BATOK WEST</td>\n",
       "      <td>HONG KAH</td>\n",
       "      <td>133.0</td>\n",
       "      <td>1862.0</td>\n",
       "      <td>3192.0</td>\n",
       "      <td>3591.0</td>\n",
       "      <td>3781.0</td>\n",
       "      <td>3800.0</td>\n",
       "      <td>3477.0</td>\n",
       "      <td>...</td>\n",
       "      <td>2261.0</td>\n",
       "      <td>1938.0</td>\n",
       "      <td>2926.0</td>\n",
       "      <td>2850.0</td>\n",
       "      <td>2109.0</td>\n",
       "      <td>1729.0</td>\n",
       "      <td>1216.0</td>\n",
       "      <td>1254.0</td>\n",
       "      <td>1102.0</td>\n",
       "      <td>45980.0</td>\n",
       "    </tr>\n",
       "    <tr>\n",
       "      <th>4</th>\n",
       "      <td>4</td>\n",
       "      <td>KAKI BUKIT</td>\n",
       "      <td>SUNGEI ROAD</td>\n",
       "      <td>188.0</td>\n",
       "      <td>444.0</td>\n",
       "      <td>780.0</td>\n",
       "      <td>993.0</td>\n",
       "      <td>1042.0</td>\n",
       "      <td>1429.0</td>\n",
       "      <td>1483.0</td>\n",
       "      <td>...</td>\n",
       "      <td>1468.0</td>\n",
       "      <td>2221.0</td>\n",
       "      <td>3329.0</td>\n",
       "      <td>3586.0</td>\n",
       "      <td>1755.0</td>\n",
       "      <td>598.0</td>\n",
       "      <td>254.0</td>\n",
       "      <td>329.0</td>\n",
       "      <td>85.0</td>\n",
       "      <td>24359.0</td>\n",
       "    </tr>\n",
       "  </tbody>\n",
       "</table>\n",
       "<p>5 rows × 23 columns</p>\n",
       "</div>"
      ],
      "text/plain": [
       "   ind            origin      destination  hour_05  hour_06  hour_07  hour_08  \\\n",
       "0    0  CLEMENTI CENTRAL  MARITIME SQUARE    969.0   3382.0   4009.0   5263.0   \n",
       "1    1         BALESTIER        BALESTIER   5890.0  32908.0  44973.0  66557.0   \n",
       "2    2       BUKIT MERAH          MALCOLM     19.0     38.0     19.0     19.0   \n",
       "3    3  BUKIT BATOK WEST         HONG KAH    133.0   1862.0   3192.0   3591.0   \n",
       "4    4        KAKI BUKIT      SUNGEI ROAD    188.0    444.0    780.0    993.0   \n",
       "\n",
       "   hour_09  hour_10  hour_11  ...  hour_15  hour_16  hour_17  hour_18  \\\n",
       "0   6042.0   7543.0   9519.0  ...   7961.0   7486.0   6992.0   6859.0   \n",
       "1  88179.0  86906.0  85614.0  ...  64866.0  72067.0  76798.0  73302.0   \n",
       "2     19.0      0.0     19.0  ...      0.0     19.0     19.0     38.0   \n",
       "3   3781.0   3800.0   3477.0  ...   2261.0   1938.0   2926.0   2850.0   \n",
       "4   1042.0   1429.0   1483.0  ...   1468.0   2221.0   3329.0   3586.0   \n",
       "\n",
       "   hour_19  hour_20  hour_21  hour_22  hour_23  sum_weekend  \n",
       "0   4237.0   2470.0    874.0    817.0    570.0      98876.0  \n",
       "1  66215.0  57171.0  56240.0  43871.0  30761.0    1180945.0  \n",
       "2    114.0     38.0      0.0     38.0     19.0        551.0  \n",
       "3   2109.0   1729.0   1216.0   1254.0   1102.0      45980.0  \n",
       "4   1755.0    598.0    254.0    329.0     85.0      24359.0  \n",
       "\n",
       "[5 rows x 23 columns]"
      ]
     },
     "execution_count": 65,
     "metadata": {},
     "output_type": "execute_result"
    }
   ],
   "source": [
    "df2 = pd.read_csv(os.path.join(data_dir, 'OD_201912_weekend.csv.xz'))\n",
    "hours_col = [ col for col in df2.columns.tolist() if \"hour\" in col ]\n",
    "sum_col = df2[hours_col[0]]\n",
    "for col in hours_col[1:]:\n",
    "    sum_col = sum_col + df2[col]\n",
    "df2[\"sum_weekend\"] = sum_col\n",
    "df2.head()"
   ]
  },
  {
   "cell_type": "code",
   "execution_count": 66,
   "metadata": {},
   "outputs": [],
   "source": [
    "df1b = df1.dropna(subset=[\"origin\", \"destination\"])\n",
    "df2b = df2.dropna(subset=[\"origin\", \"destination\"])"
   ]
  },
  {
   "cell_type": "code",
   "execution_count": 67,
   "metadata": {},
   "outputs": [
    {
     "data": {
      "text/html": [
       "<div>\n",
       "<style scoped>\n",
       "    .dataframe tbody tr th:only-of-type {\n",
       "        vertical-align: middle;\n",
       "    }\n",
       "\n",
       "    .dataframe tbody tr th {\n",
       "        vertical-align: top;\n",
       "    }\n",
       "\n",
       "    .dataframe thead th {\n",
       "        text-align: right;\n",
       "    }\n",
       "</style>\n",
       "<table border=\"1\" class=\"dataframe\">\n",
       "  <thead>\n",
       "    <tr style=\"text-align: right;\">\n",
       "      <th></th>\n",
       "      <th>origin</th>\n",
       "      <th>destination</th>\n",
       "      <th>sum_weekday</th>\n",
       "      <th>sum_weekend</th>\n",
       "    </tr>\n",
       "  </thead>\n",
       "  <tbody>\n",
       "    <tr>\n",
       "      <th>0</th>\n",
       "      <td>ANAK BUKIT</td>\n",
       "      <td>NORTH COAST</td>\n",
       "      <td>52972.0</td>\n",
       "      <td>21166.0</td>\n",
       "    </tr>\n",
       "    <tr>\n",
       "      <th>1</th>\n",
       "      <td>CLEMENTI CENTRAL</td>\n",
       "      <td>MARITIME SQUARE</td>\n",
       "      <td>161177.0</td>\n",
       "      <td>98876.0</td>\n",
       "    </tr>\n",
       "    <tr>\n",
       "      <th>2</th>\n",
       "      <td>PAYA LEBAR NORTH</td>\n",
       "      <td>PASIR RIS WEST</td>\n",
       "      <td>93746.0</td>\n",
       "      <td>39653.0</td>\n",
       "    </tr>\n",
       "    <tr>\n",
       "      <th>3</th>\n",
       "      <td>TRAFALGAR</td>\n",
       "      <td>TOA PAYOH WEST</td>\n",
       "      <td>13794.0</td>\n",
       "      <td>5225.0</td>\n",
       "    </tr>\n",
       "    <tr>\n",
       "      <th>4</th>\n",
       "      <td>BALESTIER</td>\n",
       "      <td>BALESTIER</td>\n",
       "      <td>2756330.0</td>\n",
       "      <td>1180945.0</td>\n",
       "    </tr>\n",
       "  </tbody>\n",
       "</table>\n",
       "</div>"
      ],
      "text/plain": [
       "             origin      destination  sum_weekday  sum_weekend\n",
       "0        ANAK BUKIT      NORTH COAST      52972.0      21166.0\n",
       "1  CLEMENTI CENTRAL  MARITIME SQUARE     161177.0      98876.0\n",
       "2  PAYA LEBAR NORTH   PASIR RIS WEST      93746.0      39653.0\n",
       "3         TRAFALGAR   TOA PAYOH WEST      13794.0       5225.0\n",
       "4         BALESTIER        BALESTIER    2756330.0    1180945.0"
      ]
     },
     "execution_count": 67,
     "metadata": {},
     "output_type": "execute_result"
    }
   ],
   "source": [
    "df_merge = pd.merge(df1b[[\"origin\", \"destination\", \"sum_weekday\"]], df2b[[\"origin\", \"destination\", \"sum_weekend\"]], left_on=[\"origin\", \"destination\"], right_on=[\"origin\", \"destination\"], )\n",
    "df_merge.head()"
   ]
  },
  {
   "cell_type": "code",
   "execution_count": 68,
   "metadata": {},
   "outputs": [
    {
     "data": {
      "text/plain": [
       "<matplotlib.axes._subplots.AxesSubplot at 0x7f21c2ac1c50>"
      ]
     },
     "execution_count": 68,
     "metadata": {},
     "output_type": "execute_result"
    },
    {
     "data": {
      "image/png": "[encoded data removed]",
      "text/plain": [
       "<Figure size 432x288 with 1 Axes>"
      ]
     },
     "metadata": {
      "needs_background": "light"
     },
     "output_type": "display_data"
    }
   ],
   "source": [
    "sns.distplot(df_merge[\"sum_weekday\"], bins=[i*10000 for i in range(30)], kde=False)"
   ]
  },
  {
   "cell_type": "code",
   "execution_count": 69,
   "metadata": {},
   "outputs": [
    {
     "data": {
      "image/png": "[encoded data removed]",
      "text/plain": [
       "<Figure size 432x288 with 1 Axes>"
      ]
     },
     "metadata": {
      "needs_background": "light"
     },
     "output_type": "display_data"
    }
   ],
   "source": [
    "#bins = [i*1000 for i in range(30)] + [(df_merge[\"sum_weekday\"]/23).max()]\n",
    "fig, ax = plt.subplots()\n",
    "sns.distplot(df_merge[\"sum_weekday\"]/23, kde=False, ax=ax)\n",
    "ax.set_yscale(\"log\")\n",
    "ax.set_xscale(\"log\")"
   ]
  },
  {
   "cell_type": "code",
   "execution_count": 70,
   "metadata": {},
   "outputs": [
    {
     "data": {
      "text/plain": [
       "882286.8695652174"
      ]
     },
     "execution_count": 70,
     "metadata": {},
     "output_type": "execute_result"
    }
   ],
   "source": [
    "(df_merge[\"sum_weekday\"]/23).max()"
   ]
  },
  {
   "cell_type": "code",
   "execution_count": 35,
   "metadata": {},
   "outputs": [
    {
     "data": {
      "text/plain": [
       "<function print>"
      ]
     },
     "execution_count": 35,
     "metadata": {},
     "output_type": "execute_result"
    },
    {
     "data": {
      "image/png": "[encoded data removed]",
      "text/plain": [
       "<Figure size 432x288 with 1 Axes>"
      ]
     },
     "metadata": {
      "needs_background": "light"
     },
     "output_type": "display_data"
    }
   ],
   "source": [
    "bins = [i*1000 for i in range(30)] + [np.ceil((df_merge[\"sum_weekday\"]/23).max())]\n",
    "hs, bins = np.histogram(df_merge[\"sum_weekday\"]/23, bins=bins)\n",
    "xs = [str(b) for b in bins[1:]]\n",
    "fig, ax = plt.subplots()\n",
    "ax.bar(xs, hs)\n",
    "ax.set_xticks(xs)\n",
    "ax.set_xticklabels(xs, rotation=90)\n",
    "print()"
   ]
  },
  {
   "cell_type": "code",
   "execution_count": 9,
   "metadata": {},
   "outputs": [],
   "source": [
    "df_merge.to_csv(\"edge_flow.csv.xz\", index_label=\"ind\")"
   ]
  },
  {
   "cell_type": "code",
   "execution_count": 36,
   "metadata": {},
   "outputs": [
    {
     "data": {
      "text/plain": [
       "30331"
      ]
     },
     "execution_count": 36,
     "metadata": {},
     "output_type": "execute_result"
    }
   ],
   "source": [
    "len(df_merge)"
   ]
  },
  {
   "cell_type": "code",
   "execution_count": 80,
   "metadata": {},
   "outputs": [
    {
     "data": {
      "text/plain": [
       "67.443449"
      ]
     },
     "execution_count": 80,
     "metadata": {},
     "output_type": "execute_result"
    }
   ],
   "source": [
    "sum(df_merge[[\"sum_weekday\", \"sum_weekend\"]].sum())/31/1000000"
   ]
  },
  {
   "cell_type": "code",
   "execution_count": null,
   "metadata": {},
   "outputs": [],
   "source": []
  },
  {
   "cell_type": "code",
   "execution_count": 73,
   "metadata": {},
   "outputs": [],
   "source": [
    "df_merge2 = df_merge.copy()\n",
    "df_merge2[\"sum_weekday\"] = df_merge2[\"sum_weekday\"]/23\n",
    "df_merge2[\"sum_weekend\"] = df_merge2[\"sum_weekend\"]/8"
   ]
  },
  {
   "cell_type": "code",
   "execution_count": 74,
   "metadata": {},
   "outputs": [
    {
     "data": {
      "text/plain": [
       "sum_weekday    6.797432e+07\n",
       "sum_weekend    6.614577e+07\n",
       "dtype: float64"
      ]
     },
     "execution_count": 74,
     "metadata": {},
     "output_type": "execute_result"
    }
   ],
   "source": [
    "df_merge2[[\"sum_weekday\", \"sum_weekend\"]].sum()"
   ]
  },
  {
   "cell_type": "code",
   "execution_count": 43,
   "metadata": {},
   "outputs": [],
   "source": [
    "df_merge2.to_csv(\"edge_flow2.csv\", index_label=\"ind\")"
   ]
  },
  {
   "cell_type": "code",
   "execution_count": 47,
   "metadata": {},
   "outputs": [
    {
     "data": {
      "text/plain": [
       "303"
      ]
     },
     "execution_count": 47,
     "metadata": {},
     "output_type": "execute_result"
    }
   ],
   "source": [
    "len(sorted(set(df_merge2[\"origin\"].tolist())))"
   ]
  },
  {
   "cell_type": "code",
   "execution_count": 55,
   "metadata": {},
   "outputs": [],
   "source": [
    "import networkx as nx"
   ]
  },
  {
   "cell_type": "code",
   "execution_count": 60,
   "metadata": {},
   "outputs": [
    {
     "data": {
      "text/plain": [
       "30043"
      ]
     },
     "execution_count": 60,
     "metadata": {},
     "output_type": "execute_result"
    }
   ],
   "source": [
    "dg1 = nx.read_pajek(\"../data/net_202001_weekday.net\")\n",
    "dg2 = nx.read_pajek(\"../data/net_202001_weekend.net\")\n",
    "\n",
    "dg1.number_of_edges()"
   ]
  },
  {
   "cell_type": "code",
   "execution_count": 59,
   "metadata": {},
   "outputs": [
    {
     "data": {
      "text/plain": [
       "64.80913669565248"
      ]
     },
     "execution_count": 59,
     "metadata": {},
     "output_type": "execute_result"
    }
   ],
   "source": [
    "total = 0\n",
    "for u,v,d in dg1.edges(data=True):\n",
    "    total+=d[\"weight\"]\n",
    "total/1000000"
   ]
  },
  {
   "cell_type": "code",
   "execution_count": 61,
   "metadata": {},
   "outputs": [
    {
     "data": {
      "text/plain": [
       "65.484590375"
      ]
     },
     "execution_count": 61,
     "metadata": {},
     "output_type": "execute_result"
    }
   ],
   "source": [
    "total = 0\n",
    "for u,v,d in dg2.edges(data=True):\n",
    "    total+=d[\"weight\"]\n",
    "total/1000000"
   ]
  },
  {
   "cell_type": "code",
   "execution_count": null,
   "metadata": {},
   "outputs": [],
   "source": []
  }
 ],
 "metadata": {
  "kernelspec": {
   "display_name": "Python 3",
   "language": "python",
   "name": "python3"
  },
  "language_info": {
   "codemirror_mode": {
    "name": "ipython",
    "version": 3
   },
   "file_extension": ".py",
   "mimetype": "text/x-python",
   "name": "python",
   "nbconvert_exporter": "python",
   "pygments_lexer": "ipython3",
   "version": "3.6.8"
  }
 },
 "nbformat": 4,
 "nbformat_minor": 4
}
