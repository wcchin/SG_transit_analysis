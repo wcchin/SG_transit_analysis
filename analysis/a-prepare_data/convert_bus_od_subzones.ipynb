{
 "cells": [
  {
   "cell_type": "code",
   "execution_count": 1,
   "metadata": {},
   "outputs": [],
   "source": [
    "import os\n",
    "from collections import defaultdict\n",
    "import pandas as pd\n",
    "import geopandas as gpd\n",
    "import matplotlib.pyplot as plt\n",
    "import seaborn as sns"
   ]
  },
  {
   "cell_type": "code",
   "execution_count": 2,
   "metadata": {},
   "outputs": [
    {
     "data": {
      "text/plain": [
       "['bus_stops_wszone.dbf',\n",
       " 'bus_stops_wszone.shp',\n",
       " 'singstat',\n",
       " 'net_202001_15.net',\n",
       " 'origin_destination_bus_202001_scaleddown.csv.xz',\n",
       " 'OD_bus',\n",
       " 'net_202001_05.net',\n",
       " 'net_202001_06.net',\n",
       " 'origin_destination_train_201912.csv.xz',\n",
       " 'train_station_wszone.prj',\n",
       " 'origin_destination_train_202001.csv.xz',\n",
       " 'train_station_wszone.dbf',\n",
       " 'OD_202001_weekend.csv.xz',\n",
       " 'net_202001_22.net',\n",
       " 'subzone_centroid.csv',\n",
       " 'OD_201912_weekday.csv.xz',\n",
       " 'origin_destination_bus_201911.csv.xz',\n",
       " 'net_202001_19.net',\n",
       " 'net_202001_18.net',\n",
       " 'transport_node_bus_202001.csv',\n",
       " 'train_station_wszone.cpg',\n",
       " 'OD_PT',\n",
       " 'train_station_wszone.shx',\n",
       " 'net_202001_10.net',\n",
       " 'OD_201911_weekend.csv.xz',\n",
       " 'origin_destination_train_201911.csv.xz',\n",
       " 'planning-area-2014',\n",
       " 'net_202001_weekend.net',\n",
       " 'subzone_centroid_pos.json',\n",
       " '.ipynb_checkpoints',\n",
       " 'net_202001_21.net',\n",
       " 'origin_destination_bus_202001.csv.xz',\n",
       " 'OD_201912_weekend.csv.xz',\n",
       " 'net_202001_07.net',\n",
       " 'origin_destination_bus_201912.csv.xz',\n",
       " 'net_202001_23.net',\n",
       " 'region-2014',\n",
       " 'train_station_wszone.shp',\n",
       " 'net_202001_weekday.net',\n",
       " 'net_202001_16.net',\n",
       " 'OD_train',\n",
       " 'bus_stops_wszone.shx',\n",
       " 'OD_202001_weekday.csv.xz',\n",
       " 'net_202001_20.net',\n",
       " 'net_202001_11.net',\n",
       " 'bus_stops_wszone.prj',\n",
       " 'net_202001_14.net',\n",
       " 'subzone-2014',\n",
       " 'net_202001_09.net',\n",
       " 'net_202001_12.net',\n",
       " 'net_202001_08.net',\n",
       " 'net_202001_17.net',\n",
       " 'net_202001_13.net',\n",
       " 'OD_201911_weekday.csv.xz',\n",
       " 'bus_stops_wszone.cpg']"
      ]
     },
     "execution_count": 2,
     "metadata": {},
     "output_type": "execute_result"
    }
   ],
   "source": [
    "data_dir = \"../../data\"\n",
    "os.listdir(data_dir)"
   ]
  },
  {
   "cell_type": "code",
   "execution_count": 3,
   "metadata": {},
   "outputs": [
    {
     "data": {
      "text/html": [
       "<div>\n",
       "<style scoped>\n",
       "    .dataframe tbody tr th:only-of-type {\n",
       "        vertical-align: middle;\n",
       "    }\n",
       "\n",
       "    .dataframe tbody tr th {\n",
       "        vertical-align: top;\n",
       "    }\n",
       "\n",
       "    .dataframe thead th {\n",
       "        text-align: right;\n",
       "    }\n",
       "</style>\n",
       "<table border=\"1\" class=\"dataframe\">\n",
       "  <thead>\n",
       "    <tr style=\"text-align: right;\">\n",
       "      <th></th>\n",
       "      <th>PTcode</th>\n",
       "      <th>desc</th>\n",
       "      <th>lat</th>\n",
       "      <th>lon</th>\n",
       "      <th>index_szon</th>\n",
       "      <th>OBJECTID</th>\n",
       "      <th>SUBZONE_NO</th>\n",
       "      <th>SUBZONE_N</th>\n",
       "      <th>SUBZONE_C</th>\n",
       "      <th>CA_IND</th>\n",
       "      <th>...</th>\n",
       "      <th>PLN_AREA_C</th>\n",
       "      <th>REGION_N</th>\n",
       "      <th>REGION_C</th>\n",
       "      <th>INC_CRC</th>\n",
       "      <th>FMEL_UPD_D</th>\n",
       "      <th>X_ADDR</th>\n",
       "      <th>Y_ADDR</th>\n",
       "      <th>SHAPE_Leng</th>\n",
       "      <th>SHAPE_Area</th>\n",
       "      <th>geometry</th>\n",
       "    </tr>\n",
       "  </thead>\n",
       "  <tbody>\n",
       "    <tr>\n",
       "      <th>0</th>\n",
       "      <td>65539</td>\n",
       "      <td>Blk 224A</td>\n",
       "      <td>1.402291</td>\n",
       "      <td>103.893700</td>\n",
       "      <td>265.0</td>\n",
       "      <td>266.0</td>\n",
       "      <td>3.0</td>\n",
       "      <td>MATILDA</td>\n",
       "      <td>PGSZ03</td>\n",
       "      <td>N</td>\n",
       "      <td>...</td>\n",
       "      <td>PG</td>\n",
       "      <td>NORTH-EAST REGION</td>\n",
       "      <td>NER</td>\n",
       "      <td>14D0DB33976B7B81</td>\n",
       "      <td>2014-12-05</td>\n",
       "      <td>35089.9853</td>\n",
       "      <td>42728.2745</td>\n",
       "      <td>5361.915964</td>\n",
       "      <td>1.418284e+06</td>\n",
       "      <td>POINT (34719.631 42683.817)</td>\n",
       "    </tr>\n",
       "    <tr>\n",
       "      <th>1</th>\n",
       "      <td>98309</td>\n",
       "      <td>Carissa Pk</td>\n",
       "      <td>1.359960</td>\n",
       "      <td>103.964737</td>\n",
       "      <td>231.0</td>\n",
       "      <td>232.0</td>\n",
       "      <td>8.0</td>\n",
       "      <td>FLORA DRIVE</td>\n",
       "      <td>PRSZ08</td>\n",
       "      <td>N</td>\n",
       "      <td>...</td>\n",
       "      <td>PR</td>\n",
       "      <td>EAST REGION</td>\n",
       "      <td>ER</td>\n",
       "      <td>FA9C76B49B6D0C95</td>\n",
       "      <td>2014-12-05</td>\n",
       "      <td>42801.7349</td>\n",
       "      <td>37930.5489</td>\n",
       "      <td>3956.615777</td>\n",
       "      <td>9.449984e+05</td>\n",
       "      <td>POINT (42625.345 38003.381)</td>\n",
       "    </tr>\n",
       "    <tr>\n",
       "      <th>2</th>\n",
       "      <td>65541</td>\n",
       "      <td>Before Sumang Lane</td>\n",
       "      <td>1.403562</td>\n",
       "      <td>103.891200</td>\n",
       "      <td>265.0</td>\n",
       "      <td>266.0</td>\n",
       "      <td>3.0</td>\n",
       "      <td>MATILDA</td>\n",
       "      <td>PGSZ03</td>\n",
       "      <td>N</td>\n",
       "      <td>...</td>\n",
       "      <td>PG</td>\n",
       "      <td>NORTH-EAST REGION</td>\n",
       "      <td>NER</td>\n",
       "      <td>14D0DB33976B7B81</td>\n",
       "      <td>2014-12-05</td>\n",
       "      <td>35089.9853</td>\n",
       "      <td>42728.2745</td>\n",
       "      <td>5361.915964</td>\n",
       "      <td>1.418284e+06</td>\n",
       "      <td>POINT (34441.411 42824.350)</td>\n",
       "    </tr>\n",
       "    <tr>\n",
       "      <th>3</th>\n",
       "      <td>49159</td>\n",
       "      <td>Econ Group</td>\n",
       "      <td>1.437072</td>\n",
       "      <td>103.745813</td>\n",
       "      <td>288.0</td>\n",
       "      <td>289.0</td>\n",
       "      <td>5.0</td>\n",
       "      <td>RESERVOIR VIEW</td>\n",
       "      <td>SKSZ05</td>\n",
       "      <td>N</td>\n",
       "      <td>...</td>\n",
       "      <td>SK</td>\n",
       "      <td>NORTH REGION</td>\n",
       "      <td>NR</td>\n",
       "      <td>40050ADDFBCC870F</td>\n",
       "      <td>2014-12-05</td>\n",
       "      <td>18367.1710</td>\n",
       "      <td>45940.4868</td>\n",
       "      <td>10399.424485</td>\n",
       "      <td>3.284130e+06</td>\n",
       "      <td>POINT (18261.920 46529.810)</td>\n",
       "    </tr>\n",
       "    <tr>\n",
       "      <th>4</th>\n",
       "      <td>98311</td>\n",
       "      <td>Bef Mariam Wk</td>\n",
       "      <td>1.359306</td>\n",
       "      <td>103.968491</td>\n",
       "      <td>231.0</td>\n",
       "      <td>232.0</td>\n",
       "      <td>8.0</td>\n",
       "      <td>FLORA DRIVE</td>\n",
       "      <td>PRSZ08</td>\n",
       "      <td>N</td>\n",
       "      <td>...</td>\n",
       "      <td>PR</td>\n",
       "      <td>EAST REGION</td>\n",
       "      <td>ER</td>\n",
       "      <td>FA9C76B49B6D0C95</td>\n",
       "      <td>2014-12-05</td>\n",
       "      <td>42801.7349</td>\n",
       "      <td>37930.5489</td>\n",
       "      <td>3956.615777</td>\n",
       "      <td>9.449984e+05</td>\n",
       "      <td>POINT (43043.145 37931.100)</td>\n",
       "    </tr>\n",
       "  </tbody>\n",
       "</table>\n",
       "<p>5 rows × 21 columns</p>\n",
       "</div>"
      ],
      "text/plain": [
       "  PTcode                desc       lat         lon  index_szon  OBJECTID  \\\n",
       "0  65539            Blk 224A  1.402291  103.893700       265.0     266.0   \n",
       "1  98309          Carissa Pk  1.359960  103.964737       231.0     232.0   \n",
       "2  65541  Before Sumang Lane  1.403562  103.891200       265.0     266.0   \n",
       "3  49159          Econ Group  1.437072  103.745813       288.0     289.0   \n",
       "4  98311       Bef Mariam Wk  1.359306  103.968491       231.0     232.0   \n",
       "\n",
       "   SUBZONE_NO       SUBZONE_N SUBZONE_C CA_IND  ... PLN_AREA_C  \\\n",
       "0         3.0         MATILDA    PGSZ03      N  ...         PG   \n",
       "1         8.0     FLORA DRIVE    PRSZ08      N  ...         PR   \n",
       "2         3.0         MATILDA    PGSZ03      N  ...         PG   \n",
       "3         5.0  RESERVOIR VIEW    SKSZ05      N  ...         SK   \n",
       "4         8.0     FLORA DRIVE    PRSZ08      N  ...         PR   \n",
       "\n",
       "            REGION_N REGION_C           INC_CRC  FMEL_UPD_D      X_ADDR  \\\n",
       "0  NORTH-EAST REGION      NER  14D0DB33976B7B81  2014-12-05  35089.9853   \n",
       "1        EAST REGION       ER  FA9C76B49B6D0C95  2014-12-05  42801.7349   \n",
       "2  NORTH-EAST REGION      NER  14D0DB33976B7B81  2014-12-05  35089.9853   \n",
       "3       NORTH REGION       NR  40050ADDFBCC870F  2014-12-05  18367.1710   \n",
       "4        EAST REGION       ER  FA9C76B49B6D0C95  2014-12-05  42801.7349   \n",
       "\n",
       "       Y_ADDR    SHAPE_Leng    SHAPE_Area                     geometry  \n",
       "0  42728.2745   5361.915964  1.418284e+06  POINT (34719.631 42683.817)  \n",
       "1  37930.5489   3956.615777  9.449984e+05  POINT (42625.345 38003.381)  \n",
       "2  42728.2745   5361.915964  1.418284e+06  POINT (34441.411 42824.350)  \n",
       "3  45940.4868  10399.424485  3.284130e+06  POINT (18261.920 46529.810)  \n",
       "4  37930.5489   3956.615777  9.449984e+05  POINT (43043.145 37931.100)  \n",
       "\n",
       "[5 rows x 21 columns]"
      ]
     },
     "execution_count": 3,
     "metadata": {},
     "output_type": "execute_result"
    }
   ],
   "source": [
    "gdf = gpd.read_file(os.path.join(data_dir, 'bus_stops_wszone.shp'))\n",
    "gdf.head()"
   ]
  },
  {
   "cell_type": "code",
   "execution_count": 4,
   "metadata": {},
   "outputs": [
    {
     "data": {
      "text/plain": [
       "(5040,\n",
       " {'proj': 'tmerc',\n",
       "  'lat_0': 1.366666666666667,\n",
       "  'lon_0': 103.8333333333333,\n",
       "  'k': 1,\n",
       "  'x_0': 28001.642,\n",
       "  'y_0': 38744.572,\n",
       "  'datum': 'WGS84',\n",
       "  'units': 'm',\n",
       "  'no_defs': True})"
      ]
     },
     "execution_count": 4,
     "metadata": {},
     "output_type": "execute_result"
    }
   ],
   "source": [
    "len(gdf), gdf.crs"
   ]
  },
  {
   "cell_type": "code",
   "execution_count": 5,
   "metadata": {},
   "outputs": [
    {
     "data": {
      "text/plain": [
       "<matplotlib.axes._subplots.AxesSubplot at 0x7f1c012cee48>"
      ]
     },
     "execution_count": 5,
     "metadata": {},
     "output_type": "execute_result"
    },
    {
     "data": {
      "image/png": "[encoded data removed]",
      "text/plain": [
       "<Figure size 432x288 with 1 Axes>"
      ]
     },
     "metadata": {
      "needs_background": "light"
     },
     "output_type": "display_data"
    }
   ],
   "source": [
    "gdf.plot()"
   ]
  },
  {
   "cell_type": "code",
   "execution_count": 6,
   "metadata": {},
   "outputs": [],
   "source": [
    "bus_stop_loc = {}\n",
    "for i,s in zip(gdf[\"PTcode\"].tolist(), gdf[\"SUBZONE_N\"].tolist()):\n",
    "    bus_stop_loc[i] = s"
   ]
  },
  {
   "cell_type": "code",
   "execution_count": 7,
   "metadata": {},
   "outputs": [
    {
     "data": {
      "text/plain": [
       "['origin_destination_bus_202001_scaleddown.csv.xz',\n",
       " 'origin_destination_bus_201911.csv.xz',\n",
       " 'origin_destination_bus_202001.csv.xz',\n",
       " 'origin_destination_bus_201912.csv.xz']"
      ]
     },
     "execution_count": 7,
     "metadata": {},
     "output_type": "execute_result"
    }
   ],
   "source": [
    "\n",
    "fs = [ f for f in os.listdir(data_dir) if \".csv.xz\" in f ]\n",
    "fs = [ f for f in fs if \"origin_destination_bus\" in f ] \n",
    "fs"
   ]
  },
  {
   "cell_type": "code",
   "execution_count": 12,
   "metadata": {},
   "outputs": [
    {
     "name": "stdout",
     "output_type": "stream",
     "text": [
      "201911\n",
      "202001\n",
      "201912\n"
     ]
    }
   ],
   "source": [
    "for f in fs:\n",
    "    #df = pd.read_csv(os.path.join(data_dir, f))\n",
    "    month_str = f.replace(\"origin_destination_bus_\", \"\").replace(\".csv.xz\", \"\")\n",
    "    print(month_str)"
   ]
  },
  {
   "cell_type": "code",
   "execution_count": null,
   "metadata": {},
   "outputs": [],
   "source": []
  },
  {
   "cell_type": "code",
   "execution_count": 8,
   "metadata": {},
   "outputs": [
    {
     "data": {
      "text/html": [
       "<div>\n",
       "<style scoped>\n",
       "    .dataframe tbody tr th:only-of-type {\n",
       "        vertical-align: middle;\n",
       "    }\n",
       "\n",
       "    .dataframe tbody tr th {\n",
       "        vertical-align: top;\n",
       "    }\n",
       "\n",
       "    .dataframe thead th {\n",
       "        text-align: right;\n",
       "    }\n",
       "</style>\n",
       "<table border=\"1\" class=\"dataframe\">\n",
       "  <thead>\n",
       "    <tr style=\"text-align: right;\">\n",
       "      <th></th>\n",
       "      <th>Unnamed: 0</th>\n",
       "      <th>YEAR_MONTH</th>\n",
       "      <th>DAY_TYPE</th>\n",
       "      <th>TIME_PER_HOUR</th>\n",
       "      <th>PT_TYPE</th>\n",
       "      <th>ORIGIN_PT_CODE</th>\n",
       "      <th>DESTINATION_PT_CODE</th>\n",
       "      <th>TOTAL_TRIPS</th>\n",
       "    </tr>\n",
       "  </thead>\n",
       "  <tbody>\n",
       "    <tr>\n",
       "      <th>0</th>\n",
       "      <td>1</td>\n",
       "      <td>2020-01</td>\n",
       "      <td>WEEKDAY</td>\n",
       "      <td>16</td>\n",
       "      <td>BUS</td>\n",
       "      <td>4168</td>\n",
       "      <td>10051</td>\n",
       "      <td>3.008418</td>\n",
       "    </tr>\n",
       "    <tr>\n",
       "      <th>1</th>\n",
       "      <td>3</td>\n",
       "      <td>2020-01</td>\n",
       "      <td>WEEKDAY</td>\n",
       "      <td>14</td>\n",
       "      <td>BUS</td>\n",
       "      <td>80119</td>\n",
       "      <td>90079</td>\n",
       "      <td>12.033673</td>\n",
       "    </tr>\n",
       "    <tr>\n",
       "      <th>2</th>\n",
       "      <td>4</td>\n",
       "      <td>2020-01</td>\n",
       "      <td>WEEKDAY</td>\n",
       "      <td>17</td>\n",
       "      <td>BUS</td>\n",
       "      <td>20281</td>\n",
       "      <td>20141</td>\n",
       "      <td>13.036479</td>\n",
       "    </tr>\n",
       "    <tr>\n",
       "      <th>3</th>\n",
       "      <td>6</td>\n",
       "      <td>2020-01</td>\n",
       "      <td>WEEKDAY</td>\n",
       "      <td>7</td>\n",
       "      <td>BUS</td>\n",
       "      <td>19051</td>\n",
       "      <td>10017</td>\n",
       "      <td>1.002806</td>\n",
       "    </tr>\n",
       "    <tr>\n",
       "      <th>4</th>\n",
       "      <td>8</td>\n",
       "      <td>2020-01</td>\n",
       "      <td>WEEKDAY</td>\n",
       "      <td>14</td>\n",
       "      <td>BUS</td>\n",
       "      <td>81049</td>\n",
       "      <td>70161</td>\n",
       "      <td>2.005612</td>\n",
       "    </tr>\n",
       "    <tr>\n",
       "      <th>5</th>\n",
       "      <td>10</td>\n",
       "      <td>2020-01</td>\n",
       "      <td>WEEKDAY</td>\n",
       "      <td>13</td>\n",
       "      <td>BUS</td>\n",
       "      <td>51059</td>\n",
       "      <td>4019</td>\n",
       "      <td>0.100281</td>\n",
       "    </tr>\n",
       "    <tr>\n",
       "      <th>6</th>\n",
       "      <td>13</td>\n",
       "      <td>2020-01</td>\n",
       "      <td>WEEKDAY</td>\n",
       "      <td>10</td>\n",
       "      <td>BUS</td>\n",
       "      <td>82049</td>\n",
       "      <td>15151</td>\n",
       "      <td>7.621326</td>\n",
       "    </tr>\n",
       "    <tr>\n",
       "      <th>7</th>\n",
       "      <td>14</td>\n",
       "      <td>2020-01</td>\n",
       "      <td>WEEKDAY</td>\n",
       "      <td>10</td>\n",
       "      <td>BUS</td>\n",
       "      <td>82049</td>\n",
       "      <td>15151</td>\n",
       "      <td>0.401122</td>\n",
       "    </tr>\n",
       "    <tr>\n",
       "      <th>8</th>\n",
       "      <td>16</td>\n",
       "      <td>2020-01</td>\n",
       "      <td>WEEKDAY</td>\n",
       "      <td>20</td>\n",
       "      <td>BUS</td>\n",
       "      <td>83169</td>\n",
       "      <td>82149</td>\n",
       "      <td>5.014030</td>\n",
       "    </tr>\n",
       "    <tr>\n",
       "      <th>9</th>\n",
       "      <td>19</td>\n",
       "      <td>2020-01</td>\n",
       "      <td>WEEKDAY</td>\n",
       "      <td>9</td>\n",
       "      <td>BUS</td>\n",
       "      <td>14179</td>\n",
       "      <td>3071</td>\n",
       "      <td>1.403929</td>\n",
       "    </tr>\n",
       "  </tbody>\n",
       "</table>\n",
       "</div>"
      ],
      "text/plain": [
       "   Unnamed: 0 YEAR_MONTH DAY_TYPE  TIME_PER_HOUR PT_TYPE  ORIGIN_PT_CODE  \\\n",
       "0           1    2020-01  WEEKDAY             16     BUS            4168   \n",
       "1           3    2020-01  WEEKDAY             14     BUS           80119   \n",
       "2           4    2020-01  WEEKDAY             17     BUS           20281   \n",
       "3           6    2020-01  WEEKDAY              7     BUS           19051   \n",
       "4           8    2020-01  WEEKDAY             14     BUS           81049   \n",
       "5          10    2020-01  WEEKDAY             13     BUS           51059   \n",
       "6          13    2020-01  WEEKDAY             10     BUS           82049   \n",
       "7          14    2020-01  WEEKDAY             10     BUS           82049   \n",
       "8          16    2020-01  WEEKDAY             20     BUS           83169   \n",
       "9          19    2020-01  WEEKDAY              9     BUS           14179   \n",
       "\n",
       "   DESTINATION_PT_CODE  TOTAL_TRIPS  \n",
       "0                10051     3.008418  \n",
       "1                90079    12.033673  \n",
       "2                20141    13.036479  \n",
       "3                10017     1.002806  \n",
       "4                70161     2.005612  \n",
       "5                 4019     0.100281  \n",
       "6                15151     7.621326  \n",
       "7                15151     0.401122  \n",
       "8                82149     5.014030  \n",
       "9                 3071     1.403929  "
      ]
     },
     "execution_count": 8,
     "metadata": {},
     "output_type": "execute_result"
    }
   ],
   "source": [
    "df = pd.read_csv(os.path.join(data_dir, \"origin_destination_bus_202001_scaleddown.csv.xz\"))\n",
    "df.head(10)"
   ]
  },
  {
   "cell_type": "code",
   "execution_count": 9,
   "metadata": {},
   "outputs": [
    {
     "data": {
      "text/plain": [
       "3891197"
      ]
     },
     "execution_count": 9,
     "metadata": {},
     "output_type": "execute_result"
    }
   ],
   "source": [
    "df_wday = df[df[\"DAY_TYPE\"]==\"WEEKDAY\"]\n",
    "len(df_wday)"
   ]
  },
  {
   "cell_type": "code",
   "execution_count": 10,
   "metadata": {},
   "outputs": [
    {
     "data": {
      "text/plain": [
       "3.7445489782608674"
      ]
     },
     "execution_count": 10,
     "metadata": {},
     "output_type": "execute_result"
    }
   ],
   "source": [
    "df_wday[\"TOTAL_TRIPS\"].sum()/1000000/23"
   ]
  },
  {
   "cell_type": "code",
   "execution_count": 11,
   "metadata": {},
   "outputs": [],
   "source": [
    "def process_an_hour(df_temp, hr):\n",
    "    flows = defaultdict(int)\n",
    "    for i in range(len(df_temp)):\n",
    "        this_row = df_temp.iloc[i]\n",
    "        o = this_row[\"ORIGIN_PT_CODE\"]\n",
    "        d = this_row[\"DESTINATION_PT_CODE\"]\n",
    "        t = this_row[\"TOTAL_TRIPS\"]\n",
    "        o2 = bus_stop_loc[str(o)]\n",
    "        d2 = bus_stop_loc[str(d)]\n",
    "        flows[(o2, d2)]+=t\n",
    "    \n",
    "    flows2 = []\n",
    "    for k,v in flows.items():\n",
    "        i,j = k\n",
    "        d = {\"origin\":i, \"destination\":j, \"hour\":hr, \"flow\": v}\n",
    "        flows2.append(d)\n",
    "    df2 = pd.DataFrame.from_dict(flows2)\n",
    "    df2 = df2[[\"origin\", \"destination\", \"hour\", \"flow\"]]\n",
    "    return df2"
   ]
  },
  {
   "cell_type": "code",
   "execution_count": 13,
   "metadata": {},
   "outputs": [
    {
     "name": "stdout",
     "output_type": "stream",
     "text": [
      "0 53542 9155\n",
      "1 5497 1495\n",
      "2 866 479\n",
      "3 97 50\n",
      "4 83 48\n",
      "5 53602 9249\n",
      "6 165314 17733\n",
      "7 209873 19521\n",
      "8 216922 19691\n",
      "9 210167 19591\n",
      "10 210902 19761\n",
      "11 215245 20017\n",
      "12 223711 20301\n",
      "13 225498 20442\n",
      "14 225561 20508\n",
      "15 229204 20557\n",
      "16 234765 20679\n",
      "17 247364 20925\n",
      "18 248188 20916\n",
      "19 223048 20040\n",
      "20 198916 19358\n",
      "21 187900 19118\n",
      "22 170561 18558\n",
      "23 134371 17013\n"
     ]
    }
   ],
   "source": [
    "for hr in range(24):\n",
    "    temp = df_wday[df_wday[\"TIME_PER_HOUR\"]==hr]\n",
    "    temp2 = process_an_hour(temp, hr)\n",
    "    print(hr, len(temp), len(temp2))\n",
    "    fout = os.path.join(data_dir, \"OD_bus\", \"OD_202001_weekday_{}.csv\".format(str(hr).zfill(2)))\n",
    "    temp2.to_csv(fout, index_label=\"ind\")\n",
    "    #break"
   ]
  },
  {
   "cell_type": "code",
   "execution_count": null,
   "metadata": {},
   "outputs": [],
   "source": []
  },
  {
   "cell_type": "code",
   "execution_count": null,
   "metadata": {},
   "outputs": [],
   "source": []
  },
  {
   "cell_type": "code",
   "execution_count": 14,
   "metadata": {},
   "outputs": [
    {
     "data": {
      "text/plain": [
       "2943815"
      ]
     },
     "execution_count": 14,
     "metadata": {},
     "output_type": "execute_result"
    }
   ],
   "source": [
    "df_wend = df[df[\"DAY_TYPE\"]==\"WEEKENDS/HOLIDAY\"]\n",
    "len(df_wend)"
   ]
  },
  {
   "cell_type": "code",
   "execution_count": 15,
   "metadata": {},
   "outputs": [
    {
     "data": {
      "text/plain": [
       "3.7551366250000013"
      ]
     },
     "execution_count": 15,
     "metadata": {},
     "output_type": "execute_result"
    }
   ],
   "source": [
    "df_wend[\"TOTAL_TRIPS\"].sum()/1000000/8"
   ]
  },
  {
   "cell_type": "code",
   "execution_count": 16,
   "metadata": {},
   "outputs": [
    {
     "name": "stdout",
     "output_type": "stream",
     "text": [
      "0 39628 7959\n",
      "1 3785 1313\n",
      "2 539 366\n",
      "3 17 17\n",
      "4 189 121\n",
      "5 32472 7107\n",
      "6 104564 15217\n",
      "7 138329 16983\n",
      "8 156987 17695\n",
      "9 162610 17946\n",
      "10 169221 18374\n",
      "11 175892 18773\n",
      "12 181820 19049\n",
      "13 179640 19135\n",
      "14 177052 19025\n",
      "15 176957 19094\n",
      "16 178343 19188\n",
      "17 183468 19350\n",
      "18 178877 18955\n",
      "19 168797 18620\n",
      "20 154588 18060\n",
      "21 144525 17691\n",
      "22 131897 17052\n",
      "23 103618 15451\n"
     ]
    }
   ],
   "source": [
    "for hr in range(24):\n",
    "    temp = df_wend[df_wend[\"TIME_PER_HOUR\"]==hr]\n",
    "    temp2 = process_an_hour(temp, hr)\n",
    "    fout = os.path.join(data_dir, \"OD_bus\", \"OD_202001_weekend_{}.csv\".format(str(hr).zfill(2)))\n",
    "    temp2.to_csv(fout, index_label=\"ind\")\n",
    "    print(hr, len(temp), len(temp2))\n",
    "    #break"
   ]
  },
  {
   "cell_type": "code",
   "execution_count": null,
   "metadata": {},
   "outputs": [],
   "source": []
  }
 ],
 "metadata": {
  "kernelspec": {
   "display_name": "Python 3",
   "language": "python",
   "name": "python3"
  },
  "language_info": {
   "codemirror_mode": {
    "name": "ipython",
    "version": 3
   },
   "file_extension": ".py",
   "mimetype": "text/x-python",
   "name": "python",
   "nbconvert_exporter": "python",
   "pygments_lexer": "ipython3",
   "version": "3.6.8"
  }
 },
 "nbformat": 4,
 "nbformat_minor": 4
}
