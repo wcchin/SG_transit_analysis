{
 "cells": [
  {
   "cell_type": "code",
   "execution_count": 1,
   "metadata": {},
   "outputs": [],
   "source": [
    "import os\n",
    "import numpy as np\n",
    "import networkx as nx\n",
    "import pandas as pd\n",
    "import geopandas as gpd\n",
    "import json\n",
    "import matplotlib.pyplot as plt\n",
    "import seaborn as sns\n",
    "from collections import defaultdict\n",
    "from tqdm import tqdm"
   ]
  },
  {
   "cell_type": "code",
   "execution_count": 2,
   "metadata": {},
   "outputs": [],
   "source": [
    "import warnings\n",
    "warnings.filterwarnings('ignore')"
   ]
  },
  {
   "cell_type": "code",
   "execution_count": 3,
   "metadata": {},
   "outputs": [
    {
     "name": "stdout",
     "output_type": "stream",
     "text": [
      "['bus_stops_wszone.dbf', 'bus_stops_wszone.shp', 'net_202001_15.net', 'OD_bus', 'net_202001_05.net', 'net_202001_06.net', 'origin_destination_train_201912.csv.xz', 'train_station_wszone.prj', 'origin_destination_train_202001.csv.xz', 'train_station_wszone.dbf', 'OD_202001_weekend.csv.xz', 'net_202001_22.net', 'subzone_centroid.csv', 'OD_201912_weekday.csv.xz', 'origin_destination_bus_201911.csv.xz', 'net_202001_19.net', 'net_202001_18.net', 'train_station_wszone.cpg', 'OD_PT', 'train_station_wszone.shx', 'net_202001_10.net', 'OD_201911_weekend.csv.xz', 'origin_destination_train_201911.csv.xz', 'net_202001_weekend.net', 'subzone_centroid_pos.json', '.ipynb_checkpoints', 'net_202001_21.net', 'origin_destination_bus_202001.csv.xz', 'OD_201912_weekend.csv.xz', 'net_202001_07.net', 'origin_destination_bus_201912.csv.xz', 'net_202001_23.net', 'region-2014', 'train_station_wszone.shp', 'net_202001_weekday.net', 'net_202001_16.net', 'OD_train', 'bus_stops_wszone.shx', 'OD_202001_weekday.csv.xz', 'net_202001_20.net', 'net_202001_11.net', 'bus_stops_wszone.prj', 'net_202001_14.net', 'subzone-2014', 'net_202001_09.net', 'net_202001_12.net', 'net_202001_08.net', 'net_202001_17.net', 'net_202001_13.net', 'OD_201911_weekday.csv.xz', 'bus_stops_wszone.cpg']\n"
     ]
    },
    {
     "data": {
      "text/plain": [
       "<matplotlib.axes._subplots.AxesSubplot at 0x7f2aa87d29e8>"
      ]
     },
     "execution_count": 3,
     "metadata": {},
     "output_type": "execute_result"
    },
    {
     "data": {
      "image/png": "[encoded data removed]",
      "text/plain": [
       "<Figure size 432x288 with 1 Axes>"
      ]
     },
     "metadata": {
      "needs_background": "light"
     },
     "output_type": "display_data"
    }
   ],
   "source": [
    "data_dir = \"../data\"\n",
    "print(os.listdir(data_dir))\n",
    "\n",
    "#os.listdir(\"../data\")\n",
    "region = gpd.read_file(\"../data/region-2014/MP14_REGION_WEB_PL.shp\")\n",
    "region.plot(color=\"grey\", edgecolor=\"k\", alpha=0.1)"
   ]
  },
  {
   "cell_type": "code",
   "execution_count": 4,
   "metadata": {},
   "outputs": [
    {
     "data": {
      "text/plain": [
       "[31595.83574613999, 29220.18737674884]"
      ]
     },
     "execution_count": 4,
     "metadata": {},
     "output_type": "execute_result"
    }
   ],
   "source": [
    "with open(os.path.join(\"../data\", 'subzone_centroid_pos.json'), 'r') as fread:\n",
    "    pos = json.load(fread)\n",
    "pos[\"MARINA SOUTH\"]"
   ]
  },
  {
   "cell_type": "code",
   "execution_count": null,
   "metadata": {},
   "outputs": [],
   "source": []
  },
  {
   "cell_type": "markdown",
   "metadata": {},
   "source": [
    "data"
   ]
  },
  {
   "cell_type": "code",
   "execution_count": 5,
   "metadata": {},
   "outputs": [
    {
     "data": {
      "text/plain": [
       "(303, 30043)"
      ]
     },
     "execution_count": 5,
     "metadata": {},
     "output_type": "execute_result"
    }
   ],
   "source": [
    "day = \"weekday\" # \"weekend\"\n",
    "fp = os.path.join(data_dir, \"net_202001_{}.net\".format(day))\n",
    "dg1 = nx.read_pajek(fp)\n",
    "dg1.number_of_nodes(), dg1.number_of_edges()"
   ]
  },
  {
   "cell_type": "code",
   "execution_count": 11,
   "metadata": {},
   "outputs": [
    {
     "data": {
      "text/plain": [
       "(303, 30043)"
      ]
     },
     "execution_count": 11,
     "metadata": {},
     "output_type": "execute_result"
    }
   ],
   "source": [
    "dg1 = nx.DiGraph(dg1)\n",
    "dg1.number_of_nodes(), dg1.number_of_edges()"
   ]
  },
  {
   "cell_type": "code",
   "execution_count": 13,
   "metadata": {},
   "outputs": [
    {
     "name": "stdout",
     "output_type": "stream",
     "text": [
      "{'weight': 272160.0}\n"
     ]
    }
   ],
   "source": [
    "for u,v,d in dg1.edges(data=True):\n",
    "    print(d)\n",
    "    break"
   ]
  },
  {
   "cell_type": "code",
   "execution_count": 6,
   "metadata": {},
   "outputs": [
    {
     "data": {
      "text/plain": [
       "(303, 30043)"
      ]
     },
     "execution_count": 6,
     "metadata": {},
     "output_type": "execute_result"
    }
   ],
   "source": [
    "day = \"weekend\"\n",
    "fp2 = os.path.join(data_dir, \"net_202001_{}.net\".format(day))\n",
    "dg2 = nx.read_pajek(fp2)\n",
    "dg2.number_of_nodes(), dg2.number_of_edges()"
   ]
  },
  {
   "cell_type": "code",
   "execution_count": 14,
   "metadata": {},
   "outputs": [
    {
     "data": {
      "text/plain": [
       "(303, 30043)"
      ]
     },
     "execution_count": 14,
     "metadata": {},
     "output_type": "execute_result"
    }
   ],
   "source": [
    "dg2 = nx.DiGraph(dg2)\n",
    "dg2.number_of_nodes(), dg2.number_of_edges()"
   ]
  },
  {
   "cell_type": "code",
   "execution_count": 20,
   "metadata": {},
   "outputs": [],
   "source": [
    "h1, a1 = nx.hits(dg1, max_iter=1000, tol=1e-08,)\n",
    "h2, a2 = nx.hits(dg2, max_iter=1000, tol=1e-08,)"
   ]
  },
  {
   "cell_type": "code",
   "execution_count": 21,
   "metadata": {},
   "outputs": [
    {
     "data": {
      "text/html": [
       "<div>\n",
       "<style scoped>\n",
       "    .dataframe tbody tr th:only-of-type {\n",
       "        vertical-align: middle;\n",
       "    }\n",
       "\n",
       "    .dataframe tbody tr th {\n",
       "        vertical-align: top;\n",
       "    }\n",
       "\n",
       "    .dataframe thead th {\n",
       "        text-align: right;\n",
       "    }\n",
       "</style>\n",
       "<table border=\"1\" class=\"dataframe\">\n",
       "  <thead>\n",
       "    <tr style=\"text-align: right;\">\n",
       "      <th></th>\n",
       "      <th>in_degree</th>\n",
       "      <th>out_degree</th>\n",
       "      <th>PageRank</th>\n",
       "      <th>HITS_hub</th>\n",
       "      <th>HITS_authority</th>\n",
       "    </tr>\n",
       "  </thead>\n",
       "  <tbody>\n",
       "    <tr>\n",
       "      <th>ADMIRALTY</th>\n",
       "      <td>3001700.0</td>\n",
       "      <td>2277885.0</td>\n",
       "      <td>0.002484</td>\n",
       "      <td>0.000819</td>\n",
       "      <td>0.000650</td>\n",
       "    </tr>\n",
       "    <tr>\n",
       "      <th>AIRPORT ROAD</th>\n",
       "      <td>463360.0</td>\n",
       "      <td>428300.0</td>\n",
       "      <td>0.000739</td>\n",
       "      <td>0.000445</td>\n",
       "      <td>0.000280</td>\n",
       "    </tr>\n",
       "    <tr>\n",
       "      <th>ALEXANDRA HILL</th>\n",
       "      <td>7956700.0</td>\n",
       "      <td>6582233.0</td>\n",
       "      <td>0.005698</td>\n",
       "      <td>0.000426</td>\n",
       "      <td>0.000518</td>\n",
       "    </tr>\n",
       "    <tr>\n",
       "      <th>ALEXANDRA NORTH</th>\n",
       "      <td>628620.0</td>\n",
       "      <td>954280.0</td>\n",
       "      <td>0.000878</td>\n",
       "      <td>0.000056</td>\n",
       "      <td>0.000026</td>\n",
       "    </tr>\n",
       "    <tr>\n",
       "      <th>ALJUNIED</th>\n",
       "      <td>20250634.0</td>\n",
       "      <td>18894418.0</td>\n",
       "      <td>0.011401</td>\n",
       "      <td>0.011760</td>\n",
       "      <td>0.013467</td>\n",
       "    </tr>\n",
       "  </tbody>\n",
       "</table>\n",
       "</div>"
      ],
      "text/plain": [
       "                  in_degree  out_degree  PageRank  HITS_hub  HITS_authority\n",
       "ADMIRALTY         3001700.0   2277885.0  0.002484  0.000819        0.000650\n",
       "AIRPORT ROAD       463360.0    428300.0  0.000739  0.000445        0.000280\n",
       "ALEXANDRA HILL    7956700.0   6582233.0  0.005698  0.000426        0.000518\n",
       "ALEXANDRA NORTH    628620.0    954280.0  0.000878  0.000056        0.000026\n",
       "ALJUNIED         20250634.0  18894418.0  0.011401  0.011760        0.013467"
      ]
     },
     "execution_count": 21,
     "metadata": {},
     "output_type": "execute_result"
    }
   ],
   "source": [
    "\n",
    "node_stats_1 = {\"in_degree\": dict(dg1.in_degree(weight=\"weight\")), \n",
    "              \"out_degree\": dict(dg1.out_degree(weight=\"weight\")), \n",
    "              \"PageRank\": nx.pagerank(dg1, weight=\"weight\"), \n",
    "              \"HITS_hub\": h1, \n",
    "              \"HITS_authority\": a1\n",
    "             }\n",
    "df_stats_1 = pd.DataFrame.from_dict(node_stats_1)\n",
    "df_stats_1.head()"
   ]
  },
  {
   "cell_type": "code",
   "execution_count": 22,
   "metadata": {},
   "outputs": [
    {
     "data": {
      "text/html": [
       "<div>\n",
       "<style scoped>\n",
       "    .dataframe tbody tr th:only-of-type {\n",
       "        vertical-align: middle;\n",
       "    }\n",
       "\n",
       "    .dataframe tbody tr th {\n",
       "        vertical-align: top;\n",
       "    }\n",
       "\n",
       "    .dataframe thead th {\n",
       "        text-align: right;\n",
       "    }\n",
       "</style>\n",
       "<table border=\"1\" class=\"dataframe\">\n",
       "  <thead>\n",
       "    <tr style=\"text-align: right;\">\n",
       "      <th></th>\n",
       "      <th>in_degree</th>\n",
       "      <th>out_degree</th>\n",
       "      <th>PageRank</th>\n",
       "      <th>HITS_hub</th>\n",
       "      <th>HITS_authority</th>\n",
       "    </tr>\n",
       "  </thead>\n",
       "  <tbody>\n",
       "    <tr>\n",
       "      <th>ADMIRALTY</th>\n",
       "      <td>1273000.0</td>\n",
       "      <td>947890.0</td>\n",
       "      <td>0.002648</td>\n",
       "      <td>0.001322</td>\n",
       "      <td>0.001210</td>\n",
       "    </tr>\n",
       "    <tr>\n",
       "      <th>AIRPORT ROAD</th>\n",
       "      <td>26560.0</td>\n",
       "      <td>24980.0</td>\n",
       "      <td>0.000537</td>\n",
       "      <td>0.000053</td>\n",
       "      <td>0.000034</td>\n",
       "    </tr>\n",
       "    <tr>\n",
       "      <th>ALEXANDRA HILL</th>\n",
       "      <td>2725460.0</td>\n",
       "      <td>2034360.0</td>\n",
       "      <td>0.005547</td>\n",
       "      <td>0.000634</td>\n",
       "      <td>0.000833</td>\n",
       "    </tr>\n",
       "    <tr>\n",
       "      <th>ALEXANDRA NORTH</th>\n",
       "      <td>154940.0</td>\n",
       "      <td>192740.0</td>\n",
       "      <td>0.000763</td>\n",
       "      <td>0.000053</td>\n",
       "      <td>0.000035</td>\n",
       "    </tr>\n",
       "    <tr>\n",
       "      <th>ALJUNIED</th>\n",
       "      <td>8329963.0</td>\n",
       "      <td>7877094.0</td>\n",
       "      <td>0.012875</td>\n",
       "      <td>0.014026</td>\n",
       "      <td>0.017055</td>\n",
       "    </tr>\n",
       "  </tbody>\n",
       "</table>\n",
       "</div>"
      ],
      "text/plain": [
       "                 in_degree  out_degree  PageRank  HITS_hub  HITS_authority\n",
       "ADMIRALTY        1273000.0    947890.0  0.002648  0.001322        0.001210\n",
       "AIRPORT ROAD       26560.0     24980.0  0.000537  0.000053        0.000034\n",
       "ALEXANDRA HILL   2725460.0   2034360.0  0.005547  0.000634        0.000833\n",
       "ALEXANDRA NORTH   154940.0    192740.0  0.000763  0.000053        0.000035\n",
       "ALJUNIED         8329963.0   7877094.0  0.012875  0.014026        0.017055"
      ]
     },
     "execution_count": 22,
     "metadata": {},
     "output_type": "execute_result"
    }
   ],
   "source": [
    "\n",
    "node_stats_2 = {\"in_degree\": dict(dg2.in_degree(weight=\"weight\")), \n",
    "              \"out_degree\": dict(dg2.out_degree(weight=\"weight\")), \n",
    "              \"PageRank\": nx.pagerank(dg2, weight=\"weight\"), \n",
    "              \"HITS_hub\": h2, \n",
    "              \"HITS_authority\": a2\n",
    "             }\n",
    "df_stats_2 = pd.DataFrame.from_dict(node_stats_2)\n",
    "df_stats_2.head()"
   ]
  },
  {
   "cell_type": "code",
   "execution_count": 23,
   "metadata": {},
   "outputs": [
    {
     "data": {
      "text/plain": [
       "Text(0, 0.5, 'out_degree')"
      ]
     },
     "execution_count": 23,
     "metadata": {},
     "output_type": "execute_result"
    },
    {
     "data": {
      "image/png": "[encoded data removed]",
      "text/plain": [
       "<Figure size 1008x504 with 2 Axes>"
      ]
     },
     "metadata": {
      "needs_background": "light"
     },
     "output_type": "display_data"
    }
   ],
   "source": [
    "fig, axs = plt.subplots(1, 2, figsize=(14,7), sharex=False, sharey=False)\n",
    "axs[0].scatter(df_stats_1[\"in_degree\"], df_stats_1[\"out_degree\"])\n",
    "axs[0].set_aspect(\"equal\")\n",
    "axs[0].set_title(\"weekday\")\n",
    "axs[0].set_xlabel(\"in_degree\")\n",
    "axs[0].set_ylabel(\"out_degree\")\n",
    "\n",
    "axs[1].scatter(df_stats_2[\"in_degree\"], df_stats_2[\"out_degree\"])\n",
    "axs[1].set_aspect(\"equal\")\n",
    "axs[1].set_title(\"weekend\")\n",
    "axs[1].set_xlabel(\"in_degree\")\n",
    "axs[1].set_ylabel(\"out_degree\")"
   ]
  },
  {
   "cell_type": "code",
   "execution_count": 28,
   "metadata": {},
   "outputs": [
    {
     "data": {
      "text/plain": [
       "Text(0, 0.5, 'PageRank')"
      ]
     },
     "execution_count": 28,
     "metadata": {},
     "output_type": "execute_result"
    },
    {
     "data": {
      "image/png": "[encoded data removed]",
      "text/plain": [
       "<Figure size 1008x504 with 2 Axes>"
      ]
     },
     "metadata": {
      "needs_background": "light"
     },
     "output_type": "display_data"
    }
   ],
   "source": [
    "fig, axs = plt.subplots(1, 2, figsize=(14,7), sharex=False, sharey=False)\n",
    "axs[0].scatter(df_stats_1[\"in_degree\"], df_stats_1[\"PageRank\"])\n",
    "#axs[0].set_aspect(\"equal\")\n",
    "axs[0].set_title(\"weekday\")\n",
    "axs[0].set_xlabel(\"in_degree\")\n",
    "axs[0].set_ylabel(\"PageRank\")\n",
    "\n",
    "axs[1].scatter(df_stats_2[\"in_degree\"], df_stats_2[\"PageRank\"])\n",
    "#axs[1].set_aspect(\"equal\")\n",
    "axs[1].set_title(\"weekend\")\n",
    "axs[1].set_xlabel(\"in_degree\")\n",
    "axs[1].set_ylabel(\"PageRank\")"
   ]
  },
  {
   "cell_type": "code",
   "execution_count": 27,
   "metadata": {},
   "outputs": [
    {
     "data": {
      "text/plain": [
       "Text(0, 0.5, 'HITS_authority')"
      ]
     },
     "execution_count": 27,
     "metadata": {},
     "output_type": "execute_result"
    },
    {
     "data": {
      "image/png": "[encoded data removed]",
      "text/plain": [
       "<Figure size 1008x504 with 2 Axes>"
      ]
     },
     "metadata": {
      "needs_background": "light"
     },
     "output_type": "display_data"
    }
   ],
   "source": [
    "fig, axs = plt.subplots(1, 2, figsize=(14,7), sharex=False, sharey=False)\n",
    "axs[0].scatter(df_stats_1[\"HITS_hub\"], df_stats_1[\"HITS_authority\"])\n",
    "#axs[0].set_aspect(\"equal\")\n",
    "axs[0].set_title(\"weekday\")\n",
    "axs[0].set_xlabel(\"HITS_hub\")\n",
    "axs[0].set_ylabel(\"HITS_authority\")\n",
    "\n",
    "axs[1].scatter(df_stats_2[\"HITS_hub\"], df_stats_2[\"HITS_authority\"])\n",
    "#axs[1].set_aspect(\"equal\")\n",
    "axs[1].set_title(\"weekend\")\n",
    "axs[1].set_xlabel(\"HITS_hub\")\n",
    "axs[1].set_ylabel(\"HITS_authority\")"
   ]
  },
  {
   "cell_type": "code",
   "execution_count": 33,
   "metadata": {},
   "outputs": [
    {
     "data": {
      "text/plain": [
       "Text(0, 0.5, 'HITS_authority')"
      ]
     },
     "execution_count": 33,
     "metadata": {},
     "output_type": "execute_result"
    },
    {
     "data": {
      "image/png": "[encoded data removed]",
      "text/plain": [
       "<Figure size 1008x504 with 2 Axes>"
      ]
     },
     "metadata": {
      "needs_background": "light"
     },
     "output_type": "display_data"
    }
   ],
   "source": [
    "fig, axs = plt.subplots(1, 2, figsize=(14,7), sharex=False, sharey=False)\n",
    "axs[0].scatter(df_stats_1[\"PageRank\"], df_stats_1[\"HITS_authority\"])\n",
    "#axs[0].set_aspect(\"equal\")\n",
    "axs[0].set_title(\"weekday\")\n",
    "axs[0].set_xlabel(\"PageRank\")\n",
    "axs[0].set_ylabel(\"HITS_authority\")\n",
    "\n",
    "axs[1].scatter(df_stats_2[\"PageRank\"], df_stats_2[\"HITS_authority\"])\n",
    "#axs[1].set_aspect(\"equal\")\n",
    "axs[1].set_title(\"weekend\")\n",
    "axs[1].set_xlabel(\"PageRank\")\n",
    "axs[1].set_ylabel(\"HITS_authority\")"
   ]
  },
  {
   "cell_type": "code",
   "execution_count": 30,
   "metadata": {},
   "outputs": [
    {
     "data": {
      "text/plain": [
       "Text(0, 0.5, 'HITS_hub')"
      ]
     },
     "execution_count": 30,
     "metadata": {},
     "output_type": "execute_result"
    },
    {
     "data": {
      "image/png": "[encoded data removed]",
      "text/plain": [
       "<Figure size 1008x504 with 2 Axes>"
      ]
     },
     "metadata": {
      "needs_background": "light"
     },
     "output_type": "display_data"
    }
   ],
   "source": [
    "fig, axs = plt.subplots(1, 2, figsize=(14,7), sharex=False, sharey=False)\n",
    "axs[0].scatter(df_stats_1[\"PageRank\"], df_stats_1[\"HITS_hub\"])\n",
    "#axs[0].set_aspect(\"equal\")\n",
    "axs[0].set_title(\"weekday\")\n",
    "axs[0].set_xlabel(\"PageRank\")\n",
    "axs[0].set_ylabel(\"HITS_hub\")\n",
    "\n",
    "axs[1].scatter(df_stats_2[\"PageRank\"], df_stats_2[\"HITS_hub\"])\n",
    "#axs[1].set_aspect(\"equal\")\n",
    "axs[1].set_title(\"weekend\")\n",
    "axs[1].set_xlabel(\"PageRank\")\n",
    "axs[1].set_ylabel(\"HITS_hub\")"
   ]
  },
  {
   "cell_type": "code",
   "execution_count": 34,
   "metadata": {},
   "outputs": [
    {
     "data": {
      "text/plain": [
       "Text(0, 0.5, 'HITS_authority')"
      ]
     },
     "execution_count": 34,
     "metadata": {},
     "output_type": "execute_result"
    },
    {
     "data": {
      "image/png": "[encoded data removed]",
      "text/plain": [
       "<Figure size 1008x504 with 2 Axes>"
      ]
     },
     "metadata": {
      "needs_background": "light"
     },
     "output_type": "display_data"
    }
   ],
   "source": [
    "fig, axs = plt.subplots(1, 2, figsize=(14,7), sharex=False, sharey=False)\n",
    "axs[0].scatter(df_stats_1[\"in_degree\"], df_stats_1[\"HITS_authority\"])\n",
    "#axs[0].set_aspect(\"equal\")\n",
    "axs[0].set_title(\"weekday\")\n",
    "axs[0].set_xlabel(\"in_degree\")\n",
    "axs[0].set_ylabel(\"HITS_authority\")\n",
    "\n",
    "axs[1].scatter(df_stats_2[\"in_degree\"], df_stats_2[\"HITS_authority\"])\n",
    "#axs[1].set_aspect(\"equal\")\n",
    "axs[1].set_title(\"weekend\")\n",
    "axs[1].set_xlabel(\"in_degree\")\n",
    "axs[1].set_ylabel(\"HITS_authority\")"
   ]
  },
  {
   "cell_type": "code",
   "execution_count": 35,
   "metadata": {},
   "outputs": [
    {
     "data": {
      "text/plain": [
       "Text(0, 0.5, 'HITS_hub')"
      ]
     },
     "execution_count": 35,
     "metadata": {},
     "output_type": "execute_result"
    },
    {
     "data": {
      "image/png": "[encoded data removed]",
      "text/plain": [
       "<Figure size 1008x504 with 2 Axes>"
      ]
     },
     "metadata": {
      "needs_background": "light"
     },
     "output_type": "display_data"
    }
   ],
   "source": [
    "fig, axs = plt.subplots(1, 2, figsize=(14,7), sharex=False, sharey=False)\n",
    "axs[0].scatter(df_stats_1[\"out_degree\"], df_stats_1[\"HITS_hub\"])\n",
    "#axs[0].set_aspect(\"equal\")\n",
    "axs[0].set_title(\"weekday\")\n",
    "axs[0].set_xlabel(\"out_degree\")\n",
    "axs[0].set_ylabel(\"HITS_hub\")\n",
    "\n",
    "axs[1].scatter(df_stats_2[\"out_degree\"], df_stats_2[\"HITS_hub\"])\n",
    "#axs[1].set_aspect(\"equal\")\n",
    "axs[1].set_title(\"weekend\")\n",
    "axs[1].set_xlabel(\"out_degree\")\n",
    "axs[1].set_ylabel(\"HITS_hub\")"
   ]
  },
  {
   "cell_type": "code",
   "execution_count": 39,
   "metadata": {},
   "outputs": [
    {
     "data": {
      "text/html": [
       "<div>\n",
       "<style scoped>\n",
       "    .dataframe tbody tr th:only-of-type {\n",
       "        vertical-align: middle;\n",
       "    }\n",
       "\n",
       "    .dataframe tbody tr th {\n",
       "        vertical-align: top;\n",
       "    }\n",
       "\n",
       "    .dataframe thead th {\n",
       "        text-align: right;\n",
       "    }\n",
       "</style>\n",
       "<table border=\"1\" class=\"dataframe\">\n",
       "  <thead>\n",
       "    <tr style=\"text-align: right;\">\n",
       "      <th></th>\n",
       "      <th>in_degree</th>\n",
       "      <th>out_degree</th>\n",
       "      <th>PageRank</th>\n",
       "      <th>HITS_hub</th>\n",
       "      <th>HITS_authority</th>\n",
       "    </tr>\n",
       "  </thead>\n",
       "  <tbody>\n",
       "    <tr>\n",
       "      <th>ADMIRALTY</th>\n",
       "      <td>3001700.0</td>\n",
       "      <td>2277885.0</td>\n",
       "      <td>0.002484</td>\n",
       "      <td>0.000819</td>\n",
       "      <td>0.000650</td>\n",
       "    </tr>\n",
       "    <tr>\n",
       "      <th>AIRPORT ROAD</th>\n",
       "      <td>463360.0</td>\n",
       "      <td>428300.0</td>\n",
       "      <td>0.000739</td>\n",
       "      <td>0.000445</td>\n",
       "      <td>0.000280</td>\n",
       "    </tr>\n",
       "    <tr>\n",
       "      <th>ALEXANDRA HILL</th>\n",
       "      <td>7956700.0</td>\n",
       "      <td>6582233.0</td>\n",
       "      <td>0.005698</td>\n",
       "      <td>0.000426</td>\n",
       "      <td>0.000518</td>\n",
       "    </tr>\n",
       "    <tr>\n",
       "      <th>ALEXANDRA NORTH</th>\n",
       "      <td>628620.0</td>\n",
       "      <td>954280.0</td>\n",
       "      <td>0.000878</td>\n",
       "      <td>0.000056</td>\n",
       "      <td>0.000026</td>\n",
       "    </tr>\n",
       "    <tr>\n",
       "      <th>ALJUNIED</th>\n",
       "      <td>20250634.0</td>\n",
       "      <td>18894418.0</td>\n",
       "      <td>0.011401</td>\n",
       "      <td>0.011760</td>\n",
       "      <td>0.013467</td>\n",
       "    </tr>\n",
       "  </tbody>\n",
       "</table>\n",
       "</div>"
      ],
      "text/plain": [
       "                  in_degree  out_degree  PageRank  HITS_hub  HITS_authority\n",
       "ADMIRALTY         3001700.0   2277885.0  0.002484  0.000819        0.000650\n",
       "AIRPORT ROAD       463360.0    428300.0  0.000739  0.000445        0.000280\n",
       "ALEXANDRA HILL    7956700.0   6582233.0  0.005698  0.000426        0.000518\n",
       "ALEXANDRA NORTH    628620.0    954280.0  0.000878  0.000056        0.000026\n",
       "ALJUNIED         20250634.0  18894418.0  0.011401  0.011760        0.013467"
      ]
     },
     "execution_count": 39,
     "metadata": {},
     "output_type": "execute_result"
    }
   ],
   "source": [
    "df_stats_1.head()"
   ]
  },
  {
   "cell_type": "code",
   "execution_count": 40,
   "metadata": {},
   "outputs": [
    {
     "data": {
      "text/html": [
       "<div>\n",
       "<style scoped>\n",
       "    .dataframe tbody tr th:only-of-type {\n",
       "        vertical-align: middle;\n",
       "    }\n",
       "\n",
       "    .dataframe tbody tr th {\n",
       "        vertical-align: top;\n",
       "    }\n",
       "\n",
       "    .dataframe thead th {\n",
       "        text-align: right;\n",
       "    }\n",
       "</style>\n",
       "<table border=\"1\" class=\"dataframe\">\n",
       "  <thead>\n",
       "    <tr style=\"text-align: right;\">\n",
       "      <th></th>\n",
       "      <th>in_degree</th>\n",
       "      <th>out_degree</th>\n",
       "      <th>PageRank</th>\n",
       "      <th>HITS_hub</th>\n",
       "      <th>HITS_authority</th>\n",
       "    </tr>\n",
       "  </thead>\n",
       "  <tbody>\n",
       "    <tr>\n",
       "      <th>ADMIRALTY</th>\n",
       "      <td>1273000.0</td>\n",
       "      <td>947890.0</td>\n",
       "      <td>0.002648</td>\n",
       "      <td>0.001322</td>\n",
       "      <td>0.001210</td>\n",
       "    </tr>\n",
       "    <tr>\n",
       "      <th>AIRPORT ROAD</th>\n",
       "      <td>26560.0</td>\n",
       "      <td>24980.0</td>\n",
       "      <td>0.000537</td>\n",
       "      <td>0.000053</td>\n",
       "      <td>0.000034</td>\n",
       "    </tr>\n",
       "    <tr>\n",
       "      <th>ALEXANDRA HILL</th>\n",
       "      <td>2725460.0</td>\n",
       "      <td>2034360.0</td>\n",
       "      <td>0.005547</td>\n",
       "      <td>0.000634</td>\n",
       "      <td>0.000833</td>\n",
       "    </tr>\n",
       "    <tr>\n",
       "      <th>ALEXANDRA NORTH</th>\n",
       "      <td>154940.0</td>\n",
       "      <td>192740.0</td>\n",
       "      <td>0.000763</td>\n",
       "      <td>0.000053</td>\n",
       "      <td>0.000035</td>\n",
       "    </tr>\n",
       "    <tr>\n",
       "      <th>ALJUNIED</th>\n",
       "      <td>8329963.0</td>\n",
       "      <td>7877094.0</td>\n",
       "      <td>0.012875</td>\n",
       "      <td>0.014026</td>\n",
       "      <td>0.017055</td>\n",
       "    </tr>\n",
       "  </tbody>\n",
       "</table>\n",
       "</div>"
      ],
      "text/plain": [
       "                 in_degree  out_degree  PageRank  HITS_hub  HITS_authority\n",
       "ADMIRALTY        1273000.0    947890.0  0.002648  0.001322        0.001210\n",
       "AIRPORT ROAD       26560.0     24980.0  0.000537  0.000053        0.000034\n",
       "ALEXANDRA HILL   2725460.0   2034360.0  0.005547  0.000634        0.000833\n",
       "ALEXANDRA NORTH   154940.0    192740.0  0.000763  0.000053        0.000035\n",
       "ALJUNIED         8329963.0   7877094.0  0.012875  0.014026        0.017055"
      ]
     },
     "execution_count": 40,
     "metadata": {},
     "output_type": "execute_result"
    }
   ],
   "source": [
    "df_stats_2.head()"
   ]
  },
  {
   "cell_type": "code",
   "execution_count": 44,
   "metadata": {},
   "outputs": [
    {
     "data": {
      "text/html": [
       "<div>\n",
       "<style scoped>\n",
       "    .dataframe tbody tr th:only-of-type {\n",
       "        vertical-align: middle;\n",
       "    }\n",
       "\n",
       "    .dataframe tbody tr th {\n",
       "        vertical-align: top;\n",
       "    }\n",
       "\n",
       "    .dataframe thead th {\n",
       "        text-align: right;\n",
       "    }\n",
       "</style>\n",
       "<table border=\"1\" class=\"dataframe\">\n",
       "  <thead>\n",
       "    <tr style=\"text-align: right;\">\n",
       "      <th></th>\n",
       "      <th>in_degree_weekday</th>\n",
       "      <th>out_degree_weekday</th>\n",
       "      <th>PageRank_weekday</th>\n",
       "      <th>HITS_hub_weekday</th>\n",
       "      <th>HITS_authority_weekday</th>\n",
       "      <th>in_degree_weekend</th>\n",
       "      <th>out_degree_weekend</th>\n",
       "      <th>PageRank_weekend</th>\n",
       "      <th>HITS_hub_weekend</th>\n",
       "      <th>HITS_authority_weekend</th>\n",
       "    </tr>\n",
       "  </thead>\n",
       "  <tbody>\n",
       "    <tr>\n",
       "      <th>ADMIRALTY</th>\n",
       "      <td>3001700.0</td>\n",
       "      <td>2277885.0</td>\n",
       "      <td>0.002484</td>\n",
       "      <td>0.000819</td>\n",
       "      <td>0.000650</td>\n",
       "      <td>1273000.0</td>\n",
       "      <td>947890.0</td>\n",
       "      <td>0.002648</td>\n",
       "      <td>0.001322</td>\n",
       "      <td>0.001210</td>\n",
       "    </tr>\n",
       "    <tr>\n",
       "      <th>AIRPORT ROAD</th>\n",
       "      <td>463360.0</td>\n",
       "      <td>428300.0</td>\n",
       "      <td>0.000739</td>\n",
       "      <td>0.000445</td>\n",
       "      <td>0.000280</td>\n",
       "      <td>26560.0</td>\n",
       "      <td>24980.0</td>\n",
       "      <td>0.000537</td>\n",
       "      <td>0.000053</td>\n",
       "      <td>0.000034</td>\n",
       "    </tr>\n",
       "    <tr>\n",
       "      <th>ALEXANDRA HILL</th>\n",
       "      <td>7956700.0</td>\n",
       "      <td>6582233.0</td>\n",
       "      <td>0.005698</td>\n",
       "      <td>0.000426</td>\n",
       "      <td>0.000518</td>\n",
       "      <td>2725460.0</td>\n",
       "      <td>2034360.0</td>\n",
       "      <td>0.005547</td>\n",
       "      <td>0.000634</td>\n",
       "      <td>0.000833</td>\n",
       "    </tr>\n",
       "    <tr>\n",
       "      <th>ALEXANDRA NORTH</th>\n",
       "      <td>628620.0</td>\n",
       "      <td>954280.0</td>\n",
       "      <td>0.000878</td>\n",
       "      <td>0.000056</td>\n",
       "      <td>0.000026</td>\n",
       "      <td>154940.0</td>\n",
       "      <td>192740.0</td>\n",
       "      <td>0.000763</td>\n",
       "      <td>0.000053</td>\n",
       "      <td>0.000035</td>\n",
       "    </tr>\n",
       "    <tr>\n",
       "      <th>ALJUNIED</th>\n",
       "      <td>20250634.0</td>\n",
       "      <td>18894418.0</td>\n",
       "      <td>0.011401</td>\n",
       "      <td>0.011760</td>\n",
       "      <td>0.013467</td>\n",
       "      <td>8329963.0</td>\n",
       "      <td>7877094.0</td>\n",
       "      <td>0.012875</td>\n",
       "      <td>0.014026</td>\n",
       "      <td>0.017055</td>\n",
       "    </tr>\n",
       "  </tbody>\n",
       "</table>\n",
       "</div>"
      ],
      "text/plain": [
       "                 in_degree_weekday  out_degree_weekday  PageRank_weekday  \\\n",
       "ADMIRALTY                3001700.0           2277885.0          0.002484   \n",
       "AIRPORT ROAD              463360.0            428300.0          0.000739   \n",
       "ALEXANDRA HILL           7956700.0           6582233.0          0.005698   \n",
       "ALEXANDRA NORTH           628620.0            954280.0          0.000878   \n",
       "ALJUNIED                20250634.0          18894418.0          0.011401   \n",
       "\n",
       "                 HITS_hub_weekday  HITS_authority_weekday  in_degree_weekend  \\\n",
       "ADMIRALTY                0.000819                0.000650          1273000.0   \n",
       "AIRPORT ROAD             0.000445                0.000280            26560.0   \n",
       "ALEXANDRA HILL           0.000426                0.000518          2725460.0   \n",
       "ALEXANDRA NORTH          0.000056                0.000026           154940.0   \n",
       "ALJUNIED                 0.011760                0.013467          8329963.0   \n",
       "\n",
       "                 out_degree_weekend  PageRank_weekend  HITS_hub_weekend  \\\n",
       "ADMIRALTY                  947890.0          0.002648          0.001322   \n",
       "AIRPORT ROAD                24980.0          0.000537          0.000053   \n",
       "ALEXANDRA HILL            2034360.0          0.005547          0.000634   \n",
       "ALEXANDRA NORTH            192740.0          0.000763          0.000053   \n",
       "ALJUNIED                  7877094.0          0.012875          0.014026   \n",
       "\n",
       "                 HITS_authority_weekend  \n",
       "ADMIRALTY                      0.001210  \n",
       "AIRPORT ROAD                   0.000034  \n",
       "ALEXANDRA HILL                 0.000833  \n",
       "ALEXANDRA NORTH                0.000035  \n",
       "ALJUNIED                       0.017055  "
      ]
     },
     "execution_count": 44,
     "metadata": {},
     "output_type": "execute_result"
    }
   ],
   "source": [
    "df_stat = pd.merge(df_stats_1, df_stats_2, left_index=True, right_index=True, suffixes=(\"_weekday\", \"_weekend\"), how=\"outer\")\n",
    "df_stat.head()"
   ]
  },
  {
   "cell_type": "code",
   "execution_count": 45,
   "metadata": {},
   "outputs": [],
   "source": [
    "df_stat.to_csv(\"node_density_stat.csv\", index_label=\"node\")"
   ]
  },
  {
   "cell_type": "code",
   "execution_count": null,
   "metadata": {},
   "outputs": [],
   "source": []
  },
  {
   "cell_type": "code",
   "execution_count": null,
   "metadata": {},
   "outputs": [],
   "source": []
  },
  {
   "cell_type": "code",
   "execution_count": 56,
   "metadata": {},
   "outputs": [
    {
     "data": {
      "text/html": [
       "<div>\n",
       "<style scoped>\n",
       "    .dataframe tbody tr th:only-of-type {\n",
       "        vertical-align: middle;\n",
       "    }\n",
       "\n",
       "    .dataframe tbody tr th {\n",
       "        vertical-align: top;\n",
       "    }\n",
       "\n",
       "    .dataframe thead th {\n",
       "        text-align: right;\n",
       "    }\n",
       "</style>\n",
       "<table border=\"1\" class=\"dataframe\">\n",
       "  <thead>\n",
       "    <tr style=\"text-align: right;\">\n",
       "      <th></th>\n",
       "      <th>in_degree_weekday</th>\n",
       "      <th>out_degree_weekday</th>\n",
       "      <th>PageRank_weekday</th>\n",
       "      <th>HITS_hub_weekday</th>\n",
       "      <th>HITS_authority_weekday</th>\n",
       "      <th>in_degree_weekend</th>\n",
       "      <th>out_degree_weekend</th>\n",
       "      <th>PageRank_weekend</th>\n",
       "      <th>HITS_hub_weekend</th>\n",
       "      <th>HITS_authority_weekend</th>\n",
       "    </tr>\n",
       "    <tr>\n",
       "      <th>node</th>\n",
       "      <th></th>\n",
       "      <th></th>\n",
       "      <th></th>\n",
       "      <th></th>\n",
       "      <th></th>\n",
       "      <th></th>\n",
       "      <th></th>\n",
       "      <th></th>\n",
       "      <th></th>\n",
       "      <th></th>\n",
       "    </tr>\n",
       "  </thead>\n",
       "  <tbody>\n",
       "    <tr>\n",
       "      <th>ADMIRALTY</th>\n",
       "      <td>3001700.0</td>\n",
       "      <td>2277885.0</td>\n",
       "      <td>0.002484</td>\n",
       "      <td>0.000819</td>\n",
       "      <td>0.000650</td>\n",
       "      <td>1273000.0</td>\n",
       "      <td>947890.0</td>\n",
       "      <td>0.002648</td>\n",
       "      <td>0.001322</td>\n",
       "      <td>0.001210</td>\n",
       "    </tr>\n",
       "    <tr>\n",
       "      <th>AIRPORT ROAD</th>\n",
       "      <td>463360.0</td>\n",
       "      <td>428300.0</td>\n",
       "      <td>0.000739</td>\n",
       "      <td>0.000445</td>\n",
       "      <td>0.000280</td>\n",
       "      <td>26560.0</td>\n",
       "      <td>24980.0</td>\n",
       "      <td>0.000537</td>\n",
       "      <td>0.000053</td>\n",
       "      <td>0.000034</td>\n",
       "    </tr>\n",
       "    <tr>\n",
       "      <th>ALEXANDRA HILL</th>\n",
       "      <td>7956700.0</td>\n",
       "      <td>6582233.0</td>\n",
       "      <td>0.005698</td>\n",
       "      <td>0.000426</td>\n",
       "      <td>0.000518</td>\n",
       "      <td>2725460.0</td>\n",
       "      <td>2034360.0</td>\n",
       "      <td>0.005547</td>\n",
       "      <td>0.000634</td>\n",
       "      <td>0.000833</td>\n",
       "    </tr>\n",
       "    <tr>\n",
       "      <th>ALEXANDRA NORTH</th>\n",
       "      <td>628620.0</td>\n",
       "      <td>954280.0</td>\n",
       "      <td>0.000878</td>\n",
       "      <td>0.000056</td>\n",
       "      <td>0.000026</td>\n",
       "      <td>154940.0</td>\n",
       "      <td>192740.0</td>\n",
       "      <td>0.000763</td>\n",
       "      <td>0.000053</td>\n",
       "      <td>0.000035</td>\n",
       "    </tr>\n",
       "    <tr>\n",
       "      <th>ALJUNIED</th>\n",
       "      <td>20250634.0</td>\n",
       "      <td>18894418.0</td>\n",
       "      <td>0.011401</td>\n",
       "      <td>0.011760</td>\n",
       "      <td>0.013467</td>\n",
       "      <td>8329963.0</td>\n",
       "      <td>7877094.0</td>\n",
       "      <td>0.012875</td>\n",
       "      <td>0.014026</td>\n",
       "      <td>0.017055</td>\n",
       "    </tr>\n",
       "  </tbody>\n",
       "</table>\n",
       "</div>"
      ],
      "text/plain": [
       "                 in_degree_weekday  out_degree_weekday  PageRank_weekday  \\\n",
       "node                                                                       \n",
       "ADMIRALTY                3001700.0           2277885.0          0.002484   \n",
       "AIRPORT ROAD              463360.0            428300.0          0.000739   \n",
       "ALEXANDRA HILL           7956700.0           6582233.0          0.005698   \n",
       "ALEXANDRA NORTH           628620.0            954280.0          0.000878   \n",
       "ALJUNIED                20250634.0          18894418.0          0.011401   \n",
       "\n",
       "                 HITS_hub_weekday  HITS_authority_weekday  in_degree_weekend  \\\n",
       "node                                                                           \n",
       "ADMIRALTY                0.000819                0.000650          1273000.0   \n",
       "AIRPORT ROAD             0.000445                0.000280            26560.0   \n",
       "ALEXANDRA HILL           0.000426                0.000518          2725460.0   \n",
       "ALEXANDRA NORTH          0.000056                0.000026           154940.0   \n",
       "ALJUNIED                 0.011760                0.013467          8329963.0   \n",
       "\n",
       "                 out_degree_weekend  PageRank_weekend  HITS_hub_weekend  \\\n",
       "node                                                                      \n",
       "ADMIRALTY                  947890.0          0.002648          0.001322   \n",
       "AIRPORT ROAD                24980.0          0.000537          0.000053   \n",
       "ALEXANDRA HILL            2034360.0          0.005547          0.000634   \n",
       "ALEXANDRA NORTH            192740.0          0.000763          0.000053   \n",
       "ALJUNIED                  7877094.0          0.012875          0.014026   \n",
       "\n",
       "                 HITS_authority_weekend  \n",
       "node                                     \n",
       "ADMIRALTY                      0.001210  \n",
       "AIRPORT ROAD                   0.000034  \n",
       "ALEXANDRA HILL                 0.000833  \n",
       "ALEXANDRA NORTH                0.000035  \n",
       "ALJUNIED                       0.017055  "
      ]
     },
     "execution_count": 56,
     "metadata": {},
     "output_type": "execute_result"
    }
   ],
   "source": [
    "df_stat = pd.read_csv(\"node_density_stat.csv\", index_col=0)\n",
    "df_stat.head()"
   ]
  },
  {
   "cell_type": "code",
   "execution_count": 57,
   "metadata": {},
   "outputs": [
    {
     "data": {
      "text/plain": [
       "['in_degree_weekday', 'in_degree_weekend']"
      ]
     },
     "execution_count": 57,
     "metadata": {},
     "output_type": "execute_result"
    }
   ],
   "source": [
    "[ col for col in df_stat.columns if \"in_degree\" in col ]"
   ]
  },
  {
   "cell_type": "code",
   "execution_count": 58,
   "metadata": {},
   "outputs": [
    {
     "data": {
      "text/html": [
       "<div>\n",
       "<style scoped>\n",
       "    .dataframe tbody tr th:only-of-type {\n",
       "        vertical-align: middle;\n",
       "    }\n",
       "\n",
       "    .dataframe tbody tr th {\n",
       "        vertical-align: top;\n",
       "    }\n",
       "\n",
       "    .dataframe thead th {\n",
       "        text-align: right;\n",
       "    }\n",
       "</style>\n",
       "<table border=\"1\" class=\"dataframe\">\n",
       "  <thead>\n",
       "    <tr style=\"text-align: right;\">\n",
       "      <th></th>\n",
       "      <th>in_degree_weekday</th>\n",
       "      <th>in_degree_weekend</th>\n",
       "    </tr>\n",
       "  </thead>\n",
       "  <tbody>\n",
       "    <tr>\n",
       "      <th>in_degree_weekday</th>\n",
       "      <td>1.000000</td>\n",
       "      <td>0.986536</td>\n",
       "    </tr>\n",
       "    <tr>\n",
       "      <th>in_degree_weekend</th>\n",
       "      <td>0.986536</td>\n",
       "      <td>1.000000</td>\n",
       "    </tr>\n",
       "  </tbody>\n",
       "</table>\n",
       "</div>"
      ],
      "text/plain": [
       "                   in_degree_weekday  in_degree_weekend\n",
       "in_degree_weekday           1.000000           0.986536\n",
       "in_degree_weekend           0.986536           1.000000"
      ]
     },
     "execution_count": 58,
     "metadata": {},
     "output_type": "execute_result"
    }
   ],
   "source": [
    "compare_cols = [ col for col in df_stat.columns if \"in_degree\" in col ]\n",
    "df_stat[compare_cols].corr()"
   ]
  },
  {
   "cell_type": "code",
   "execution_count": 59,
   "metadata": {},
   "outputs": [
    {
     "data": {
      "text/html": [
       "<div>\n",
       "<style scoped>\n",
       "    .dataframe tbody tr th:only-of-type {\n",
       "        vertical-align: middle;\n",
       "    }\n",
       "\n",
       "    .dataframe tbody tr th {\n",
       "        vertical-align: top;\n",
       "    }\n",
       "\n",
       "    .dataframe thead th {\n",
       "        text-align: right;\n",
       "    }\n",
       "</style>\n",
       "<table border=\"1\" class=\"dataframe\">\n",
       "  <thead>\n",
       "    <tr style=\"text-align: right;\">\n",
       "      <th></th>\n",
       "      <th>out_degree_weekday</th>\n",
       "      <th>out_degree_weekend</th>\n",
       "    </tr>\n",
       "  </thead>\n",
       "  <tbody>\n",
       "    <tr>\n",
       "      <th>out_degree_weekday</th>\n",
       "      <td>1.000000</td>\n",
       "      <td>0.985768</td>\n",
       "    </tr>\n",
       "    <tr>\n",
       "      <th>out_degree_weekend</th>\n",
       "      <td>0.985768</td>\n",
       "      <td>1.000000</td>\n",
       "    </tr>\n",
       "  </tbody>\n",
       "</table>\n",
       "</div>"
      ],
      "text/plain": [
       "                    out_degree_weekday  out_degree_weekend\n",
       "out_degree_weekday            1.000000            0.985768\n",
       "out_degree_weekend            0.985768            1.000000"
      ]
     },
     "execution_count": 59,
     "metadata": {},
     "output_type": "execute_result"
    }
   ],
   "source": [
    "compare_cols = [ col for col in df_stat.columns if \"out_degree\" in col ]\n",
    "df_stat[compare_cols].corr()"
   ]
  },
  {
   "cell_type": "code",
   "execution_count": 60,
   "metadata": {},
   "outputs": [
    {
     "data": {
      "text/html": [
       "<div>\n",
       "<style scoped>\n",
       "    .dataframe tbody tr th:only-of-type {\n",
       "        vertical-align: middle;\n",
       "    }\n",
       "\n",
       "    .dataframe tbody tr th {\n",
       "        vertical-align: top;\n",
       "    }\n",
       "\n",
       "    .dataframe thead th {\n",
       "        text-align: right;\n",
       "    }\n",
       "</style>\n",
       "<table border=\"1\" class=\"dataframe\">\n",
       "  <thead>\n",
       "    <tr style=\"text-align: right;\">\n",
       "      <th></th>\n",
       "      <th>PageRank_weekday</th>\n",
       "      <th>PageRank_weekend</th>\n",
       "    </tr>\n",
       "  </thead>\n",
       "  <tbody>\n",
       "    <tr>\n",
       "      <th>PageRank_weekday</th>\n",
       "      <td>1.000000</td>\n",
       "      <td>0.987536</td>\n",
       "    </tr>\n",
       "    <tr>\n",
       "      <th>PageRank_weekend</th>\n",
       "      <td>0.987536</td>\n",
       "      <td>1.000000</td>\n",
       "    </tr>\n",
       "  </tbody>\n",
       "</table>\n",
       "</div>"
      ],
      "text/plain": [
       "                  PageRank_weekday  PageRank_weekend\n",
       "PageRank_weekday          1.000000          0.987536\n",
       "PageRank_weekend          0.987536          1.000000"
      ]
     },
     "execution_count": 60,
     "metadata": {},
     "output_type": "execute_result"
    }
   ],
   "source": [
    "compare_cols = [ col for col in df_stat.columns if \"PageRank\" in col ]\n",
    "df_stat[compare_cols].corr()"
   ]
  },
  {
   "cell_type": "code",
   "execution_count": 61,
   "metadata": {},
   "outputs": [
    {
     "data": {
      "text/html": [
       "<div>\n",
       "<style scoped>\n",
       "    .dataframe tbody tr th:only-of-type {\n",
       "        vertical-align: middle;\n",
       "    }\n",
       "\n",
       "    .dataframe tbody tr th {\n",
       "        vertical-align: top;\n",
       "    }\n",
       "\n",
       "    .dataframe thead th {\n",
       "        text-align: right;\n",
       "    }\n",
       "</style>\n",
       "<table border=\"1\" class=\"dataframe\">\n",
       "  <thead>\n",
       "    <tr style=\"text-align: right;\">\n",
       "      <th></th>\n",
       "      <th>HITS_hub_weekday</th>\n",
       "      <th>HITS_hub_weekend</th>\n",
       "    </tr>\n",
       "  </thead>\n",
       "  <tbody>\n",
       "    <tr>\n",
       "      <th>HITS_hub_weekday</th>\n",
       "      <td>1.00000</td>\n",
       "      <td>0.96608</td>\n",
       "    </tr>\n",
       "    <tr>\n",
       "      <th>HITS_hub_weekend</th>\n",
       "      <td>0.96608</td>\n",
       "      <td>1.00000</td>\n",
       "    </tr>\n",
       "  </tbody>\n",
       "</table>\n",
       "</div>"
      ],
      "text/plain": [
       "                  HITS_hub_weekday  HITS_hub_weekend\n",
       "HITS_hub_weekday           1.00000           0.96608\n",
       "HITS_hub_weekend           0.96608           1.00000"
      ]
     },
     "execution_count": 61,
     "metadata": {},
     "output_type": "execute_result"
    }
   ],
   "source": [
    "compare_cols = [ col for col in df_stat.columns if \"HITS_hub\" in col ]\n",
    "df_stat[compare_cols].corr()"
   ]
  },
  {
   "cell_type": "code",
   "execution_count": 62,
   "metadata": {},
   "outputs": [
    {
     "data": {
      "text/html": [
       "<div>\n",
       "<style scoped>\n",
       "    .dataframe tbody tr th:only-of-type {\n",
       "        vertical-align: middle;\n",
       "    }\n",
       "\n",
       "    .dataframe tbody tr th {\n",
       "        vertical-align: top;\n",
       "    }\n",
       "\n",
       "    .dataframe thead th {\n",
       "        text-align: right;\n",
       "    }\n",
       "</style>\n",
       "<table border=\"1\" class=\"dataframe\">\n",
       "  <thead>\n",
       "    <tr style=\"text-align: right;\">\n",
       "      <th></th>\n",
       "      <th>HITS_authority_weekday</th>\n",
       "      <th>HITS_authority_weekend</th>\n",
       "    </tr>\n",
       "  </thead>\n",
       "  <tbody>\n",
       "    <tr>\n",
       "      <th>HITS_authority_weekday</th>\n",
       "      <td>1.000000</td>\n",
       "      <td>0.964183</td>\n",
       "    </tr>\n",
       "    <tr>\n",
       "      <th>HITS_authority_weekend</th>\n",
       "      <td>0.964183</td>\n",
       "      <td>1.000000</td>\n",
       "    </tr>\n",
       "  </tbody>\n",
       "</table>\n",
       "</div>"
      ],
      "text/plain": [
       "                        HITS_authority_weekday  HITS_authority_weekend\n",
       "HITS_authority_weekday                1.000000                0.964183\n",
       "HITS_authority_weekend                0.964183                1.000000"
      ]
     },
     "execution_count": 62,
     "metadata": {},
     "output_type": "execute_result"
    }
   ],
   "source": [
    "compare_cols = [ col for col in df_stat.columns if \"HITS_authority\" in col ]\n",
    "df_stat[compare_cols].corr()"
   ]
  },
  {
   "cell_type": "code",
   "execution_count": 63,
   "metadata": {},
   "outputs": [
    {
     "data": {
      "text/html": [
       "<div>\n",
       "<style scoped>\n",
       "    .dataframe tbody tr th:only-of-type {\n",
       "        vertical-align: middle;\n",
       "    }\n",
       "\n",
       "    .dataframe tbody tr th {\n",
       "        vertical-align: top;\n",
       "    }\n",
       "\n",
       "    .dataframe thead th {\n",
       "        text-align: right;\n",
       "    }\n",
       "</style>\n",
       "<table border=\"1\" class=\"dataframe\">\n",
       "  <thead>\n",
       "    <tr style=\"text-align: right;\">\n",
       "      <th></th>\n",
       "      <th>in_degree_weekday</th>\n",
       "      <th>out_degree_weekday</th>\n",
       "      <th>PageRank_weekday</th>\n",
       "      <th>HITS_hub_weekday</th>\n",
       "      <th>HITS_authority_weekday</th>\n",
       "    </tr>\n",
       "  </thead>\n",
       "  <tbody>\n",
       "    <tr>\n",
       "      <th>in_degree_weekday</th>\n",
       "      <td>1.000000</td>\n",
       "      <td>0.984697</td>\n",
       "      <td>0.979720</td>\n",
       "      <td>0.645554</td>\n",
       "      <td>0.628103</td>\n",
       "    </tr>\n",
       "    <tr>\n",
       "      <th>out_degree_weekday</th>\n",
       "      <td>0.984697</td>\n",
       "      <td>1.000000</td>\n",
       "      <td>0.970438</td>\n",
       "      <td>0.635625</td>\n",
       "      <td>0.604721</td>\n",
       "    </tr>\n",
       "    <tr>\n",
       "      <th>PageRank_weekday</th>\n",
       "      <td>0.979720</td>\n",
       "      <td>0.970438</td>\n",
       "      <td>1.000000</td>\n",
       "      <td>0.550648</td>\n",
       "      <td>0.530187</td>\n",
       "    </tr>\n",
       "    <tr>\n",
       "      <th>HITS_hub_weekday</th>\n",
       "      <td>0.645554</td>\n",
       "      <td>0.635625</td>\n",
       "      <td>0.550648</td>\n",
       "      <td>1.000000</td>\n",
       "      <td>0.962544</td>\n",
       "    </tr>\n",
       "    <tr>\n",
       "      <th>HITS_authority_weekday</th>\n",
       "      <td>0.628103</td>\n",
       "      <td>0.604721</td>\n",
       "      <td>0.530187</td>\n",
       "      <td>0.962544</td>\n",
       "      <td>1.000000</td>\n",
       "    </tr>\n",
       "  </tbody>\n",
       "</table>\n",
       "</div>"
      ],
      "text/plain": [
       "                        in_degree_weekday  out_degree_weekday  \\\n",
       "in_degree_weekday                1.000000            0.984697   \n",
       "out_degree_weekday               0.984697            1.000000   \n",
       "PageRank_weekday                 0.979720            0.970438   \n",
       "HITS_hub_weekday                 0.645554            0.635625   \n",
       "HITS_authority_weekday           0.628103            0.604721   \n",
       "\n",
       "                        PageRank_weekday  HITS_hub_weekday  \\\n",
       "in_degree_weekday               0.979720          0.645554   \n",
       "out_degree_weekday              0.970438          0.635625   \n",
       "PageRank_weekday                1.000000          0.550648   \n",
       "HITS_hub_weekday                0.550648          1.000000   \n",
       "HITS_authority_weekday          0.530187          0.962544   \n",
       "\n",
       "                        HITS_authority_weekday  \n",
       "in_degree_weekday                     0.628103  \n",
       "out_degree_weekday                    0.604721  \n",
       "PageRank_weekday                      0.530187  \n",
       "HITS_hub_weekday                      0.962544  \n",
       "HITS_authority_weekday                1.000000  "
      ]
     },
     "execution_count": 63,
     "metadata": {},
     "output_type": "execute_result"
    }
   ],
   "source": [
    "compare_cols = [ col for col in df_stat.columns if \"weekday\" in col ]\n",
    "df_stat[compare_cols].corr()"
   ]
  },
  {
   "cell_type": "code",
   "execution_count": 64,
   "metadata": {},
   "outputs": [
    {
     "data": {
      "text/html": [
       "<div>\n",
       "<style scoped>\n",
       "    .dataframe tbody tr th:only-of-type {\n",
       "        vertical-align: middle;\n",
       "    }\n",
       "\n",
       "    .dataframe tbody tr th {\n",
       "        vertical-align: top;\n",
       "    }\n",
       "\n",
       "    .dataframe thead th {\n",
       "        text-align: right;\n",
       "    }\n",
       "</style>\n",
       "<table border=\"1\" class=\"dataframe\">\n",
       "  <thead>\n",
       "    <tr style=\"text-align: right;\">\n",
       "      <th></th>\n",
       "      <th>in_degree_weekend</th>\n",
       "      <th>out_degree_weekend</th>\n",
       "      <th>PageRank_weekend</th>\n",
       "      <th>HITS_hub_weekend</th>\n",
       "      <th>HITS_authority_weekend</th>\n",
       "    </tr>\n",
       "  </thead>\n",
       "  <tbody>\n",
       "    <tr>\n",
       "      <th>in_degree_weekend</th>\n",
       "      <td>1.000000</td>\n",
       "      <td>0.986388</td>\n",
       "      <td>0.980104</td>\n",
       "      <td>0.740749</td>\n",
       "      <td>0.732393</td>\n",
       "    </tr>\n",
       "    <tr>\n",
       "      <th>out_degree_weekend</th>\n",
       "      <td>0.986388</td>\n",
       "      <td>1.000000</td>\n",
       "      <td>0.971501</td>\n",
       "      <td>0.736651</td>\n",
       "      <td>0.711946</td>\n",
       "    </tr>\n",
       "    <tr>\n",
       "      <th>PageRank_weekend</th>\n",
       "      <td>0.980104</td>\n",
       "      <td>0.971501</td>\n",
       "      <td>1.000000</td>\n",
       "      <td>0.663482</td>\n",
       "      <td>0.651873</td>\n",
       "    </tr>\n",
       "    <tr>\n",
       "      <th>HITS_hub_weekend</th>\n",
       "      <td>0.740749</td>\n",
       "      <td>0.736651</td>\n",
       "      <td>0.663482</td>\n",
       "      <td>1.000000</td>\n",
       "      <td>0.966559</td>\n",
       "    </tr>\n",
       "    <tr>\n",
       "      <th>HITS_authority_weekend</th>\n",
       "      <td>0.732393</td>\n",
       "      <td>0.711946</td>\n",
       "      <td>0.651873</td>\n",
       "      <td>0.966559</td>\n",
       "      <td>1.000000</td>\n",
       "    </tr>\n",
       "  </tbody>\n",
       "</table>\n",
       "</div>"
      ],
      "text/plain": [
       "                        in_degree_weekend  out_degree_weekend  \\\n",
       "in_degree_weekend                1.000000            0.986388   \n",
       "out_degree_weekend               0.986388            1.000000   \n",
       "PageRank_weekend                 0.980104            0.971501   \n",
       "HITS_hub_weekend                 0.740749            0.736651   \n",
       "HITS_authority_weekend           0.732393            0.711946   \n",
       "\n",
       "                        PageRank_weekend  HITS_hub_weekend  \\\n",
       "in_degree_weekend               0.980104          0.740749   \n",
       "out_degree_weekend              0.971501          0.736651   \n",
       "PageRank_weekend                1.000000          0.663482   \n",
       "HITS_hub_weekend                0.663482          1.000000   \n",
       "HITS_authority_weekend          0.651873          0.966559   \n",
       "\n",
       "                        HITS_authority_weekend  \n",
       "in_degree_weekend                     0.732393  \n",
       "out_degree_weekend                    0.711946  \n",
       "PageRank_weekend                      0.651873  \n",
       "HITS_hub_weekend                      0.966559  \n",
       "HITS_authority_weekend                1.000000  "
      ]
     },
     "execution_count": 64,
     "metadata": {},
     "output_type": "execute_result"
    }
   ],
   "source": [
    "compare_cols = [ col for col in df_stat.columns if \"weekend\" in col ]\n",
    "df_stat[compare_cols].corr()"
   ]
  },
  {
   "cell_type": "code",
   "execution_count": null,
   "metadata": {},
   "outputs": [],
   "source": []
  },
  {
   "cell_type": "code",
   "execution_count": null,
   "metadata": {},
   "outputs": [],
   "source": []
  },
  {
   "cell_type": "code",
   "execution_count": null,
   "metadata": {},
   "outputs": [],
   "source": []
  },
  {
   "cell_type": "code",
   "execution_count": null,
   "metadata": {},
   "outputs": [],
   "source": []
  },
  {
   "cell_type": "code",
   "execution_count": 65,
   "metadata": {},
   "outputs": [
    {
     "data": {
      "text/html": [
       "<div>\n",
       "<style scoped>\n",
       "    .dataframe tbody tr th:only-of-type {\n",
       "        vertical-align: middle;\n",
       "    }\n",
       "\n",
       "    .dataframe tbody tr th {\n",
       "        vertical-align: top;\n",
       "    }\n",
       "\n",
       "    .dataframe thead th {\n",
       "        text-align: right;\n",
       "    }\n",
       "</style>\n",
       "<table border=\"1\" class=\"dataframe\">\n",
       "  <thead>\n",
       "    <tr style=\"text-align: right;\">\n",
       "      <th></th>\n",
       "      <th>in_degree_weekday</th>\n",
       "      <th>out_degree_weekday</th>\n",
       "      <th>PageRank_weekday</th>\n",
       "      <th>HITS_hub_weekday</th>\n",
       "      <th>HITS_authority_weekday</th>\n",
       "      <th>in_degree_weekend</th>\n",
       "      <th>out_degree_weekend</th>\n",
       "      <th>PageRank_weekend</th>\n",
       "      <th>HITS_hub_weekend</th>\n",
       "      <th>HITS_authority_weekend</th>\n",
       "    </tr>\n",
       "    <tr>\n",
       "      <th>node</th>\n",
       "      <th></th>\n",
       "      <th></th>\n",
       "      <th></th>\n",
       "      <th></th>\n",
       "      <th></th>\n",
       "      <th></th>\n",
       "      <th></th>\n",
       "      <th></th>\n",
       "      <th></th>\n",
       "      <th></th>\n",
       "    </tr>\n",
       "  </thead>\n",
       "  <tbody>\n",
       "    <tr>\n",
       "      <th>ADMIRALTY</th>\n",
       "      <td>3001700.0</td>\n",
       "      <td>2277885.0</td>\n",
       "      <td>0.002484</td>\n",
       "      <td>0.000819</td>\n",
       "      <td>0.000650</td>\n",
       "      <td>1273000.0</td>\n",
       "      <td>947890.0</td>\n",
       "      <td>0.002648</td>\n",
       "      <td>0.001322</td>\n",
       "      <td>0.001210</td>\n",
       "    </tr>\n",
       "    <tr>\n",
       "      <th>AIRPORT ROAD</th>\n",
       "      <td>463360.0</td>\n",
       "      <td>428300.0</td>\n",
       "      <td>0.000739</td>\n",
       "      <td>0.000445</td>\n",
       "      <td>0.000280</td>\n",
       "      <td>26560.0</td>\n",
       "      <td>24980.0</td>\n",
       "      <td>0.000537</td>\n",
       "      <td>0.000053</td>\n",
       "      <td>0.000034</td>\n",
       "    </tr>\n",
       "    <tr>\n",
       "      <th>ALEXANDRA HILL</th>\n",
       "      <td>7956700.0</td>\n",
       "      <td>6582233.0</td>\n",
       "      <td>0.005698</td>\n",
       "      <td>0.000426</td>\n",
       "      <td>0.000518</td>\n",
       "      <td>2725460.0</td>\n",
       "      <td>2034360.0</td>\n",
       "      <td>0.005547</td>\n",
       "      <td>0.000634</td>\n",
       "      <td>0.000833</td>\n",
       "    </tr>\n",
       "    <tr>\n",
       "      <th>ALEXANDRA NORTH</th>\n",
       "      <td>628620.0</td>\n",
       "      <td>954280.0</td>\n",
       "      <td>0.000878</td>\n",
       "      <td>0.000056</td>\n",
       "      <td>0.000026</td>\n",
       "      <td>154940.0</td>\n",
       "      <td>192740.0</td>\n",
       "      <td>0.000763</td>\n",
       "      <td>0.000053</td>\n",
       "      <td>0.000035</td>\n",
       "    </tr>\n",
       "    <tr>\n",
       "      <th>ALJUNIED</th>\n",
       "      <td>20250634.0</td>\n",
       "      <td>18894418.0</td>\n",
       "      <td>0.011401</td>\n",
       "      <td>0.011760</td>\n",
       "      <td>0.013467</td>\n",
       "      <td>8329963.0</td>\n",
       "      <td>7877094.0</td>\n",
       "      <td>0.012875</td>\n",
       "      <td>0.014026</td>\n",
       "      <td>0.017055</td>\n",
       "    </tr>\n",
       "  </tbody>\n",
       "</table>\n",
       "</div>"
      ],
      "text/plain": [
       "                 in_degree_weekday  out_degree_weekday  PageRank_weekday  \\\n",
       "node                                                                       \n",
       "ADMIRALTY                3001700.0           2277885.0          0.002484   \n",
       "AIRPORT ROAD              463360.0            428300.0          0.000739   \n",
       "ALEXANDRA HILL           7956700.0           6582233.0          0.005698   \n",
       "ALEXANDRA NORTH           628620.0            954280.0          0.000878   \n",
       "ALJUNIED                20250634.0          18894418.0          0.011401   \n",
       "\n",
       "                 HITS_hub_weekday  HITS_authority_weekday  in_degree_weekend  \\\n",
       "node                                                                           \n",
       "ADMIRALTY                0.000819                0.000650          1273000.0   \n",
       "AIRPORT ROAD             0.000445                0.000280            26560.0   \n",
       "ALEXANDRA HILL           0.000426                0.000518          2725460.0   \n",
       "ALEXANDRA NORTH          0.000056                0.000026           154940.0   \n",
       "ALJUNIED                 0.011760                0.013467          8329963.0   \n",
       "\n",
       "                 out_degree_weekend  PageRank_weekend  HITS_hub_weekend  \\\n",
       "node                                                                      \n",
       "ADMIRALTY                  947890.0          0.002648          0.001322   \n",
       "AIRPORT ROAD                24980.0          0.000537          0.000053   \n",
       "ALEXANDRA HILL            2034360.0          0.005547          0.000634   \n",
       "ALEXANDRA NORTH            192740.0          0.000763          0.000053   \n",
       "ALJUNIED                  7877094.0          0.012875          0.014026   \n",
       "\n",
       "                 HITS_authority_weekend  \n",
       "node                                     \n",
       "ADMIRALTY                      0.001210  \n",
       "AIRPORT ROAD                   0.000034  \n",
       "ALEXANDRA HILL                 0.000833  \n",
       "ALEXANDRA NORTH                0.000035  \n",
       "ALJUNIED                       0.017055  "
      ]
     },
     "execution_count": 65,
     "metadata": {},
     "output_type": "execute_result"
    }
   ],
   "source": [
    "df_stat = pd.read_csv(\"node_density_stat.csv\", index_col=0)\n",
    "df_stat.head()"
   ]
  },
  {
   "cell_type": "code",
   "execution_count": 66,
   "metadata": {},
   "outputs": [
    {
     "data": {
      "text/html": [
       "<div>\n",
       "<style scoped>\n",
       "    .dataframe tbody tr th:only-of-type {\n",
       "        vertical-align: middle;\n",
       "    }\n",
       "\n",
       "    .dataframe tbody tr th {\n",
       "        vertical-align: top;\n",
       "    }\n",
       "\n",
       "    .dataframe thead th {\n",
       "        text-align: right;\n",
       "    }\n",
       "</style>\n",
       "<table border=\"1\" class=\"dataframe\">\n",
       "  <thead>\n",
       "    <tr style=\"text-align: right;\">\n",
       "      <th></th>\n",
       "      <th>in_degree_weekday</th>\n",
       "      <th>out_degree_weekday</th>\n",
       "      <th>PageRank_weekday</th>\n",
       "      <th>HITS_hub_weekday</th>\n",
       "      <th>HITS_authority_weekday</th>\n",
       "      <th>in_degree_weekend</th>\n",
       "      <th>out_degree_weekend</th>\n",
       "      <th>PageRank_weekend</th>\n",
       "      <th>HITS_hub_weekend</th>\n",
       "      <th>HITS_authority_weekend</th>\n",
       "    </tr>\n",
       "  </thead>\n",
       "  <tbody>\n",
       "    <tr>\n",
       "      <th>count</th>\n",
       "      <td>3.030000e+02</td>\n",
       "      <td>3.030000e+02</td>\n",
       "      <td>303.000000</td>\n",
       "      <td>303.000000</td>\n",
       "      <td>303.000000</td>\n",
       "      <td>3.030000e+02</td>\n",
       "      <td>3.030000e+02</td>\n",
       "      <td>303.000000</td>\n",
       "      <td>3.030000e+02</td>\n",
       "      <td>303.000000</td>\n",
       "    </tr>\n",
       "    <tr>\n",
       "      <th>mean</th>\n",
       "      <td>4.919505e+06</td>\n",
       "      <td>4.919505e+06</td>\n",
       "      <td>0.003300</td>\n",
       "      <td>0.003300</td>\n",
       "      <td>0.003300</td>\n",
       "      <td>1.728966e+06</td>\n",
       "      <td>1.728966e+06</td>\n",
       "      <td>0.003300</td>\n",
       "      <td>3.300330e-03</td>\n",
       "      <td>0.003300</td>\n",
       "    </tr>\n",
       "    <tr>\n",
       "      <th>std</th>\n",
       "      <td>5.189426e+06</td>\n",
       "      <td>5.317314e+06</td>\n",
       "      <td>0.002831</td>\n",
       "      <td>0.008671</td>\n",
       "      <td>0.008492</td>\n",
       "      <td>1.941523e+06</td>\n",
       "      <td>1.950922e+06</td>\n",
       "      <td>0.003010</td>\n",
       "      <td>6.928173e-03</td>\n",
       "      <td>0.006881</td>\n",
       "    </tr>\n",
       "    <tr>\n",
       "      <th>min</th>\n",
       "      <td>7.188000e+04</td>\n",
       "      <td>2.412000e+04</td>\n",
       "      <td>0.000535</td>\n",
       "      <td>0.000002</td>\n",
       "      <td>0.000001</td>\n",
       "      <td>2.068000e+04</td>\n",
       "      <td>9.800000e+02</td>\n",
       "      <td>0.000531</td>\n",
       "      <td>6.153787e-08</td>\n",
       "      <td>0.000003</td>\n",
       "    </tr>\n",
       "    <tr>\n",
       "      <th>25%</th>\n",
       "      <td>1.377911e+06</td>\n",
       "      <td>1.336489e+06</td>\n",
       "      <td>0.001409</td>\n",
       "      <td>0.000240</td>\n",
       "      <td>0.000262</td>\n",
       "      <td>3.933600e+05</td>\n",
       "      <td>3.971450e+05</td>\n",
       "      <td>0.001236</td>\n",
       "      <td>2.794408e-04</td>\n",
       "      <td>0.000290</td>\n",
       "    </tr>\n",
       "    <tr>\n",
       "      <th>50%</th>\n",
       "      <td>3.270440e+06</td>\n",
       "      <td>3.313336e+06</td>\n",
       "      <td>0.002517</td>\n",
       "      <td>0.000712</td>\n",
       "      <td>0.000705</td>\n",
       "      <td>1.089820e+06</td>\n",
       "      <td>1.096853e+06</td>\n",
       "      <td>0.002426</td>\n",
       "      <td>9.326672e-04</td>\n",
       "      <td>0.000915</td>\n",
       "    </tr>\n",
       "    <tr>\n",
       "      <th>75%</th>\n",
       "      <td>6.480206e+06</td>\n",
       "      <td>6.561792e+06</td>\n",
       "      <td>0.004237</td>\n",
       "      <td>0.002433</td>\n",
       "      <td>0.002522</td>\n",
       "      <td>2.303940e+06</td>\n",
       "      <td>2.271374e+06</td>\n",
       "      <td>0.004054</td>\n",
       "      <td>2.944687e-03</td>\n",
       "      <td>0.002917</td>\n",
       "    </tr>\n",
       "    <tr>\n",
       "      <th>max</th>\n",
       "      <td>3.452935e+07</td>\n",
       "      <td>3.519080e+07</td>\n",
       "      <td>0.021033</td>\n",
       "      <td>0.095078</td>\n",
       "      <td>0.078104</td>\n",
       "      <td>1.227194e+07</td>\n",
       "      <td>1.228410e+07</td>\n",
       "      <td>0.020416</td>\n",
       "      <td>7.004667e-02</td>\n",
       "      <td>0.058811</td>\n",
       "    </tr>\n",
       "  </tbody>\n",
       "</table>\n",
       "</div>"
      ],
      "text/plain": [
       "       in_degree_weekday  out_degree_weekday  PageRank_weekday  \\\n",
       "count       3.030000e+02        3.030000e+02        303.000000   \n",
       "mean        4.919505e+06        4.919505e+06          0.003300   \n",
       "std         5.189426e+06        5.317314e+06          0.002831   \n",
       "min         7.188000e+04        2.412000e+04          0.000535   \n",
       "25%         1.377911e+06        1.336489e+06          0.001409   \n",
       "50%         3.270440e+06        3.313336e+06          0.002517   \n",
       "75%         6.480206e+06        6.561792e+06          0.004237   \n",
       "max         3.452935e+07        3.519080e+07          0.021033   \n",
       "\n",
       "       HITS_hub_weekday  HITS_authority_weekday  in_degree_weekend  \\\n",
       "count        303.000000              303.000000       3.030000e+02   \n",
       "mean           0.003300                0.003300       1.728966e+06   \n",
       "std            0.008671                0.008492       1.941523e+06   \n",
       "min            0.000002                0.000001       2.068000e+04   \n",
       "25%            0.000240                0.000262       3.933600e+05   \n",
       "50%            0.000712                0.000705       1.089820e+06   \n",
       "75%            0.002433                0.002522       2.303940e+06   \n",
       "max            0.095078                0.078104       1.227194e+07   \n",
       "\n",
       "       out_degree_weekend  PageRank_weekend  HITS_hub_weekend  \\\n",
       "count        3.030000e+02        303.000000      3.030000e+02   \n",
       "mean         1.728966e+06          0.003300      3.300330e-03   \n",
       "std          1.950922e+06          0.003010      6.928173e-03   \n",
       "min          9.800000e+02          0.000531      6.153787e-08   \n",
       "25%          3.971450e+05          0.001236      2.794408e-04   \n",
       "50%          1.096853e+06          0.002426      9.326672e-04   \n",
       "75%          2.271374e+06          0.004054      2.944687e-03   \n",
       "max          1.228410e+07          0.020416      7.004667e-02   \n",
       "\n",
       "       HITS_authority_weekend  \n",
       "count              303.000000  \n",
       "mean                 0.003300  \n",
       "std                  0.006881  \n",
       "min                  0.000003  \n",
       "25%                  0.000290  \n",
       "50%                  0.000915  \n",
       "75%                  0.002917  \n",
       "max                  0.058811  "
      ]
     },
     "execution_count": 66,
     "metadata": {},
     "output_type": "execute_result"
    }
   ],
   "source": [
    "df_stat.describe()"
   ]
  },
  {
   "cell_type": "code",
   "execution_count": 68,
   "metadata": {},
   "outputs": [
    {
     "data": {
      "text/plain": [
       "71880.0"
      ]
     },
     "execution_count": 68,
     "metadata": {},
     "output_type": "execute_result"
    }
   ],
   "source": [
    "df_stat[\"in_degree_weekday\"].min()"
   ]
  },
  {
   "cell_type": "code",
   "execution_count": 69,
   "metadata": {},
   "outputs": [
    {
     "data": {
      "text/html": [
       "<div>\n",
       "<style scoped>\n",
       "    .dataframe tbody tr th:only-of-type {\n",
       "        vertical-align: middle;\n",
       "    }\n",
       "\n",
       "    .dataframe tbody tr th {\n",
       "        vertical-align: top;\n",
       "    }\n",
       "\n",
       "    .dataframe thead th {\n",
       "        text-align: right;\n",
       "    }\n",
       "</style>\n",
       "<table border=\"1\" class=\"dataframe\">\n",
       "  <thead>\n",
       "    <tr style=\"text-align: right;\">\n",
       "      <th></th>\n",
       "      <th>in_degree_weekday</th>\n",
       "      <th>out_degree_weekday</th>\n",
       "      <th>PageRank_weekday</th>\n",
       "      <th>HITS_hub_weekday</th>\n",
       "      <th>HITS_authority_weekday</th>\n",
       "      <th>in_degree_weekend</th>\n",
       "      <th>out_degree_weekend</th>\n",
       "      <th>PageRank_weekend</th>\n",
       "      <th>HITS_hub_weekend</th>\n",
       "      <th>HITS_authority_weekend</th>\n",
       "    </tr>\n",
       "    <tr>\n",
       "      <th>node</th>\n",
       "      <th></th>\n",
       "      <th></th>\n",
       "      <th></th>\n",
       "      <th></th>\n",
       "      <th></th>\n",
       "      <th></th>\n",
       "      <th></th>\n",
       "      <th></th>\n",
       "      <th></th>\n",
       "      <th></th>\n",
       "    </tr>\n",
       "  </thead>\n",
       "  <tbody>\n",
       "    <tr>\n",
       "      <th>ADMIRALTY</th>\n",
       "      <td>0.085027</td>\n",
       "      <td>0.064088</td>\n",
       "      <td>0.095081</td>\n",
       "      <td>0.008601</td>\n",
       "      <td>0.008298</td>\n",
       "      <td>0.102220</td>\n",
       "      <td>0.077090</td>\n",
       "      <td>0.106444</td>\n",
       "      <td>0.018868</td>\n",
       "      <td>0.020532</td>\n",
       "    </tr>\n",
       "    <tr>\n",
       "      <th>AIRPORT ROAD</th>\n",
       "      <td>0.011361</td>\n",
       "      <td>0.011493</td>\n",
       "      <td>0.009982</td>\n",
       "      <td>0.004666</td>\n",
       "      <td>0.003565</td>\n",
       "      <td>0.000480</td>\n",
       "      <td>0.001954</td>\n",
       "      <td>0.000290</td>\n",
       "      <td>0.000752</td>\n",
       "      <td>0.000519</td>\n",
       "    </tr>\n",
       "    <tr>\n",
       "      <th>ALEXANDRA HILL</th>\n",
       "      <td>0.228828</td>\n",
       "      <td>0.186487</td>\n",
       "      <td>0.251906</td>\n",
       "      <td>0.004467</td>\n",
       "      <td>0.006607</td>\n",
       "      <td>0.220776</td>\n",
       "      <td>0.165543</td>\n",
       "      <td>0.252229</td>\n",
       "      <td>0.009051</td>\n",
       "      <td>0.014105</td>\n",
       "    </tr>\n",
       "    <tr>\n",
       "      <th>ALEXANDRA NORTH</th>\n",
       "      <td>0.016157</td>\n",
       "      <td>0.026450</td>\n",
       "      <td>0.016741</td>\n",
       "      <td>0.000569</td>\n",
       "      <td>0.000313</td>\n",
       "      <td>0.010959</td>\n",
       "      <td>0.015612</td>\n",
       "      <td>0.011660</td>\n",
       "      <td>0.000763</td>\n",
       "      <td>0.000551</td>\n",
       "    </tr>\n",
       "    <tr>\n",
       "      <th>ALJUNIED</th>\n",
       "      <td>0.585613</td>\n",
       "      <td>0.536596</td>\n",
       "      <td>0.530093</td>\n",
       "      <td>0.123671</td>\n",
       "      <td>0.172411</td>\n",
       "      <td>0.678239</td>\n",
       "      <td>0.641214</td>\n",
       "      <td>0.620737</td>\n",
       "      <td>0.200231</td>\n",
       "      <td>0.289960</td>\n",
       "    </tr>\n",
       "  </tbody>\n",
       "</table>\n",
       "</div>"
      ],
      "text/plain": [
       "                 in_degree_weekday  out_degree_weekday  PageRank_weekday  \\\n",
       "node                                                                       \n",
       "ADMIRALTY                 0.085027            0.064088          0.095081   \n",
       "AIRPORT ROAD              0.011361            0.011493          0.009982   \n",
       "ALEXANDRA HILL            0.228828            0.186487          0.251906   \n",
       "ALEXANDRA NORTH           0.016157            0.026450          0.016741   \n",
       "ALJUNIED                  0.585613            0.536596          0.530093   \n",
       "\n",
       "                 HITS_hub_weekday  HITS_authority_weekday  in_degree_weekend  \\\n",
       "node                                                                           \n",
       "ADMIRALTY                0.008601                0.008298           0.102220   \n",
       "AIRPORT ROAD             0.004666                0.003565           0.000480   \n",
       "ALEXANDRA HILL           0.004467                0.006607           0.220776   \n",
       "ALEXANDRA NORTH          0.000569                0.000313           0.010959   \n",
       "ALJUNIED                 0.123671                0.172411           0.678239   \n",
       "\n",
       "                 out_degree_weekend  PageRank_weekend  HITS_hub_weekend  \\\n",
       "node                                                                      \n",
       "ADMIRALTY                  0.077090          0.106444          0.018868   \n",
       "AIRPORT ROAD               0.001954          0.000290          0.000752   \n",
       "ALEXANDRA HILL             0.165543          0.252229          0.009051   \n",
       "ALEXANDRA NORTH            0.015612          0.011660          0.000763   \n",
       "ALJUNIED                   0.641214          0.620737          0.200231   \n",
       "\n",
       "                 HITS_authority_weekend  \n",
       "node                                     \n",
       "ADMIRALTY                      0.020532  \n",
       "AIRPORT ROAD                   0.000519  \n",
       "ALEXANDRA HILL                 0.014105  \n",
       "ALEXANDRA NORTH                0.000551  \n",
       "ALJUNIED                       0.289960  "
      ]
     },
     "execution_count": 69,
     "metadata": {},
     "output_type": "execute_result"
    }
   ],
   "source": [
    "df_stat2 = df_stat.copy()\n",
    "for col in df_stat.columns:\n",
    "    scale = df_stat[col].max() - df_stat[col].min()\n",
    "    df_stat2[col] = (df_stat[col] - df_stat[col].min()) / scale\n",
    "df_stat2.head()"
   ]
  },
  {
   "cell_type": "code",
   "execution_count": 70,
   "metadata": {},
   "outputs": [
    {
     "data": {
      "text/html": [
       "<div>\n",
       "<style scoped>\n",
       "    .dataframe tbody tr th:only-of-type {\n",
       "        vertical-align: middle;\n",
       "    }\n",
       "\n",
       "    .dataframe tbody tr th {\n",
       "        vertical-align: top;\n",
       "    }\n",
       "\n",
       "    .dataframe thead th {\n",
       "        text-align: right;\n",
       "    }\n",
       "</style>\n",
       "<table border=\"1\" class=\"dataframe\">\n",
       "  <thead>\n",
       "    <tr style=\"text-align: right;\">\n",
       "      <th></th>\n",
       "      <th>in_degree_weekday</th>\n",
       "      <th>out_degree_weekday</th>\n",
       "      <th>PageRank_weekday</th>\n",
       "      <th>HITS_hub_weekday</th>\n",
       "      <th>HITS_authority_weekday</th>\n",
       "      <th>in_degree_weekend</th>\n",
       "      <th>out_degree_weekend</th>\n",
       "      <th>PageRank_weekend</th>\n",
       "      <th>HITS_hub_weekend</th>\n",
       "      <th>HITS_authority_weekend</th>\n",
       "    </tr>\n",
       "  </thead>\n",
       "  <tbody>\n",
       "    <tr>\n",
       "      <th>count</th>\n",
       "      <td>303.000000</td>\n",
       "      <td>303.000000</td>\n",
       "      <td>303.000000</td>\n",
       "      <td>303.000000</td>\n",
       "      <td>303.000000</td>\n",
       "      <td>303.000000</td>\n",
       "      <td>303.000000</td>\n",
       "      <td>303.000000</td>\n",
       "      <td>303.000000</td>\n",
       "      <td>303.000000</td>\n",
       "    </tr>\n",
       "    <tr>\n",
       "      <th>mean</th>\n",
       "      <td>0.140684</td>\n",
       "      <td>0.139205</td>\n",
       "      <td>0.134924</td>\n",
       "      <td>0.034695</td>\n",
       "      <td>0.042238</td>\n",
       "      <td>0.139438</td>\n",
       "      <td>0.140680</td>\n",
       "      <td>0.139245</td>\n",
       "      <td>0.047115</td>\n",
       "      <td>0.056069</td>\n",
       "    </tr>\n",
       "    <tr>\n",
       "      <th>std</th>\n",
       "      <td>0.150604</td>\n",
       "      <td>0.151203</td>\n",
       "      <td>0.138126</td>\n",
       "      <td>0.091200</td>\n",
       "      <td>0.108728</td>\n",
       "      <td>0.158475</td>\n",
       "      <td>0.158830</td>\n",
       "      <td>0.151360</td>\n",
       "      <td>0.098908</td>\n",
       "      <td>0.117015</td>\n",
       "    </tr>\n",
       "    <tr>\n",
       "      <th>min</th>\n",
       "      <td>0.000000</td>\n",
       "      <td>0.000000</td>\n",
       "      <td>0.000000</td>\n",
       "      <td>0.000000</td>\n",
       "      <td>0.000000</td>\n",
       "      <td>0.000000</td>\n",
       "      <td>0.000000</td>\n",
       "      <td>0.000000</td>\n",
       "      <td>0.000000</td>\n",
       "      <td>0.000000</td>\n",
       "    </tr>\n",
       "    <tr>\n",
       "      <th>25%</th>\n",
       "      <td>0.037903</td>\n",
       "      <td>0.037319</td>\n",
       "      <td>0.042655</td>\n",
       "      <td>0.002503</td>\n",
       "      <td>0.003331</td>\n",
       "      <td>0.030420</td>\n",
       "      <td>0.032253</td>\n",
       "      <td>0.035442</td>\n",
       "      <td>0.003988</td>\n",
       "      <td>0.004880</td>\n",
       "    </tr>\n",
       "    <tr>\n",
       "      <th>50%</th>\n",
       "      <td>0.092826</td>\n",
       "      <td>0.093532</td>\n",
       "      <td>0.096708</td>\n",
       "      <td>0.007469</td>\n",
       "      <td>0.009004</td>\n",
       "      <td>0.087268</td>\n",
       "      <td>0.089218</td>\n",
       "      <td>0.095276</td>\n",
       "      <td>0.013314</td>\n",
       "      <td>0.015502</td>\n",
       "    </tr>\n",
       "    <tr>\n",
       "      <th>75%</th>\n",
       "      <td>0.185978</td>\n",
       "      <td>0.185905</td>\n",
       "      <td>0.180633</td>\n",
       "      <td>0.025576</td>\n",
       "      <td>0.032271</td>\n",
       "      <td>0.186369</td>\n",
       "      <td>0.184839</td>\n",
       "      <td>0.177152</td>\n",
       "      <td>0.042038</td>\n",
       "      <td>0.049548</td>\n",
       "    </tr>\n",
       "    <tr>\n",
       "      <th>max</th>\n",
       "      <td>1.000000</td>\n",
       "      <td>1.000000</td>\n",
       "      <td>1.000000</td>\n",
       "      <td>1.000000</td>\n",
       "      <td>1.000000</td>\n",
       "      <td>1.000000</td>\n",
       "      <td>1.000000</td>\n",
       "      <td>1.000000</td>\n",
       "      <td>1.000000</td>\n",
       "      <td>1.000000</td>\n",
       "    </tr>\n",
       "  </tbody>\n",
       "</table>\n",
       "</div>"
      ],
      "text/plain": [
       "       in_degree_weekday  out_degree_weekday  PageRank_weekday  \\\n",
       "count         303.000000          303.000000        303.000000   \n",
       "mean            0.140684            0.139205          0.134924   \n",
       "std             0.150604            0.151203          0.138126   \n",
       "min             0.000000            0.000000          0.000000   \n",
       "25%             0.037903            0.037319          0.042655   \n",
       "50%             0.092826            0.093532          0.096708   \n",
       "75%             0.185978            0.185905          0.180633   \n",
       "max             1.000000            1.000000          1.000000   \n",
       "\n",
       "       HITS_hub_weekday  HITS_authority_weekday  in_degree_weekend  \\\n",
       "count        303.000000              303.000000         303.000000   \n",
       "mean           0.034695                0.042238           0.139438   \n",
       "std            0.091200                0.108728           0.158475   \n",
       "min            0.000000                0.000000           0.000000   \n",
       "25%            0.002503                0.003331           0.030420   \n",
       "50%            0.007469                0.009004           0.087268   \n",
       "75%            0.025576                0.032271           0.186369   \n",
       "max            1.000000                1.000000           1.000000   \n",
       "\n",
       "       out_degree_weekend  PageRank_weekend  HITS_hub_weekend  \\\n",
       "count          303.000000        303.000000        303.000000   \n",
       "mean             0.140680          0.139245          0.047115   \n",
       "std              0.158830          0.151360          0.098908   \n",
       "min              0.000000          0.000000          0.000000   \n",
       "25%              0.032253          0.035442          0.003988   \n",
       "50%              0.089218          0.095276          0.013314   \n",
       "75%              0.184839          0.177152          0.042038   \n",
       "max              1.000000          1.000000          1.000000   \n",
       "\n",
       "       HITS_authority_weekend  \n",
       "count              303.000000  \n",
       "mean                 0.056069  \n",
       "std                  0.117015  \n",
       "min                  0.000000  \n",
       "25%                  0.004880  \n",
       "50%                  0.015502  \n",
       "75%                  0.049548  \n",
       "max                  1.000000  "
      ]
     },
     "execution_count": 70,
     "metadata": {},
     "output_type": "execute_result"
    }
   ],
   "source": [
    "df_stat2.describe()"
   ]
  },
  {
   "cell_type": "code",
   "execution_count": 71,
   "metadata": {},
   "outputs": [],
   "source": [
    "df_stat2.to_csv(\"node_density_stat_normalized.csv\", index_label=\"node\")"
   ]
  },
  {
   "cell_type": "code",
   "execution_count": null,
   "metadata": {},
   "outputs": [],
   "source": []
  }
 ],
 "metadata": {
  "kernelspec": {
   "display_name": "Python 3",
   "language": "python",
   "name": "python3"
  },
  "language_info": {
   "codemirror_mode": {
    "name": "ipython",
    "version": 3
   },
   "file_extension": ".py",
   "mimetype": "text/x-python",
   "name": "python",
   "nbconvert_exporter": "python",
   "pygments_lexer": "ipython3",
   "version": "3.6.8"
  }
 },
 "nbformat": 4,
 "nbformat_minor": 4
}
