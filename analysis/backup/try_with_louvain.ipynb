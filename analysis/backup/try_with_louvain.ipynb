{
 "cells": [
  {
   "cell_type": "code",
   "execution_count": 9,
   "metadata": {},
   "outputs": [],
   "source": [
    "import os\n",
    "import networkx as nx\n",
    "import community\n",
    "import pandas as pd\n",
    "import json\n",
    "import matplotlib.pyplot as plt\n",
    "import seaborn as sns"
   ]
  },
  {
   "cell_type": "code",
   "execution_count": 2,
   "metadata": {},
   "outputs": [
    {
     "data": {
      "text/plain": [
       "['bus_stops_wszone.dbf',\n",
       " 'bus_stops_wszone.shp',\n",
       " 'OD_bus',\n",
       " 'origin_destination_train_201912.csv.xz',\n",
       " 'train_station_wszone.prj',\n",
       " 'origin_destination_train_202001.csv.xz',\n",
       " 'train_station_wszone.dbf',\n",
       " 'OD_202001_weekend.csv.xz',\n",
       " 'subzone_centroid.csv',\n",
       " 'OD_201912_weekday.csv.xz',\n",
       " 'origin_destination_bus_201911.csv.xz',\n",
       " 'train_station_wszone.cpg',\n",
       " 'OD_PT',\n",
       " 'train_station_wszone.shx',\n",
       " 'OD_201911_weekend.csv.xz',\n",
       " 'origin_destination_train_201911.csv.xz',\n",
       " 'subzone_centroid_pos.json',\n",
       " 'origin_destination_bus_202001.csv.xz',\n",
       " 'OD_201912_weekend.csv.xz',\n",
       " 'origin_destination_bus_201912.csv.xz',\n",
       " 'region-2014',\n",
       " 'train_station_wszone.shp',\n",
       " 'OD_train',\n",
       " 'bus_stops_wszone.shx',\n",
       " 'OD_202001_weekday.csv.xz',\n",
       " 'bus_stops_wszone.prj',\n",
       " 'subzone-2014',\n",
       " 'net_202001_08.net',\n",
       " 'OD_201911_weekday.csv.xz',\n",
       " 'bus_stops_wszone.cpg']"
      ]
     },
     "execution_count": 2,
     "metadata": {},
     "output_type": "execute_result"
    }
   ],
   "source": [
    "data_dir = \"../data\"\n",
    "os.listdir(data_dir)"
   ]
  },
  {
   "cell_type": "code",
   "execution_count": 3,
   "metadata": {},
   "outputs": [
    {
     "data": {
      "text/plain": [
       "[31595.83574613999, 29220.18737674884]"
      ]
     },
     "execution_count": 3,
     "metadata": {},
     "output_type": "execute_result"
    }
   ],
   "source": [
    "with open(os.path.join(\"../data\", 'subzone_centroid_pos.json'), 'r') as fread:\n",
    "    pos = json.load(fread)\n",
    "pos[\"MARINA SOUTH\"]"
   ]
  },
  {
   "cell_type": "code",
   "execution_count": 4,
   "metadata": {},
   "outputs": [
    {
     "data": {
      "text/html": [
       "<div>\n",
       "<style scoped>\n",
       "    .dataframe tbody tr th:only-of-type {\n",
       "        vertical-align: middle;\n",
       "    }\n",
       "\n",
       "    .dataframe tbody tr th {\n",
       "        vertical-align: top;\n",
       "    }\n",
       "\n",
       "    .dataframe thead th {\n",
       "        text-align: right;\n",
       "    }\n",
       "</style>\n",
       "<table border=\"1\" class=\"dataframe\">\n",
       "  <thead>\n",
       "    <tr style=\"text-align: right;\">\n",
       "      <th></th>\n",
       "      <th>ind</th>\n",
       "      <th>origin</th>\n",
       "      <th>destination</th>\n",
       "      <th>hour_05</th>\n",
       "      <th>hour_06</th>\n",
       "      <th>hour_07</th>\n",
       "      <th>hour_08</th>\n",
       "      <th>hour_09</th>\n",
       "      <th>hour_10</th>\n",
       "      <th>hour_11</th>\n",
       "      <th>...</th>\n",
       "      <th>hour_14</th>\n",
       "      <th>hour_15</th>\n",
       "      <th>hour_16</th>\n",
       "      <th>hour_17</th>\n",
       "      <th>hour_18</th>\n",
       "      <th>hour_19</th>\n",
       "      <th>hour_20</th>\n",
       "      <th>hour_21</th>\n",
       "      <th>hour_22</th>\n",
       "      <th>hour_23</th>\n",
       "    </tr>\n",
       "  </thead>\n",
       "  <tbody>\n",
       "    <tr>\n",
       "      <th>0</th>\n",
       "      <td>0</td>\n",
       "      <td>TAMPINES EAST</td>\n",
       "      <td>TAMPINES EAST</td>\n",
       "      <td>232925.0</td>\n",
       "      <td>1427066.0</td>\n",
       "      <td>2316704.0</td>\n",
       "      <td>1778107.0</td>\n",
       "      <td>1280905.0</td>\n",
       "      <td>1145098.0</td>\n",
       "      <td>1084878.0</td>\n",
       "      <td>...</td>\n",
       "      <td>1382846.0</td>\n",
       "      <td>1305843.0</td>\n",
       "      <td>1400255.0</td>\n",
       "      <td>1652029.0</td>\n",
       "      <td>2019632.0</td>\n",
       "      <td>1676532.0</td>\n",
       "      <td>1141877.0</td>\n",
       "      <td>984449.0</td>\n",
       "      <td>739684.0</td>\n",
       "      <td>391909.0</td>\n",
       "    </tr>\n",
       "    <tr>\n",
       "      <th>1</th>\n",
       "      <td>1</td>\n",
       "      <td>SENOKO NORTH</td>\n",
       "      <td>YISHUN CENTRAL</td>\n",
       "      <td>3560.0</td>\n",
       "      <td>14560.0</td>\n",
       "      <td>7020.0</td>\n",
       "      <td>6380.0</td>\n",
       "      <td>4740.0</td>\n",
       "      <td>4140.0</td>\n",
       "      <td>5820.0</td>\n",
       "      <td>...</td>\n",
       "      <td>10480.0</td>\n",
       "      <td>17540.0</td>\n",
       "      <td>22060.0</td>\n",
       "      <td>46820.0</td>\n",
       "      <td>55680.0</td>\n",
       "      <td>23640.0</td>\n",
       "      <td>16620.0</td>\n",
       "      <td>8300.0</td>\n",
       "      <td>4840.0</td>\n",
       "      <td>1940.0</td>\n",
       "    </tr>\n",
       "    <tr>\n",
       "      <th>2</th>\n",
       "      <td>2</td>\n",
       "      <td>FERNVALE</td>\n",
       "      <td>TRAFALGAR</td>\n",
       "      <td>2680.0</td>\n",
       "      <td>25980.0</td>\n",
       "      <td>19620.0</td>\n",
       "      <td>24980.0</td>\n",
       "      <td>14180.0</td>\n",
       "      <td>10240.0</td>\n",
       "      <td>8260.0</td>\n",
       "      <td>...</td>\n",
       "      <td>9060.0</td>\n",
       "      <td>10400.0</td>\n",
       "      <td>11820.0</td>\n",
       "      <td>18520.0</td>\n",
       "      <td>19040.0</td>\n",
       "      <td>12060.0</td>\n",
       "      <td>8360.0</td>\n",
       "      <td>7320.0</td>\n",
       "      <td>6780.0</td>\n",
       "      <td>3160.0</td>\n",
       "    </tr>\n",
       "    <tr>\n",
       "      <th>3</th>\n",
       "      <td>3</td>\n",
       "      <td>CHINATOWN</td>\n",
       "      <td>PORT</td>\n",
       "      <td>328.0</td>\n",
       "      <td>3482.0</td>\n",
       "      <td>1452.0</td>\n",
       "      <td>1084.0</td>\n",
       "      <td>1128.0</td>\n",
       "      <td>602.0</td>\n",
       "      <td>534.0</td>\n",
       "      <td>...</td>\n",
       "      <td>866.0</td>\n",
       "      <td>908.0</td>\n",
       "      <td>747.0</td>\n",
       "      <td>886.0</td>\n",
       "      <td>564.0</td>\n",
       "      <td>754.0</td>\n",
       "      <td>702.0</td>\n",
       "      <td>553.0</td>\n",
       "      <td>573.0</td>\n",
       "      <td>496.0</td>\n",
       "    </tr>\n",
       "    <tr>\n",
       "      <th>4</th>\n",
       "      <td>4</td>\n",
       "      <td>LAKESIDE</td>\n",
       "      <td>TAMAN JURONG</td>\n",
       "      <td>408.0</td>\n",
       "      <td>6854.0</td>\n",
       "      <td>12863.0</td>\n",
       "      <td>18283.0</td>\n",
       "      <td>7809.0</td>\n",
       "      <td>7015.0</td>\n",
       "      <td>6526.0</td>\n",
       "      <td>...</td>\n",
       "      <td>12956.0</td>\n",
       "      <td>23380.0</td>\n",
       "      <td>13425.0</td>\n",
       "      <td>15333.0</td>\n",
       "      <td>15933.0</td>\n",
       "      <td>8697.0</td>\n",
       "      <td>7677.0</td>\n",
       "      <td>4723.0</td>\n",
       "      <td>3355.0</td>\n",
       "      <td>1720.0</td>\n",
       "    </tr>\n",
       "  </tbody>\n",
       "</table>\n",
       "<p>5 rows × 22 columns</p>\n",
       "</div>"
      ],
      "text/plain": [
       "   ind         origin     destination   hour_05    hour_06    hour_07  \\\n",
       "0    0  TAMPINES EAST   TAMPINES EAST  232925.0  1427066.0  2316704.0   \n",
       "1    1   SENOKO NORTH  YISHUN CENTRAL    3560.0    14560.0     7020.0   \n",
       "2    2       FERNVALE       TRAFALGAR    2680.0    25980.0    19620.0   \n",
       "3    3      CHINATOWN            PORT     328.0     3482.0     1452.0   \n",
       "4    4       LAKESIDE    TAMAN JURONG     408.0     6854.0    12863.0   \n",
       "\n",
       "     hour_08    hour_09    hour_10    hour_11  ...    hour_14    hour_15  \\\n",
       "0  1778107.0  1280905.0  1145098.0  1084878.0  ...  1382846.0  1305843.0   \n",
       "1     6380.0     4740.0     4140.0     5820.0  ...    10480.0    17540.0   \n",
       "2    24980.0    14180.0    10240.0     8260.0  ...     9060.0    10400.0   \n",
       "3     1084.0     1128.0      602.0      534.0  ...      866.0      908.0   \n",
       "4    18283.0     7809.0     7015.0     6526.0  ...    12956.0    23380.0   \n",
       "\n",
       "     hour_16    hour_17    hour_18    hour_19    hour_20   hour_21   hour_22  \\\n",
       "0  1400255.0  1652029.0  2019632.0  1676532.0  1141877.0  984449.0  739684.0   \n",
       "1    22060.0    46820.0    55680.0    23640.0    16620.0    8300.0    4840.0   \n",
       "2    11820.0    18520.0    19040.0    12060.0     8360.0    7320.0    6780.0   \n",
       "3      747.0      886.0      564.0      754.0      702.0     553.0     573.0   \n",
       "4    13425.0    15333.0    15933.0     8697.0     7677.0    4723.0    3355.0   \n",
       "\n",
       "    hour_23  \n",
       "0  391909.0  \n",
       "1    1940.0  \n",
       "2    3160.0  \n",
       "3     496.0  \n",
       "4    1720.0  \n",
       "\n",
       "[5 rows x 22 columns]"
      ]
     },
     "execution_count": 4,
     "metadata": {},
     "output_type": "execute_result"
    }
   ],
   "source": [
    "df1 = pd.read_csv(os.path.join(data_dir, 'OD_202001_weekday.csv.xz'))\n",
    "df1.head()"
   ]
  },
  {
   "cell_type": "code",
   "execution_count": 5,
   "metadata": {},
   "outputs": [],
   "source": [
    "df1b = df1.dropna(subset=[\"origin\", \"destination\"])"
   ]
  },
  {
   "cell_type": "code",
   "execution_count": 7,
   "metadata": {},
   "outputs": [
    {
     "data": {
      "text/html": [
       "<div>\n",
       "<style scoped>\n",
       "    .dataframe tbody tr th:only-of-type {\n",
       "        vertical-align: middle;\n",
       "    }\n",
       "\n",
       "    .dataframe tbody tr th {\n",
       "        vertical-align: top;\n",
       "    }\n",
       "\n",
       "    .dataframe thead th {\n",
       "        text-align: right;\n",
       "    }\n",
       "</style>\n",
       "<table border=\"1\" class=\"dataframe\">\n",
       "  <thead>\n",
       "    <tr style=\"text-align: right;\">\n",
       "      <th></th>\n",
       "      <th>origin</th>\n",
       "      <th>destination</th>\n",
       "      <th>hour_08</th>\n",
       "    </tr>\n",
       "  </thead>\n",
       "  <tbody>\n",
       "    <tr>\n",
       "      <th>0</th>\n",
       "      <td>TAMPINES EAST</td>\n",
       "      <td>TAMPINES EAST</td>\n",
       "      <td>1778107.0</td>\n",
       "    </tr>\n",
       "    <tr>\n",
       "      <th>1</th>\n",
       "      <td>SENOKO NORTH</td>\n",
       "      <td>YISHUN CENTRAL</td>\n",
       "      <td>6380.0</td>\n",
       "    </tr>\n",
       "    <tr>\n",
       "      <th>2</th>\n",
       "      <td>FERNVALE</td>\n",
       "      <td>TRAFALGAR</td>\n",
       "      <td>24980.0</td>\n",
       "    </tr>\n",
       "    <tr>\n",
       "      <th>3</th>\n",
       "      <td>CHINATOWN</td>\n",
       "      <td>PORT</td>\n",
       "      <td>1084.0</td>\n",
       "    </tr>\n",
       "    <tr>\n",
       "      <th>4</th>\n",
       "      <td>LAKESIDE</td>\n",
       "      <td>TAMAN JURONG</td>\n",
       "      <td>18283.0</td>\n",
       "    </tr>\n",
       "  </tbody>\n",
       "</table>\n",
       "</div>"
      ],
      "text/plain": [
       "          origin     destination    hour_08\n",
       "0  TAMPINES EAST   TAMPINES EAST  1778107.0\n",
       "1   SENOKO NORTH  YISHUN CENTRAL     6380.0\n",
       "2       FERNVALE       TRAFALGAR    24980.0\n",
       "3      CHINATOWN            PORT     1084.0\n",
       "4       LAKESIDE    TAMAN JURONG    18283.0"
      ]
     },
     "execution_count": 7,
     "metadata": {},
     "output_type": "execute_result"
    }
   ],
   "source": [
    "df1[[\"origin\", \"destination\", \"hour_08\"]].head()"
   ]
  },
  {
   "cell_type": "code",
   "execution_count": 8,
   "metadata": {},
   "outputs": [
    {
     "data": {
      "text/plain": [
       "30910"
      ]
     },
     "execution_count": 8,
     "metadata": {},
     "output_type": "execute_result"
    }
   ],
   "source": [
    "dg1_08 = nx.DiGraph()\n",
    "for s,t,f in zip(df1b[\"origin\"], df1b[\"destination\"], df1b[\"hour_08\"]):\n",
    "    if s==t: continue\n",
    "    dg1_08.add_edge(s,t,weight=f)\n",
    "dg1_08.number_of_edges()"
   ]
  },
  {
   "cell_type": "code",
   "execution_count": 10,
   "metadata": {},
   "outputs": [
    {
     "ename": "TypeError",
     "evalue": "Bad graph type, use only non directed graph",
     "output_type": "error",
     "traceback": [
      "\u001b[0;31m---------------------------------------------------------------------------\u001b[0m",
      "\u001b[0;31mTypeError\u001b[0m                                 Traceback (most recent call last)",
      "\u001b[0;32m<ipython-input-10-fc3e632a3da9>\u001b[0m in \u001b[0;36m<module>\u001b[0;34m\u001b[0m\n\u001b[0;32m----> 1\u001b[0;31m \u001b[0mpartition\u001b[0m \u001b[0;34m=\u001b[0m \u001b[0mcommunity\u001b[0m\u001b[0;34m.\u001b[0m\u001b[0mbest_partition\u001b[0m\u001b[0;34m(\u001b[0m\u001b[0mdg1_08\u001b[0m\u001b[0;34m)\u001b[0m\u001b[0;34m\u001b[0m\u001b[0;34m\u001b[0m\u001b[0m\n\u001b[0m",
      "\u001b[0;32m~/.pyenv/versions/miniconda3-4.3.30/lib/python3.6/site-packages/community/community_louvain.py\u001b[0m in \u001b[0;36mbest_partition\u001b[0;34m(graph, partition, weight, resolution, randomize, random_state)\u001b[0m\n\u001b[1;32m    247\u001b[0m                                 \u001b[0mresolution\u001b[0m\u001b[0;34m,\u001b[0m\u001b[0;34m\u001b[0m\u001b[0;34m\u001b[0m\u001b[0m\n\u001b[1;32m    248\u001b[0m                                 \u001b[0mrandomize\u001b[0m\u001b[0;34m,\u001b[0m\u001b[0;34m\u001b[0m\u001b[0;34m\u001b[0m\u001b[0m\n\u001b[0;32m--> 249\u001b[0;31m                                 random_state)\n\u001b[0m\u001b[1;32m    250\u001b[0m     \u001b[0;32mreturn\u001b[0m \u001b[0mpartition_at_level\u001b[0m\u001b[0;34m(\u001b[0m\u001b[0mdendo\u001b[0m\u001b[0;34m,\u001b[0m \u001b[0mlen\u001b[0m\u001b[0;34m(\u001b[0m\u001b[0mdendo\u001b[0m\u001b[0;34m)\u001b[0m \u001b[0;34m-\u001b[0m \u001b[0;36m1\u001b[0m\u001b[0;34m)\u001b[0m\u001b[0;34m\u001b[0m\u001b[0;34m\u001b[0m\u001b[0m\n\u001b[1;32m    251\u001b[0m \u001b[0;34m\u001b[0m\u001b[0m\n",
      "\u001b[0;32m~/.pyenv/versions/miniconda3-4.3.30/lib/python3.6/site-packages/community/community_louvain.py\u001b[0m in \u001b[0;36mgenerate_dendrogram\u001b[0;34m(graph, part_init, weight, resolution, randomize, random_state)\u001b[0m\n\u001b[1;32m    315\u001b[0m     \"\"\"\n\u001b[1;32m    316\u001b[0m     \u001b[0;32mif\u001b[0m \u001b[0mgraph\u001b[0m\u001b[0;34m.\u001b[0m\u001b[0mis_directed\u001b[0m\u001b[0;34m(\u001b[0m\u001b[0;34m)\u001b[0m\u001b[0;34m:\u001b[0m\u001b[0;34m\u001b[0m\u001b[0;34m\u001b[0m\u001b[0m\n\u001b[0;32m--> 317\u001b[0;31m         \u001b[0;32mraise\u001b[0m \u001b[0mTypeError\u001b[0m\u001b[0;34m(\u001b[0m\u001b[0;34m\"Bad graph type, use only non directed graph\"\u001b[0m\u001b[0;34m)\u001b[0m\u001b[0;34m\u001b[0m\u001b[0;34m\u001b[0m\u001b[0m\n\u001b[0m\u001b[1;32m    318\u001b[0m \u001b[0;34m\u001b[0m\u001b[0m\n\u001b[1;32m    319\u001b[0m     \u001b[0;31m# Properly handle random state, eventually remove old `randomize` parameter\u001b[0m\u001b[0;34m\u001b[0m\u001b[0;34m\u001b[0m\u001b[0;34m\u001b[0m\u001b[0m\n",
      "\u001b[0;31mTypeError\u001b[0m: Bad graph type, use only non directed graph"
     ]
    }
   ],
   "source": [
    "partition = community.best_partition(dg1_08)"
   ]
  },
  {
   "cell_type": "code",
   "execution_count": null,
   "metadata": {},
   "outputs": [],
   "source": []
  }
 ],
 "metadata": {
  "kernelspec": {
   "display_name": "Python 3",
   "language": "python",
   "name": "python3"
  },
  "language_info": {
   "codemirror_mode": {
    "name": "ipython",
    "version": 3
   },
   "file_extension": ".py",
   "mimetype": "text/x-python",
   "name": "python",
   "nbconvert_exporter": "python",
   "pygments_lexer": "ipython3",
   "version": "3.6.8"
  }
 },
 "nbformat": 4,
 "nbformat_minor": 4
}
