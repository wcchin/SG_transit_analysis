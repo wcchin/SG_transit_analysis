{
 "cells": [
  {
   "cell_type": "code",
   "execution_count": 3,
   "metadata": {},
   "outputs": [],
   "source": [
    "import networkx as nx\n",
    "import matplotlib.pyplot as plt\n",
    "import numpy as np"
   ]
  },
  {
   "cell_type": "code",
   "execution_count": 4,
   "metadata": {},
   "outputs": [
    {
     "data": {
      "text/plain": [
       "({1: 0.8394063640578995,\n",
       "  2: 2.6843590860958273e-09,\n",
       "  3: 0.12415543168640138,\n",
       "  4: 6.336912203378257e-10,\n",
       "  5: 0.03643820093764876},\n",
       " {1: 0.0,\n",
       "  2: 0.6301287908455194,\n",
       "  3: 0.3698712039505808,\n",
       "  4: 1.9877128655987756e-09,\n",
       "  5: 3.21618697641427e-09})"
      ]
     },
     "execution_count": 4,
     "metadata": {},
     "output_type": "execute_result"
    }
   ],
   "source": [
    "G = nx.DiGraph()\n",
    "G.add_edge(1, 2, weight = 50)\n",
    "G.add_edge(1, 3, weight = 30)\n",
    "G.add_edge(3, 2, weight = 10)\n",
    "G.add_edge(2, 4, weight = 20)\n",
    "G.add_edge(2, 5, weight = 30)\n",
    "G.add_edge(5, 3, weight = 5)\n",
    "G.add_edge(4, 5, weight = 10)\n",
    "nx.hits(G)"
   ]
  },
  {
   "cell_type": "code",
   "execution_count": 6,
   "metadata": {},
   "outputs": [
    {
     "data": {
      "text/plain": [
       "({1: 0.9017857142754124,\n",
       "  2: 7.056696681679186e-12,\n",
       "  3: 0.08928571428469366,\n",
       "  4: 4.36128163710669e-12,\n",
       "  5: 0.0089285714284758},\n",
       " {1: 0.0,\n",
       "  2: 0.9090909090255314,\n",
       "  3: 0.09090909090261866,\n",
       "  4: 2.7444225906714552e-11,\n",
       "  5: 4.4405776666036804e-11})"
      ]
     },
     "execution_count": 6,
     "metadata": {},
     "output_type": "execute_result"
    }
   ],
   "source": [
    "G = nx.DiGraph()\n",
    "G.add_edge(1, 2, weight = 10)\n",
    "G.add_edge(1, 3, weight = 1)\n",
    "G.add_edge(3, 2, weight = 1)\n",
    "G.add_edge(2, 4, weight = 1)\n",
    "G.add_edge(2, 5, weight = 1)\n",
    "G.add_edge(5, 3, weight = 1)\n",
    "G.add_edge(4, 5, weight = 1)\n",
    "nx.hits(G)"
   ]
  },
  {
   "cell_type": "markdown",
   "metadata": {},
   "source": [
    "HITS in networkx does consider the \"weight\" of edge"
   ]
  },
  {
   "cell_type": "code",
   "execution_count": null,
   "metadata": {},
   "outputs": [],
   "source": []
  }
 ],
 "metadata": {
  "kernelspec": {
   "display_name": "Python 3",
   "language": "python",
   "name": "python3"
  },
  "language_info": {
   "codemirror_mode": {
    "name": "ipython",
    "version": 3
   },
   "file_extension": ".py",
   "mimetype": "text/x-python",
   "name": "python",
   "nbconvert_exporter": "python",
   "pygments_lexer": "ipython3",
   "version": "3.6.8"
  }
 },
 "nbformat": 4,
 "nbformat_minor": 4
}
