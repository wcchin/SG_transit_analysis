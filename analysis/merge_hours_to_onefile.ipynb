{
 "cells": [
  {
   "cell_type": "code",
   "execution_count": 1,
   "metadata": {},
   "outputs": [],
   "source": [
    "import os\n",
    "import pandas as pd\n",
    "import numpy as np\n",
    "import matplotlib.pyplot as plt"
   ]
  },
  {
   "cell_type": "code",
   "execution_count": 2,
   "metadata": {},
   "outputs": [],
   "source": [
    "data_dir = \"../data\"\n",
    "od_dir = os.path.join(data_dir, \"OD_PT\")\n",
    "#os.listdir(od_dir)"
   ]
  },
  {
   "cell_type": "code",
   "execution_count": 4,
   "metadata": {},
   "outputs": [
    {
     "name": "stdout",
     "output_type": "stream",
     "text": [
      "5\n",
      "../data/OD_PT/OD_201911_weekday_05.csv.xz\n",
      "6\n",
      "../data/OD_PT/OD_201911_weekday_06.csv.xz\n",
      "7\n",
      "../data/OD_PT/OD_201911_weekday_07.csv.xz\n",
      "8\n",
      "../data/OD_PT/OD_201911_weekday_08.csv.xz\n",
      "9\n",
      "../data/OD_PT/OD_201911_weekday_09.csv.xz\n",
      "10\n",
      "../data/OD_PT/OD_201911_weekday_10.csv.xz\n",
      "11\n",
      "../data/OD_PT/OD_201911_weekday_11.csv.xz\n",
      "12\n",
      "../data/OD_PT/OD_201911_weekday_12.csv.xz\n",
      "13\n",
      "../data/OD_PT/OD_201911_weekday_13.csv.xz\n",
      "14\n",
      "../data/OD_PT/OD_201911_weekday_14.csv.xz\n",
      "15\n",
      "../data/OD_PT/OD_201911_weekday_15.csv.xz\n",
      "16\n",
      "../data/OD_PT/OD_201911_weekday_16.csv.xz\n",
      "17\n",
      "../data/OD_PT/OD_201911_weekday_17.csv.xz\n",
      "18\n",
      "../data/OD_PT/OD_201911_weekday_18.csv.xz\n",
      "19\n",
      "../data/OD_PT/OD_201911_weekday_19.csv.xz\n",
      "20\n",
      "../data/OD_PT/OD_201911_weekday_20.csv.xz\n",
      "21\n",
      "../data/OD_PT/OD_201911_weekday_21.csv.xz\n",
      "22\n",
      "../data/OD_PT/OD_201911_weekday_22.csv.xz\n",
      "23\n",
      "../data/OD_PT/OD_201911_weekday_23.csv.xz\n",
      "           origin      destination  hour_05  hour_06  hour_07  hour_08  \\\n",
      "0   TEBAN GARDENS       WEST COAST   3276.0  11430.0  17406.0  18270.0   \n",
      "1  CLEMENTI WOODS      BEDOK NORTH    252.0    162.0    180.0    198.0   \n",
      "2   MARINA CENTRE    MARINA CENTRE     18.0    684.0    720.0   1334.0   \n",
      "3    GEYLANG EAST     PEARL'S HILL    306.0   1008.0   1152.0   2538.0   \n",
      "4         MIDVIEW  WOODLANDS SOUTH    918.0  10614.0  16392.0  11634.0   \n",
      "\n",
      "   hour_09  hour_10  hour_11  hour_12  ...  hour_14  hour_15  hour_16  \\\n",
      "0   3186.0   1728.0   1476.0   1728.0  ...   2286.0    954.0    882.0   \n",
      "1    252.0    360.0    450.0    270.0  ...    612.0    522.0    738.0   \n",
      "2   1676.0   2358.0   2412.0   3726.0  ...   4378.0   5472.0   6212.0   \n",
      "3   1728.0   1530.0   1026.0   1638.0  ...   1944.0   2070.0   1188.0   \n",
      "4   8904.0   7116.0   9864.0  15720.0  ...   8964.0   9768.0   8760.0   \n",
      "\n",
      "   hour_17  hour_18  hour_19  hour_20  hour_21  hour_22  hour_23  \n",
      "0   1368.0   1602.0   1602.0   1170.0    810.0    684.0    486.0  \n",
      "1    918.0    180.0    342.0    450.0    306.0    162.0     90.0  \n",
      "2   5276.0   6966.0   6606.0   4032.0   4050.0   3834.0   1160.0  \n",
      "3   1782.0   1188.0    972.0    756.0   1548.0    846.0    342.0  \n",
      "4  11970.0  15150.0  12654.0   9258.0   6936.0   7428.0   2340.0  \n",
      "\n",
      "[5 rows x 21 columns]\n",
      "5\n",
      "../data/OD_PT/OD_202001_weekday_05.csv.xz\n",
      "6\n",
      "../data/OD_PT/OD_202001_weekday_06.csv.xz\n",
      "7\n",
      "../data/OD_PT/OD_202001_weekday_07.csv.xz\n",
      "8\n",
      "../data/OD_PT/OD_202001_weekday_08.csv.xz\n",
      "9\n",
      "../data/OD_PT/OD_202001_weekday_09.csv.xz\n",
      "10\n",
      "../data/OD_PT/OD_202001_weekday_10.csv.xz\n",
      "11\n",
      "../data/OD_PT/OD_202001_weekday_11.csv.xz\n",
      "12\n",
      "../data/OD_PT/OD_202001_weekday_12.csv.xz\n",
      "13\n",
      "../data/OD_PT/OD_202001_weekday_13.csv.xz\n",
      "14\n",
      "../data/OD_PT/OD_202001_weekday_14.csv.xz\n",
      "15\n",
      "../data/OD_PT/OD_202001_weekday_15.csv.xz\n",
      "16\n",
      "../data/OD_PT/OD_202001_weekday_16.csv.xz\n",
      "17\n",
      "../data/OD_PT/OD_202001_weekday_17.csv.xz\n",
      "18\n",
      "../data/OD_PT/OD_202001_weekday_18.csv.xz\n",
      "19\n",
      "../data/OD_PT/OD_202001_weekday_19.csv.xz\n",
      "20\n",
      "../data/OD_PT/OD_202001_weekday_20.csv.xz\n",
      "21\n",
      "../data/OD_PT/OD_202001_weekday_21.csv.xz\n",
      "22\n",
      "../data/OD_PT/OD_202001_weekday_22.csv.xz\n",
      "23\n",
      "../data/OD_PT/OD_202001_weekday_23.csv.xz\n",
      "          origin     destination   hour_05    hour_06    hour_07    hour_08  \\\n",
      "0  TAMPINES EAST   TAMPINES EAST  232925.0  1427066.0  2316704.0  1778107.0   \n",
      "1   SENOKO NORTH  YISHUN CENTRAL    3560.0    14560.0     7020.0     6380.0   \n",
      "2       FERNVALE       TRAFALGAR    2680.0    25980.0    19620.0    24980.0   \n",
      "3      CHINATOWN            PORT     328.0     3482.0     1452.0     1084.0   \n",
      "4       LAKESIDE    TAMAN JURONG     408.0     6854.0    12863.0    18283.0   \n",
      "\n",
      "     hour_09    hour_10    hour_11    hour_12  ...    hour_14    hour_15  \\\n",
      "0  1280905.0  1145098.0  1084878.0  1226038.0  ...  1382846.0  1305843.0   \n",
      "1     4740.0     4140.0     5820.0     9680.0  ...    10480.0    17540.0   \n",
      "2    14180.0    10240.0     8260.0    10400.0  ...     9060.0    10400.0   \n",
      "3     1128.0      602.0      534.0     1054.0  ...      866.0      908.0   \n",
      "4     7809.0     7015.0     6526.0     9356.0  ...    12956.0    23380.0   \n",
      "\n",
      "     hour_16    hour_17    hour_18    hour_19    hour_20   hour_21   hour_22  \\\n",
      "0  1400255.0  1652029.0  2019632.0  1676532.0  1141877.0  984449.0  739684.0   \n",
      "1    22060.0    46820.0    55680.0    23640.0    16620.0    8300.0    4840.0   \n",
      "2    11820.0    18520.0    19040.0    12060.0     8360.0    7320.0    6780.0   \n",
      "3      747.0      886.0      564.0      754.0      702.0     553.0     573.0   \n",
      "4    13425.0    15333.0    15933.0     8697.0     7677.0    4723.0    3355.0   \n",
      "\n",
      "    hour_23  \n",
      "0  391909.0  \n",
      "1    1940.0  \n",
      "2    3160.0  \n",
      "3     496.0  \n",
      "4    1720.0  \n",
      "\n",
      "[5 rows x 21 columns]\n"
     ]
    }
   ],
   "source": [
    "\n",
    "months = [\"201911\", \"202001\"] #\"201912\"\n",
    "for m in months:\n",
    "    df_merge = None\n",
    "    for hr in range(5,24):\n",
    "        print(hr)\n",
    "        f = \"OD_{}_weekday_{}.csv.xz\".format(m, str(hr).zfill(2))\n",
    "        fp = os.path.join(od_dir, f)\n",
    "        print(fp)\n",
    "        df_flow = pd.read_csv(fp, index_col=0)\n",
    "        df_flow = df_flow[[\"origin\", \"destination\", \"total_flow\"]]\n",
    "        df_flow = df_flow.rename(columns={\"total_flow\": \"hour_{}\".format(str(hr).zfill(2))})\n",
    "        #print(df_flow.head())\n",
    "\n",
    "        if df_merge is None:\n",
    "            df_merge = df_flow\n",
    "        else:\n",
    "            df_merge = pd.merge(df_merge, df_flow, left_on=[\"origin\", \"destination\"], right_on=[\"origin\", \"destination\"], \n",
    "                               how=\"outer\", suffixes=('_o', '_n'), validate=\"one_to_one\")\n",
    "        #break\n",
    "    colval = { col:0 for col in df_merge.columns if col not in [\"origin\", \"destination\"]}\n",
    "    df_merge = df_merge.fillna(value=colval)\n",
    "    print(df_merge.head())\n",
    "    df_merge.to_csv(os.path.join(data_dir, \"OD_{}_weekday.csv.xz\".format(m)), index_label=\"ind\", compression=\"xz\")"
   ]
  },
  {
   "cell_type": "code",
   "execution_count": 5,
   "metadata": {},
   "outputs": [
    {
     "name": "stdout",
     "output_type": "stream",
     "text": [
      "5\n",
      "6\n",
      "7\n",
      "8\n",
      "9\n",
      "10\n",
      "11\n",
      "12\n",
      "13\n",
      "14\n",
      "15\n",
      "16\n",
      "17\n",
      "18\n",
      "19\n",
      "20\n",
      "21\n",
      "22\n",
      "23\n",
      "             origin      destination  hour_05  hour_06  hour_07  hour_08  \\\n",
      "0     TEBAN GARDENS       WEST COAST    342.0   1800.0   2808.0   2124.0   \n",
      "1      GEYLANG EAST     PEARL'S HILL    144.0    504.0    432.0    594.0   \n",
      "2           MIDVIEW  WOODLANDS SOUTH    306.0   1314.0   3426.0   3420.0   \n",
      "3        MACPHERSON         ALJUNIED   3250.0  17309.0  27407.0  35118.0   \n",
      "4  CLEMENTI CENTRAL  MARITIME SQUARE    882.0   3348.0   3906.0   5094.0   \n",
      "\n",
      "   hour_09  hour_10  hour_11  hour_12  ...  hour_14  hour_15  hour_16  \\\n",
      "0    828.0    846.0    612.0    864.0  ...    396.0    432.0    216.0   \n",
      "1    846.0    522.0    792.0    918.0  ...    756.0   1098.0    540.0   \n",
      "2   5004.0   4986.0   4770.0   4008.0  ...   3264.0   3936.0   2808.0   \n",
      "3  35317.0  29313.0  29716.0  33612.0  ...  27130.0  25235.0  27661.0   \n",
      "4   5724.0   6120.0   6030.0   6660.0  ...   5634.0   5814.0   6354.0   \n",
      "\n",
      "   hour_17  hour_18  hour_19  hour_20  hour_21  hour_22  hour_23  \n",
      "0    252.0    324.0    828.0    468.0    144.0    162.0    180.0  \n",
      "1    378.0    648.0    774.0    396.0    612.0    252.0     72.0  \n",
      "2   3168.0   3096.0   3660.0   2430.0   1734.0   2106.0    672.0  \n",
      "3  33099.0  33385.0  28266.0  17488.0  14757.0  11256.0   6412.0  \n",
      "4   6912.0   4410.0   2988.0   1890.0    864.0    558.0    666.0  \n",
      "\n",
      "[5 rows x 21 columns]\n",
      "5\n",
      "6\n",
      "7\n",
      "8\n",
      "9\n",
      "10\n",
      "11\n",
      "12\n",
      "13\n",
      "14\n",
      "15\n",
      "16\n",
      "17\n",
      "18\n",
      "19\n",
      "20\n",
      "21\n",
      "22\n",
      "23\n",
      "                 origin    destination  hour_05   hour_06   hour_07   hour_08  \\\n",
      "0         TAMPINES EAST  TAMPINES EAST  48619.0  158327.0  277360.0  411257.0   \n",
      "1              BRADDELL     TOWNSVILLE    360.0     560.0     460.0     900.0   \n",
      "2  DEFU INDUSTRIAL PARK   GEYLANG EAST    260.0    1000.0    2900.0    4220.0   \n",
      "3             TRAFALGAR      TRAFALGAR   3842.0   13508.0   18882.0   30368.0   \n",
      "4          GEYLANG EAST   PEARL'S HILL    140.0     360.0     300.0     560.0   \n",
      "\n",
      "    hour_09   hour_10   hour_11   hour_12  ...   hour_14   hour_15   hour_16  \\\n",
      "0  508498.0  573099.0  605327.0  618412.0  ...  585805.0  555808.0  568718.0   \n",
      "1    1260.0    1220.0    1360.0    1160.0  ...     960.0    1000.0    1300.0   \n",
      "2    4420.0    4220.0    5380.0    3300.0  ...    3460.0    2820.0    2260.0   \n",
      "3   39670.0   43908.0   45014.0   50656.0  ...   41832.0   40494.0   39684.0   \n",
      "4    1060.0     820.0    1020.0    1200.0  ...    1280.0     820.0     640.0   \n",
      "\n",
      "    hour_17   hour_18   hour_19   hour_20   hour_21   hour_22   hour_23  \n",
      "0  616855.0  578631.0  522250.0  454249.0  418694.0  328079.0  188590.0  \n",
      "1     780.0    1120.0     720.0     700.0     720.0     620.0     400.0  \n",
      "2    2600.0    2400.0    1500.0     580.0     520.0     200.0      80.0  \n",
      "3   42442.0   41718.0   43242.0   33512.0   29664.0   24186.0   11780.0  \n",
      "4     600.0     760.0    1000.0     900.0     440.0     560.0     460.0  \n",
      "\n",
      "[5 rows x 21 columns]\n"
     ]
    }
   ],
   "source": [
    "\n",
    "months = [\"201911\", \"202001\"] #\"201912\"\n",
    "for m in months:\n",
    "    df_merge = None\n",
    "    for hr in range(5,24):\n",
    "        print(hr)\n",
    "        f = \"OD_{}_weekend_{}.csv.xz\".format(m, str(hr).zfill(2))\n",
    "        fp = os.path.join(od_dir, f)\n",
    "        df_flow = pd.read_csv(fp, index_col=0)\n",
    "        df_flow = df_flow[[\"origin\", \"destination\", \"total_flow\"]]\n",
    "        df_flow = df_flow.rename(columns={\"total_flow\": \"hour_{}\".format(str(hr).zfill(2))})\n",
    "        #print(df_flow.head())\n",
    "\n",
    "        if df_merge is None:\n",
    "            df_merge = df_flow\n",
    "        else:\n",
    "            df_merge = pd.merge(df_merge, df_flow, left_on=[\"origin\", \"destination\"], right_on=[\"origin\", \"destination\"], \n",
    "                               how=\"outer\", suffixes=('_o', '_n'))#, validate=\"one_to_one\")\n",
    "        #break\n",
    "    colval = { col:0 for col in df_merge.columns if col not in [\"origin\", \"destination\"]}\n",
    "    df_merge = df_merge.fillna(value=colval)\n",
    "    print(df_merge.head())\n",
    "    df_merge.to_csv(os.path.join(data_dir, \"OD_{}_weekend.csv.xz\".format(m)), index_label=\"ind\", compression=\"xz\")"
   ]
  },
  {
   "cell_type": "code",
   "execution_count": 15,
   "metadata": {},
   "outputs": [
    {
     "name": "stderr",
     "output_type": "stream",
     "text": [
      "/home/benny/.pyenv/versions/miniconda3-4.3.30/lib/python3.6/site-packages/ipykernel_launcher.py:1: FutureWarning: Method .as_matrix will be removed in a future version. Use .values instead.\n",
      "  \"\"\"Entry point for launching an IPython kernel.\n"
     ]
    }
   ],
   "source": [
    "cormat = df_merge.corr(method ='pearson').as_matrix()"
   ]
  },
  {
   "cell_type": "code",
   "execution_count": 17,
   "metadata": {},
   "outputs": [
    {
     "data": {
      "text/plain": [
       "<matplotlib.image.AxesImage at 0x7fcb285c2ba8>"
      ]
     },
     "execution_count": 17,
     "metadata": {},
     "output_type": "execute_result"
    },
    {
     "data": {
      "image/png": "[encoded data removed]",
      "text/plain": [
       "<Figure size 288x288 with 1 Axes>"
      ]
     },
     "metadata": {
      "needs_background": "light"
     },
     "output_type": "display_data"
    }
   ],
   "source": [
    "plt.matshow(cormat)"
   ]
  },
  {
   "cell_type": "code",
   "execution_count": 25,
   "metadata": {},
   "outputs": [
    {
     "data": {
      "text/plain": [
       "<matplotlib.image.AxesImage at 0x7fcb283b5c88>"
      ]
     },
     "execution_count": 25,
     "metadata": {},
     "output_type": "execute_result"
    },
    {
     "data": {
      "image/png": "[encoded data removed]",
      "text/plain": [
       "<Figure size 288x288 with 1 Axes>"
      ]
     },
     "metadata": {
      "needs_background": "light"
     },
     "output_type": "display_data"
    }
   ],
   "source": [
    "plt.matshow(np.where(cormat>=0.92, 1, 0))"
   ]
  },
  {
   "cell_type": "code",
   "execution_count": null,
   "metadata": {},
   "outputs": [],
   "source": []
  }
 ],
 "metadata": {
  "kernelspec": {
   "display_name": "Python 3",
   "language": "python",
   "name": "python3"
  },
  "language_info": {
   "codemirror_mode": {
    "name": "ipython",
    "version": 3
   },
   "file_extension": ".py",
   "mimetype": "text/x-python",
   "name": "python",
   "nbconvert_exporter": "python",
   "pygments_lexer": "ipython3",
   "version": "3.6.8"
  }
 },
 "nbformat": 4,
 "nbformat_minor": 4
}
