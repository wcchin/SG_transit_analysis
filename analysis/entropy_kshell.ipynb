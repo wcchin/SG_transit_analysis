{
 "cells": [
  {
   "cell_type": "code",
   "execution_count": 1,
   "metadata": {},
   "outputs": [],
   "source": [
    "import os\n",
    "from collections import defaultdict\n",
    "import pandas as pd\n",
    "import numpy as np\n",
    "import networkx as nx\n",
    "import matplotlib.pyplot as plt\n",
    "import seaborn as sns\n",
    "from tqdm import tqdm"
   ]
  },
  {
   "cell_type": "code",
   "execution_count": 2,
   "metadata": {},
   "outputs": [],
   "source": [
    "import warnings\n",
    "warnings.filterwarnings('ignore')"
   ]
  },
  {
   "cell_type": "code",
   "execution_count": null,
   "metadata": {},
   "outputs": [],
   "source": []
  },
  {
   "cell_type": "code",
   "execution_count": 9,
   "metadata": {},
   "outputs": [
    {
     "data": {
      "text/html": [
       "<div>\n",
       "<style scoped>\n",
       "    .dataframe tbody tr th:only-of-type {\n",
       "        vertical-align: middle;\n",
       "    }\n",
       "\n",
       "    .dataframe tbody tr th {\n",
       "        vertical-align: top;\n",
       "    }\n",
       "\n",
       "    .dataframe thead th {\n",
       "        text-align: right;\n",
       "    }\n",
       "</style>\n",
       "<table border=\"1\" class=\"dataframe\">\n",
       "  <thead>\n",
       "    <tr style=\"text-align: right;\">\n",
       "      <th></th>\n",
       "      <th>node</th>\n",
       "      <th>weekday_in_core</th>\n",
       "      <th>weekday_out_core</th>\n",
       "      <th>weekend_in_core</th>\n",
       "      <th>weekend_out_core</th>\n",
       "      <th>weekday_in_core_lvl</th>\n",
       "      <th>weekday_out_core_lvl</th>\n",
       "      <th>weekend_in_core_lvl</th>\n",
       "      <th>weekend_out_core_lvl</th>\n",
       "    </tr>\n",
       "  </thead>\n",
       "  <tbody>\n",
       "    <tr>\n",
       "      <th>0</th>\n",
       "      <td>ADMIRALTY</td>\n",
       "      <td>8845</td>\n",
       "      <td>8436</td>\n",
       "      <td>5350</td>\n",
       "      <td>5185</td>\n",
       "      <td>0</td>\n",
       "      <td>0</td>\n",
       "      <td>0</td>\n",
       "      <td>0</td>\n",
       "    </tr>\n",
       "    <tr>\n",
       "      <th>1</th>\n",
       "      <td>AIRPORT ROAD</td>\n",
       "      <td>2153</td>\n",
       "      <td>2070</td>\n",
       "      <td>515</td>\n",
       "      <td>500</td>\n",
       "      <td>0</td>\n",
       "      <td>0</td>\n",
       "      <td>0</td>\n",
       "      <td>0</td>\n",
       "    </tr>\n",
       "    <tr>\n",
       "      <th>2</th>\n",
       "      <td>ALEXANDRA HILL</td>\n",
       "      <td>14278</td>\n",
       "      <td>14023</td>\n",
       "      <td>8195</td>\n",
       "      <td>8136</td>\n",
       "      <td>1</td>\n",
       "      <td>1</td>\n",
       "      <td>1</td>\n",
       "      <td>1</td>\n",
       "    </tr>\n",
       "    <tr>\n",
       "      <th>3</th>\n",
       "      <td>ALEXANDRA NORTH</td>\n",
       "      <td>5717</td>\n",
       "      <td>6379</td>\n",
       "      <td>2838</td>\n",
       "      <td>2951</td>\n",
       "      <td>0</td>\n",
       "      <td>0</td>\n",
       "      <td>0</td>\n",
       "      <td>0</td>\n",
       "    </tr>\n",
       "    <tr>\n",
       "      <th>4</th>\n",
       "      <td>ALJUNIED</td>\n",
       "      <td>14278</td>\n",
       "      <td>14023</td>\n",
       "      <td>8195</td>\n",
       "      <td>8377</td>\n",
       "      <td>1</td>\n",
       "      <td>1</td>\n",
       "      <td>1</td>\n",
       "      <td>1</td>\n",
       "    </tr>\n",
       "  </tbody>\n",
       "</table>\n",
       "</div>"
      ],
      "text/plain": [
       "              node  weekday_in_core  weekday_out_core  weekend_in_core  \\\n",
       "0        ADMIRALTY             8845              8436             5350   \n",
       "1     AIRPORT ROAD             2153              2070              515   \n",
       "2   ALEXANDRA HILL            14278             14023             8195   \n",
       "3  ALEXANDRA NORTH             5717              6379             2838   \n",
       "4         ALJUNIED            14278             14023             8195   \n",
       "\n",
       "   weekend_out_core  weekday_in_core_lvl  weekday_out_core_lvl  \\\n",
       "0              5185                    0                     0   \n",
       "1               500                    0                     0   \n",
       "2              8136                    1                     1   \n",
       "3              2951                    0                     0   \n",
       "4              8377                    1                     1   \n",
       "\n",
       "   weekend_in_core_lvl  weekend_out_core_lvl  \n",
       "0                    0                     0  \n",
       "1                    0                     0  \n",
       "2                    1                     1  \n",
       "3                    0                     0  \n",
       "4                    1                     1  "
      ]
     },
     "execution_count": 9,
     "metadata": {},
     "output_type": "execute_result"
    }
   ],
   "source": [
    "df_ks = pd.read_csv(\"k_shell_decomposition_result_wlvl.csv\", index_col=0)\n",
    "df_ks = df_ks.reset_index()\n",
    "df_ks.head()"
   ]
  },
  {
   "cell_type": "code",
   "execution_count": null,
   "metadata": {},
   "outputs": [],
   "source": []
  },
  {
   "cell_type": "code",
   "execution_count": 4,
   "metadata": {},
   "outputs": [],
   "source": [
    "def conn_entropy(dg, df, col, direction=\"out\", edge_weight=\"weight\"):\n",
    "    node_dic = {}\n",
    "    for n, v in zip(df[\"node\"].tolist(), df[col].tolist()):\n",
    "        node_dic[n] = v\n",
    "    entropy_dic = {}\n",
    "    for n in dg.nodes():\n",
    "        nb = None\n",
    "        if direction==\"out\":\n",
    "            nb = dg.out_edges(nbunch=n,data=True)\n",
    "            nb = [ (v,d[edge_weight]) for u,v,d in nb ]\n",
    "        else:\n",
    "            nb = dg.in_edges(nbunch=n, data=True)\n",
    "            nb = [ (u,d[edge_weight]) for u,v,d in nb ]\n",
    "        if len(nb)<=1:\n",
    "            entropy_dic[n] = -1\n",
    "            continue\n",
    "        tot_weight = sum([ w for c,w in nb ])\n",
    "        partial = [ float(w)/tot_weight for c,w in nb ]\n",
    "        cats = [ node_dic[c] for c,w in nb ]\n",
    "        cat_set = list(set(cats))\n",
    "        if len(cat_set)<=1:\n",
    "            entropy_dic[n] = 0.\n",
    "            continue\n",
    "        proportions = { cat:0. for cat in cat_set }\n",
    "        for cat,prop in zip(cats, partial):\n",
    "            proportions[cat]+=prop\n",
    "        ent = -sum([ p*np.log(p) for p in proportions.values() ])/np.log(len(cat_set))\n",
    "        #print(ent)\n",
    "        entropy_dic[n] = ent\n",
    "        #break\n",
    "    return entropy_dic"
   ]
  },
  {
   "cell_type": "code",
   "execution_count": null,
   "metadata": {},
   "outputs": [],
   "source": []
  },
  {
   "cell_type": "code",
   "execution_count": null,
   "metadata": {},
   "outputs": [],
   "source": []
  },
  {
   "cell_type": "code",
   "execution_count": 5,
   "metadata": {},
   "outputs": [],
   "source": [
    "data_dir = \"../data\""
   ]
  },
  {
   "cell_type": "code",
   "execution_count": 6,
   "metadata": {},
   "outputs": [
    {
     "data": {
      "text/plain": [
       "(303, 30043)"
      ]
     },
     "execution_count": 6,
     "metadata": {},
     "output_type": "execute_result"
    }
   ],
   "source": [
    "day = \"weekday\" # \"weekend\"\n",
    "fp = os.path.join(data_dir, \"net_202001_{}.net\".format(day))\n",
    "dg1 = nx.read_pajek(fp)\n",
    "dg1 = nx.DiGraph(dg1)\n",
    "dg1.number_of_nodes(), dg1.number_of_edges()"
   ]
  },
  {
   "cell_type": "code",
   "execution_count": 7,
   "metadata": {},
   "outputs": [
    {
     "data": {
      "text/plain": [
       "(303, 30043)"
      ]
     },
     "execution_count": 7,
     "metadata": {},
     "output_type": "execute_result"
    }
   ],
   "source": [
    "day = \"weekend\"\n",
    "fp2 = os.path.join(data_dir, \"net_202001_{}.net\".format(day))\n",
    "dg2 = nx.read_pajek(fp2)\n",
    "dg2 = nx.DiGraph(dg2)\n",
    "dg2.number_of_nodes(), dg2.number_of_edges()"
   ]
  },
  {
   "cell_type": "code",
   "execution_count": null,
   "metadata": {},
   "outputs": [],
   "source": []
  },
  {
   "cell_type": "code",
   "execution_count": null,
   "metadata": {},
   "outputs": [],
   "source": []
  },
  {
   "cell_type": "code",
   "execution_count": 10,
   "metadata": {},
   "outputs": [],
   "source": [
    "ks_entropy_1_in = conn_entropy(dg1, df_ks, \"weekday_in_core_lvl\", direction=\"in\", edge_weight=\"weight\")\n",
    "ks_entropy_1_out = conn_entropy(dg1, df_ks, \"weekday_out_core_lvl\", direction=\"out\", edge_weight=\"weight\")\n",
    "ks_entropy_2_in = conn_entropy(dg2, df_ks, \"weekend_in_core_lvl\", direction=\"in\", edge_weight=\"weight\")\n",
    "ks_entropy_2_out = conn_entropy(dg2, df_ks, \"weekend_out_core_lvl\", direction=\"out\", edge_weight=\"weight\")"
   ]
  },
  {
   "cell_type": "code",
   "execution_count": 11,
   "metadata": {},
   "outputs": [
    {
     "data": {
      "text/html": [
       "<div>\n",
       "<style scoped>\n",
       "    .dataframe tbody tr th:only-of-type {\n",
       "        vertical-align: middle;\n",
       "    }\n",
       "\n",
       "    .dataframe tbody tr th {\n",
       "        vertical-align: top;\n",
       "    }\n",
       "\n",
       "    .dataframe thead th {\n",
       "        text-align: right;\n",
       "    }\n",
       "</style>\n",
       "<table border=\"1\" class=\"dataframe\">\n",
       "  <thead>\n",
       "    <tr style=\"text-align: right;\">\n",
       "      <th></th>\n",
       "      <th>weekday_ksc_ent_in</th>\n",
       "      <th>weekday_ksc_ent_out</th>\n",
       "      <th>weekend_ksc_ent_in</th>\n",
       "      <th>weekend_ksc_ent_out</th>\n",
       "    </tr>\n",
       "  </thead>\n",
       "  <tbody>\n",
       "    <tr>\n",
       "      <th>ADMIRALTY</th>\n",
       "      <td>0.997714</td>\n",
       "      <td>0.771458</td>\n",
       "      <td>0.999947</td>\n",
       "      <td>0.779104</td>\n",
       "    </tr>\n",
       "    <tr>\n",
       "      <th>AIRPORT ROAD</th>\n",
       "      <td>0.665975</td>\n",
       "      <td>0.100550</td>\n",
       "      <td>0.683295</td>\n",
       "      <td>0.324450</td>\n",
       "    </tr>\n",
       "    <tr>\n",
       "      <th>ALEXANDRA HILL</th>\n",
       "      <td>0.679349</td>\n",
       "      <td>0.530146</td>\n",
       "      <td>0.883398</td>\n",
       "      <td>0.521277</td>\n",
       "    </tr>\n",
       "    <tr>\n",
       "      <th>ALEXANDRA NORTH</th>\n",
       "      <td>0.986702</td>\n",
       "      <td>0.551673</td>\n",
       "      <td>0.927997</td>\n",
       "      <td>0.682645</td>\n",
       "    </tr>\n",
       "    <tr>\n",
       "      <th>ALJUNIED</th>\n",
       "      <td>0.524651</td>\n",
       "      <td>0.625371</td>\n",
       "      <td>0.437139</td>\n",
       "      <td>0.536421</td>\n",
       "    </tr>\n",
       "  </tbody>\n",
       "</table>\n",
       "</div>"
      ],
      "text/plain": [
       "                 weekday_ksc_ent_in  weekday_ksc_ent_out  weekend_ksc_ent_in  \\\n",
       "ADMIRALTY                  0.997714             0.771458            0.999947   \n",
       "AIRPORT ROAD               0.665975             0.100550            0.683295   \n",
       "ALEXANDRA HILL             0.679349             0.530146            0.883398   \n",
       "ALEXANDRA NORTH            0.986702             0.551673            0.927997   \n",
       "ALJUNIED                   0.524651             0.625371            0.437139   \n",
       "\n",
       "                 weekend_ksc_ent_out  \n",
       "ADMIRALTY                   0.779104  \n",
       "AIRPORT ROAD                0.324450  \n",
       "ALEXANDRA HILL              0.521277  \n",
       "ALEXANDRA NORTH             0.682645  \n",
       "ALJUNIED                    0.536421  "
      ]
     },
     "execution_count": 11,
     "metadata": {},
     "output_type": "execute_result"
    }
   ],
   "source": [
    "df_entropy = pd.DataFrame.from_dict({\"weekday_ksc_ent_in\": ks_entropy_1_in, \n",
    "                                     \"weekday_ksc_ent_out\":ks_entropy_1_out, \n",
    "                                     \"weekend_ksc_ent_in\": ks_entropy_2_in, \n",
    "                                     \"weekend_ksc_ent_out\":ks_entropy_2_out, \n",
    "                                     })\n",
    "df_entropy.head()"
   ]
  },
  {
   "cell_type": "code",
   "execution_count": 13,
   "metadata": {},
   "outputs": [
    {
     "data": {
      "text/plain": [
       "weekday_ksc_ent_in     0.0\n",
       "weekday_ksc_ent_out    0.0\n",
       "weekend_ksc_ent_in     0.0\n",
       "weekend_ksc_ent_out    0.0\n",
       "dtype: float64"
      ]
     },
     "execution_count": 13,
     "metadata": {},
     "output_type": "execute_result"
    }
   ],
   "source": [
    "df_entropy.min()"
   ]
  },
  {
   "cell_type": "code",
   "execution_count": 14,
   "metadata": {},
   "outputs": [
    {
     "data": {
      "text/plain": [
       "weekday_ksc_ent_in     0.999998\n",
       "weekday_ksc_ent_out    0.999873\n",
       "weekend_ksc_ent_in     0.999994\n",
       "weekend_ksc_ent_out    0.999996\n",
       "dtype: float64"
      ]
     },
     "execution_count": 14,
     "metadata": {},
     "output_type": "execute_result"
    }
   ],
   "source": [
    "df_entropy.max()"
   ]
  },
  {
   "cell_type": "code",
   "execution_count": 12,
   "metadata": {},
   "outputs": [
    {
     "data": {
      "text/html": [
       "<div>\n",
       "<style scoped>\n",
       "    .dataframe tbody tr th:only-of-type {\n",
       "        vertical-align: middle;\n",
       "    }\n",
       "\n",
       "    .dataframe tbody tr th {\n",
       "        vertical-align: top;\n",
       "    }\n",
       "\n",
       "    .dataframe thead th {\n",
       "        text-align: right;\n",
       "    }\n",
       "</style>\n",
       "<table border=\"1\" class=\"dataframe\">\n",
       "  <thead>\n",
       "    <tr style=\"text-align: right;\">\n",
       "      <th></th>\n",
       "      <th>node</th>\n",
       "      <th>weekday_in_core</th>\n",
       "      <th>weekday_out_core</th>\n",
       "      <th>weekend_in_core</th>\n",
       "      <th>weekend_out_core</th>\n",
       "      <th>weekday_in_core_lvl</th>\n",
       "      <th>weekday_out_core_lvl</th>\n",
       "      <th>weekend_in_core_lvl</th>\n",
       "      <th>weekend_out_core_lvl</th>\n",
       "      <th>weekday_ksc_ent_in</th>\n",
       "      <th>weekday_ksc_ent_out</th>\n",
       "      <th>weekend_ksc_ent_in</th>\n",
       "      <th>weekend_ksc_ent_out</th>\n",
       "    </tr>\n",
       "  </thead>\n",
       "  <tbody>\n",
       "    <tr>\n",
       "      <th>0</th>\n",
       "      <td>ADMIRALTY</td>\n",
       "      <td>8845</td>\n",
       "      <td>8436</td>\n",
       "      <td>5350</td>\n",
       "      <td>5185</td>\n",
       "      <td>0</td>\n",
       "      <td>0</td>\n",
       "      <td>0</td>\n",
       "      <td>0</td>\n",
       "      <td>0.997714</td>\n",
       "      <td>0.771458</td>\n",
       "      <td>0.999947</td>\n",
       "      <td>0.779104</td>\n",
       "    </tr>\n",
       "    <tr>\n",
       "      <th>1</th>\n",
       "      <td>AIRPORT ROAD</td>\n",
       "      <td>2153</td>\n",
       "      <td>2070</td>\n",
       "      <td>515</td>\n",
       "      <td>500</td>\n",
       "      <td>0</td>\n",
       "      <td>0</td>\n",
       "      <td>0</td>\n",
       "      <td>0</td>\n",
       "      <td>0.665975</td>\n",
       "      <td>0.100550</td>\n",
       "      <td>0.683295</td>\n",
       "      <td>0.324450</td>\n",
       "    </tr>\n",
       "    <tr>\n",
       "      <th>2</th>\n",
       "      <td>ALEXANDRA HILL</td>\n",
       "      <td>14278</td>\n",
       "      <td>14023</td>\n",
       "      <td>8195</td>\n",
       "      <td>8136</td>\n",
       "      <td>1</td>\n",
       "      <td>1</td>\n",
       "      <td>1</td>\n",
       "      <td>1</td>\n",
       "      <td>0.679349</td>\n",
       "      <td>0.530146</td>\n",
       "      <td>0.883398</td>\n",
       "      <td>0.521277</td>\n",
       "    </tr>\n",
       "    <tr>\n",
       "      <th>3</th>\n",
       "      <td>ALEXANDRA NORTH</td>\n",
       "      <td>5717</td>\n",
       "      <td>6379</td>\n",
       "      <td>2838</td>\n",
       "      <td>2951</td>\n",
       "      <td>0</td>\n",
       "      <td>0</td>\n",
       "      <td>0</td>\n",
       "      <td>0</td>\n",
       "      <td>0.986702</td>\n",
       "      <td>0.551673</td>\n",
       "      <td>0.927997</td>\n",
       "      <td>0.682645</td>\n",
       "    </tr>\n",
       "    <tr>\n",
       "      <th>4</th>\n",
       "      <td>ALJUNIED</td>\n",
       "      <td>14278</td>\n",
       "      <td>14023</td>\n",
       "      <td>8195</td>\n",
       "      <td>8377</td>\n",
       "      <td>1</td>\n",
       "      <td>1</td>\n",
       "      <td>1</td>\n",
       "      <td>1</td>\n",
       "      <td>0.524651</td>\n",
       "      <td>0.625371</td>\n",
       "      <td>0.437139</td>\n",
       "      <td>0.536421</td>\n",
       "    </tr>\n",
       "  </tbody>\n",
       "</table>\n",
       "</div>"
      ],
      "text/plain": [
       "              node  weekday_in_core  weekday_out_core  weekend_in_core  \\\n",
       "0        ADMIRALTY             8845              8436             5350   \n",
       "1     AIRPORT ROAD             2153              2070              515   \n",
       "2   ALEXANDRA HILL            14278             14023             8195   \n",
       "3  ALEXANDRA NORTH             5717              6379             2838   \n",
       "4         ALJUNIED            14278             14023             8195   \n",
       "\n",
       "   weekend_out_core  weekday_in_core_lvl  weekday_out_core_lvl  \\\n",
       "0              5185                    0                     0   \n",
       "1               500                    0                     0   \n",
       "2              8136                    1                     1   \n",
       "3              2951                    0                     0   \n",
       "4              8377                    1                     1   \n",
       "\n",
       "   weekend_in_core_lvl  weekend_out_core_lvl  weekday_ksc_ent_in  \\\n",
       "0                    0                     0            0.997714   \n",
       "1                    0                     0            0.665975   \n",
       "2                    1                     1            0.679349   \n",
       "3                    0                     0            0.986702   \n",
       "4                    1                     1            0.524651   \n",
       "\n",
       "   weekday_ksc_ent_out  weekend_ksc_ent_in  weekend_ksc_ent_out  \n",
       "0             0.771458            0.999947             0.779104  \n",
       "1             0.100550            0.683295             0.324450  \n",
       "2             0.530146            0.883398             0.521277  \n",
       "3             0.551673            0.927997             0.682645  \n",
       "4             0.625371            0.437139             0.536421  "
      ]
     },
     "execution_count": 12,
     "metadata": {},
     "output_type": "execute_result"
    }
   ],
   "source": [
    "ks_res = pd.merge(df_ks, df_entropy, left_on=\"node\", right_index=True, suffixes=[\"_com\", \"entropy\"])\n",
    "ks_res.head()"
   ]
  },
  {
   "cell_type": "code",
   "execution_count": 15,
   "metadata": {},
   "outputs": [],
   "source": [
    "ks_res.to_csv(\"k_shell_decomposition_result_entropy.csv\", index_label=\"ind\")"
   ]
  },
  {
   "cell_type": "code",
   "execution_count": null,
   "metadata": {},
   "outputs": [],
   "source": []
  }
 ],
 "metadata": {
  "kernelspec": {
   "display_name": "Python 3",
   "language": "python",
   "name": "python3"
  },
  "language_info": {
   "codemirror_mode": {
    "name": "ipython",
    "version": 3
   },
   "file_extension": ".py",
   "mimetype": "text/x-python",
   "name": "python",
   "nbconvert_exporter": "python",
   "pygments_lexer": "ipython3",
   "version": "3.6.8"
  }
 },
 "nbformat": 4,
 "nbformat_minor": 4
}
