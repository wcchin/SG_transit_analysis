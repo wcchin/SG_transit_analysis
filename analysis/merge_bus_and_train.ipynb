{
  "metadata": {
    "kernelspec": {
      "display_name": "Python 3",
      "language": "python",
      "name": "python3"
    },
    "language_info": {
      "mimetype": "text/x-python",
      "nbconvert_exporter": "python",
      "name": "python",
      "pygments_lexer": "ipython3",
      "version": "3.5.4",
      "file_extension": ".py",
      "codemirror_mode": {
        "version": 3,
        "name": "ipython"
      }
    }
  },
  "nbformat_minor": 4,
  "nbformat": 4,
  "cells": [
    {
      "cell_type": "code",
      "source": "import os\nimport pandas as pd",
      "metadata": {
        "trusted": true
      },
      "execution_count": 1,
      "outputs": []
    },
    {
      "cell_type": "code",
      "source": "data_dir = \"../data\"\nbus_dir = os.path.join(data_dir, \"OD_bus\")\ntrain_dir = os.path.join(data_dir, \"OD_train\")",
      "metadata": {
        "trusted": true
      },
      "execution_count": 2,
      "outputs": []
    },
    {
      "cell_type": "code",
      "source": "months = [\"201911\", \"202001\"] #\"201912\"\nfor m in months:\n    for hr in range(5,24):\n        #print(hr)\n        f = \"OD_{}_weekday_{}.csv.xz\".format(m, str(hr).zfill(2))\n        bus_fp = os.path.join(bus_dir, f)\n        train_fp = os.path.join(train_dir, f)\n        df_bus = pd.read_csv(bus_fp, index_col=0)\n        df_train = pd.read_csv(train_fp, index_col=0)\n        #print(df_bus.head())\n        #print(df_train.head())\n        df_bus = df_bus[[\"origin\", \"destination\", \"flow\"]]\n        df_train = df_train[[\"origin\", \"destination\", \"flow\"]]\n        df_merge = pd.merge(df_bus, df_train, left_on=[\"origin\", \"destination\"], right_on=[\"origin\", \"destination\"], \n                            how=\"outer\", suffixes=('_bus', '_train'))#, validate=\"one_to_one\")\n        df_merge = df_merge.fillna(value={\"flow_bus\":0, \"flow_train\":0})\n        df_merge[\"hour\"] = hr\n        df_merge[\"total_flow\"] = df_merge[\"flow_bus\"] + df_merge[\"flow_train\"]\n        #print(df_merge.head())\n        df_merge.to_csv(os.path.join(data_dir, \"OD_PT\", f), compression=\"xz\")\n        print(hr, len(df_bus), len(df_train), len(df_merge))\n        #break",
      "metadata": {
        "trusted": true
      },
      "execution_count": 10,
      "outputs": [
        {
          "text": "5 9136 8624 15969\n6 17580 11430 25272\n7 19455 12173 27310\n8 19759 12196 27526\n9 19633 12063 27269\n10 19832 12024 27357\n11 20022 12117 27578\n12 20283 12280 27927\n13 20337 12222 27912\n14 20211 12152 27736\n15 20395 12245 28013\n16 20642 12409 28336\n17 20857 12645 28730\n18 20813 12594 28677\n19 19907 12271 27674\n20 19247 11917 26843\n21 19047 11748 26530\n22 18400 11295 25643\n23 16983 9105 22710\n5 9249 8473 15966\n6 17733 11042 25212\n7 19521 11733 27085\n8 19691 11837 27241\n9 19591 11746 27073\n10 19761 11790 27174\n11 20017 11852 27424\n12 20301 11980 27763\n13 20442 11957 27868\n14 20508 11945 27893\n15 20557 11995 27974\n16 20679 12129 28192\n17 20925 12336 28572\n18 20916 12267 28531\n19 20040 11949 27609\n20 19358 11655 26805\n21 19118 11430 26397\n22 18558 11032 25634\n23 17013 9237 22905\n",
          "name": "stdout",
          "output_type": "stream"
        }
      ]
    },
    {
      "cell_type": "code",
      "source": "months = [\"201911\", \"202001\"] #\"201912\"\nfor m in months:\n    for hr in range(5,24):\n        #print(hr)\n        f = \"OD_{}_weekend_{}.csv.xz\".format(m, str(hr).zfill(2))\n        bus_fp = os.path.join(bus_dir, f)\n        train_fp = os.path.join(train_dir, f)\n        df_bus = pd.read_csv(bus_fp, index_col=0)\n        df_train = pd.read_csv(train_fp, index_col=0)\n        #print(df_bus.head())\n        #print(df_train.head())\n        df_bus = df_bus[[\"origin\", \"destination\", \"flow\"]]\n        df_train = df_train[[\"origin\", \"destination\", \"flow\"]]\n        df_merge = pd.merge(df_bus, df_train, left_on=[\"origin\", \"destination\"], right_on=[\"origin\", \"destination\"], \n                            how=\"outer\", suffixes=('_bus', '_train'))#, validate=\"one_to_one\")\n        df_merge = df_merge.fillna(value={\"flow_bus\":0, \"flow_train\":0})\n        df_merge[\"hour\"] = hr\n        df_merge[\"total_flow\"] = df_merge[\"flow_bus\"] + df_merge[\"flow_train\"]\n        #print(df_merge.head())\n        df_merge.to_csv(os.path.join(data_dir, \"OD_PT\", f), compression=\"xz\")\n        print(hr, len(df_bus), len(df_train), len(df_merge))\n        #break",
      "metadata": {
        "trusted": true
      },
      "execution_count": 9,
      "outputs": [
        {
          "text": "5 7132 6633 12601\n6 15170 10117 22332\n7 16974 10971 24465\n8 17657 11140 25082\n9 17838 11069 25058\n10 18107 11222 25338\n11 18493 11346 25765\n12 18948 11566 26289\n13 18967 11599 26288\n14 18808 11458 26074\n15 18889 11472 26150\n16 19015 11659 26442\n17 18998 11808 26569\n18 18768 11676 26288\n19 18243 11444 25718\n20 17614 11064 24895\n21 17248 10839 24391\n22 16707 10364 23559\n23 15239 7887 20249\n5 7107 6444 12410\n6 15217 10032 22307\n7 16983 10760 24328\n8 17695 10990 24981\n9 17946 10967 25127\n10 18374 11097 25518\n11 18773 11293 26014\n12 19049 11464 26337\n13 19135 11413 26358\n14 19025 11358 26214\n15 19094 11395 26339\n16 19188 11521 26526\n17 19350 11578 26716\n18 18955 11541 26354\n19 18620 11283 25887\n20 18060 11007 25251\n21 17691 10748 24727\n22 17052 10186 23742\n23 15451 8133 20719\n",
          "name": "stdout",
          "output_type": "stream"
        }
      ]
    },
    {
      "cell_type": "code",
      "source": "",
      "metadata": {},
      "execution_count": null,
      "outputs": []
    }
  ]
}