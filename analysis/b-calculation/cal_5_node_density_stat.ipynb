{
 "cells": [
  {
   "cell_type": "code",
   "execution_count": 1,
   "metadata": {},
   "outputs": [],
   "source": [
    "import os\n",
    "import numpy as np\n",
    "import networkx as nx\n",
    "import pandas as pd\n",
    "import geopandas as gpd\n",
    "import json\n",
    "import matplotlib.pyplot as plt\n",
    "import seaborn as sns\n",
    "from collections import defaultdict\n",
    "from tqdm import tqdm"
   ]
  },
  {
   "cell_type": "code",
   "execution_count": 2,
   "metadata": {},
   "outputs": [],
   "source": [
    "import warnings\n",
    "warnings.filterwarnings('ignore')"
   ]
  },
  {
   "cell_type": "code",
   "execution_count": 3,
   "metadata": {},
   "outputs": [
    {
     "name": "stdout",
     "output_type": "stream",
     "text": [
      "['bus_stops_wszone.dbf', 'bus_stops_wszone.shp', 'net_202001_weekday_G.net', 'singstat', 'net_202001_weekend_G.net', 'origin_destination_bus_202001_scaleddown.csv.xz', 'net_202001_weekendb.net', 'OD_bus', 'net_202001_weekdayb.net', 'train_station_wszone.prj', 'origin_destination_train_202001.csv.xz', 'train_station_wszone.dbf', 'OD_202001_weekend.csv.xz', 'subzone_centroid.csv', 'transport_node_bus_202001.csv', 'train_station_wszone.cpg', 'OD_PT', 'train_station_wszone.shx', 'planning-area-2014', 'subzone_centroid_pos.json', '.ipynb_checkpoints', 'origin_destination_bus_202001.csv.xz', 'region-2014', 'train_station_wszone.shp', 'OD_train', 'bus_stops_wszone.shx', 'OD_202001_weekday.csv.xz', 'bus_stops_wszone.prj', 'subzone-2014', 'bus_stops_wszone.cpg']\n"
     ]
    },
    {
     "data": {
      "text/plain": [
       "<matplotlib.axes._subplots.AxesSubplot at 0x7fa177174320>"
      ]
     },
     "execution_count": 3,
     "metadata": {},
     "output_type": "execute_result"
    },
    {
     "data": {
      "image/png": "[encoded data removed]",
      "text/plain": [
       "<Figure size 432x288 with 1 Axes>"
      ]
     },
     "metadata": {
      "needs_background": "light"
     },
     "output_type": "display_data"
    }
   ],
   "source": [
    "data_dir = \"../../data\"\n",
    "print(os.listdir(data_dir))\n",
    "\n",
    "#os.listdir(\"../data\")\n",
    "region = gpd.read_file(\"../../data/region-2014/MP14_REGION_WEB_PL.shp\")\n",
    "region.plot(color=\"grey\", edgecolor=\"k\", alpha=0.1)"
   ]
  },
  {
   "cell_type": "code",
   "execution_count": 4,
   "metadata": {},
   "outputs": [
    {
     "data": {
      "text/plain": [
       "[31595.83574613999, 29220.18737674884]"
      ]
     },
     "execution_count": 4,
     "metadata": {},
     "output_type": "execute_result"
    }
   ],
   "source": [
    "with open(os.path.join(\"../../data\", 'subzone_centroid_pos.json'), 'r') as fread:\n",
    "    pos = json.load(fread)\n",
    "pos[\"MARINA SOUTH\"]"
   ]
  },
  {
   "cell_type": "code",
   "execution_count": null,
   "metadata": {},
   "outputs": [],
   "source": []
  },
  {
   "cell_type": "markdown",
   "metadata": {},
   "source": [
    "data"
   ]
  },
  {
   "cell_type": "code",
   "execution_count": 5,
   "metadata": {},
   "outputs": [
    {
     "data": {
      "text/plain": [
       "(303, 30043)"
      ]
     },
     "execution_count": 5,
     "metadata": {},
     "output_type": "execute_result"
    }
   ],
   "source": [
    "day = \"weekday\" # \"weekend\"\n",
    "fp = os.path.join(data_dir, \"net_202001_{}b.net\".format(day))\n",
    "dg1 = nx.read_pajek(fp)\n",
    "dg1.number_of_nodes(), dg1.number_of_edges()"
   ]
  },
  {
   "cell_type": "code",
   "execution_count": 6,
   "metadata": {},
   "outputs": [
    {
     "data": {
      "text/plain": [
       "(303, 30043)"
      ]
     },
     "execution_count": 6,
     "metadata": {},
     "output_type": "execute_result"
    }
   ],
   "source": [
    "dg1 = nx.DiGraph(dg1)\n",
    "dg1.number_of_nodes(), dg1.number_of_edges()"
   ]
  },
  {
   "cell_type": "code",
   "execution_count": 7,
   "metadata": {},
   "outputs": [
    {
     "name": "stdout",
     "output_type": "stream",
     "text": [
      "{'weight': 593.3123935359419}\n"
     ]
    }
   ],
   "source": [
    "for u,v,d in dg1.edges(data=True):\n",
    "    print(d)\n",
    "    break"
   ]
  },
  {
   "cell_type": "code",
   "execution_count": 8,
   "metadata": {},
   "outputs": [
    {
     "data": {
      "text/plain": [
       "(303, 30043)"
      ]
     },
     "execution_count": 8,
     "metadata": {},
     "output_type": "execute_result"
    }
   ],
   "source": [
    "day = \"weekend\"\n",
    "fp2 = os.path.join(data_dir, \"net_202001_{}b.net\".format(day))\n",
    "dg2 = nx.read_pajek(fp2)\n",
    "dg2.number_of_nodes(), dg2.number_of_edges()"
   ]
  },
  {
   "cell_type": "code",
   "execution_count": 9,
   "metadata": {},
   "outputs": [
    {
     "data": {
      "text/plain": [
       "(303, 30043)"
      ]
     },
     "execution_count": 9,
     "metadata": {},
     "output_type": "execute_result"
    }
   ],
   "source": [
    "dg2 = nx.DiGraph(dg2)\n",
    "dg2.number_of_nodes(), dg2.number_of_edges()"
   ]
  },
  {
   "cell_type": "code",
   "execution_count": 10,
   "metadata": {},
   "outputs": [],
   "source": [
    "h1, a1 = nx.hits(dg1, max_iter=1000, tol=1e-08,)\n",
    "h2, a2 = nx.hits(dg2, max_iter=1000, tol=1e-08,)"
   ]
  },
  {
   "cell_type": "code",
   "execution_count": 11,
   "metadata": {},
   "outputs": [
    {
     "data": {
      "text/html": [
       "<div>\n",
       "<style scoped>\n",
       "    .dataframe tbody tr th:only-of-type {\n",
       "        vertical-align: middle;\n",
       "    }\n",
       "\n",
       "    .dataframe tbody tr th {\n",
       "        vertical-align: top;\n",
       "    }\n",
       "\n",
       "    .dataframe thead th {\n",
       "        text-align: right;\n",
       "    }\n",
       "</style>\n",
       "<table border=\"1\" class=\"dataframe\">\n",
       "  <thead>\n",
       "    <tr style=\"text-align: right;\">\n",
       "      <th></th>\n",
       "      <th>in_degree</th>\n",
       "      <th>out_degree</th>\n",
       "      <th>PageRank</th>\n",
       "      <th>HITS_hub</th>\n",
       "      <th>HITS_authority</th>\n",
       "    </tr>\n",
       "  </thead>\n",
       "  <tbody>\n",
       "    <tr>\n",
       "      <th>ADMIRALTY</th>\n",
       "      <td>6543.745634</td>\n",
       "      <td>4965.819377</td>\n",
       "      <td>0.001898</td>\n",
       "      <td>0.000899</td>\n",
       "      <td>0.000840</td>\n",
       "    </tr>\n",
       "    <tr>\n",
       "      <th>AIRPORT ROAD</th>\n",
       "      <td>1010.130918</td>\n",
       "      <td>933.699655</td>\n",
       "      <td>0.000655</td>\n",
       "      <td>0.000179</td>\n",
       "      <td>0.000164</td>\n",
       "    </tr>\n",
       "    <tr>\n",
       "      <th>ALEXANDRA HILL</th>\n",
       "      <td>17345.711058</td>\n",
       "      <td>14349.354850</td>\n",
       "      <td>0.003598</td>\n",
       "      <td>0.001036</td>\n",
       "      <td>0.001389</td>\n",
       "    </tr>\n",
       "    <tr>\n",
       "      <th>ALEXANDRA NORTH</th>\n",
       "      <td>1370.399900</td>\n",
       "      <td>2080.343000</td>\n",
       "      <td>0.000745</td>\n",
       "      <td>0.000158</td>\n",
       "      <td>0.000062</td>\n",
       "    </tr>\n",
       "    <tr>\n",
       "      <th>ALJUNIED</th>\n",
       "      <td>74166.097943</td>\n",
       "      <td>72493.656869</td>\n",
       "      <td>0.011334</td>\n",
       "      <td>0.013225</td>\n",
       "      <td>0.013935</td>\n",
       "    </tr>\n",
       "  </tbody>\n",
       "</table>\n",
       "</div>"
      ],
      "text/plain": [
       "                    in_degree    out_degree  PageRank  HITS_hub  \\\n",
       "ADMIRALTY         6543.745634   4965.819377  0.001898  0.000899   \n",
       "AIRPORT ROAD      1010.130918    933.699655  0.000655  0.000179   \n",
       "ALEXANDRA HILL   17345.711058  14349.354850  0.003598  0.001036   \n",
       "ALEXANDRA NORTH   1370.399900   2080.343000  0.000745  0.000158   \n",
       "ALJUNIED         74166.097943  72493.656869  0.011334  0.013225   \n",
       "\n",
       "                 HITS_authority  \n",
       "ADMIRALTY              0.000840  \n",
       "AIRPORT ROAD           0.000164  \n",
       "ALEXANDRA HILL         0.001389  \n",
       "ALEXANDRA NORTH        0.000062  \n",
       "ALJUNIED               0.013935  "
      ]
     },
     "execution_count": 11,
     "metadata": {},
     "output_type": "execute_result"
    }
   ],
   "source": [
    "\n",
    "node_stats_1 = {\"in_degree\": dict(dg1.in_degree(weight=\"weight\")), \n",
    "              \"out_degree\": dict(dg1.out_degree(weight=\"weight\")), \n",
    "              \"PageRank\": nx.pagerank(dg1, weight=\"weight\"), \n",
    "              \"HITS_hub\": h1, \n",
    "              \"HITS_authority\": a1\n",
    "             }\n",
    "df_stats_1 = pd.DataFrame.from_dict(node_stats_1)\n",
    "df_stats_1.head()"
   ]
  },
  {
   "cell_type": "code",
   "execution_count": 12,
   "metadata": {},
   "outputs": [
    {
     "data": {
      "text/html": [
       "<div>\n",
       "<style scoped>\n",
       "    .dataframe tbody tr th:only-of-type {\n",
       "        vertical-align: middle;\n",
       "    }\n",
       "\n",
       "    .dataframe tbody tr th {\n",
       "        vertical-align: top;\n",
       "    }\n",
       "\n",
       "    .dataframe thead th {\n",
       "        text-align: right;\n",
       "    }\n",
       "</style>\n",
       "<table border=\"1\" class=\"dataframe\">\n",
       "  <thead>\n",
       "    <tr style=\"text-align: right;\">\n",
       "      <th></th>\n",
       "      <th>in_degree</th>\n",
       "      <th>out_degree</th>\n",
       "      <th>PageRank</th>\n",
       "      <th>HITS_hub</th>\n",
       "      <th>HITS_authority</th>\n",
       "    </tr>\n",
       "  </thead>\n",
       "  <tbody>\n",
       "    <tr>\n",
       "      <th>ADMIRALTY</th>\n",
       "      <td>7978.906268</td>\n",
       "      <td>5941.182610</td>\n",
       "      <td>0.002061</td>\n",
       "      <td>0.001088</td>\n",
       "      <td>0.001000</td>\n",
       "    </tr>\n",
       "    <tr>\n",
       "      <th>AIRPORT ROAD</th>\n",
       "      <td>166.472703</td>\n",
       "      <td>156.569583</td>\n",
       "      <td>0.000523</td>\n",
       "      <td>0.000023</td>\n",
       "      <td>0.000019</td>\n",
       "    </tr>\n",
       "    <tr>\n",
       "      <th>ALEXANDRA HILL</th>\n",
       "      <td>17082.631483</td>\n",
       "      <td>12750.956603</td>\n",
       "      <td>0.003611</td>\n",
       "      <td>0.001095</td>\n",
       "      <td>0.001433</td>\n",
       "    </tr>\n",
       "    <tr>\n",
       "      <th>ALEXANDRA NORTH</th>\n",
       "      <td>971.132551</td>\n",
       "      <td>1208.055298</td>\n",
       "      <td>0.000673</td>\n",
       "      <td>0.000095</td>\n",
       "      <td>0.000069</td>\n",
       "    </tr>\n",
       "    <tr>\n",
       "      <th>ALJUNIED</th>\n",
       "      <td>85251.675095</td>\n",
       "      <td>82717.494526</td>\n",
       "      <td>0.012953</td>\n",
       "      <td>0.015724</td>\n",
       "      <td>0.017618</td>\n",
       "    </tr>\n",
       "  </tbody>\n",
       "</table>\n",
       "</div>"
      ],
      "text/plain": [
       "                    in_degree    out_degree  PageRank  HITS_hub  \\\n",
       "ADMIRALTY         7978.906268   5941.182610  0.002061  0.001088   \n",
       "AIRPORT ROAD       166.472703    156.569583  0.000523  0.000023   \n",
       "ALEXANDRA HILL   17082.631483  12750.956603  0.003611  0.001095   \n",
       "ALEXANDRA NORTH    971.132551   1208.055298  0.000673  0.000095   \n",
       "ALJUNIED         85251.675095  82717.494526  0.012953  0.015724   \n",
       "\n",
       "                 HITS_authority  \n",
       "ADMIRALTY              0.001000  \n",
       "AIRPORT ROAD           0.000019  \n",
       "ALEXANDRA HILL         0.001433  \n",
       "ALEXANDRA NORTH        0.000069  \n",
       "ALJUNIED               0.017618  "
      ]
     },
     "execution_count": 12,
     "metadata": {},
     "output_type": "execute_result"
    }
   ],
   "source": [
    "\n",
    "node_stats_2 = {\"in_degree\": dict(dg2.in_degree(weight=\"weight\")), \n",
    "              \"out_degree\": dict(dg2.out_degree(weight=\"weight\")), \n",
    "              \"PageRank\": nx.pagerank(dg2, weight=\"weight\"), \n",
    "              \"HITS_hub\": h2, \n",
    "              \"HITS_authority\": a2\n",
    "             }\n",
    "df_stats_2 = pd.DataFrame.from_dict(node_stats_2)\n",
    "df_stats_2.head()"
   ]
  },
  {
   "cell_type": "code",
   "execution_count": 13,
   "metadata": {},
   "outputs": [
    {
     "data": {
      "text/plain": [
       "Text(0, 0.5, 'out_degree')"
      ]
     },
     "execution_count": 13,
     "metadata": {},
     "output_type": "execute_result"
    },
    {
     "data": {
      "image/png": "[encoded data removed]",
      "text/plain": [
       "<Figure size 1008x504 with 2 Axes>"
      ]
     },
     "metadata": {
      "needs_background": "light"
     },
     "output_type": "display_data"
    }
   ],
   "source": [
    "fig, axs = plt.subplots(1, 2, figsize=(14,7), sharex=False, sharey=False)\n",
    "axs[0].scatter(df_stats_1[\"in_degree\"], df_stats_1[\"out_degree\"])\n",
    "axs[0].set_aspect(\"equal\")\n",
    "axs[0].set_title(\"weekday\")\n",
    "axs[0].set_xlabel(\"in_degree\")\n",
    "axs[0].set_ylabel(\"out_degree\")\n",
    "\n",
    "axs[1].scatter(df_stats_2[\"in_degree\"], df_stats_2[\"out_degree\"])\n",
    "axs[1].set_aspect(\"equal\")\n",
    "axs[1].set_title(\"weekend\")\n",
    "axs[1].set_xlabel(\"in_degree\")\n",
    "axs[1].set_ylabel(\"out_degree\")"
   ]
  },
  {
   "cell_type": "code",
   "execution_count": 14,
   "metadata": {},
   "outputs": [
    {
     "data": {
      "text/plain": [
       "Text(0, 0.5, 'PageRank')"
      ]
     },
     "execution_count": 14,
     "metadata": {},
     "output_type": "execute_result"
    },
    {
     "data": {
      "image/png": "[encoded data removed]",
      "text/plain": [
       "<Figure size 1008x504 with 2 Axes>"
      ]
     },
     "metadata": {
      "needs_background": "light"
     },
     "output_type": "display_data"
    }
   ],
   "source": [
    "fig, axs = plt.subplots(1, 2, figsize=(14,7), sharex=False, sharey=False)\n",
    "axs[0].scatter(df_stats_1[\"in_degree\"], df_stats_1[\"PageRank\"])\n",
    "#axs[0].set_aspect(\"equal\")\n",
    "axs[0].set_title(\"weekday\")\n",
    "axs[0].set_xlabel(\"in_degree\")\n",
    "axs[0].set_ylabel(\"PageRank\")\n",
    "\n",
    "axs[1].scatter(df_stats_2[\"in_degree\"], df_stats_2[\"PageRank\"])\n",
    "#axs[1].set_aspect(\"equal\")\n",
    "axs[1].set_title(\"weekend\")\n",
    "axs[1].set_xlabel(\"in_degree\")\n",
    "axs[1].set_ylabel(\"PageRank\")"
   ]
  },
  {
   "cell_type": "code",
   "execution_count": 15,
   "metadata": {},
   "outputs": [
    {
     "data": {
      "text/plain": [
       "Text(0, 0.5, 'HITS_authority')"
      ]
     },
     "execution_count": 15,
     "metadata": {},
     "output_type": "execute_result"
    },
    {
     "data": {
      "image/png": "[encoded data removed]",
      "text/plain": [
       "<Figure size 1008x504 with 2 Axes>"
      ]
     },
     "metadata": {
      "needs_background": "light"
     },
     "output_type": "display_data"
    }
   ],
   "source": [
    "fig, axs = plt.subplots(1, 2, figsize=(14,7), sharex=False, sharey=False)\n",
    "axs[0].scatter(df_stats_1[\"HITS_hub\"], df_stats_1[\"HITS_authority\"])\n",
    "#axs[0].set_aspect(\"equal\")\n",
    "axs[0].set_title(\"weekday\")\n",
    "axs[0].set_xlabel(\"HITS_hub\")\n",
    "axs[0].set_ylabel(\"HITS_authority\")\n",
    "\n",
    "axs[1].scatter(df_stats_2[\"HITS_hub\"], df_stats_2[\"HITS_authority\"])\n",
    "#axs[1].set_aspect(\"equal\")\n",
    "axs[1].set_title(\"weekend\")\n",
    "axs[1].set_xlabel(\"HITS_hub\")\n",
    "axs[1].set_ylabel(\"HITS_authority\")"
   ]
  },
  {
   "cell_type": "code",
   "execution_count": 16,
   "metadata": {},
   "outputs": [
    {
     "data": {
      "text/plain": [
       "Text(0, 0.5, 'HITS_authority')"
      ]
     },
     "execution_count": 16,
     "metadata": {},
     "output_type": "execute_result"
    },
    {
     "data": {
      "image/png": "[encoded data removed]",
      "text/plain": [
       "<Figure size 1008x504 with 2 Axes>"
      ]
     },
     "metadata": {
      "needs_background": "light"
     },
     "output_type": "display_data"
    }
   ],
   "source": [
    "fig, axs = plt.subplots(1, 2, figsize=(14,7), sharex=False, sharey=False)\n",
    "axs[0].scatter(df_stats_1[\"PageRank\"], df_stats_1[\"HITS_authority\"])\n",
    "#axs[0].set_aspect(\"equal\")\n",
    "axs[0].set_title(\"weekday\")\n",
    "axs[0].set_xlabel(\"PageRank\")\n",
    "axs[0].set_ylabel(\"HITS_authority\")\n",
    "\n",
    "axs[1].scatter(df_stats_2[\"PageRank\"], df_stats_2[\"HITS_authority\"])\n",
    "#axs[1].set_aspect(\"equal\")\n",
    "axs[1].set_title(\"weekend\")\n",
    "axs[1].set_xlabel(\"PageRank\")\n",
    "axs[1].set_ylabel(\"HITS_authority\")"
   ]
  },
  {
   "cell_type": "code",
   "execution_count": 17,
   "metadata": {},
   "outputs": [
    {
     "data": {
      "text/plain": [
       "Text(0, 0.5, 'HITS_hub')"
      ]
     },
     "execution_count": 17,
     "metadata": {},
     "output_type": "execute_result"
    },
    {
     "data": {
      "image/png": "[encoded data removed]",
      "text/plain": [
       "<Figure size 1008x504 with 2 Axes>"
      ]
     },
     "metadata": {
      "needs_background": "light"
     },
     "output_type": "display_data"
    }
   ],
   "source": [
    "fig, axs = plt.subplots(1, 2, figsize=(14,7), sharex=False, sharey=False)\n",
    "axs[0].scatter(df_stats_1[\"PageRank\"], df_stats_1[\"HITS_hub\"])\n",
    "#axs[0].set_aspect(\"equal\")\n",
    "axs[0].set_title(\"weekday\")\n",
    "axs[0].set_xlabel(\"PageRank\")\n",
    "axs[0].set_ylabel(\"HITS_hub\")\n",
    "\n",
    "axs[1].scatter(df_stats_2[\"PageRank\"], df_stats_2[\"HITS_hub\"])\n",
    "#axs[1].set_aspect(\"equal\")\n",
    "axs[1].set_title(\"weekend\")\n",
    "axs[1].set_xlabel(\"PageRank\")\n",
    "axs[1].set_ylabel(\"HITS_hub\")"
   ]
  },
  {
   "cell_type": "code",
   "execution_count": 18,
   "metadata": {},
   "outputs": [
    {
     "data": {
      "text/plain": [
       "Text(0, 0.5, 'HITS_authority')"
      ]
     },
     "execution_count": 18,
     "metadata": {},
     "output_type": "execute_result"
    },
    {
     "data": {
      "image/png": "[encoded data removed]",
      "text/plain": [
       "<Figure size 1008x504 with 2 Axes>"
      ]
     },
     "metadata": {
      "needs_background": "light"
     },
     "output_type": "display_data"
    }
   ],
   "source": [
    "fig, axs = plt.subplots(1, 2, figsize=(14,7), sharex=False, sharey=False)\n",
    "axs[0].scatter(df_stats_1[\"in_degree\"], df_stats_1[\"HITS_authority\"])\n",
    "#axs[0].set_aspect(\"equal\")\n",
    "axs[0].set_title(\"weekday\")\n",
    "axs[0].set_xlabel(\"in_degree\")\n",
    "axs[0].set_ylabel(\"HITS_authority\")\n",
    "\n",
    "axs[1].scatter(df_stats_2[\"in_degree\"], df_stats_2[\"HITS_authority\"])\n",
    "#axs[1].set_aspect(\"equal\")\n",
    "axs[1].set_title(\"weekend\")\n",
    "axs[1].set_xlabel(\"in_degree\")\n",
    "axs[1].set_ylabel(\"HITS_authority\")"
   ]
  },
  {
   "cell_type": "code",
   "execution_count": 19,
   "metadata": {},
   "outputs": [
    {
     "data": {
      "text/plain": [
       "Text(0, 0.5, 'HITS_hub')"
      ]
     },
     "execution_count": 19,
     "metadata": {},
     "output_type": "execute_result"
    },
    {
     "data": {
      "image/png": "[encoded data removed]",
      "text/plain": [
       "<Figure size 1008x504 with 2 Axes>"
      ]
     },
     "metadata": {
      "needs_background": "light"
     },
     "output_type": "display_data"
    }
   ],
   "source": [
    "fig, axs = plt.subplots(1, 2, figsize=(14,7), sharex=False, sharey=False)\n",
    "axs[0].scatter(df_stats_1[\"out_degree\"], df_stats_1[\"HITS_hub\"])\n",
    "#axs[0].set_aspect(\"equal\")\n",
    "axs[0].set_title(\"weekday\")\n",
    "axs[0].set_xlabel(\"out_degree\")\n",
    "axs[0].set_ylabel(\"HITS_hub\")\n",
    "\n",
    "axs[1].scatter(df_stats_2[\"out_degree\"], df_stats_2[\"HITS_hub\"])\n",
    "#axs[1].set_aspect(\"equal\")\n",
    "axs[1].set_title(\"weekend\")\n",
    "axs[1].set_xlabel(\"out_degree\")\n",
    "axs[1].set_ylabel(\"HITS_hub\")"
   ]
  },
  {
   "cell_type": "code",
   "execution_count": 20,
   "metadata": {},
   "outputs": [
    {
     "data": {
      "text/html": [
       "<div>\n",
       "<style scoped>\n",
       "    .dataframe tbody tr th:only-of-type {\n",
       "        vertical-align: middle;\n",
       "    }\n",
       "\n",
       "    .dataframe tbody tr th {\n",
       "        vertical-align: top;\n",
       "    }\n",
       "\n",
       "    .dataframe thead th {\n",
       "        text-align: right;\n",
       "    }\n",
       "</style>\n",
       "<table border=\"1\" class=\"dataframe\">\n",
       "  <thead>\n",
       "    <tr style=\"text-align: right;\">\n",
       "      <th></th>\n",
       "      <th>in_degree</th>\n",
       "      <th>out_degree</th>\n",
       "      <th>PageRank</th>\n",
       "      <th>HITS_hub</th>\n",
       "      <th>HITS_authority</th>\n",
       "    </tr>\n",
       "  </thead>\n",
       "  <tbody>\n",
       "    <tr>\n",
       "      <th>ADMIRALTY</th>\n",
       "      <td>6543.745634</td>\n",
       "      <td>4965.819377</td>\n",
       "      <td>0.001898</td>\n",
       "      <td>0.000899</td>\n",
       "      <td>0.000840</td>\n",
       "    </tr>\n",
       "    <tr>\n",
       "      <th>AIRPORT ROAD</th>\n",
       "      <td>1010.130918</td>\n",
       "      <td>933.699655</td>\n",
       "      <td>0.000655</td>\n",
       "      <td>0.000179</td>\n",
       "      <td>0.000164</td>\n",
       "    </tr>\n",
       "    <tr>\n",
       "      <th>ALEXANDRA HILL</th>\n",
       "      <td>17345.711058</td>\n",
       "      <td>14349.354850</td>\n",
       "      <td>0.003598</td>\n",
       "      <td>0.001036</td>\n",
       "      <td>0.001389</td>\n",
       "    </tr>\n",
       "    <tr>\n",
       "      <th>ALEXANDRA NORTH</th>\n",
       "      <td>1370.399900</td>\n",
       "      <td>2080.343000</td>\n",
       "      <td>0.000745</td>\n",
       "      <td>0.000158</td>\n",
       "      <td>0.000062</td>\n",
       "    </tr>\n",
       "    <tr>\n",
       "      <th>ALJUNIED</th>\n",
       "      <td>74166.097943</td>\n",
       "      <td>72493.656869</td>\n",
       "      <td>0.011334</td>\n",
       "      <td>0.013225</td>\n",
       "      <td>0.013935</td>\n",
       "    </tr>\n",
       "  </tbody>\n",
       "</table>\n",
       "</div>"
      ],
      "text/plain": [
       "                    in_degree    out_degree  PageRank  HITS_hub  \\\n",
       "ADMIRALTY         6543.745634   4965.819377  0.001898  0.000899   \n",
       "AIRPORT ROAD      1010.130918    933.699655  0.000655  0.000179   \n",
       "ALEXANDRA HILL   17345.711058  14349.354850  0.003598  0.001036   \n",
       "ALEXANDRA NORTH   1370.399900   2080.343000  0.000745  0.000158   \n",
       "ALJUNIED         74166.097943  72493.656869  0.011334  0.013225   \n",
       "\n",
       "                 HITS_authority  \n",
       "ADMIRALTY              0.000840  \n",
       "AIRPORT ROAD           0.000164  \n",
       "ALEXANDRA HILL         0.001389  \n",
       "ALEXANDRA NORTH        0.000062  \n",
       "ALJUNIED               0.013935  "
      ]
     },
     "execution_count": 20,
     "metadata": {},
     "output_type": "execute_result"
    }
   ],
   "source": [
    "df_stats_1.head()"
   ]
  },
  {
   "cell_type": "code",
   "execution_count": 21,
   "metadata": {},
   "outputs": [
    {
     "data": {
      "text/html": [
       "<div>\n",
       "<style scoped>\n",
       "    .dataframe tbody tr th:only-of-type {\n",
       "        vertical-align: middle;\n",
       "    }\n",
       "\n",
       "    .dataframe tbody tr th {\n",
       "        vertical-align: top;\n",
       "    }\n",
       "\n",
       "    .dataframe thead th {\n",
       "        text-align: right;\n",
       "    }\n",
       "</style>\n",
       "<table border=\"1\" class=\"dataframe\">\n",
       "  <thead>\n",
       "    <tr style=\"text-align: right;\">\n",
       "      <th></th>\n",
       "      <th>in_degree</th>\n",
       "      <th>out_degree</th>\n",
       "      <th>PageRank</th>\n",
       "      <th>HITS_hub</th>\n",
       "      <th>HITS_authority</th>\n",
       "    </tr>\n",
       "  </thead>\n",
       "  <tbody>\n",
       "    <tr>\n",
       "      <th>ADMIRALTY</th>\n",
       "      <td>7978.906268</td>\n",
       "      <td>5941.182610</td>\n",
       "      <td>0.002061</td>\n",
       "      <td>0.001088</td>\n",
       "      <td>0.001000</td>\n",
       "    </tr>\n",
       "    <tr>\n",
       "      <th>AIRPORT ROAD</th>\n",
       "      <td>166.472703</td>\n",
       "      <td>156.569583</td>\n",
       "      <td>0.000523</td>\n",
       "      <td>0.000023</td>\n",
       "      <td>0.000019</td>\n",
       "    </tr>\n",
       "    <tr>\n",
       "      <th>ALEXANDRA HILL</th>\n",
       "      <td>17082.631483</td>\n",
       "      <td>12750.956603</td>\n",
       "      <td>0.003611</td>\n",
       "      <td>0.001095</td>\n",
       "      <td>0.001433</td>\n",
       "    </tr>\n",
       "    <tr>\n",
       "      <th>ALEXANDRA NORTH</th>\n",
       "      <td>971.132551</td>\n",
       "      <td>1208.055298</td>\n",
       "      <td>0.000673</td>\n",
       "      <td>0.000095</td>\n",
       "      <td>0.000069</td>\n",
       "    </tr>\n",
       "    <tr>\n",
       "      <th>ALJUNIED</th>\n",
       "      <td>85251.675095</td>\n",
       "      <td>82717.494526</td>\n",
       "      <td>0.012953</td>\n",
       "      <td>0.015724</td>\n",
       "      <td>0.017618</td>\n",
       "    </tr>\n",
       "  </tbody>\n",
       "</table>\n",
       "</div>"
      ],
      "text/plain": [
       "                    in_degree    out_degree  PageRank  HITS_hub  \\\n",
       "ADMIRALTY         7978.906268   5941.182610  0.002061  0.001088   \n",
       "AIRPORT ROAD       166.472703    156.569583  0.000523  0.000023   \n",
       "ALEXANDRA HILL   17082.631483  12750.956603  0.003611  0.001095   \n",
       "ALEXANDRA NORTH    971.132551   1208.055298  0.000673  0.000095   \n",
       "ALJUNIED         85251.675095  82717.494526  0.012953  0.015724   \n",
       "\n",
       "                 HITS_authority  \n",
       "ADMIRALTY              0.001000  \n",
       "AIRPORT ROAD           0.000019  \n",
       "ALEXANDRA HILL         0.001433  \n",
       "ALEXANDRA NORTH        0.000069  \n",
       "ALJUNIED               0.017618  "
      ]
     },
     "execution_count": 21,
     "metadata": {},
     "output_type": "execute_result"
    }
   ],
   "source": [
    "df_stats_2.head()"
   ]
  },
  {
   "cell_type": "code",
   "execution_count": 22,
   "metadata": {},
   "outputs": [
    {
     "data": {
      "text/html": [
       "<div>\n",
       "<style scoped>\n",
       "    .dataframe tbody tr th:only-of-type {\n",
       "        vertical-align: middle;\n",
       "    }\n",
       "\n",
       "    .dataframe tbody tr th {\n",
       "        vertical-align: top;\n",
       "    }\n",
       "\n",
       "    .dataframe thead th {\n",
       "        text-align: right;\n",
       "    }\n",
       "</style>\n",
       "<table border=\"1\" class=\"dataframe\">\n",
       "  <thead>\n",
       "    <tr style=\"text-align: right;\">\n",
       "      <th></th>\n",
       "      <th>in_degree_weekday</th>\n",
       "      <th>out_degree_weekday</th>\n",
       "      <th>PageRank_weekday</th>\n",
       "      <th>HITS_hub_weekday</th>\n",
       "      <th>HITS_authority_weekday</th>\n",
       "      <th>in_degree_weekend</th>\n",
       "      <th>out_degree_weekend</th>\n",
       "      <th>PageRank_weekend</th>\n",
       "      <th>HITS_hub_weekend</th>\n",
       "      <th>HITS_authority_weekend</th>\n",
       "    </tr>\n",
       "  </thead>\n",
       "  <tbody>\n",
       "    <tr>\n",
       "      <th>ADMIRALTY</th>\n",
       "      <td>6543.745634</td>\n",
       "      <td>4965.819377</td>\n",
       "      <td>0.001898</td>\n",
       "      <td>0.000899</td>\n",
       "      <td>0.000840</td>\n",
       "      <td>7978.906268</td>\n",
       "      <td>5941.182610</td>\n",
       "      <td>0.002061</td>\n",
       "      <td>0.001088</td>\n",
       "      <td>0.001000</td>\n",
       "    </tr>\n",
       "    <tr>\n",
       "      <th>AIRPORT ROAD</th>\n",
       "      <td>1010.130918</td>\n",
       "      <td>933.699655</td>\n",
       "      <td>0.000655</td>\n",
       "      <td>0.000179</td>\n",
       "      <td>0.000164</td>\n",
       "      <td>166.472703</td>\n",
       "      <td>156.569583</td>\n",
       "      <td>0.000523</td>\n",
       "      <td>0.000023</td>\n",
       "      <td>0.000019</td>\n",
       "    </tr>\n",
       "    <tr>\n",
       "      <th>ALEXANDRA HILL</th>\n",
       "      <td>17345.711058</td>\n",
       "      <td>14349.354850</td>\n",
       "      <td>0.003598</td>\n",
       "      <td>0.001036</td>\n",
       "      <td>0.001389</td>\n",
       "      <td>17082.631483</td>\n",
       "      <td>12750.956603</td>\n",
       "      <td>0.003611</td>\n",
       "      <td>0.001095</td>\n",
       "      <td>0.001433</td>\n",
       "    </tr>\n",
       "    <tr>\n",
       "      <th>ALEXANDRA NORTH</th>\n",
       "      <td>1370.399900</td>\n",
       "      <td>2080.343000</td>\n",
       "      <td>0.000745</td>\n",
       "      <td>0.000158</td>\n",
       "      <td>0.000062</td>\n",
       "      <td>971.132551</td>\n",
       "      <td>1208.055298</td>\n",
       "      <td>0.000673</td>\n",
       "      <td>0.000095</td>\n",
       "      <td>0.000069</td>\n",
       "    </tr>\n",
       "    <tr>\n",
       "      <th>ALJUNIED</th>\n",
       "      <td>74166.097943</td>\n",
       "      <td>72493.656869</td>\n",
       "      <td>0.011334</td>\n",
       "      <td>0.013225</td>\n",
       "      <td>0.013935</td>\n",
       "      <td>85251.675095</td>\n",
       "      <td>82717.494526</td>\n",
       "      <td>0.012953</td>\n",
       "      <td>0.015724</td>\n",
       "      <td>0.017618</td>\n",
       "    </tr>\n",
       "  </tbody>\n",
       "</table>\n",
       "</div>"
      ],
      "text/plain": [
       "                 in_degree_weekday  out_degree_weekday  PageRank_weekday  \\\n",
       "ADMIRALTY              6543.745634         4965.819377          0.001898   \n",
       "AIRPORT ROAD           1010.130918          933.699655          0.000655   \n",
       "ALEXANDRA HILL        17345.711058        14349.354850          0.003598   \n",
       "ALEXANDRA NORTH        1370.399900         2080.343000          0.000745   \n",
       "ALJUNIED              74166.097943        72493.656869          0.011334   \n",
       "\n",
       "                 HITS_hub_weekday  HITS_authority_weekday  in_degree_weekend  \\\n",
       "ADMIRALTY                0.000899                0.000840        7978.906268   \n",
       "AIRPORT ROAD             0.000179                0.000164         166.472703   \n",
       "ALEXANDRA HILL           0.001036                0.001389       17082.631483   \n",
       "ALEXANDRA NORTH          0.000158                0.000062         971.132551   \n",
       "ALJUNIED                 0.013225                0.013935       85251.675095   \n",
       "\n",
       "                 out_degree_weekend  PageRank_weekend  HITS_hub_weekend  \\\n",
       "ADMIRALTY               5941.182610          0.002061          0.001088   \n",
       "AIRPORT ROAD             156.569583          0.000523          0.000023   \n",
       "ALEXANDRA HILL         12750.956603          0.003611          0.001095   \n",
       "ALEXANDRA NORTH         1208.055298          0.000673          0.000095   \n",
       "ALJUNIED               82717.494526          0.012953          0.015724   \n",
       "\n",
       "                 HITS_authority_weekend  \n",
       "ADMIRALTY                      0.001000  \n",
       "AIRPORT ROAD                   0.000019  \n",
       "ALEXANDRA HILL                 0.001433  \n",
       "ALEXANDRA NORTH                0.000069  \n",
       "ALJUNIED                       0.017618  "
      ]
     },
     "execution_count": 22,
     "metadata": {},
     "output_type": "execute_result"
    }
   ],
   "source": [
    "df_stat = pd.merge(df_stats_1, df_stats_2, left_index=True, right_index=True, suffixes=(\"_weekday\", \"_weekend\"), how=\"outer\")\n",
    "df_stat.head()"
   ]
  },
  {
   "cell_type": "code",
   "execution_count": 23,
   "metadata": {},
   "outputs": [],
   "source": [
    "df_stat.to_csv(\"results/node_density_stat.csv\", index_label=\"node\")"
   ]
  },
  {
   "cell_type": "code",
   "execution_count": null,
   "metadata": {},
   "outputs": [],
   "source": []
  },
  {
   "cell_type": "code",
   "execution_count": null,
   "metadata": {},
   "outputs": [],
   "source": []
  },
  {
   "cell_type": "code",
   "execution_count": 24,
   "metadata": {},
   "outputs": [
    {
     "data": {
      "text/html": [
       "<div>\n",
       "<style scoped>\n",
       "    .dataframe tbody tr th:only-of-type {\n",
       "        vertical-align: middle;\n",
       "    }\n",
       "\n",
       "    .dataframe tbody tr th {\n",
       "        vertical-align: top;\n",
       "    }\n",
       "\n",
       "    .dataframe thead th {\n",
       "        text-align: right;\n",
       "    }\n",
       "</style>\n",
       "<table border=\"1\" class=\"dataframe\">\n",
       "  <thead>\n",
       "    <tr style=\"text-align: right;\">\n",
       "      <th></th>\n",
       "      <th>in_degree_weekday</th>\n",
       "      <th>out_degree_weekday</th>\n",
       "      <th>PageRank_weekday</th>\n",
       "      <th>HITS_hub_weekday</th>\n",
       "      <th>HITS_authority_weekday</th>\n",
       "      <th>in_degree_weekend</th>\n",
       "      <th>out_degree_weekend</th>\n",
       "      <th>PageRank_weekend</th>\n",
       "      <th>HITS_hub_weekend</th>\n",
       "      <th>HITS_authority_weekend</th>\n",
       "    </tr>\n",
       "    <tr>\n",
       "      <th>node</th>\n",
       "      <th></th>\n",
       "      <th></th>\n",
       "      <th></th>\n",
       "      <th></th>\n",
       "      <th></th>\n",
       "      <th></th>\n",
       "      <th></th>\n",
       "      <th></th>\n",
       "      <th></th>\n",
       "      <th></th>\n",
       "    </tr>\n",
       "  </thead>\n",
       "  <tbody>\n",
       "    <tr>\n",
       "      <th>ADMIRALTY</th>\n",
       "      <td>6543.745634</td>\n",
       "      <td>4965.819377</td>\n",
       "      <td>0.001898</td>\n",
       "      <td>0.000899</td>\n",
       "      <td>0.000840</td>\n",
       "      <td>7978.906268</td>\n",
       "      <td>5941.182610</td>\n",
       "      <td>0.002061</td>\n",
       "      <td>0.001088</td>\n",
       "      <td>0.001000</td>\n",
       "    </tr>\n",
       "    <tr>\n",
       "      <th>AIRPORT ROAD</th>\n",
       "      <td>1010.130918</td>\n",
       "      <td>933.699655</td>\n",
       "      <td>0.000655</td>\n",
       "      <td>0.000179</td>\n",
       "      <td>0.000164</td>\n",
       "      <td>166.472703</td>\n",
       "      <td>156.569583</td>\n",
       "      <td>0.000523</td>\n",
       "      <td>0.000023</td>\n",
       "      <td>0.000019</td>\n",
       "    </tr>\n",
       "    <tr>\n",
       "      <th>ALEXANDRA HILL</th>\n",
       "      <td>17345.711058</td>\n",
       "      <td>14349.354850</td>\n",
       "      <td>0.003598</td>\n",
       "      <td>0.001036</td>\n",
       "      <td>0.001389</td>\n",
       "      <td>17082.631483</td>\n",
       "      <td>12750.956603</td>\n",
       "      <td>0.003611</td>\n",
       "      <td>0.001095</td>\n",
       "      <td>0.001433</td>\n",
       "    </tr>\n",
       "    <tr>\n",
       "      <th>ALEXANDRA NORTH</th>\n",
       "      <td>1370.399900</td>\n",
       "      <td>2080.343000</td>\n",
       "      <td>0.000745</td>\n",
       "      <td>0.000158</td>\n",
       "      <td>0.000062</td>\n",
       "      <td>971.132551</td>\n",
       "      <td>1208.055298</td>\n",
       "      <td>0.000673</td>\n",
       "      <td>0.000095</td>\n",
       "      <td>0.000069</td>\n",
       "    </tr>\n",
       "    <tr>\n",
       "      <th>ALJUNIED</th>\n",
       "      <td>74166.097943</td>\n",
       "      <td>72493.656869</td>\n",
       "      <td>0.011334</td>\n",
       "      <td>0.013225</td>\n",
       "      <td>0.013935</td>\n",
       "      <td>85251.675095</td>\n",
       "      <td>82717.494526</td>\n",
       "      <td>0.012953</td>\n",
       "      <td>0.015724</td>\n",
       "      <td>0.017618</td>\n",
       "    </tr>\n",
       "  </tbody>\n",
       "</table>\n",
       "</div>"
      ],
      "text/plain": [
       "                 in_degree_weekday  out_degree_weekday  PageRank_weekday  \\\n",
       "node                                                                       \n",
       "ADMIRALTY              6543.745634         4965.819377          0.001898   \n",
       "AIRPORT ROAD           1010.130918          933.699655          0.000655   \n",
       "ALEXANDRA HILL        17345.711058        14349.354850          0.003598   \n",
       "ALEXANDRA NORTH        1370.399900         2080.343000          0.000745   \n",
       "ALJUNIED              74166.097943        72493.656869          0.011334   \n",
       "\n",
       "                 HITS_hub_weekday  HITS_authority_weekday  in_degree_weekend  \\\n",
       "node                                                                           \n",
       "ADMIRALTY                0.000899                0.000840        7978.906268   \n",
       "AIRPORT ROAD             0.000179                0.000164         166.472703   \n",
       "ALEXANDRA HILL           0.001036                0.001389       17082.631483   \n",
       "ALEXANDRA NORTH          0.000158                0.000062         971.132551   \n",
       "ALJUNIED                 0.013225                0.013935       85251.675095   \n",
       "\n",
       "                 out_degree_weekend  PageRank_weekend  HITS_hub_weekend  \\\n",
       "node                                                                      \n",
       "ADMIRALTY               5941.182610          0.002061          0.001088   \n",
       "AIRPORT ROAD             156.569583          0.000523          0.000023   \n",
       "ALEXANDRA HILL         12750.956603          0.003611          0.001095   \n",
       "ALEXANDRA NORTH         1208.055298          0.000673          0.000095   \n",
       "ALJUNIED               82717.494526          0.012953          0.015724   \n",
       "\n",
       "                 HITS_authority_weekend  \n",
       "node                                     \n",
       "ADMIRALTY                      0.001000  \n",
       "AIRPORT ROAD                   0.000019  \n",
       "ALEXANDRA HILL                 0.001433  \n",
       "ALEXANDRA NORTH                0.000069  \n",
       "ALJUNIED                       0.017618  "
      ]
     },
     "execution_count": 24,
     "metadata": {},
     "output_type": "execute_result"
    }
   ],
   "source": [
    "df_stat = pd.read_csv(\"results/node_density_stat.csv\", index_col=0)\n",
    "df_stat.head()"
   ]
  },
  {
   "cell_type": "code",
   "execution_count": 25,
   "metadata": {},
   "outputs": [
    {
     "data": {
      "text/plain": [
       "['in_degree_weekday', 'in_degree_weekend']"
      ]
     },
     "execution_count": 25,
     "metadata": {},
     "output_type": "execute_result"
    }
   ],
   "source": [
    "[ col for col in df_stat.columns if \"in_degree\" in col ]"
   ]
  },
  {
   "cell_type": "code",
   "execution_count": 26,
   "metadata": {},
   "outputs": [
    {
     "data": {
      "text/html": [
       "<div>\n",
       "<style scoped>\n",
       "    .dataframe tbody tr th:only-of-type {\n",
       "        vertical-align: middle;\n",
       "    }\n",
       "\n",
       "    .dataframe tbody tr th {\n",
       "        vertical-align: top;\n",
       "    }\n",
       "\n",
       "    .dataframe thead th {\n",
       "        text-align: right;\n",
       "    }\n",
       "</style>\n",
       "<table border=\"1\" class=\"dataframe\">\n",
       "  <thead>\n",
       "    <tr style=\"text-align: right;\">\n",
       "      <th></th>\n",
       "      <th>in_degree_weekday</th>\n",
       "      <th>in_degree_weekend</th>\n",
       "    </tr>\n",
       "  </thead>\n",
       "  <tbody>\n",
       "    <tr>\n",
       "      <th>in_degree_weekday</th>\n",
       "      <td>1.000000</td>\n",
       "      <td>0.973159</td>\n",
       "    </tr>\n",
       "    <tr>\n",
       "      <th>in_degree_weekend</th>\n",
       "      <td>0.973159</td>\n",
       "      <td>1.000000</td>\n",
       "    </tr>\n",
       "  </tbody>\n",
       "</table>\n",
       "</div>"
      ],
      "text/plain": [
       "                   in_degree_weekday  in_degree_weekend\n",
       "in_degree_weekday           1.000000           0.973159\n",
       "in_degree_weekend           0.973159           1.000000"
      ]
     },
     "execution_count": 26,
     "metadata": {},
     "output_type": "execute_result"
    }
   ],
   "source": [
    "compare_cols = [ col for col in df_stat.columns if \"in_degree\" in col ]\n",
    "df_stat[compare_cols].corr()"
   ]
  },
  {
   "cell_type": "code",
   "execution_count": 27,
   "metadata": {},
   "outputs": [
    {
     "data": {
      "text/html": [
       "<div>\n",
       "<style scoped>\n",
       "    .dataframe tbody tr th:only-of-type {\n",
       "        vertical-align: middle;\n",
       "    }\n",
       "\n",
       "    .dataframe tbody tr th {\n",
       "        vertical-align: top;\n",
       "    }\n",
       "\n",
       "    .dataframe thead th {\n",
       "        text-align: right;\n",
       "    }\n",
       "</style>\n",
       "<table border=\"1\" class=\"dataframe\">\n",
       "  <thead>\n",
       "    <tr style=\"text-align: right;\">\n",
       "      <th></th>\n",
       "      <th>out_degree_weekday</th>\n",
       "      <th>out_degree_weekend</th>\n",
       "    </tr>\n",
       "  </thead>\n",
       "  <tbody>\n",
       "    <tr>\n",
       "      <th>out_degree_weekday</th>\n",
       "      <td>1.000000</td>\n",
       "      <td>0.970651</td>\n",
       "    </tr>\n",
       "    <tr>\n",
       "      <th>out_degree_weekend</th>\n",
       "      <td>0.970651</td>\n",
       "      <td>1.000000</td>\n",
       "    </tr>\n",
       "  </tbody>\n",
       "</table>\n",
       "</div>"
      ],
      "text/plain": [
       "                    out_degree_weekday  out_degree_weekend\n",
       "out_degree_weekday            1.000000            0.970651\n",
       "out_degree_weekend            0.970651            1.000000"
      ]
     },
     "execution_count": 27,
     "metadata": {},
     "output_type": "execute_result"
    }
   ],
   "source": [
    "compare_cols = [ col for col in df_stat.columns if \"out_degree\" in col ]\n",
    "df_stat[compare_cols].corr()"
   ]
  },
  {
   "cell_type": "code",
   "execution_count": 28,
   "metadata": {},
   "outputs": [
    {
     "data": {
      "text/html": [
       "<div>\n",
       "<style scoped>\n",
       "    .dataframe tbody tr th:only-of-type {\n",
       "        vertical-align: middle;\n",
       "    }\n",
       "\n",
       "    .dataframe tbody tr th {\n",
       "        vertical-align: top;\n",
       "    }\n",
       "\n",
       "    .dataframe thead th {\n",
       "        text-align: right;\n",
       "    }\n",
       "</style>\n",
       "<table border=\"1\" class=\"dataframe\">\n",
       "  <thead>\n",
       "    <tr style=\"text-align: right;\">\n",
       "      <th></th>\n",
       "      <th>PageRank_weekday</th>\n",
       "      <th>PageRank_weekend</th>\n",
       "    </tr>\n",
       "  </thead>\n",
       "  <tbody>\n",
       "    <tr>\n",
       "      <th>PageRank_weekday</th>\n",
       "      <td>1.000000</td>\n",
       "      <td>0.974996</td>\n",
       "    </tr>\n",
       "    <tr>\n",
       "      <th>PageRank_weekend</th>\n",
       "      <td>0.974996</td>\n",
       "      <td>1.000000</td>\n",
       "    </tr>\n",
       "  </tbody>\n",
       "</table>\n",
       "</div>"
      ],
      "text/plain": [
       "                  PageRank_weekday  PageRank_weekend\n",
       "PageRank_weekday          1.000000          0.974996\n",
       "PageRank_weekend          0.974996          1.000000"
      ]
     },
     "execution_count": 28,
     "metadata": {},
     "output_type": "execute_result"
    }
   ],
   "source": [
    "compare_cols = [ col for col in df_stat.columns if \"PageRank\" in col ]\n",
    "df_stat[compare_cols].corr()"
   ]
  },
  {
   "cell_type": "code",
   "execution_count": 29,
   "metadata": {},
   "outputs": [
    {
     "data": {
      "text/html": [
       "<div>\n",
       "<style scoped>\n",
       "    .dataframe tbody tr th:only-of-type {\n",
       "        vertical-align: middle;\n",
       "    }\n",
       "\n",
       "    .dataframe tbody tr th {\n",
       "        vertical-align: top;\n",
       "    }\n",
       "\n",
       "    .dataframe thead th {\n",
       "        text-align: right;\n",
       "    }\n",
       "</style>\n",
       "<table border=\"1\" class=\"dataframe\">\n",
       "  <thead>\n",
       "    <tr style=\"text-align: right;\">\n",
       "      <th></th>\n",
       "      <th>HITS_hub_weekday</th>\n",
       "      <th>HITS_hub_weekend</th>\n",
       "    </tr>\n",
       "  </thead>\n",
       "  <tbody>\n",
       "    <tr>\n",
       "      <th>HITS_hub_weekday</th>\n",
       "      <td>1.000000</td>\n",
       "      <td>0.963542</td>\n",
       "    </tr>\n",
       "    <tr>\n",
       "      <th>HITS_hub_weekend</th>\n",
       "      <td>0.963542</td>\n",
       "      <td>1.000000</td>\n",
       "    </tr>\n",
       "  </tbody>\n",
       "</table>\n",
       "</div>"
      ],
      "text/plain": [
       "                  HITS_hub_weekday  HITS_hub_weekend\n",
       "HITS_hub_weekday          1.000000          0.963542\n",
       "HITS_hub_weekend          0.963542          1.000000"
      ]
     },
     "execution_count": 29,
     "metadata": {},
     "output_type": "execute_result"
    }
   ],
   "source": [
    "compare_cols = [ col for col in df_stat.columns if \"HITS_hub\" in col ]\n",
    "df_stat[compare_cols].corr()"
   ]
  },
  {
   "cell_type": "code",
   "execution_count": 30,
   "metadata": {},
   "outputs": [
    {
     "data": {
      "text/html": [
       "<div>\n",
       "<style scoped>\n",
       "    .dataframe tbody tr th:only-of-type {\n",
       "        vertical-align: middle;\n",
       "    }\n",
       "\n",
       "    .dataframe tbody tr th {\n",
       "        vertical-align: top;\n",
       "    }\n",
       "\n",
       "    .dataframe thead th {\n",
       "        text-align: right;\n",
       "    }\n",
       "</style>\n",
       "<table border=\"1\" class=\"dataframe\">\n",
       "  <thead>\n",
       "    <tr style=\"text-align: right;\">\n",
       "      <th></th>\n",
       "      <th>HITS_authority_weekday</th>\n",
       "      <th>HITS_authority_weekend</th>\n",
       "    </tr>\n",
       "  </thead>\n",
       "  <tbody>\n",
       "    <tr>\n",
       "      <th>HITS_authority_weekday</th>\n",
       "      <td>1.000000</td>\n",
       "      <td>0.966515</td>\n",
       "    </tr>\n",
       "    <tr>\n",
       "      <th>HITS_authority_weekend</th>\n",
       "      <td>0.966515</td>\n",
       "      <td>1.000000</td>\n",
       "    </tr>\n",
       "  </tbody>\n",
       "</table>\n",
       "</div>"
      ],
      "text/plain": [
       "                        HITS_authority_weekday  HITS_authority_weekend\n",
       "HITS_authority_weekday                1.000000                0.966515\n",
       "HITS_authority_weekend                0.966515                1.000000"
      ]
     },
     "execution_count": 30,
     "metadata": {},
     "output_type": "execute_result"
    }
   ],
   "source": [
    "compare_cols = [ col for col in df_stat.columns if \"HITS_authority\" in col ]\n",
    "df_stat[compare_cols].corr()"
   ]
  },
  {
   "cell_type": "code",
   "execution_count": 31,
   "metadata": {},
   "outputs": [
    {
     "data": {
      "text/html": [
       "<div>\n",
       "<style scoped>\n",
       "    .dataframe tbody tr th:only-of-type {\n",
       "        vertical-align: middle;\n",
       "    }\n",
       "\n",
       "    .dataframe tbody tr th {\n",
       "        vertical-align: top;\n",
       "    }\n",
       "\n",
       "    .dataframe thead th {\n",
       "        text-align: right;\n",
       "    }\n",
       "</style>\n",
       "<table border=\"1\" class=\"dataframe\">\n",
       "  <thead>\n",
       "    <tr style=\"text-align: right;\">\n",
       "      <th></th>\n",
       "      <th>in_degree_weekday</th>\n",
       "      <th>out_degree_weekday</th>\n",
       "      <th>PageRank_weekday</th>\n",
       "      <th>HITS_hub_weekday</th>\n",
       "      <th>HITS_authority_weekday</th>\n",
       "    </tr>\n",
       "  </thead>\n",
       "  <tbody>\n",
       "    <tr>\n",
       "      <th>in_degree_weekday</th>\n",
       "      <td>1.000000</td>\n",
       "      <td>0.996998</td>\n",
       "      <td>0.994692</td>\n",
       "      <td>0.953840</td>\n",
       "      <td>0.950077</td>\n",
       "    </tr>\n",
       "    <tr>\n",
       "      <th>out_degree_weekday</th>\n",
       "      <td>0.996998</td>\n",
       "      <td>1.000000</td>\n",
       "      <td>0.992393</td>\n",
       "      <td>0.953155</td>\n",
       "      <td>0.945717</td>\n",
       "    </tr>\n",
       "    <tr>\n",
       "      <th>PageRank_weekday</th>\n",
       "      <td>0.994692</td>\n",
       "      <td>0.992393</td>\n",
       "      <td>1.000000</td>\n",
       "      <td>0.938051</td>\n",
       "      <td>0.932820</td>\n",
       "    </tr>\n",
       "    <tr>\n",
       "      <th>HITS_hub_weekday</th>\n",
       "      <td>0.953840</td>\n",
       "      <td>0.953155</td>\n",
       "      <td>0.938051</td>\n",
       "      <td>1.000000</td>\n",
       "      <td>0.993670</td>\n",
       "    </tr>\n",
       "    <tr>\n",
       "      <th>HITS_authority_weekday</th>\n",
       "      <td>0.950077</td>\n",
       "      <td>0.945717</td>\n",
       "      <td>0.932820</td>\n",
       "      <td>0.993670</td>\n",
       "      <td>1.000000</td>\n",
       "    </tr>\n",
       "  </tbody>\n",
       "</table>\n",
       "</div>"
      ],
      "text/plain": [
       "                        in_degree_weekday  out_degree_weekday  \\\n",
       "in_degree_weekday                1.000000            0.996998   \n",
       "out_degree_weekday               0.996998            1.000000   \n",
       "PageRank_weekday                 0.994692            0.992393   \n",
       "HITS_hub_weekday                 0.953840            0.953155   \n",
       "HITS_authority_weekday           0.950077            0.945717   \n",
       "\n",
       "                        PageRank_weekday  HITS_hub_weekday  \\\n",
       "in_degree_weekday               0.994692          0.953840   \n",
       "out_degree_weekday              0.992393          0.953155   \n",
       "PageRank_weekday                1.000000          0.938051   \n",
       "HITS_hub_weekday                0.938051          1.000000   \n",
       "HITS_authority_weekday          0.932820          0.993670   \n",
       "\n",
       "                        HITS_authority_weekday  \n",
       "in_degree_weekday                     0.950077  \n",
       "out_degree_weekday                    0.945717  \n",
       "PageRank_weekday                      0.932820  \n",
       "HITS_hub_weekday                      0.993670  \n",
       "HITS_authority_weekday                1.000000  "
      ]
     },
     "execution_count": 31,
     "metadata": {},
     "output_type": "execute_result"
    }
   ],
   "source": [
    "compare_cols = [ col for col in df_stat.columns if \"weekday\" in col ]\n",
    "df_stat[compare_cols].corr()"
   ]
  },
  {
   "cell_type": "code",
   "execution_count": 32,
   "metadata": {},
   "outputs": [
    {
     "data": {
      "text/html": [
       "<div>\n",
       "<style scoped>\n",
       "    .dataframe tbody tr th:only-of-type {\n",
       "        vertical-align: middle;\n",
       "    }\n",
       "\n",
       "    .dataframe tbody tr th {\n",
       "        vertical-align: top;\n",
       "    }\n",
       "\n",
       "    .dataframe thead th {\n",
       "        text-align: right;\n",
       "    }\n",
       "</style>\n",
       "<table border=\"1\" class=\"dataframe\">\n",
       "  <thead>\n",
       "    <tr style=\"text-align: right;\">\n",
       "      <th></th>\n",
       "      <th>in_degree_weekend</th>\n",
       "      <th>out_degree_weekend</th>\n",
       "      <th>PageRank_weekend</th>\n",
       "      <th>HITS_hub_weekend</th>\n",
       "      <th>HITS_authority_weekend</th>\n",
       "    </tr>\n",
       "  </thead>\n",
       "  <tbody>\n",
       "    <tr>\n",
       "      <th>in_degree_weekend</th>\n",
       "      <td>1.000000</td>\n",
       "      <td>0.996937</td>\n",
       "      <td>0.994407</td>\n",
       "      <td>0.965245</td>\n",
       "      <td>0.965636</td>\n",
       "    </tr>\n",
       "    <tr>\n",
       "      <th>out_degree_weekend</th>\n",
       "      <td>0.996937</td>\n",
       "      <td>1.000000</td>\n",
       "      <td>0.991916</td>\n",
       "      <td>0.966321</td>\n",
       "      <td>0.962541</td>\n",
       "    </tr>\n",
       "    <tr>\n",
       "      <th>PageRank_weekend</th>\n",
       "      <td>0.994407</td>\n",
       "      <td>0.991916</td>\n",
       "      <td>1.000000</td>\n",
       "      <td>0.951854</td>\n",
       "      <td>0.951289</td>\n",
       "    </tr>\n",
       "    <tr>\n",
       "      <th>HITS_hub_weekend</th>\n",
       "      <td>0.965245</td>\n",
       "      <td>0.966321</td>\n",
       "      <td>0.951854</td>\n",
       "      <td>1.000000</td>\n",
       "      <td>0.994003</td>\n",
       "    </tr>\n",
       "    <tr>\n",
       "      <th>HITS_authority_weekend</th>\n",
       "      <td>0.965636</td>\n",
       "      <td>0.962541</td>\n",
       "      <td>0.951289</td>\n",
       "      <td>0.994003</td>\n",
       "      <td>1.000000</td>\n",
       "    </tr>\n",
       "  </tbody>\n",
       "</table>\n",
       "</div>"
      ],
      "text/plain": [
       "                        in_degree_weekend  out_degree_weekend  \\\n",
       "in_degree_weekend                1.000000            0.996937   \n",
       "out_degree_weekend               0.996937            1.000000   \n",
       "PageRank_weekend                 0.994407            0.991916   \n",
       "HITS_hub_weekend                 0.965245            0.966321   \n",
       "HITS_authority_weekend           0.965636            0.962541   \n",
       "\n",
       "                        PageRank_weekend  HITS_hub_weekend  \\\n",
       "in_degree_weekend               0.994407          0.965245   \n",
       "out_degree_weekend              0.991916          0.966321   \n",
       "PageRank_weekend                1.000000          0.951854   \n",
       "HITS_hub_weekend                0.951854          1.000000   \n",
       "HITS_authority_weekend          0.951289          0.994003   \n",
       "\n",
       "                        HITS_authority_weekend  \n",
       "in_degree_weekend                     0.965636  \n",
       "out_degree_weekend                    0.962541  \n",
       "PageRank_weekend                      0.951289  \n",
       "HITS_hub_weekend                      0.994003  \n",
       "HITS_authority_weekend                1.000000  "
      ]
     },
     "execution_count": 32,
     "metadata": {},
     "output_type": "execute_result"
    }
   ],
   "source": [
    "compare_cols = [ col for col in df_stat.columns if \"weekend\" in col ]\n",
    "df_stat[compare_cols].corr()"
   ]
  },
  {
   "cell_type": "code",
   "execution_count": null,
   "metadata": {},
   "outputs": [],
   "source": []
  },
  {
   "cell_type": "code",
   "execution_count": null,
   "metadata": {},
   "outputs": [],
   "source": []
  },
  {
   "cell_type": "code",
   "execution_count": null,
   "metadata": {},
   "outputs": [],
   "source": []
  },
  {
   "cell_type": "code",
   "execution_count": null,
   "metadata": {},
   "outputs": [],
   "source": []
  },
  {
   "cell_type": "code",
   "execution_count": 33,
   "metadata": {},
   "outputs": [
    {
     "data": {
      "text/html": [
       "<div>\n",
       "<style scoped>\n",
       "    .dataframe tbody tr th:only-of-type {\n",
       "        vertical-align: middle;\n",
       "    }\n",
       "\n",
       "    .dataframe tbody tr th {\n",
       "        vertical-align: top;\n",
       "    }\n",
       "\n",
       "    .dataframe thead th {\n",
       "        text-align: right;\n",
       "    }\n",
       "</style>\n",
       "<table border=\"1\" class=\"dataframe\">\n",
       "  <thead>\n",
       "    <tr style=\"text-align: right;\">\n",
       "      <th></th>\n",
       "      <th>in_degree_weekday</th>\n",
       "      <th>out_degree_weekday</th>\n",
       "      <th>PageRank_weekday</th>\n",
       "      <th>HITS_hub_weekday</th>\n",
       "      <th>HITS_authority_weekday</th>\n",
       "      <th>in_degree_weekend</th>\n",
       "      <th>out_degree_weekend</th>\n",
       "      <th>PageRank_weekend</th>\n",
       "      <th>HITS_hub_weekend</th>\n",
       "      <th>HITS_authority_weekend</th>\n",
       "    </tr>\n",
       "    <tr>\n",
       "      <th>node</th>\n",
       "      <th></th>\n",
       "      <th></th>\n",
       "      <th></th>\n",
       "      <th></th>\n",
       "      <th></th>\n",
       "      <th></th>\n",
       "      <th></th>\n",
       "      <th></th>\n",
       "      <th></th>\n",
       "      <th></th>\n",
       "    </tr>\n",
       "  </thead>\n",
       "  <tbody>\n",
       "    <tr>\n",
       "      <th>ADMIRALTY</th>\n",
       "      <td>6543.745634</td>\n",
       "      <td>4965.819377</td>\n",
       "      <td>0.001898</td>\n",
       "      <td>0.000899</td>\n",
       "      <td>0.000840</td>\n",
       "      <td>7978.906268</td>\n",
       "      <td>5941.182610</td>\n",
       "      <td>0.002061</td>\n",
       "      <td>0.001088</td>\n",
       "      <td>0.001000</td>\n",
       "    </tr>\n",
       "    <tr>\n",
       "      <th>AIRPORT ROAD</th>\n",
       "      <td>1010.130918</td>\n",
       "      <td>933.699655</td>\n",
       "      <td>0.000655</td>\n",
       "      <td>0.000179</td>\n",
       "      <td>0.000164</td>\n",
       "      <td>166.472703</td>\n",
       "      <td>156.569583</td>\n",
       "      <td>0.000523</td>\n",
       "      <td>0.000023</td>\n",
       "      <td>0.000019</td>\n",
       "    </tr>\n",
       "    <tr>\n",
       "      <th>ALEXANDRA HILL</th>\n",
       "      <td>17345.711058</td>\n",
       "      <td>14349.354850</td>\n",
       "      <td>0.003598</td>\n",
       "      <td>0.001036</td>\n",
       "      <td>0.001389</td>\n",
       "      <td>17082.631483</td>\n",
       "      <td>12750.956603</td>\n",
       "      <td>0.003611</td>\n",
       "      <td>0.001095</td>\n",
       "      <td>0.001433</td>\n",
       "    </tr>\n",
       "    <tr>\n",
       "      <th>ALEXANDRA NORTH</th>\n",
       "      <td>1370.399900</td>\n",
       "      <td>2080.343000</td>\n",
       "      <td>0.000745</td>\n",
       "      <td>0.000158</td>\n",
       "      <td>0.000062</td>\n",
       "      <td>971.132551</td>\n",
       "      <td>1208.055298</td>\n",
       "      <td>0.000673</td>\n",
       "      <td>0.000095</td>\n",
       "      <td>0.000069</td>\n",
       "    </tr>\n",
       "    <tr>\n",
       "      <th>ALJUNIED</th>\n",
       "      <td>74166.097943</td>\n",
       "      <td>72493.656869</td>\n",
       "      <td>0.011334</td>\n",
       "      <td>0.013225</td>\n",
       "      <td>0.013935</td>\n",
       "      <td>85251.675095</td>\n",
       "      <td>82717.494526</td>\n",
       "      <td>0.012953</td>\n",
       "      <td>0.015724</td>\n",
       "      <td>0.017618</td>\n",
       "    </tr>\n",
       "  </tbody>\n",
       "</table>\n",
       "</div>"
      ],
      "text/plain": [
       "                 in_degree_weekday  out_degree_weekday  PageRank_weekday  \\\n",
       "node                                                                       \n",
       "ADMIRALTY              6543.745634         4965.819377          0.001898   \n",
       "AIRPORT ROAD           1010.130918          933.699655          0.000655   \n",
       "ALEXANDRA HILL        17345.711058        14349.354850          0.003598   \n",
       "ALEXANDRA NORTH        1370.399900         2080.343000          0.000745   \n",
       "ALJUNIED              74166.097943        72493.656869          0.011334   \n",
       "\n",
       "                 HITS_hub_weekday  HITS_authority_weekday  in_degree_weekend  \\\n",
       "node                                                                           \n",
       "ADMIRALTY                0.000899                0.000840        7978.906268   \n",
       "AIRPORT ROAD             0.000179                0.000164         166.472703   \n",
       "ALEXANDRA HILL           0.001036                0.001389       17082.631483   \n",
       "ALEXANDRA NORTH          0.000158                0.000062         971.132551   \n",
       "ALJUNIED                 0.013225                0.013935       85251.675095   \n",
       "\n",
       "                 out_degree_weekend  PageRank_weekend  HITS_hub_weekend  \\\n",
       "node                                                                      \n",
       "ADMIRALTY               5941.182610          0.002061          0.001088   \n",
       "AIRPORT ROAD             156.569583          0.000523          0.000023   \n",
       "ALEXANDRA HILL         12750.956603          0.003611          0.001095   \n",
       "ALEXANDRA NORTH         1208.055298          0.000673          0.000095   \n",
       "ALJUNIED               82717.494526          0.012953          0.015724   \n",
       "\n",
       "                 HITS_authority_weekend  \n",
       "node                                     \n",
       "ADMIRALTY                      0.001000  \n",
       "AIRPORT ROAD                   0.000019  \n",
       "ALEXANDRA HILL                 0.001433  \n",
       "ALEXANDRA NORTH                0.000069  \n",
       "ALJUNIED                       0.017618  "
      ]
     },
     "execution_count": 33,
     "metadata": {},
     "output_type": "execute_result"
    }
   ],
   "source": [
    "df_stat = pd.read_csv(\"results/node_density_stat.csv\", index_col=0)\n",
    "df_stat.head()"
   ]
  },
  {
   "cell_type": "code",
   "execution_count": 34,
   "metadata": {},
   "outputs": [
    {
     "data": {
      "text/html": [
       "<div>\n",
       "<style scoped>\n",
       "    .dataframe tbody tr th:only-of-type {\n",
       "        vertical-align: middle;\n",
       "    }\n",
       "\n",
       "    .dataframe tbody tr th {\n",
       "        vertical-align: top;\n",
       "    }\n",
       "\n",
       "    .dataframe thead th {\n",
       "        text-align: right;\n",
       "    }\n",
       "</style>\n",
       "<table border=\"1\" class=\"dataframe\">\n",
       "  <thead>\n",
       "    <tr style=\"text-align: right;\">\n",
       "      <th></th>\n",
       "      <th>in_degree_weekday</th>\n",
       "      <th>out_degree_weekday</th>\n",
       "      <th>PageRank_weekday</th>\n",
       "      <th>HITS_hub_weekday</th>\n",
       "      <th>HITS_authority_weekday</th>\n",
       "      <th>in_degree_weekend</th>\n",
       "      <th>out_degree_weekend</th>\n",
       "      <th>PageRank_weekend</th>\n",
       "      <th>HITS_hub_weekend</th>\n",
       "      <th>HITS_authority_weekend</th>\n",
       "    </tr>\n",
       "  </thead>\n",
       "  <tbody>\n",
       "    <tr>\n",
       "      <th>count</th>\n",
       "      <td>303.000000</td>\n",
       "      <td>303.000000</td>\n",
       "      <td>303.000000</td>\n",
       "      <td>303.000000</td>\n",
       "      <td>303.000000</td>\n",
       "      <td>303.000000</td>\n",
       "      <td>303.000000</td>\n",
       "      <td>303.000000</td>\n",
       "      <td>3.030000e+02</td>\n",
       "      <td>303.000000</td>\n",
       "    </tr>\n",
       "    <tr>\n",
       "      <th>mean</th>\n",
       "      <td>18207.159494</td>\n",
       "      <td>18207.159494</td>\n",
       "      <td>0.003300</td>\n",
       "      <td>0.003300</td>\n",
       "      <td>0.003300</td>\n",
       "      <td>17934.274805</td>\n",
       "      <td>17934.274805</td>\n",
       "      <td>0.003300</td>\n",
       "      <td>3.300330e-03</td>\n",
       "      <td>0.003300</td>\n",
       "    </tr>\n",
       "    <tr>\n",
       "      <th>std</th>\n",
       "      <td>22230.263193</td>\n",
       "      <td>22311.754525</td>\n",
       "      <td>0.003363</td>\n",
       "      <td>0.004502</td>\n",
       "      <td>0.004474</td>\n",
       "      <td>23427.280514</td>\n",
       "      <td>23405.430864</td>\n",
       "      <td>0.003582</td>\n",
       "      <td>4.676847e-03</td>\n",
       "      <td>0.004678</td>\n",
       "    </tr>\n",
       "    <tr>\n",
       "      <th>min</th>\n",
       "      <td>156.699349</td>\n",
       "      <td>52.581918</td>\n",
       "      <td>0.000521</td>\n",
       "      <td>0.000004</td>\n",
       "      <td>0.000008</td>\n",
       "      <td>129.618053</td>\n",
       "      <td>6.142442</td>\n",
       "      <td>0.000519</td>\n",
       "      <td>1.855210e-07</td>\n",
       "      <td>0.000003</td>\n",
       "    </tr>\n",
       "    <tr>\n",
       "      <th>25%</th>\n",
       "      <td>3499.313594</td>\n",
       "      <td>3393.333343</td>\n",
       "      <td>0.001110</td>\n",
       "      <td>0.000471</td>\n",
       "      <td>0.000465</td>\n",
       "      <td>3034.428823</td>\n",
       "      <td>2888.680593</td>\n",
       "      <td>0.001068</td>\n",
       "      <td>4.288217e-04</td>\n",
       "      <td>0.000414</td>\n",
       "    </tr>\n",
       "    <tr>\n",
       "      <th>50%</th>\n",
       "      <td>9499.145934</td>\n",
       "      <td>9826.196461</td>\n",
       "      <td>0.002017</td>\n",
       "      <td>0.001267</td>\n",
       "      <td>0.001344</td>\n",
       "      <td>9085.548602</td>\n",
       "      <td>9211.405976</td>\n",
       "      <td>0.002061</td>\n",
       "      <td>1.272485e-03</td>\n",
       "      <td>0.001276</td>\n",
       "    </tr>\n",
       "    <tr>\n",
       "      <th>75%</th>\n",
       "      <td>24025.362911</td>\n",
       "      <td>25319.125166</td>\n",
       "      <td>0.004124</td>\n",
       "      <td>0.004459</td>\n",
       "      <td>0.004399</td>\n",
       "      <td>22194.966593</td>\n",
       "      <td>22997.869968</td>\n",
       "      <td>0.003878</td>\n",
       "      <td>3.859684e-03</td>\n",
       "      <td>0.003958</td>\n",
       "    </tr>\n",
       "    <tr>\n",
       "      <th>max</th>\n",
       "      <td>131708.907335</td>\n",
       "      <td>133082.683581</td>\n",
       "      <td>0.023240</td>\n",
       "      <td>0.031741</td>\n",
       "      <td>0.029191</td>\n",
       "      <td>128388.397432</td>\n",
       "      <td>129569.820252</td>\n",
       "      <td>0.023229</td>\n",
       "      <td>2.796821e-02</td>\n",
       "      <td>0.025878</td>\n",
       "    </tr>\n",
       "  </tbody>\n",
       "</table>\n",
       "</div>"
      ],
      "text/plain": [
       "       in_degree_weekday  out_degree_weekday  PageRank_weekday  \\\n",
       "count         303.000000          303.000000        303.000000   \n",
       "mean        18207.159494        18207.159494          0.003300   \n",
       "std         22230.263193        22311.754525          0.003363   \n",
       "min           156.699349           52.581918          0.000521   \n",
       "25%          3499.313594         3393.333343          0.001110   \n",
       "50%          9499.145934         9826.196461          0.002017   \n",
       "75%         24025.362911        25319.125166          0.004124   \n",
       "max        131708.907335       133082.683581          0.023240   \n",
       "\n",
       "       HITS_hub_weekday  HITS_authority_weekday  in_degree_weekend  \\\n",
       "count        303.000000              303.000000         303.000000   \n",
       "mean           0.003300                0.003300       17934.274805   \n",
       "std            0.004502                0.004474       23427.280514   \n",
       "min            0.000004                0.000008         129.618053   \n",
       "25%            0.000471                0.000465        3034.428823   \n",
       "50%            0.001267                0.001344        9085.548602   \n",
       "75%            0.004459                0.004399       22194.966593   \n",
       "max            0.031741                0.029191      128388.397432   \n",
       "\n",
       "       out_degree_weekend  PageRank_weekend  HITS_hub_weekend  \\\n",
       "count          303.000000        303.000000      3.030000e+02   \n",
       "mean         17934.274805          0.003300      3.300330e-03   \n",
       "std          23405.430864          0.003582      4.676847e-03   \n",
       "min              6.142442          0.000519      1.855210e-07   \n",
       "25%           2888.680593          0.001068      4.288217e-04   \n",
       "50%           9211.405976          0.002061      1.272485e-03   \n",
       "75%          22997.869968          0.003878      3.859684e-03   \n",
       "max         129569.820252          0.023229      2.796821e-02   \n",
       "\n",
       "       HITS_authority_weekend  \n",
       "count              303.000000  \n",
       "mean                 0.003300  \n",
       "std                  0.004678  \n",
       "min                  0.000003  \n",
       "25%                  0.000414  \n",
       "50%                  0.001276  \n",
       "75%                  0.003958  \n",
       "max                  0.025878  "
      ]
     },
     "execution_count": 34,
     "metadata": {},
     "output_type": "execute_result"
    }
   ],
   "source": [
    "df_stat.describe()"
   ]
  },
  {
   "cell_type": "code",
   "execution_count": 35,
   "metadata": {},
   "outputs": [
    {
     "data": {
      "text/plain": [
       "156.69934908643262"
      ]
     },
     "execution_count": 35,
     "metadata": {},
     "output_type": "execute_result"
    }
   ],
   "source": [
    "df_stat[\"in_degree_weekday\"].min()"
   ]
  },
  {
   "cell_type": "code",
   "execution_count": 36,
   "metadata": {},
   "outputs": [
    {
     "data": {
      "text/html": [
       "<div>\n",
       "<style scoped>\n",
       "    .dataframe tbody tr th:only-of-type {\n",
       "        vertical-align: middle;\n",
       "    }\n",
       "\n",
       "    .dataframe tbody tr th {\n",
       "        vertical-align: top;\n",
       "    }\n",
       "\n",
       "    .dataframe thead th {\n",
       "        text-align: right;\n",
       "    }\n",
       "</style>\n",
       "<table border=\"1\" class=\"dataframe\">\n",
       "  <thead>\n",
       "    <tr style=\"text-align: right;\">\n",
       "      <th></th>\n",
       "      <th>in_degree_weekday</th>\n",
       "      <th>out_degree_weekday</th>\n",
       "      <th>PageRank_weekday</th>\n",
       "      <th>HITS_hub_weekday</th>\n",
       "      <th>HITS_authority_weekday</th>\n",
       "      <th>in_degree_weekend</th>\n",
       "      <th>out_degree_weekend</th>\n",
       "      <th>PageRank_weekend</th>\n",
       "      <th>HITS_hub_weekend</th>\n",
       "      <th>HITS_authority_weekend</th>\n",
       "    </tr>\n",
       "    <tr>\n",
       "      <th>node</th>\n",
       "      <th></th>\n",
       "      <th></th>\n",
       "      <th></th>\n",
       "      <th></th>\n",
       "      <th></th>\n",
       "      <th></th>\n",
       "      <th></th>\n",
       "      <th></th>\n",
       "      <th></th>\n",
       "      <th></th>\n",
       "    </tr>\n",
       "  </thead>\n",
       "  <tbody>\n",
       "    <tr>\n",
       "      <th>ADMIRALTY</th>\n",
       "      <td>0.048551</td>\n",
       "      <td>0.036933</td>\n",
       "      <td>0.060612</td>\n",
       "      <td>0.028214</td>\n",
       "      <td>0.028508</td>\n",
       "      <td>0.061199</td>\n",
       "      <td>0.045808</td>\n",
       "      <td>0.067892</td>\n",
       "      <td>0.038888</td>\n",
       "      <td>0.038550</td>\n",
       "    </tr>\n",
       "    <tr>\n",
       "      <th>AIRPORT ROAD</th>\n",
       "      <td>0.006487</td>\n",
       "      <td>0.006623</td>\n",
       "      <td>0.005869</td>\n",
       "      <td>0.005507</td>\n",
       "      <td>0.005368</td>\n",
       "      <td>0.000287</td>\n",
       "      <td>0.001161</td>\n",
       "      <td>0.000182</td>\n",
       "      <td>0.000832</td>\n",
       "      <td>0.000619</td>\n",
       "    </tr>\n",
       "    <tr>\n",
       "      <th>ALEXANDRA HILL</th>\n",
       "      <td>0.130663</td>\n",
       "      <td>0.107470</td>\n",
       "      <td>0.135408</td>\n",
       "      <td>0.032508</td>\n",
       "      <td>0.047346</td>\n",
       "      <td>0.132178</td>\n",
       "      <td>0.098367</td>\n",
       "      <td>0.136138</td>\n",
       "      <td>0.039150</td>\n",
       "      <td>0.055265</td>\n",
       "    </tr>\n",
       "    <tr>\n",
       "      <th>ALEXANDRA NORTH</th>\n",
       "      <td>0.009226</td>\n",
       "      <td>0.015243</td>\n",
       "      <td>0.009854</td>\n",
       "      <td>0.004846</td>\n",
       "      <td>0.001865</td>\n",
       "      <td>0.006561</td>\n",
       "      <td>0.009277</td>\n",
       "      <td>0.006795</td>\n",
       "      <td>0.003378</td>\n",
       "      <td>0.002542</td>\n",
       "    </tr>\n",
       "    <tr>\n",
       "      <th>ALJUNIED</th>\n",
       "      <td>0.562586</td>\n",
       "      <td>0.544546</td>\n",
       "      <td>0.475933</td>\n",
       "      <td>0.416580</td>\n",
       "      <td>0.477250</td>\n",
       "      <td>0.663674</td>\n",
       "      <td>0.638384</td>\n",
       "      <td>0.547525</td>\n",
       "      <td>0.562194</td>\n",
       "      <td>0.680763</td>\n",
       "    </tr>\n",
       "  </tbody>\n",
       "</table>\n",
       "</div>"
      ],
      "text/plain": [
       "                 in_degree_weekday  out_degree_weekday  PageRank_weekday  \\\n",
       "node                                                                       \n",
       "ADMIRALTY                 0.048551            0.036933          0.060612   \n",
       "AIRPORT ROAD              0.006487            0.006623          0.005869   \n",
       "ALEXANDRA HILL            0.130663            0.107470          0.135408   \n",
       "ALEXANDRA NORTH           0.009226            0.015243          0.009854   \n",
       "ALJUNIED                  0.562586            0.544546          0.475933   \n",
       "\n",
       "                 HITS_hub_weekday  HITS_authority_weekday  in_degree_weekend  \\\n",
       "node                                                                           \n",
       "ADMIRALTY                0.028214                0.028508           0.061199   \n",
       "AIRPORT ROAD             0.005507                0.005368           0.000287   \n",
       "ALEXANDRA HILL           0.032508                0.047346           0.132178   \n",
       "ALEXANDRA NORTH          0.004846                0.001865           0.006561   \n",
       "ALJUNIED                 0.416580                0.477250           0.663674   \n",
       "\n",
       "                 out_degree_weekend  PageRank_weekend  HITS_hub_weekend  \\\n",
       "node                                                                      \n",
       "ADMIRALTY                  0.045808          0.067892          0.038888   \n",
       "AIRPORT ROAD               0.001161          0.000182          0.000832   \n",
       "ALEXANDRA HILL             0.098367          0.136138          0.039150   \n",
       "ALEXANDRA NORTH            0.009277          0.006795          0.003378   \n",
       "ALJUNIED                   0.638384          0.547525          0.562194   \n",
       "\n",
       "                 HITS_authority_weekend  \n",
       "node                                     \n",
       "ADMIRALTY                      0.038550  \n",
       "AIRPORT ROAD                   0.000619  \n",
       "ALEXANDRA HILL                 0.055265  \n",
       "ALEXANDRA NORTH                0.002542  \n",
       "ALJUNIED                       0.680763  "
      ]
     },
     "execution_count": 36,
     "metadata": {},
     "output_type": "execute_result"
    }
   ],
   "source": [
    "df_stat2 = df_stat.copy()\n",
    "for col in df_stat.columns:\n",
    "    scale = df_stat[col].max() - df_stat[col].min()\n",
    "    df_stat2[col] = (df_stat[col] - df_stat[col].min()) / scale\n",
    "df_stat2.head()"
   ]
  },
  {
   "cell_type": "code",
   "execution_count": 37,
   "metadata": {},
   "outputs": [
    {
     "data": {
      "text/html": [
       "<div>\n",
       "<style scoped>\n",
       "    .dataframe tbody tr th:only-of-type {\n",
       "        vertical-align: middle;\n",
       "    }\n",
       "\n",
       "    .dataframe tbody tr th {\n",
       "        vertical-align: top;\n",
       "    }\n",
       "\n",
       "    .dataframe thead th {\n",
       "        text-align: right;\n",
       "    }\n",
       "</style>\n",
       "<table border=\"1\" class=\"dataframe\">\n",
       "  <thead>\n",
       "    <tr style=\"text-align: right;\">\n",
       "      <th></th>\n",
       "      <th>in_degree_weekday</th>\n",
       "      <th>out_degree_weekday</th>\n",
       "      <th>PageRank_weekday</th>\n",
       "      <th>HITS_hub_weekday</th>\n",
       "      <th>HITS_authority_weekday</th>\n",
       "      <th>in_degree_weekend</th>\n",
       "      <th>out_degree_weekend</th>\n",
       "      <th>PageRank_weekend</th>\n",
       "      <th>HITS_hub_weekend</th>\n",
       "      <th>HITS_authority_weekend</th>\n",
       "    </tr>\n",
       "  </thead>\n",
       "  <tbody>\n",
       "    <tr>\n",
       "      <th>count</th>\n",
       "      <td>303.000000</td>\n",
       "      <td>303.000000</td>\n",
       "      <td>303.000000</td>\n",
       "      <td>303.000000</td>\n",
       "      <td>303.000000</td>\n",
       "      <td>303.000000</td>\n",
       "      <td>303.000000</td>\n",
       "      <td>303.000000</td>\n",
       "      <td>303.000000</td>\n",
       "      <td>303.000000</td>\n",
       "    </tr>\n",
       "    <tr>\n",
       "      <th>mean</th>\n",
       "      <td>0.137211</td>\n",
       "      <td>0.136470</td>\n",
       "      <td>0.122322</td>\n",
       "      <td>0.103868</td>\n",
       "      <td>0.112830</td>\n",
       "      <td>0.138818</td>\n",
       "      <td>0.138373</td>\n",
       "      <td>0.122477</td>\n",
       "      <td>0.117997</td>\n",
       "      <td>0.127432</td>\n",
       "    </tr>\n",
       "    <tr>\n",
       "      <th>std</th>\n",
       "      <td>0.168984</td>\n",
       "      <td>0.167720</td>\n",
       "      <td>0.148020</td>\n",
       "      <td>0.141852</td>\n",
       "      <td>0.153318</td>\n",
       "      <td>0.182656</td>\n",
       "      <td>0.180648</td>\n",
       "      <td>0.157729</td>\n",
       "      <td>0.167221</td>\n",
       "      <td>0.180784</td>\n",
       "    </tr>\n",
       "    <tr>\n",
       "      <th>min</th>\n",
       "      <td>0.000000</td>\n",
       "      <td>0.000000</td>\n",
       "      <td>0.000000</td>\n",
       "      <td>0.000000</td>\n",
       "      <td>0.000000</td>\n",
       "      <td>0.000000</td>\n",
       "      <td>0.000000</td>\n",
       "      <td>0.000000</td>\n",
       "      <td>0.000000</td>\n",
       "      <td>0.000000</td>\n",
       "    </tr>\n",
       "    <tr>\n",
       "      <th>25%</th>\n",
       "      <td>0.025409</td>\n",
       "      <td>0.025113</td>\n",
       "      <td>0.025921</td>\n",
       "      <td>0.014728</td>\n",
       "      <td>0.015683</td>\n",
       "      <td>0.022648</td>\n",
       "      <td>0.022248</td>\n",
       "      <td>0.024160</td>\n",
       "      <td>0.015326</td>\n",
       "      <td>0.015871</td>\n",
       "    </tr>\n",
       "    <tr>\n",
       "      <th>50%</th>\n",
       "      <td>0.071017</td>\n",
       "      <td>0.073469</td>\n",
       "      <td>0.065848</td>\n",
       "      <td>0.039795</td>\n",
       "      <td>0.045809</td>\n",
       "      <td>0.069827</td>\n",
       "      <td>0.071048</td>\n",
       "      <td>0.067892</td>\n",
       "      <td>0.045491</td>\n",
       "      <td>0.049194</td>\n",
       "    </tr>\n",
       "    <tr>\n",
       "      <th>75%</th>\n",
       "      <td>0.181439</td>\n",
       "      <td>0.189931</td>\n",
       "      <td>0.158562</td>\n",
       "      <td>0.140368</td>\n",
       "      <td>0.150487</td>\n",
       "      <td>0.172038</td>\n",
       "      <td>0.177455</td>\n",
       "      <td>0.147898</td>\n",
       "      <td>0.137997</td>\n",
       "      <td>0.152847</td>\n",
       "    </tr>\n",
       "    <tr>\n",
       "      <th>max</th>\n",
       "      <td>1.000000</td>\n",
       "      <td>1.000000</td>\n",
       "      <td>1.000000</td>\n",
       "      <td>1.000000</td>\n",
       "      <td>1.000000</td>\n",
       "      <td>1.000000</td>\n",
       "      <td>1.000000</td>\n",
       "      <td>1.000000</td>\n",
       "      <td>1.000000</td>\n",
       "      <td>1.000000</td>\n",
       "    </tr>\n",
       "  </tbody>\n",
       "</table>\n",
       "</div>"
      ],
      "text/plain": [
       "       in_degree_weekday  out_degree_weekday  PageRank_weekday  \\\n",
       "count         303.000000          303.000000        303.000000   \n",
       "mean            0.137211            0.136470          0.122322   \n",
       "std             0.168984            0.167720          0.148020   \n",
       "min             0.000000            0.000000          0.000000   \n",
       "25%             0.025409            0.025113          0.025921   \n",
       "50%             0.071017            0.073469          0.065848   \n",
       "75%             0.181439            0.189931          0.158562   \n",
       "max             1.000000            1.000000          1.000000   \n",
       "\n",
       "       HITS_hub_weekday  HITS_authority_weekday  in_degree_weekend  \\\n",
       "count        303.000000              303.000000         303.000000   \n",
       "mean           0.103868                0.112830           0.138818   \n",
       "std            0.141852                0.153318           0.182656   \n",
       "min            0.000000                0.000000           0.000000   \n",
       "25%            0.014728                0.015683           0.022648   \n",
       "50%            0.039795                0.045809           0.069827   \n",
       "75%            0.140368                0.150487           0.172038   \n",
       "max            1.000000                1.000000           1.000000   \n",
       "\n",
       "       out_degree_weekend  PageRank_weekend  HITS_hub_weekend  \\\n",
       "count          303.000000        303.000000        303.000000   \n",
       "mean             0.138373          0.122477          0.117997   \n",
       "std              0.180648          0.157729          0.167221   \n",
       "min              0.000000          0.000000          0.000000   \n",
       "25%              0.022248          0.024160          0.015326   \n",
       "50%              0.071048          0.067892          0.045491   \n",
       "75%              0.177455          0.147898          0.137997   \n",
       "max              1.000000          1.000000          1.000000   \n",
       "\n",
       "       HITS_authority_weekend  \n",
       "count              303.000000  \n",
       "mean                 0.127432  \n",
       "std                  0.180784  \n",
       "min                  0.000000  \n",
       "25%                  0.015871  \n",
       "50%                  0.049194  \n",
       "75%                  0.152847  \n",
       "max                  1.000000  "
      ]
     },
     "execution_count": 37,
     "metadata": {},
     "output_type": "execute_result"
    }
   ],
   "source": [
    "df_stat2.describe()"
   ]
  },
  {
   "cell_type": "code",
   "execution_count": 38,
   "metadata": {},
   "outputs": [],
   "source": [
    "df_stat2.to_csv(\"results/node_density_stat_normalized.csv\", index_label=\"node\")"
   ]
  },
  {
   "cell_type": "code",
   "execution_count": null,
   "metadata": {},
   "outputs": [],
   "source": []
  }
 ],
 "metadata": {
  "kernelspec": {
   "display_name": "Python 3",
   "language": "python",
   "name": "python3"
  },
  "language_info": {
   "codemirror_mode": {
    "name": "ipython",
    "version": 3
   },
   "file_extension": ".py",
   "mimetype": "text/x-python",
   "name": "python",
   "nbconvert_exporter": "python",
   "pygments_lexer": "ipython3",
   "version": "3.6.8"
  }
 },
 "nbformat": 4,
 "nbformat_minor": 4
}
