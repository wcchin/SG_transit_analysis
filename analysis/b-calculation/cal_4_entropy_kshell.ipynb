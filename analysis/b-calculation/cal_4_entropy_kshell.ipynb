{
 "cells": [
  {
   "cell_type": "code",
   "execution_count": 1,
   "metadata": {},
   "outputs": [],
   "source": [
    "import os\n",
    "from collections import defaultdict\n",
    "import pandas as pd\n",
    "import numpy as np\n",
    "import networkx as nx\n",
    "import matplotlib.pyplot as plt\n",
    "import seaborn as sns\n",
    "from tqdm import tqdm"
   ]
  },
  {
   "cell_type": "code",
   "execution_count": 2,
   "metadata": {},
   "outputs": [],
   "source": [
    "import warnings\n",
    "warnings.filterwarnings('ignore')"
   ]
  },
  {
   "cell_type": "code",
   "execution_count": null,
   "metadata": {},
   "outputs": [],
   "source": []
  },
  {
   "cell_type": "code",
   "execution_count": 3,
   "metadata": {},
   "outputs": [
    {
     "data": {
      "text/html": [
       "<div>\n",
       "<style scoped>\n",
       "    .dataframe tbody tr th:only-of-type {\n",
       "        vertical-align: middle;\n",
       "    }\n",
       "\n",
       "    .dataframe tbody tr th {\n",
       "        vertical-align: top;\n",
       "    }\n",
       "\n",
       "    .dataframe thead th {\n",
       "        text-align: right;\n",
       "    }\n",
       "</style>\n",
       "<table border=\"1\" class=\"dataframe\">\n",
       "  <thead>\n",
       "    <tr style=\"text-align: right;\">\n",
       "      <th></th>\n",
       "      <th>node</th>\n",
       "      <th>weekday_in_core</th>\n",
       "      <th>weekday_out_core</th>\n",
       "      <th>weekend_in_core</th>\n",
       "      <th>weekend_out_core</th>\n",
       "      <th>weekday_in_core_lvl</th>\n",
       "      <th>weekday_out_core_lvl</th>\n",
       "      <th>weekend_in_core_lvl</th>\n",
       "      <th>weekend_out_core_lvl</th>\n",
       "    </tr>\n",
       "    <tr>\n",
       "      <th>ind</th>\n",
       "      <th></th>\n",
       "      <th></th>\n",
       "      <th></th>\n",
       "      <th></th>\n",
       "      <th></th>\n",
       "      <th></th>\n",
       "      <th></th>\n",
       "      <th></th>\n",
       "      <th></th>\n",
       "    </tr>\n",
       "  </thead>\n",
       "  <tbody>\n",
       "    <tr>\n",
       "      <th>0</th>\n",
       "      <td>ADMIRALTY</td>\n",
       "      <td>2797</td>\n",
       "      <td>2668</td>\n",
       "      <td>2747</td>\n",
       "      <td>2593</td>\n",
       "      <td>0</td>\n",
       "      <td>0</td>\n",
       "      <td>0</td>\n",
       "      <td>0</td>\n",
       "    </tr>\n",
       "    <tr>\n",
       "      <th>1</th>\n",
       "      <td>AIRPORT ROAD</td>\n",
       "      <td>681</td>\n",
       "      <td>654</td>\n",
       "      <td>258</td>\n",
       "      <td>250</td>\n",
       "      <td>0</td>\n",
       "      <td>0</td>\n",
       "      <td>0</td>\n",
       "      <td>0</td>\n",
       "    </tr>\n",
       "    <tr>\n",
       "      <th>2</th>\n",
       "      <td>ALEXANDRA HILL</td>\n",
       "      <td>5641</td>\n",
       "      <td>5374</td>\n",
       "      <td>5250</td>\n",
       "      <td>5005</td>\n",
       "      <td>1</td>\n",
       "      <td>1</td>\n",
       "      <td>1</td>\n",
       "      <td>1</td>\n",
       "    </tr>\n",
       "    <tr>\n",
       "      <th>3</th>\n",
       "      <td>ALEXANDRA NORTH</td>\n",
       "      <td>1808</td>\n",
       "      <td>2017</td>\n",
       "      <td>1419</td>\n",
       "      <td>1476</td>\n",
       "      <td>0</td>\n",
       "      <td>0</td>\n",
       "      <td>0</td>\n",
       "      <td>0</td>\n",
       "    </tr>\n",
       "    <tr>\n",
       "      <th>4</th>\n",
       "      <td>ALJUNIED</td>\n",
       "      <td>7385</td>\n",
       "      <td>7318</td>\n",
       "      <td>6252</td>\n",
       "      <td>6239</td>\n",
       "      <td>1</td>\n",
       "      <td>1</td>\n",
       "      <td>1</td>\n",
       "      <td>1</td>\n",
       "    </tr>\n",
       "  </tbody>\n",
       "</table>\n",
       "</div>"
      ],
      "text/plain": [
       "                node  weekday_in_core  weekday_out_core  weekend_in_core  \\\n",
       "ind                                                                        \n",
       "0          ADMIRALTY             2797              2668             2747   \n",
       "1       AIRPORT ROAD              681               654              258   \n",
       "2     ALEXANDRA HILL             5641              5374             5250   \n",
       "3    ALEXANDRA NORTH             1808              2017             1419   \n",
       "4           ALJUNIED             7385              7318             6252   \n",
       "\n",
       "     weekend_out_core  weekday_in_core_lvl  weekday_out_core_lvl  \\\n",
       "ind                                                                \n",
       "0                2593                    0                     0   \n",
       "1                 250                    0                     0   \n",
       "2                5005                    1                     1   \n",
       "3                1476                    0                     0   \n",
       "4                6239                    1                     1   \n",
       "\n",
       "     weekend_in_core_lvl  weekend_out_core_lvl  \n",
       "ind                                             \n",
       "0                      0                     0  \n",
       "1                      0                     0  \n",
       "2                      1                     1  \n",
       "3                      0                     0  \n",
       "4                      1                     1  "
      ]
     },
     "execution_count": 3,
     "metadata": {},
     "output_type": "execute_result"
    }
   ],
   "source": [
    "df_ks = pd.read_csv(\"results/k_shell_decomposition_result_wlvl.csv\", index_col=0)\n",
    "#df_ks = df_ks.reset_index()\n",
    "df_ks.head()"
   ]
  },
  {
   "cell_type": "code",
   "execution_count": null,
   "metadata": {},
   "outputs": [],
   "source": []
  },
  {
   "cell_type": "code",
   "execution_count": 4,
   "metadata": {},
   "outputs": [],
   "source": [
    "def conn_entropy(dg, df, col, direction=\"out\", edge_weight=\"weight\"):\n",
    "    node_dic = {}\n",
    "    for n, v in zip(df[\"node\"].tolist(), df[col].tolist()):\n",
    "        node_dic[n] = v\n",
    "    entropy_dic = {}\n",
    "    for n in dg.nodes():\n",
    "        nb = None\n",
    "        if direction==\"out\":\n",
    "            nb = dg.out_edges(nbunch=n,data=True)\n",
    "            nb = [ (v,d[edge_weight]) for u,v,d in nb ]\n",
    "        else:\n",
    "            nb = dg.in_edges(nbunch=n, data=True)\n",
    "            nb = [ (u,d[edge_weight]) for u,v,d in nb ]\n",
    "        if len(nb)<=1:\n",
    "            entropy_dic[n] = -1\n",
    "            continue\n",
    "        tot_weight = sum([ w for c,w in nb ])\n",
    "        partial = [ float(w)/tot_weight for c,w in nb ]\n",
    "        cats = [ node_dic[c] for c,w in nb ]\n",
    "        cat_set = list(set(cats))\n",
    "        if len(cat_set)<=1:\n",
    "            entropy_dic[n] = 0.\n",
    "            continue\n",
    "        proportions = { cat:0. for cat in cat_set }\n",
    "        for cat,prop in zip(cats, partial):\n",
    "            proportions[cat]+=prop\n",
    "        #ent = -sum([ p*np.log(p) for p in proportions.values() ])/np.log(len(cat_set))\n",
    "        ent = -sum([ p*np.log(p) for p in proportions.values() ])/np.log(2)\n",
    "        #print(ent)\n",
    "        entropy_dic[n] = ent\n",
    "        #break\n",
    "    return entropy_dic"
   ]
  },
  {
   "cell_type": "code",
   "execution_count": null,
   "metadata": {},
   "outputs": [],
   "source": []
  },
  {
   "cell_type": "code",
   "execution_count": null,
   "metadata": {},
   "outputs": [],
   "source": []
  },
  {
   "cell_type": "code",
   "execution_count": 5,
   "metadata": {},
   "outputs": [],
   "source": [
    "data_dir = \"../../data\""
   ]
  },
  {
   "cell_type": "code",
   "execution_count": 6,
   "metadata": {},
   "outputs": [
    {
     "data": {
      "text/plain": [
       "(303, 30043)"
      ]
     },
     "execution_count": 6,
     "metadata": {},
     "output_type": "execute_result"
    }
   ],
   "source": [
    "day = \"weekday\" # \"weekend\"\n",
    "fp = os.path.join(data_dir, \"net_202001_{}b.net\".format(day))\n",
    "dg1 = nx.read_pajek(fp)\n",
    "dg1 = nx.DiGraph(dg1)\n",
    "dg1.number_of_nodes(), dg1.number_of_edges()"
   ]
  },
  {
   "cell_type": "code",
   "execution_count": 7,
   "metadata": {},
   "outputs": [
    {
     "data": {
      "text/plain": [
       "(303, 30043)"
      ]
     },
     "execution_count": 7,
     "metadata": {},
     "output_type": "execute_result"
    }
   ],
   "source": [
    "day = \"weekend\"\n",
    "fp2 = os.path.join(data_dir, \"net_202001_{}b.net\".format(day))\n",
    "dg2 = nx.read_pajek(fp2)\n",
    "dg2 = nx.DiGraph(dg2)\n",
    "dg2.number_of_nodes(), dg2.number_of_edges()"
   ]
  },
  {
   "cell_type": "code",
   "execution_count": null,
   "metadata": {},
   "outputs": [],
   "source": []
  },
  {
   "cell_type": "code",
   "execution_count": null,
   "metadata": {},
   "outputs": [],
   "source": []
  },
  {
   "cell_type": "code",
   "execution_count": 8,
   "metadata": {},
   "outputs": [],
   "source": [
    "ks_entropy_1_in = conn_entropy(dg1, df_ks, \"weekday_in_core_lvl\", direction=\"in\", edge_weight=\"weight\")\n",
    "ks_entropy_1_out = conn_entropy(dg1, df_ks, \"weekday_out_core_lvl\", direction=\"out\", edge_weight=\"weight\")\n",
    "ks_entropy_2_in = conn_entropy(dg2, df_ks, \"weekend_in_core_lvl\", direction=\"in\", edge_weight=\"weight\")\n",
    "ks_entropy_2_out = conn_entropy(dg2, df_ks, \"weekend_out_core_lvl\", direction=\"out\", edge_weight=\"weight\")"
   ]
  },
  {
   "cell_type": "code",
   "execution_count": 9,
   "metadata": {},
   "outputs": [
    {
     "data": {
      "text/html": [
       "<div>\n",
       "<style scoped>\n",
       "    .dataframe tbody tr th:only-of-type {\n",
       "        vertical-align: middle;\n",
       "    }\n",
       "\n",
       "    .dataframe tbody tr th {\n",
       "        vertical-align: top;\n",
       "    }\n",
       "\n",
       "    .dataframe thead th {\n",
       "        text-align: right;\n",
       "    }\n",
       "</style>\n",
       "<table border=\"1\" class=\"dataframe\">\n",
       "  <thead>\n",
       "    <tr style=\"text-align: right;\">\n",
       "      <th></th>\n",
       "      <th>weekday_ksc_ent_in</th>\n",
       "      <th>weekday_ksc_ent_out</th>\n",
       "      <th>weekend_ksc_ent_in</th>\n",
       "      <th>weekend_ksc_ent_out</th>\n",
       "    </tr>\n",
       "  </thead>\n",
       "  <tbody>\n",
       "    <tr>\n",
       "      <th>ADMIRALTY</th>\n",
       "      <td>0.990890</td>\n",
       "      <td>0.771334</td>\n",
       "      <td>0.999949</td>\n",
       "      <td>0.783552</td>\n",
       "    </tr>\n",
       "    <tr>\n",
       "      <th>AIRPORT ROAD</th>\n",
       "      <td>0.665975</td>\n",
       "      <td>0.100550</td>\n",
       "      <td>0.683295</td>\n",
       "      <td>0.324450</td>\n",
       "    </tr>\n",
       "    <tr>\n",
       "      <th>ALEXANDRA HILL</th>\n",
       "      <td>0.751160</td>\n",
       "      <td>0.617682</td>\n",
       "      <td>0.778628</td>\n",
       "      <td>0.785826</td>\n",
       "    </tr>\n",
       "    <tr>\n",
       "      <th>ALEXANDRA NORTH</th>\n",
       "      <td>0.962353</td>\n",
       "      <td>0.896500</td>\n",
       "      <td>0.996685</td>\n",
       "      <td>0.961128</td>\n",
       "    </tr>\n",
       "    <tr>\n",
       "      <th>ALJUNIED</th>\n",
       "      <td>0.320833</td>\n",
       "      <td>0.406824</td>\n",
       "      <td>0.261917</td>\n",
       "      <td>0.468840</td>\n",
       "    </tr>\n",
       "  </tbody>\n",
       "</table>\n",
       "</div>"
      ],
      "text/plain": [
       "                 weekday_ksc_ent_in  weekday_ksc_ent_out  weekend_ksc_ent_in  \\\n",
       "ADMIRALTY                  0.990890             0.771334            0.999949   \n",
       "AIRPORT ROAD               0.665975             0.100550            0.683295   \n",
       "ALEXANDRA HILL             0.751160             0.617682            0.778628   \n",
       "ALEXANDRA NORTH            0.962353             0.896500            0.996685   \n",
       "ALJUNIED                   0.320833             0.406824            0.261917   \n",
       "\n",
       "                 weekend_ksc_ent_out  \n",
       "ADMIRALTY                   0.783552  \n",
       "AIRPORT ROAD                0.324450  \n",
       "ALEXANDRA HILL              0.785826  \n",
       "ALEXANDRA NORTH             0.961128  \n",
       "ALJUNIED                    0.468840  "
      ]
     },
     "execution_count": 9,
     "metadata": {},
     "output_type": "execute_result"
    }
   ],
   "source": [
    "df_entropy = pd.DataFrame.from_dict({\"weekday_ksc_ent_in\": ks_entropy_1_in, \n",
    "                                     \"weekday_ksc_ent_out\":ks_entropy_1_out, \n",
    "                                     \"weekend_ksc_ent_in\": ks_entropy_2_in, \n",
    "                                     \"weekend_ksc_ent_out\":ks_entropy_2_out, \n",
    "                                     })\n",
    "df_entropy.head()"
   ]
  },
  {
   "cell_type": "code",
   "execution_count": 10,
   "metadata": {},
   "outputs": [
    {
     "data": {
      "text/plain": [
       "weekday_ksc_ent_in     0.000000\n",
       "weekday_ksc_ent_out    0.000000\n",
       "weekend_ksc_ent_in     0.000000\n",
       "weekend_ksc_ent_out    0.006011\n",
       "dtype: float64"
      ]
     },
     "execution_count": 10,
     "metadata": {},
     "output_type": "execute_result"
    }
   ],
   "source": [
    "df_entropy.min()"
   ]
  },
  {
   "cell_type": "code",
   "execution_count": 11,
   "metadata": {},
   "outputs": [
    {
     "data": {
      "text/plain": [
       "weekday_ksc_ent_in     0.999996\n",
       "weekday_ksc_ent_out    0.999988\n",
       "weekend_ksc_ent_in     0.999994\n",
       "weekend_ksc_ent_out    0.999996\n",
       "dtype: float64"
      ]
     },
     "execution_count": 11,
     "metadata": {},
     "output_type": "execute_result"
    }
   ],
   "source": [
    "df_entropy.max()"
   ]
  },
  {
   "cell_type": "code",
   "execution_count": 12,
   "metadata": {},
   "outputs": [
    {
     "data": {
      "text/html": [
       "<div>\n",
       "<style scoped>\n",
       "    .dataframe tbody tr th:only-of-type {\n",
       "        vertical-align: middle;\n",
       "    }\n",
       "\n",
       "    .dataframe tbody tr th {\n",
       "        vertical-align: top;\n",
       "    }\n",
       "\n",
       "    .dataframe thead th {\n",
       "        text-align: right;\n",
       "    }\n",
       "</style>\n",
       "<table border=\"1\" class=\"dataframe\">\n",
       "  <thead>\n",
       "    <tr style=\"text-align: right;\">\n",
       "      <th></th>\n",
       "      <th>node</th>\n",
       "      <th>weekday_in_core</th>\n",
       "      <th>weekday_out_core</th>\n",
       "      <th>weekend_in_core</th>\n",
       "      <th>weekend_out_core</th>\n",
       "      <th>weekday_in_core_lvl</th>\n",
       "      <th>weekday_out_core_lvl</th>\n",
       "      <th>weekend_in_core_lvl</th>\n",
       "      <th>weekend_out_core_lvl</th>\n",
       "      <th>weekday_ksc_ent_in</th>\n",
       "      <th>weekday_ksc_ent_out</th>\n",
       "      <th>weekend_ksc_ent_in</th>\n",
       "      <th>weekend_ksc_ent_out</th>\n",
       "    </tr>\n",
       "    <tr>\n",
       "      <th>ind</th>\n",
       "      <th></th>\n",
       "      <th></th>\n",
       "      <th></th>\n",
       "      <th></th>\n",
       "      <th></th>\n",
       "      <th></th>\n",
       "      <th></th>\n",
       "      <th></th>\n",
       "      <th></th>\n",
       "      <th></th>\n",
       "      <th></th>\n",
       "      <th></th>\n",
       "      <th></th>\n",
       "    </tr>\n",
       "  </thead>\n",
       "  <tbody>\n",
       "    <tr>\n",
       "      <th>0</th>\n",
       "      <td>ADMIRALTY</td>\n",
       "      <td>2797</td>\n",
       "      <td>2668</td>\n",
       "      <td>2747</td>\n",
       "      <td>2593</td>\n",
       "      <td>0</td>\n",
       "      <td>0</td>\n",
       "      <td>0</td>\n",
       "      <td>0</td>\n",
       "      <td>0.990890</td>\n",
       "      <td>0.771334</td>\n",
       "      <td>0.999949</td>\n",
       "      <td>0.783552</td>\n",
       "    </tr>\n",
       "    <tr>\n",
       "      <th>1</th>\n",
       "      <td>AIRPORT ROAD</td>\n",
       "      <td>681</td>\n",
       "      <td>654</td>\n",
       "      <td>258</td>\n",
       "      <td>250</td>\n",
       "      <td>0</td>\n",
       "      <td>0</td>\n",
       "      <td>0</td>\n",
       "      <td>0</td>\n",
       "      <td>0.665975</td>\n",
       "      <td>0.100550</td>\n",
       "      <td>0.683295</td>\n",
       "      <td>0.324450</td>\n",
       "    </tr>\n",
       "    <tr>\n",
       "      <th>2</th>\n",
       "      <td>ALEXANDRA HILL</td>\n",
       "      <td>5641</td>\n",
       "      <td>5374</td>\n",
       "      <td>5250</td>\n",
       "      <td>5005</td>\n",
       "      <td>1</td>\n",
       "      <td>1</td>\n",
       "      <td>1</td>\n",
       "      <td>1</td>\n",
       "      <td>0.751160</td>\n",
       "      <td>0.617682</td>\n",
       "      <td>0.778628</td>\n",
       "      <td>0.785826</td>\n",
       "    </tr>\n",
       "    <tr>\n",
       "      <th>3</th>\n",
       "      <td>ALEXANDRA NORTH</td>\n",
       "      <td>1808</td>\n",
       "      <td>2017</td>\n",
       "      <td>1419</td>\n",
       "      <td>1476</td>\n",
       "      <td>0</td>\n",
       "      <td>0</td>\n",
       "      <td>0</td>\n",
       "      <td>0</td>\n",
       "      <td>0.962353</td>\n",
       "      <td>0.896500</td>\n",
       "      <td>0.996685</td>\n",
       "      <td>0.961128</td>\n",
       "    </tr>\n",
       "    <tr>\n",
       "      <th>4</th>\n",
       "      <td>ALJUNIED</td>\n",
       "      <td>7385</td>\n",
       "      <td>7318</td>\n",
       "      <td>6252</td>\n",
       "      <td>6239</td>\n",
       "      <td>1</td>\n",
       "      <td>1</td>\n",
       "      <td>1</td>\n",
       "      <td>1</td>\n",
       "      <td>0.320833</td>\n",
       "      <td>0.406824</td>\n",
       "      <td>0.261917</td>\n",
       "      <td>0.468840</td>\n",
       "    </tr>\n",
       "  </tbody>\n",
       "</table>\n",
       "</div>"
      ],
      "text/plain": [
       "                node  weekday_in_core  weekday_out_core  weekend_in_core  \\\n",
       "ind                                                                        \n",
       "0          ADMIRALTY             2797              2668             2747   \n",
       "1       AIRPORT ROAD              681               654              258   \n",
       "2     ALEXANDRA HILL             5641              5374             5250   \n",
       "3    ALEXANDRA NORTH             1808              2017             1419   \n",
       "4           ALJUNIED             7385              7318             6252   \n",
       "\n",
       "     weekend_out_core  weekday_in_core_lvl  weekday_out_core_lvl  \\\n",
       "ind                                                                \n",
       "0                2593                    0                     0   \n",
       "1                 250                    0                     0   \n",
       "2                5005                    1                     1   \n",
       "3                1476                    0                     0   \n",
       "4                6239                    1                     1   \n",
       "\n",
       "     weekend_in_core_lvl  weekend_out_core_lvl  weekday_ksc_ent_in  \\\n",
       "ind                                                                  \n",
       "0                      0                     0            0.990890   \n",
       "1                      0                     0            0.665975   \n",
       "2                      1                     1            0.751160   \n",
       "3                      0                     0            0.962353   \n",
       "4                      1                     1            0.320833   \n",
       "\n",
       "     weekday_ksc_ent_out  weekend_ksc_ent_in  weekend_ksc_ent_out  \n",
       "ind                                                                \n",
       "0               0.771334            0.999949             0.783552  \n",
       "1               0.100550            0.683295             0.324450  \n",
       "2               0.617682            0.778628             0.785826  \n",
       "3               0.896500            0.996685             0.961128  \n",
       "4               0.406824            0.261917             0.468840  "
      ]
     },
     "execution_count": 12,
     "metadata": {},
     "output_type": "execute_result"
    }
   ],
   "source": [
    "ks_res = pd.merge(df_ks, df_entropy, left_on=\"node\", right_index=True, suffixes=[\"_com\", \"entropy\"])\n",
    "ks_res.head()"
   ]
  },
  {
   "cell_type": "code",
   "execution_count": 13,
   "metadata": {},
   "outputs": [],
   "source": [
    "ks_res.to_csv(\"results/k_shell_decomposition_result_entropy.csv\", index_label=\"ind\")"
   ]
  },
  {
   "cell_type": "code",
   "execution_count": null,
   "metadata": {},
   "outputs": [],
   "source": []
  },
  {
   "cell_type": "code",
   "execution_count": null,
   "metadata": {},
   "outputs": [],
   "source": []
  }
 ],
 "metadata": {
  "kernelspec": {
   "display_name": "Python 3",
   "language": "python",
   "name": "python3"
  },
  "language_info": {
   "codemirror_mode": {
    "name": "ipython",
    "version": 3
   },
   "file_extension": ".py",
   "mimetype": "text/x-python",
   "name": "python",
   "nbconvert_exporter": "python",
   "pygments_lexer": "ipython3",
   "version": "3.6.8"
  }
 },
 "nbformat": 4,
 "nbformat_minor": 4
}
