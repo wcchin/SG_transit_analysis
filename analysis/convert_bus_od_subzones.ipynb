{
 "cells": [
  {
   "cell_type": "code",
   "execution_count": 1,
   "metadata": {},
   "outputs": [],
   "source": [
    "import os\n",
    "from collections import defaultdict\n",
    "import pandas as pd\n",
    "import geopandas as gpd\n",
    "import matplotlib.pyplot as plt\n",
    "import seaborn as sns"
   ]
  },
  {
   "cell_type": "code",
   "execution_count": 2,
   "metadata": {},
   "outputs": [
    {
     "data": {
      "text/plain": [
       "['origin_destination_bus_201912.csv',\n",
       " 'bus_stops_wszone.dbf',\n",
       " 'bus_stops_wszone.shp',\n",
       " 'transport_node_bus_201912.csv.xz',\n",
       " 'OD_bus',\n",
       " 'origin_destination_train_201912.csv.xz',\n",
       " 'train_station_wszone.prj',\n",
       " 'origin_destination_train_201912-b.csv',\n",
       " 'origin_destination_train_202001.csv.xz',\n",
       " 'train_station_wszone.dbf',\n",
       " 'data_share.7zip',\n",
       " 'subzone_centroid.csv',\n",
       " 'origin_destination_bus_201911.csv.xz',\n",
       " 'busstop_from_api.csv',\n",
       " 'train_station_wszone.cpg',\n",
       " 'OD_PT',\n",
       " 'train_station_wszone.shx',\n",
       " 'bus_stops.dbf',\n",
       " 'bus_stops.prj',\n",
       " 'BusStop',\n",
       " 'data_share',\n",
       " 'origin_destination_train_201911.csv.xz',\n",
       " 'OD_201912_weekend.csv',\n",
       " 'planning-area-2014',\n",
       " 'subzone_centroid_pos.json',\n",
       " '.ipynb_checkpoints',\n",
       " 'origin_destination_bus_202001.csv.xz',\n",
       " 'origin_destination_bus_201912.csv.xz',\n",
       " 'bus_stops.csv',\n",
       " 'region-2014',\n",
       " 'train_station_wszone.shp',\n",
       " 'origin_destination_train_201912.csv',\n",
       " 'transport_node_bus_201911.csv.xz',\n",
       " 'transport_node_train_202001.csv.xz',\n",
       " 'OD_train',\n",
       " 'bus_stops_wszone.shx',\n",
       " 'bus_stops_wszone.prj',\n",
       " 'bus_stops.cpg',\n",
       " 'subzone-2014',\n",
       " 'transport_node_train_201912.csv.xz',\n",
       " 'transport_node_train_201911.csv.xz',\n",
       " 'TrainStation',\n",
       " 'bus_stops.shx',\n",
       " 'OD_201912_weekday.csv',\n",
       " 'bus_stops_wszone.cpg',\n",
       " 'bus_stops.shp',\n",
       " 'transport_node_bus_202001.csv.xz']"
      ]
     },
     "execution_count": 2,
     "metadata": {},
     "output_type": "execute_result"
    }
   ],
   "source": [
    "data_dir = \"../data\"\n",
    "os.listdir(data_dir)"
   ]
  },
  {
   "cell_type": "code",
   "execution_count": 3,
   "metadata": {},
   "outputs": [
    {
     "data": {
      "text/html": [
       "<div>\n",
       "<style scoped>\n",
       "    .dataframe tbody tr th:only-of-type {\n",
       "        vertical-align: middle;\n",
       "    }\n",
       "\n",
       "    .dataframe tbody tr th {\n",
       "        vertical-align: top;\n",
       "    }\n",
       "\n",
       "    .dataframe thead th {\n",
       "        text-align: right;\n",
       "    }\n",
       "</style>\n",
       "<table border=\"1\" class=\"dataframe\">\n",
       "  <thead>\n",
       "    <tr style=\"text-align: right;\">\n",
       "      <th></th>\n",
       "      <th>PTcode</th>\n",
       "      <th>desc</th>\n",
       "      <th>lat</th>\n",
       "      <th>lon</th>\n",
       "      <th>index_szon</th>\n",
       "      <th>OBJECTID</th>\n",
       "      <th>SUBZONE_NO</th>\n",
       "      <th>SUBZONE_N</th>\n",
       "      <th>SUBZONE_C</th>\n",
       "      <th>CA_IND</th>\n",
       "      <th>...</th>\n",
       "      <th>PLN_AREA_C</th>\n",
       "      <th>REGION_N</th>\n",
       "      <th>REGION_C</th>\n",
       "      <th>INC_CRC</th>\n",
       "      <th>FMEL_UPD_D</th>\n",
       "      <th>X_ADDR</th>\n",
       "      <th>Y_ADDR</th>\n",
       "      <th>SHAPE_Leng</th>\n",
       "      <th>SHAPE_Area</th>\n",
       "      <th>geometry</th>\n",
       "    </tr>\n",
       "  </thead>\n",
       "  <tbody>\n",
       "    <tr>\n",
       "      <th>0</th>\n",
       "      <td>65539</td>\n",
       "      <td>Blk 224A</td>\n",
       "      <td>1.402291</td>\n",
       "      <td>103.893700</td>\n",
       "      <td>265.0</td>\n",
       "      <td>266.0</td>\n",
       "      <td>3.0</td>\n",
       "      <td>MATILDA</td>\n",
       "      <td>PGSZ03</td>\n",
       "      <td>N</td>\n",
       "      <td>...</td>\n",
       "      <td>PG</td>\n",
       "      <td>NORTH-EAST REGION</td>\n",
       "      <td>NER</td>\n",
       "      <td>14D0DB33976B7B81</td>\n",
       "      <td>2014-12-05</td>\n",
       "      <td>35089.9853</td>\n",
       "      <td>42728.2745</td>\n",
       "      <td>5361.915964</td>\n",
       "      <td>1.418284e+06</td>\n",
       "      <td>POINT (34719.631 42683.817)</td>\n",
       "    </tr>\n",
       "    <tr>\n",
       "      <th>1</th>\n",
       "      <td>98309</td>\n",
       "      <td>Carissa Pk</td>\n",
       "      <td>1.359960</td>\n",
       "      <td>103.964737</td>\n",
       "      <td>231.0</td>\n",
       "      <td>232.0</td>\n",
       "      <td>8.0</td>\n",
       "      <td>FLORA DRIVE</td>\n",
       "      <td>PRSZ08</td>\n",
       "      <td>N</td>\n",
       "      <td>...</td>\n",
       "      <td>PR</td>\n",
       "      <td>EAST REGION</td>\n",
       "      <td>ER</td>\n",
       "      <td>FA9C76B49B6D0C95</td>\n",
       "      <td>2014-12-05</td>\n",
       "      <td>42801.7349</td>\n",
       "      <td>37930.5489</td>\n",
       "      <td>3956.615777</td>\n",
       "      <td>9.449984e+05</td>\n",
       "      <td>POINT (42625.345 38003.381)</td>\n",
       "    </tr>\n",
       "    <tr>\n",
       "      <th>2</th>\n",
       "      <td>65541</td>\n",
       "      <td>Before Sumang Lane</td>\n",
       "      <td>1.403562</td>\n",
       "      <td>103.891200</td>\n",
       "      <td>265.0</td>\n",
       "      <td>266.0</td>\n",
       "      <td>3.0</td>\n",
       "      <td>MATILDA</td>\n",
       "      <td>PGSZ03</td>\n",
       "      <td>N</td>\n",
       "      <td>...</td>\n",
       "      <td>PG</td>\n",
       "      <td>NORTH-EAST REGION</td>\n",
       "      <td>NER</td>\n",
       "      <td>14D0DB33976B7B81</td>\n",
       "      <td>2014-12-05</td>\n",
       "      <td>35089.9853</td>\n",
       "      <td>42728.2745</td>\n",
       "      <td>5361.915964</td>\n",
       "      <td>1.418284e+06</td>\n",
       "      <td>POINT (34441.411 42824.350)</td>\n",
       "    </tr>\n",
       "    <tr>\n",
       "      <th>3</th>\n",
       "      <td>49159</td>\n",
       "      <td>Econ Group</td>\n",
       "      <td>1.437072</td>\n",
       "      <td>103.745813</td>\n",
       "      <td>288.0</td>\n",
       "      <td>289.0</td>\n",
       "      <td>5.0</td>\n",
       "      <td>RESERVOIR VIEW</td>\n",
       "      <td>SKSZ05</td>\n",
       "      <td>N</td>\n",
       "      <td>...</td>\n",
       "      <td>SK</td>\n",
       "      <td>NORTH REGION</td>\n",
       "      <td>NR</td>\n",
       "      <td>40050ADDFBCC870F</td>\n",
       "      <td>2014-12-05</td>\n",
       "      <td>18367.1710</td>\n",
       "      <td>45940.4868</td>\n",
       "      <td>10399.424485</td>\n",
       "      <td>3.284130e+06</td>\n",
       "      <td>POINT (18261.920 46529.810)</td>\n",
       "    </tr>\n",
       "    <tr>\n",
       "      <th>4</th>\n",
       "      <td>98311</td>\n",
       "      <td>Bef Mariam Wk</td>\n",
       "      <td>1.359306</td>\n",
       "      <td>103.968491</td>\n",
       "      <td>231.0</td>\n",
       "      <td>232.0</td>\n",
       "      <td>8.0</td>\n",
       "      <td>FLORA DRIVE</td>\n",
       "      <td>PRSZ08</td>\n",
       "      <td>N</td>\n",
       "      <td>...</td>\n",
       "      <td>PR</td>\n",
       "      <td>EAST REGION</td>\n",
       "      <td>ER</td>\n",
       "      <td>FA9C76B49B6D0C95</td>\n",
       "      <td>2014-12-05</td>\n",
       "      <td>42801.7349</td>\n",
       "      <td>37930.5489</td>\n",
       "      <td>3956.615777</td>\n",
       "      <td>9.449984e+05</td>\n",
       "      <td>POINT (43043.145 37931.100)</td>\n",
       "    </tr>\n",
       "  </tbody>\n",
       "</table>\n",
       "<p>5 rows × 21 columns</p>\n",
       "</div>"
      ],
      "text/plain": [
       "  PTcode                desc       lat         lon  index_szon  OBJECTID  \\\n",
       "0  65539            Blk 224A  1.402291  103.893700       265.0     266.0   \n",
       "1  98309          Carissa Pk  1.359960  103.964737       231.0     232.0   \n",
       "2  65541  Before Sumang Lane  1.403562  103.891200       265.0     266.0   \n",
       "3  49159          Econ Group  1.437072  103.745813       288.0     289.0   \n",
       "4  98311       Bef Mariam Wk  1.359306  103.968491       231.0     232.0   \n",
       "\n",
       "   SUBZONE_NO       SUBZONE_N SUBZONE_C CA_IND  ... PLN_AREA_C  \\\n",
       "0         3.0         MATILDA    PGSZ03      N  ...         PG   \n",
       "1         8.0     FLORA DRIVE    PRSZ08      N  ...         PR   \n",
       "2         3.0         MATILDA    PGSZ03      N  ...         PG   \n",
       "3         5.0  RESERVOIR VIEW    SKSZ05      N  ...         SK   \n",
       "4         8.0     FLORA DRIVE    PRSZ08      N  ...         PR   \n",
       "\n",
       "            REGION_N REGION_C           INC_CRC  FMEL_UPD_D      X_ADDR  \\\n",
       "0  NORTH-EAST REGION      NER  14D0DB33976B7B81  2014-12-05  35089.9853   \n",
       "1        EAST REGION       ER  FA9C76B49B6D0C95  2014-12-05  42801.7349   \n",
       "2  NORTH-EAST REGION      NER  14D0DB33976B7B81  2014-12-05  35089.9853   \n",
       "3       NORTH REGION       NR  40050ADDFBCC870F  2014-12-05  18367.1710   \n",
       "4        EAST REGION       ER  FA9C76B49B6D0C95  2014-12-05  42801.7349   \n",
       "\n",
       "       Y_ADDR    SHAPE_Leng    SHAPE_Area                     geometry  \n",
       "0  42728.2745   5361.915964  1.418284e+06  POINT (34719.631 42683.817)  \n",
       "1  37930.5489   3956.615777  9.449984e+05  POINT (42625.345 38003.381)  \n",
       "2  42728.2745   5361.915964  1.418284e+06  POINT (34441.411 42824.350)  \n",
       "3  45940.4868  10399.424485  3.284130e+06  POINT (18261.920 46529.810)  \n",
       "4  37930.5489   3956.615777  9.449984e+05  POINT (43043.145 37931.100)  \n",
       "\n",
       "[5 rows x 21 columns]"
      ]
     },
     "execution_count": 3,
     "metadata": {},
     "output_type": "execute_result"
    }
   ],
   "source": [
    "gdf = gpd.read_file(os.path.join(data_dir, 'bus_stops_wszone.shp'))\n",
    "gdf.head()"
   ]
  },
  {
   "cell_type": "code",
   "execution_count": 4,
   "metadata": {},
   "outputs": [
    {
     "data": {
      "text/plain": [
       "(5029,\n",
       " {'proj': 'tmerc',\n",
       "  'lat_0': 1.366666666666667,\n",
       "  'lon_0': 103.8333333333333,\n",
       "  'k': 1,\n",
       "  'x_0': 28001.642,\n",
       "  'y_0': 38744.572,\n",
       "  'datum': 'WGS84',\n",
       "  'units': 'm',\n",
       "  'no_defs': True})"
      ]
     },
     "execution_count": 4,
     "metadata": {},
     "output_type": "execute_result"
    }
   ],
   "source": [
    "len(gdf), gdf.crs"
   ]
  },
  {
   "cell_type": "code",
   "execution_count": 5,
   "metadata": {},
   "outputs": [
    {
     "data": {
      "text/plain": [
       "<matplotlib.axes._subplots.AxesSubplot at 0x7fcb725efbe0>"
      ]
     },
     "execution_count": 5,
     "metadata": {},
     "output_type": "execute_result"
    },
    {
     "data": {
      "image/png": "[encoded data removed]",
      "text/plain": [
       "<Figure size 432x288 with 1 Axes>"
      ]
     },
     "metadata": {
      "needs_background": "light"
     },
     "output_type": "display_data"
    }
   ],
   "source": [
    "gdf.plot()"
   ]
  },
  {
   "cell_type": "code",
   "execution_count": 6,
   "metadata": {},
   "outputs": [],
   "source": [
    "bus_stop_loc = {}\n",
    "for i,s in zip(gdf[\"PTcode\"].tolist(), gdf[\"SUBZONE_N\"].tolist()):\n",
    "    bus_stop_loc[i] = s"
   ]
  },
  {
   "cell_type": "code",
   "execution_count": 9,
   "metadata": {},
   "outputs": [
    {
     "data": {
      "text/plain": [
       "['origin_destination_bus_201911.csv.xz',\n",
       " 'origin_destination_bus_202001.csv.xz',\n",
       " 'origin_destination_bus_201912.csv.xz']"
      ]
     },
     "execution_count": 9,
     "metadata": {},
     "output_type": "execute_result"
    }
   ],
   "source": [
    "\n",
    "fs = [ f for f in os.listdir(data_dir) if \".csv.xz\" in f ]\n",
    "fs = [ f for f in fs if \"origin_destination_bus\" in f ] \n",
    "fs"
   ]
  },
  {
   "cell_type": "code",
   "execution_count": 12,
   "metadata": {},
   "outputs": [
    {
     "name": "stdout",
     "output_type": "stream",
     "text": [
      "201911\n",
      "202001\n",
      "201912\n"
     ]
    }
   ],
   "source": [
    "for f in fs:\n",
    "    #df = pd.read_csv(os.path.join(data_dir, f))\n",
    "    month_str = f.replace(\"origin_destination_bus_\", \"\").replace(\".csv.xz\", \"\")\n",
    "    print(month_str)"
   ]
  },
  {
   "cell_type": "code",
   "execution_count": null,
   "metadata": {},
   "outputs": [],
   "source": []
  },
  {
   "cell_type": "code",
   "execution_count": 10,
   "metadata": {},
   "outputs": [
    {
     "data": {
      "text/html": [
       "<div>\n",
       "<style scoped>\n",
       "    .dataframe tbody tr th:only-of-type {\n",
       "        vertical-align: middle;\n",
       "    }\n",
       "\n",
       "    .dataframe tbody tr th {\n",
       "        vertical-align: top;\n",
       "    }\n",
       "\n",
       "    .dataframe thead th {\n",
       "        text-align: right;\n",
       "    }\n",
       "</style>\n",
       "<table border=\"1\" class=\"dataframe\">\n",
       "  <thead>\n",
       "    <tr style=\"text-align: right;\">\n",
       "      <th></th>\n",
       "      <th>YEAR_MONTH</th>\n",
       "      <th>DAY_TYPE</th>\n",
       "      <th>TIME_PER_HOUR</th>\n",
       "      <th>PT_TYPE</th>\n",
       "      <th>ORIGIN_PT_CODE</th>\n",
       "      <th>DESTINATION_PT_CODE</th>\n",
       "      <th>TOTAL_TRIPS</th>\n",
       "    </tr>\n",
       "  </thead>\n",
       "  <tbody>\n",
       "    <tr>\n",
       "      <th>0</th>\n",
       "      <td>2019-12</td>\n",
       "      <td>WEEKENDS/HOLIDAY</td>\n",
       "      <td>12</td>\n",
       "      <td>BUS</td>\n",
       "      <td>93201</td>\n",
       "      <td>92111</td>\n",
       "      <td>38</td>\n",
       "    </tr>\n",
       "    <tr>\n",
       "      <th>1</th>\n",
       "      <td>2019-12</td>\n",
       "      <td>WEEKDAY</td>\n",
       "      <td>13</td>\n",
       "      <td>BUS</td>\n",
       "      <td>1239</td>\n",
       "      <td>3059</td>\n",
       "      <td>238</td>\n",
       "    </tr>\n",
       "    <tr>\n",
       "      <th>2</th>\n",
       "      <td>2019-12</td>\n",
       "      <td>WEEKDAY</td>\n",
       "      <td>13</td>\n",
       "      <td>BUS</td>\n",
       "      <td>55139</td>\n",
       "      <td>53241</td>\n",
       "      <td>95</td>\n",
       "    </tr>\n",
       "    <tr>\n",
       "      <th>3</th>\n",
       "      <td>2019-12</td>\n",
       "      <td>WEEKENDS/HOLIDAY</td>\n",
       "      <td>13</td>\n",
       "      <td>BUS</td>\n",
       "      <td>55139</td>\n",
       "      <td>53241</td>\n",
       "      <td>76</td>\n",
       "    </tr>\n",
       "    <tr>\n",
       "      <th>4</th>\n",
       "      <td>2019-12</td>\n",
       "      <td>WEEKENDS/HOLIDAY</td>\n",
       "      <td>13</td>\n",
       "      <td>BUS</td>\n",
       "      <td>40181</td>\n",
       "      <td>53379</td>\n",
       "      <td>38</td>\n",
       "    </tr>\n",
       "    <tr>\n",
       "      <th>5</th>\n",
       "      <td>2019-12</td>\n",
       "      <td>WEEKDAY</td>\n",
       "      <td>13</td>\n",
       "      <td>BUS</td>\n",
       "      <td>40181</td>\n",
       "      <td>53379</td>\n",
       "      <td>171</td>\n",
       "    </tr>\n",
       "    <tr>\n",
       "      <th>6</th>\n",
       "      <td>2019-12</td>\n",
       "      <td>WEEKDAY</td>\n",
       "      <td>16</td>\n",
       "      <td>BUS</td>\n",
       "      <td>21559</td>\n",
       "      <td>21231</td>\n",
       "      <td>19</td>\n",
       "    </tr>\n",
       "    <tr>\n",
       "      <th>7</th>\n",
       "      <td>2019-12</td>\n",
       "      <td>WEEKDAY</td>\n",
       "      <td>21</td>\n",
       "      <td>BUS</td>\n",
       "      <td>65069</td>\n",
       "      <td>64461</td>\n",
       "      <td>399</td>\n",
       "    </tr>\n",
       "    <tr>\n",
       "      <th>8</th>\n",
       "      <td>2019-12</td>\n",
       "      <td>WEEKENDS/HOLIDAY</td>\n",
       "      <td>21</td>\n",
       "      <td>BUS</td>\n",
       "      <td>65069</td>\n",
       "      <td>64461</td>\n",
       "      <td>57</td>\n",
       "    </tr>\n",
       "    <tr>\n",
       "      <th>9</th>\n",
       "      <td>2019-12</td>\n",
       "      <td>WEEKDAY</td>\n",
       "      <td>10</td>\n",
       "      <td>BUS</td>\n",
       "      <td>51051</td>\n",
       "      <td>66331</td>\n",
       "      <td>19</td>\n",
       "    </tr>\n",
       "  </tbody>\n",
       "</table>\n",
       "</div>"
      ],
      "text/plain": [
       "  YEAR_MONTH          DAY_TYPE  TIME_PER_HOUR PT_TYPE  ORIGIN_PT_CODE  \\\n",
       "0    2019-12  WEEKENDS/HOLIDAY             12     BUS           93201   \n",
       "1    2019-12           WEEKDAY             13     BUS            1239   \n",
       "2    2019-12           WEEKDAY             13     BUS           55139   \n",
       "3    2019-12  WEEKENDS/HOLIDAY             13     BUS           55139   \n",
       "4    2019-12  WEEKENDS/HOLIDAY             13     BUS           40181   \n",
       "5    2019-12           WEEKDAY             13     BUS           40181   \n",
       "6    2019-12           WEEKDAY             16     BUS           21559   \n",
       "7    2019-12           WEEKDAY             21     BUS           65069   \n",
       "8    2019-12  WEEKENDS/HOLIDAY             21     BUS           65069   \n",
       "9    2019-12           WEEKDAY             10     BUS           51051   \n",
       "\n",
       "   DESTINATION_PT_CODE  TOTAL_TRIPS  \n",
       "0                92111           38  \n",
       "1                 3059          238  \n",
       "2                53241           95  \n",
       "3                53241           76  \n",
       "4                53379           38  \n",
       "5                53379          171  \n",
       "6                21231           19  \n",
       "7                64461          399  \n",
       "8                64461           57  \n",
       "9                66331           19  "
      ]
     },
     "execution_count": 10,
     "metadata": {},
     "output_type": "execute_result"
    }
   ],
   "source": [
    "df = pd.read_csv(os.path.join(data_dir, \"origin_destination_bus_201912.csv\"))\n",
    "df.head(10)"
   ]
  },
  {
   "cell_type": "code",
   "execution_count": 14,
   "metadata": {},
   "outputs": [
    {
     "data": {
      "text/plain": [
       "3782803"
      ]
     },
     "execution_count": 14,
     "metadata": {},
     "output_type": "execute_result"
    }
   ],
   "source": [
    "df_wday = df[df[\"DAY_TYPE\"]==\"WEEKDAY\"]\n",
    "len(df_wday)"
   ]
  },
  {
   "cell_type": "code",
   "execution_count": 25,
   "metadata": {},
   "outputs": [],
   "source": [
    "def process_an_hour(df_temp, hr):\n",
    "    flows = defaultdict(int)\n",
    "    for i in range(len(df_temp)):\n",
    "        this_row = df_temp.iloc[i]\n",
    "        o = this_row[\"ORIGIN_PT_CODE\"]\n",
    "        d = this_row[\"DESTINATION_PT_CODE\"]\n",
    "        t = this_row[\"TOTAL_TRIPS\"]\n",
    "        o2 = bus_stop_loc[str(o)]\n",
    "        d2 = bus_stop_loc[str(d)]\n",
    "        flows[(o2, d2)]+=t\n",
    "    \n",
    "    flows2 = []\n",
    "    for k,v in flows.items():\n",
    "        i,j = k\n",
    "        d = {\"origin\":i, \"destination\":j, \"hour\":hr, \"flow\": v}\n",
    "        flows2.append(d)\n",
    "    df2 = pd.DataFrame.from_dict(flows2)\n",
    "    df2 = df2[[\"origin\", \"destination\", \"hour\", \"flow\"]]\n",
    "    return df2"
   ]
  },
  {
   "cell_type": "code",
   "execution_count": 28,
   "metadata": {},
   "outputs": [
    {
     "name": "stdout",
     "output_type": "stream",
     "text": [
      "0 57317 9368\n",
      "1 8687 2152\n",
      "2 2654 1058\n",
      "3 625 313\n",
      "4 127 79\n",
      "5 50716 8974\n",
      "6 144969 17126\n",
      "7 197519 19266\n",
      "8 212379 19620\n",
      "9 207508 19573\n",
      "10 207729 19704\n",
      "11 212652 20016\n",
      "12 220482 20249\n",
      "13 219646 20424\n",
      "14 216249 20287\n",
      "15 219261 20463\n",
      "16 225589 20523\n",
      "17 237932 20813\n",
      "18 238773 20783\n",
      "19 216630 19935\n",
      "20 194156 19360\n",
      "21 185125 19120\n",
      "22 170578 18671\n",
      "23 135500 17053\n"
     ]
    }
   ],
   "source": [
    "for hr in range(24):\n",
    "    temp = df_wday[df_wday[\"TIME_PER_HOUR\"]==hr]\n",
    "    temp2 = process_an_hour(temp, hr)\n",
    "    print(hr, len(temp), len(temp2))\n",
    "    fout = os.path.join(data_dir, \"OD_bus\", \"OD_201912_weekday_{}.csv\".format(str(hr).zfill(2)))\n",
    "    temp2.to_csv(fout, index_label=\"ind\")\n",
    "    #break"
   ]
  },
  {
   "cell_type": "code",
   "execution_count": null,
   "metadata": {},
   "outputs": [],
   "source": []
  },
  {
   "cell_type": "code",
   "execution_count": null,
   "metadata": {},
   "outputs": [],
   "source": []
  },
  {
   "cell_type": "code",
   "execution_count": 29,
   "metadata": {},
   "outputs": [
    {
     "data": {
      "text/plain": [
       "2897882"
      ]
     },
     "execution_count": 29,
     "metadata": {},
     "output_type": "execute_result"
    }
   ],
   "source": [
    "df_wend = df[df[\"DAY_TYPE\"]==\"WEEKENDS/HOLIDAY\"]\n",
    "len(df_wend)"
   ]
  },
  {
   "cell_type": "code",
   "execution_count": 30,
   "metadata": {},
   "outputs": [
    {
     "name": "stdout",
     "output_type": "stream",
     "text": [
      "0 40464 8020\n",
      "1 3899 1336\n",
      "2 610 397\n",
      "3 89 51\n",
      "4 83 49\n",
      "5 32584 7128\n",
      "6 104281 15059\n",
      "7 138296 16986\n",
      "8 155641 17657\n",
      "9 160775 17826\n",
      "10 166147 18308\n",
      "11 171277 18545\n",
      "12 178068 18991\n",
      "13 177714 19016\n",
      "14 173447 18966\n",
      "15 173709 18976\n",
      "16 176330 19056\n",
      "17 181240 19121\n",
      "18 176424 18954\n",
      "19 165104 18399\n",
      "20 148918 17735\n",
      "21 140781 17455\n",
      "22 129307 16955\n",
      "23 102694 15347\n"
     ]
    }
   ],
   "source": [
    "for hr in range(24):\n",
    "    temp = df_wend[df_wend[\"TIME_PER_HOUR\"]==hr]\n",
    "    temp2 = process_an_hour(temp, hr)\n",
    "    fout = os.path.join(data_dir, \"OD_bus\", \"OD_201912_weekend_{}.csv\".format(str(hr).zfill(2)))\n",
    "    temp2.to_csv(fout, index_label=\"ind\")\n",
    "    print(hr, len(temp), len(temp2))\n",
    "    #break"
   ]
  },
  {
   "cell_type": "code",
   "execution_count": null,
   "metadata": {},
   "outputs": [],
   "source": []
  }
 ],
 "metadata": {
  "kernelspec": {
   "display_name": "Python 3",
   "language": "python",
   "name": "python3"
  },
  "language_info": {
   "codemirror_mode": {
    "name": "ipython",
    "version": 3
   },
   "file_extension": ".py",
   "mimetype": "text/x-python",
   "name": "python",
   "nbconvert_exporter": "python",
   "pygments_lexer": "ipython3",
   "version": "3.6.8"
  }
 },
 "nbformat": 4,
 "nbformat_minor": 4
}
